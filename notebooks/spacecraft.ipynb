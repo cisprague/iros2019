{
 "cells": [
  {
   "cell_type": "markdown",
   "metadata": {},
   "source": [
    "# Homotopic optimal control of interplanetary spacecraft\n",
    "\n",
    "## Dynamics"
   ]
  },
  {
   "cell_type": "code",
   "execution_count": 1,
   "metadata": {},
   "outputs": [],
   "source": [
    "from sympy import *\n",
    "init_printing()"
   ]
  },
  {
   "cell_type": "code",
   "execution_count": 2,
   "metadata": {},
   "outputs": [
    {
     "data": {
      "text/latex": [
       "$$\\left[\\begin{matrix}x & y & z & v_{x} & v_{y} & v_{z} & m\\end{matrix}\\right]$$"
      ],
      "text/plain": [
       "[x  y  z  vₓ  v_y  v_z  m]"
      ]
     },
     "execution_count": 2,
     "metadata": {},
     "output_type": "execute_result"
    }
   ],
   "source": [
    "# state variables\n",
    "x, y, z, vx, vy, vz = symbols('x y z v_x v_y v_z', real=True)\n",
    "m = symbols('m', real=True, nonnegative=True)\n",
    "\n",
    "# position\n",
    "p = Matrix([x, y, z])\n",
    "\n",
    "# velocity\n",
    "v = Matrix([vx, vy, vz])\n",
    "\n",
    "# state\n",
    "s = Matrix([p, v, [m]])\n",
    "s.T"
   ]
  },
  {
   "cell_type": "code",
   "execution_count": 3,
   "metadata": {},
   "outputs": [
    {
     "data": {
      "text/latex": [
       "$$\\left[\\begin{matrix}v_{x}\\\\v_{y}\\\\v_{z}\\\\\\frac{T \\hat{u}_x u}{m} - \\frac{\\mu x}{\\left(x^{2} + y^{2} + z^{2}\\right)^{\\frac{3}{2}}}\\\\\\frac{T \\hat{u}_y u}{m} - \\frac{\\mu y}{\\left(x^{2} + y^{2} + z^{2}\\right)^{\\frac{3}{2}}}\\\\\\frac{T \\hat{u}_z u}{m} - \\frac{\\mu z}{\\left(x^{2} + y^{2} + z^{2}\\right)^{\\frac{3}{2}}}\\\\- \\frac{T u}{I_{sp} g_{0}}\\end{matrix}\\right]$$"
      ],
      "text/plain": [
       "⎡               vₓ                ⎤\n",
       "⎢                                 ⎥\n",
       "⎢               v_y               ⎥\n",
       "⎢                                 ⎥\n",
       "⎢               v_z               ⎥\n",
       "⎢                                 ⎥\n",
       "⎢T⋅\\hat{u}ₓ⋅u         \\mu⋅x       ⎥\n",
       "⎢──────────── - ───────────────── ⎥\n",
       "⎢     m                       3/2 ⎥\n",
       "⎢               ⎛ 2    2    2⎞    ⎥\n",
       "⎢               ⎝x  + y  + z ⎠    ⎥\n",
       "⎢                                 ⎥\n",
       "⎢T⋅\\hat{u}_y⋅u         \\mu⋅y      ⎥\n",
       "⎢───────────── - ─────────────────⎥\n",
       "⎢      m                       3/2⎥\n",
       "⎢                ⎛ 2    2    2⎞   ⎥\n",
       "⎢                ⎝x  + y  + z ⎠   ⎥\n",
       "⎢                                 ⎥\n",
       "⎢T⋅\\hat{u}_z⋅u         \\mu⋅z      ⎥\n",
       "⎢───────────── - ─────────────────⎥\n",
       "⎢      m                       3/2⎥\n",
       "⎢                ⎛ 2    2    2⎞   ⎥\n",
       "⎢                ⎝x  + y  + z ⎠   ⎥\n",
       "⎢                                 ⎥\n",
       "⎢              -T⋅u               ⎥\n",
       "⎢            ─────────            ⎥\n",
       "⎣            I_{sp}⋅g₀            ⎦"
      ]
     },
     "execution_count": 3,
     "metadata": {},
     "output_type": "execute_result"
    }
   ],
   "source": [
    "# control parameters\n",
    "um = symbols('u', real=True, positive=True)\n",
    "ux, uy, uz =symbols('\\\\hat{u}_x \\\\hat{u}_y \\\\hat{u}_z', real=True)\n",
    "uh = Matrix([ux, uy, uz])\n",
    "u = Matrix([[um], uh])\n",
    "\n",
    "# constants\n",
    "c1, c2, mu = symbols('c_1 c_2 \\\\mu', real=True, positive=True)\n",
    "T, isp, mu, g = symbols('T I_{sp} \\\\mu g_0', real=True, positive=True)\n",
    "c1 = T\n",
    "c2 = T/(isp*g)\n",
    "\n",
    "# equations of motion\n",
    "ds = Matrix([\n",
    "    v,\n",
    "    (-mu/((x**2 + y**2 + z**2)**(Rational(3/2))))*(p) + (c1*um/m)*uh,\n",
    "    [-c2*um]\n",
    "])\n",
    "simplify(ds)"
   ]
  },
  {
   "cell_type": "code",
   "execution_count": 4,
   "metadata": {},
   "outputs": [
    {
     "data": {
      "image/png": "[encoded data removed]",
      "text/latex": [
       "$$\\beta \\left(\\alpha - u \\left(\\alpha - 1\\right)\\right) + u^{2} \\left(- \\beta + 1\\right)$$"
      ],
      "text/plain": [
       "                                   2             \n",
       "\\beta⋅(\\alpha - u⋅(\\alpha - 1)) + u ⋅(-\\beta + 1)"
      ]
     },
     "execution_count": 4,
     "metadata": {},
     "output_type": "execute_result"
    }
   ],
   "source": [
    "# homotopy parameter\n",
    "alpha, beta = symbols('\\\\alpha \\\\beta', real=True, nonnegative=True)\n",
    "\n",
    "# Lagrangian\n",
    "L = alpha + (1-alpha)*um\n",
    "L = beta*L + (1-beta)*um**2\n",
    "L.simplify()"
   ]
  },
  {
   "cell_type": "code",
   "execution_count": 5,
   "metadata": {},
   "outputs": [
    {
     "data": {
      "text/latex": [
       "$$\\left[\\begin{matrix}\\lambda_{x} & \\lambda_{y} & \\lambda_{z} & \\lambda_{v_x} & \\lambda_{v_y} & \\lambda_{v_z} & \\lambda_{m}\\end{matrix}\\right]$$"
      ],
      "text/plain": [
       "[\\lambda_{x}  \\lambda_{y}  \\lambda_{z}  \\lambda_{v_x}  \\lambda_{v_y}  \\lambda_\n",
       "{v_z}  \\lambda_{m}]"
      ]
     },
     "execution_count": 5,
     "metadata": {},
     "output_type": "execute_result"
    }
   ],
   "source": [
    " # costate variables\n",
    "l = Matrix(symbols(['\\\\lambda_{' + str(var) + '}' for var in s]), real=True)\n",
    "l.T"
   ]
  },
  {
   "cell_type": "code",
   "execution_count": 6,
   "metadata": {},
   "outputs": [
    {
     "data": {
      "image/png": "[encoded data removed]",
      "text/latex": [
       "$$\\beta \\left(\\alpha + u \\left(- \\alpha + 1\\right)\\right) + \\lambda_{v_x} \\left(\\frac{T \\hat{u}_x u}{m} - \\frac{\\mu x}{\\left(x^{2} + y^{2} + z^{2}\\right)^{\\frac{3}{2}}}\\right) + \\lambda_{v_y} \\left(\\frac{T \\hat{u}_y u}{m} - \\frac{\\mu y}{\\left(x^{2} + y^{2} + z^{2}\\right)^{\\frac{3}{2}}}\\right) + \\lambda_{v_z} \\left(\\frac{T \\hat{u}_z u}{m} - \\frac{\\mu z}{\\left(x^{2} + y^{2} + z^{2}\\right)^{\\frac{3}{2}}}\\right) + \\lambda_{x} v_{x} + \\lambda_{y} v_{y} + \\lambda_{z} v_{z} + u^{2} \\left(- \\beta + 1\\right) - \\frac{T \\lambda_{m} u}{I_{sp} g_{0}}$$"
      ],
      "text/plain": [
       "                                                 ⎛T⋅\\hat{u}ₓ⋅u         \\mu⋅x  \n",
       "\\beta⋅(\\alpha + u⋅(-\\alpha + 1)) + \\lambda_{v_x}⋅⎜──────────── - ─────────────\n",
       "                                                 ⎜     m                      \n",
       "                                                 ⎜               ⎛ 2    2    2\n",
       "                                                 ⎝               ⎝x  + y  + z \n",
       "\n",
       "    ⎞                 ⎛T⋅\\hat{u}_y⋅u         \\mu⋅y      ⎞                 ⎛T⋅\\\n",
       "────⎟ + \\lambda_{v_y}⋅⎜───────────── - ─────────────────⎟ + \\lambda_{v_z}⋅⎜───\n",
       " 3/2⎟                 ⎜      m                       3/2⎟                 ⎜   \n",
       "⎞   ⎟                 ⎜                ⎛ 2    2    2⎞   ⎟                 ⎜   \n",
       "⎠   ⎠                 ⎝                ⎝x  + y  + z ⎠   ⎠                 ⎝   \n",
       "\n",
       "hat{u}_z⋅u         \\mu⋅z      ⎞                                               \n",
       "────────── - ─────────────────⎟ + \\lambda_{x}⋅vₓ + \\lambda_{y}⋅v_y + \\lambda_{\n",
       "   m                       3/2⎟                                               \n",
       "             ⎛ 2    2    2⎞   ⎟                                               \n",
       "             ⎝x  + y  + z ⎠   ⎠                                               \n",
       "\n",
       "          2                T⋅\\lambda_{m}⋅u\n",
       "z}⋅v_z + u ⋅(-\\beta + 1) - ───────────────\n",
       "                              I_{sp}⋅g₀   \n",
       "                                          \n",
       "                                          "
      ]
     },
     "execution_count": 6,
     "metadata": {},
     "output_type": "execute_result"
    }
   ],
   "source": [
    "# Hamiltonian\n",
    "H = l.dot(ds) + L\n",
    "H"
   ]
  },
  {
   "cell_type": "code",
   "execution_count": 7,
   "metadata": {},
   "outputs": [
    {
     "data": {
      "text/latex": [
       "$$\\left[\\begin{matrix}- \\frac{\\lambda_{v_x}}{\\sqrt{\\lambda_{v_x}^{2} + \\lambda_{v_y}^{2} + \\lambda_{v_z}^{2}}}\\\\- \\frac{\\lambda_{v_y}}{\\sqrt{\\lambda_{v_x}^{2} + \\lambda_{v_y}^{2} + \\lambda_{v_z}^{2}}}\\\\- \\frac{\\lambda_{v_z}}{\\sqrt{\\lambda_{v_x}^{2} + \\lambda_{v_y}^{2} + \\lambda_{v_z}^{2}}}\\end{matrix}\\right]$$"
      ],
      "text/plain": [
       "⎡                   -\\lambda_{v_x}                    ⎤\n",
       "⎢─────────────────────────────────────────────────────⎥\n",
       "⎢   __________________________________________________⎥\n",
       "⎢  ╱              2                2                2 ⎥\n",
       "⎢╲╱  \\lambda_{v_x}  + \\lambda_{v_y}  + \\lambda_{v_z}  ⎥\n",
       "⎢                                                     ⎥\n",
       "⎢                   -\\lambda_{v_y}                    ⎥\n",
       "⎢─────────────────────────────────────────────────────⎥\n",
       "⎢   __________________________________________________⎥\n",
       "⎢  ╱              2                2                2 ⎥\n",
       "⎢╲╱  \\lambda_{v_x}  + \\lambda_{v_y}  + \\lambda_{v_z}  ⎥\n",
       "⎢                                                     ⎥\n",
       "⎢                   -\\lambda_{v_z}                    ⎥\n",
       "⎢─────────────────────────────────────────────────────⎥\n",
       "⎢   __________________________________________________⎥\n",
       "⎢  ╱              2                2                2 ⎥\n",
       "⎣╲╱  \\lambda_{v_x}  + \\lambda_{v_y}  + \\lambda_{v_z}  ⎦"
      ]
     },
     "execution_count": 7,
     "metadata": {},
     "output_type": "execute_result"
    }
   ],
   "source": [
    "# minimise Hamiltonian w.r.t. controls\n",
    "lv = Matrix(l[3:6])\n",
    "uhs = -lv/sqrt(sum([var**2 for var in lv]))\n",
    "simplify(uhs)"
   ]
  },
  {
   "cell_type": "code",
   "execution_count": 8,
   "metadata": {},
   "outputs": [
    {
     "data": {
      "image/png": "[encoded data removed]",
      "text/latex": [
       "$$\\frac{- I_{sp} T \\lambda_{v_x}^{2} g_{0} - I_{sp} T \\lambda_{v_y}^{2} g_{0} - I_{sp} T \\lambda_{v_z}^{2} g_{0} - I_{sp} \\alpha \\beta g_{0} m \\sqrt{\\lambda_{v_x}^{2} + \\lambda_{v_y}^{2} + \\lambda_{v_z}^{2}} + I_{sp} \\beta g_{0} m \\sqrt{\\lambda_{v_x}^{2} + \\lambda_{v_y}^{2} + \\lambda_{v_z}^{2}} - T \\lambda_{m} m \\sqrt{\\lambda_{v_x}^{2} + \\lambda_{v_y}^{2} + \\lambda_{v_z}^{2}}}{2 I_{sp} g_{0} m \\left(\\beta - 1\\right) \\sqrt{\\lambda_{v_x}^{2} + \\lambda_{v_y}^{2} + \\lambda_{v_z}^{2}}}$$"
      ],
      "text/plain": [
       "                                                                              \n",
       "                        2                            2                        \n",
       "- I_{sp}⋅T⋅\\lambda_{v_x} ⋅g₀ - I_{sp}⋅T⋅\\lambda_{v_y} ⋅g₀ - I_{sp}⋅T⋅\\lambda_{\n",
       "──────────────────────────────────────────────────────────────────────────────\n",
       "                                                                              \n",
       "                                                                              \n",
       "                                                                              \n",
       "\n",
       "                                       _______________________________________\n",
       "    2                                 ╱              2                2       \n",
       "v_z} ⋅g₀ - I_{sp}⋅\\alpha⋅\\beta⋅g₀⋅m⋅╲╱  \\lambda_{v_x}  + \\lambda_{v_y}  + \\lam\n",
       "──────────────────────────────────────────────────────────────────────────────\n",
       "                                                                    __________\n",
       "                                                                   ╱          \n",
       "                                       2⋅I_{sp}⋅g₀⋅m⋅(\\beta - 1)⋅╲╱  \\lambda_{\n",
       "\n",
       "___________                        ___________________________________________\n",
       "         2                        ╱              2                2           \n",
       "bda_{v_z}   + I_{sp}⋅\\beta⋅g₀⋅m⋅╲╱  \\lambda_{v_x}  + \\lambda_{v_y}  + \\lambda_\n",
       "──────────────────────────────────────────────────────────────────────────────\n",
       "________________________________________                                      \n",
       "    2                2                2                                       \n",
       "v_x}  + \\lambda_{v_y}  + \\lambda_{v_z}                                        \n",
       "\n",
       "_______                      _________________________________________________\n",
       "     2                      ╱              2                2                2\n",
       "{v_z}   - T⋅\\lambda_{m}⋅m⋅╲╱  \\lambda_{v_x}  + \\lambda_{v_y}  + \\lambda_{v_z} \n",
       "──────────────────────────────────────────────────────────────────────────────\n",
       "                                                                              \n",
       "                                                                              \n",
       "                                                                              \n",
       "\n",
       "_\n",
       " \n",
       " \n",
       "─\n",
       " \n",
       " \n",
       " "
      ]
     },
     "execution_count": 8,
     "metadata": {},
     "output_type": "execute_result"
    }
   ],
   "source": [
    "# new Hamiltonian\n",
    "H1 = H.subs(ux, uhs[0]).subs(uy, uhs[1]).subs(uz, uhs[2])\n",
    "ums = solve(H1.diff(um), um)[0]\n",
    "ums.subs(l[3:6,:].norm(), '\\\\lambda_v')"
   ]
  },
  {
   "cell_type": "code",
   "execution_count": 9,
   "metadata": {},
   "outputs": [
    {
     "data": {
      "text/latex": [
       "$$\\left[\\begin{matrix}\\frac{- I_{sp} T \\lambda_{v_x}^{2} g_{0} - I_{sp} T \\lambda_{v_y}^{2} g_{0} - I_{sp} T \\lambda_{v_z}^{2} g_{0} - I_{sp} \\alpha \\beta g_{0} m \\sqrt{\\lambda_{v_x}^{2} + \\lambda_{v_y}^{2} + \\lambda_{v_z}^{2}} + I_{sp} \\beta g_{0} m \\sqrt{\\lambda_{v_x}^{2} + \\lambda_{v_y}^{2} + \\lambda_{v_z}^{2}} - T \\lambda_{m} m \\sqrt{\\lambda_{v_x}^{2} + \\lambda_{v_y}^{2} + \\lambda_{v_z}^{2}}}{2 I_{sp} g_{0} m \\left(\\beta - 1\\right) \\sqrt{\\lambda_{v_x}^{2} + \\lambda_{v_y}^{2} + \\lambda_{v_z}^{2}}}\\\\- \\frac{\\lambda_{v_x}}{\\sqrt{\\lambda_{v_x}^{2} + \\lambda_{v_y}^{2} + \\lambda_{v_z}^{2}}}\\\\- \\frac{\\lambda_{v_y}}{\\sqrt{\\lambda_{v_x}^{2} + \\lambda_{v_y}^{2} + \\lambda_{v_z}^{2}}}\\\\- \\frac{\\lambda_{v_z}}{\\sqrt{\\lambda_{v_x}^{2} + \\lambda_{v_y}^{2} + \\lambda_{v_z}^{2}}}\\end{matrix}\\right]$$"
      ],
      "text/plain": [
       "⎡                                                                             \n",
       "⎢                        2                            2                       \n",
       "⎢- I_{sp}⋅T⋅\\lambda_{v_x} ⋅g₀ - I_{sp}⋅T⋅\\lambda_{v_y} ⋅g₀ - I_{sp}⋅T⋅\\lambda_\n",
       "⎢─────────────────────────────────────────────────────────────────────────────\n",
       "⎢                                                                             \n",
       "⎢                                                                             \n",
       "⎢                                                                             \n",
       "⎢                                                                             \n",
       "⎢                                                                             \n",
       "⎢                                                                             \n",
       "⎢                                                                             \n",
       "⎢                                                                             \n",
       "⎢                                                                             \n",
       "⎢                                                                             \n",
       "⎢                                                                             \n",
       "⎢                                                                             \n",
       "⎢                                                                             \n",
       "⎢                                                                             \n",
       "⎢                                                                             \n",
       "⎢                                                                             \n",
       "⎢                                                                             \n",
       "⎢                                                                             \n",
       "⎢                                                                             \n",
       "⎢                                                                             \n",
       "⎣                                                                             \n",
       "\n",
       "                                        ______________________________________\n",
       "     2                                 ╱              2                2      \n",
       "{v_z} ⋅g₀ - I_{sp}⋅\\alpha⋅\\beta⋅g₀⋅m⋅╲╱  \\lambda_{v_x}  + \\lambda_{v_y}  + \\la\n",
       "──────────────────────────────────────────────────────────────────────────────\n",
       "                                                                     _________\n",
       "                                                                    ╱         \n",
       "                                        2⋅I_{sp}⋅g₀⋅m⋅(\\beta - 1)⋅╲╱  \\lambda_\n",
       "                                                                              \n",
       "                                                                        -\\lamb\n",
       "                                                     ─────────────────────────\n",
       "                                                        ______________________\n",
       "                                                       ╱              2       \n",
       "                                                     ╲╱  \\lambda_{v_x}  + \\lam\n",
       "                                                                              \n",
       "                                                                        -\\lamb\n",
       "                                                     ─────────────────────────\n",
       "                                                        ______________________\n",
       "                                                       ╱              2       \n",
       "                                                     ╲╱  \\lambda_{v_x}  + \\lam\n",
       "                                                                              \n",
       "                                                                        -\\lamb\n",
       "                                                     ─────────────────────────\n",
       "                                                        ______________________\n",
       "                                                       ╱              2       \n",
       "                                                     ╲╱  \\lambda_{v_x}  + \\lam\n",
       "\n",
       "____________                        __________________________________________\n",
       "          2                        ╱              2                2          \n",
       "mbda_{v_z}   + I_{sp}⋅\\beta⋅g₀⋅m⋅╲╱  \\lambda_{v_x}  + \\lambda_{v_y}  + \\lambda\n",
       "──────────────────────────────────────────────────────────────────────────────\n",
       "_________________________________________                                     \n",
       "     2                2                2                                      \n",
       "{v_x}  + \\lambda_{v_y}  + \\lambda_{v_z}                                       \n",
       "                                                                              \n",
       "da_{v_x}                                                                      \n",
       "────────────────────────────                                                  \n",
       "____________________________                                                  \n",
       "         2                2                                                   \n",
       "bda_{v_y}  + \\lambda_{v_z}                                                    \n",
       "                                                                              \n",
       "da_{v_y}                                                                      \n",
       "────────────────────────────                                                  \n",
       "____________________________                                                  \n",
       "         2                2                                                   \n",
       "bda_{v_y}  + \\lambda_{v_z}                                                    \n",
       "                                                                              \n",
       "da_{v_z}                                                                      \n",
       "────────────────────────────                                                  \n",
       "____________________________                                                  \n",
       "         2                2                                                   \n",
       "bda_{v_y}  + \\lambda_{v_z}                                                    \n",
       "\n",
       "________                      ________________________________________________\n",
       "      2                      ╱              2                2                \n",
       "_{v_z}   - T⋅\\lambda_{m}⋅m⋅╲╱  \\lambda_{v_x}  + \\lambda_{v_y}  + \\lambda_{v_z}\n",
       "──────────────────────────────────────────────────────────────────────────────\n",
       "                                                                              \n",
       "                                                                              \n",
       "                                                                              \n",
       "                                                                              \n",
       "                                                                              \n",
       "                                                                              \n",
       "                                                                              \n",
       "                                                                              \n",
       "                                                                              \n",
       "                                                                              \n",
       "                                                                              \n",
       "                                                                              \n",
       "                                                                              \n",
       "                                                                              \n",
       "                                                                              \n",
       "                                                                              \n",
       "                                                                              \n",
       "                                                                              \n",
       "                                                                              \n",
       "                                                                              \n",
       "                                                                              \n",
       "\n",
       "__⎤\n",
       "2 ⎥\n",
       "  ⎥\n",
       "──⎥\n",
       "  ⎥\n",
       "  ⎥\n",
       "  ⎥\n",
       "  ⎥\n",
       "  ⎥\n",
       "  ⎥\n",
       "  ⎥\n",
       "  ⎥\n",
       "  ⎥\n",
       "  ⎥\n",
       "  ⎥\n",
       "  ⎥\n",
       "  ⎥\n",
       "  ⎥\n",
       "  ⎥\n",
       "  ⎥\n",
       "  ⎥\n",
       "  ⎥\n",
       "  ⎥\n",
       "  ⎥\n",
       "  ⎦"
      ]
     },
     "execution_count": 9,
     "metadata": {},
     "output_type": "execute_result"
    }
   ],
   "source": [
    "us = Matrix([[ums], uhs])\n",
    "us"
   ]
  },
  {
   "cell_type": "code",
   "execution_count": 10,
   "metadata": {
    "scrolled": false
   },
   "outputs": [
    {
     "data": {
      "text/latex": [
       "$$\\left[\\begin{matrix}- \\lambda_{v_x} \\left(\\frac{3 \\mu x^{2}}{\\left(x^{2} + y^{2} + z^{2}\\right)^{\\frac{5}{2}}} - \\frac{\\mu}{\\left(x^{2} + y^{2} + z^{2}\\right)^{\\frac{3}{2}}}\\right) - \\frac{3 \\lambda_{v_y} \\mu x y}{\\left(x^{2} + y^{2} + z^{2}\\right)^{\\frac{5}{2}}} - \\frac{3 \\lambda_{v_z} \\mu x z}{\\left(x^{2} + y^{2} + z^{2}\\right)^{\\frac{5}{2}}}\\\\- \\frac{3 \\lambda_{v_x} \\mu x y}{\\left(x^{2} + y^{2} + z^{2}\\right)^{\\frac{5}{2}}} - \\lambda_{v_y} \\left(\\frac{3 \\mu y^{2}}{\\left(x^{2} + y^{2} + z^{2}\\right)^{\\frac{5}{2}}} - \\frac{\\mu}{\\left(x^{2} + y^{2} + z^{2}\\right)^{\\frac{3}{2}}}\\right) - \\frac{3 \\lambda_{v_z} \\mu y z}{\\left(x^{2} + y^{2} + z^{2}\\right)^{\\frac{5}{2}}}\\\\- \\frac{3 \\lambda_{v_x} \\mu x z}{\\left(x^{2} + y^{2} + z^{2}\\right)^{\\frac{5}{2}}} - \\frac{3 \\lambda_{v_y} \\mu y z}{\\left(x^{2} + y^{2} + z^{2}\\right)^{\\frac{5}{2}}} - \\lambda_{v_z} \\left(\\frac{3 \\mu z^{2}}{\\left(x^{2} + y^{2} + z^{2}\\right)^{\\frac{5}{2}}} - \\frac{\\mu}{\\left(x^{2} + y^{2} + z^{2}\\right)^{\\frac{3}{2}}}\\right)\\\\- \\lambda_{x}\\\\- \\lambda_{y}\\\\- \\lambda_{z}\\\\\\frac{T \\hat{u}_x \\lambda_{v_x} u}{m^{2}} + \\frac{T \\hat{u}_y \\lambda_{v_y} u}{m^{2}} + \\frac{T \\hat{u}_z \\lambda_{v_z} u}{m^{2}}\\end{matrix}\\right]$$"
      ],
      "text/plain": [
       "⎡                ⎛            2                        ⎞                      \n",
       "⎢                ⎜     3⋅\\mu⋅x               \\mu       ⎟   3⋅\\lambda_{v_y}⋅\\mu\n",
       "⎢- \\lambda_{v_x}⋅⎜───────────────── - ─────────────────⎟ - ───────────────────\n",
       "⎢                ⎜              5/2                 3/2⎟                    5/\n",
       "⎢                ⎜⎛ 2    2    2⎞      ⎛ 2    2    2⎞   ⎟      ⎛ 2    2    2⎞  \n",
       "⎢                ⎝⎝x  + y  + z ⎠      ⎝x  + y  + z ⎠   ⎠      ⎝x  + y  + z ⎠  \n",
       "⎢                                                                             \n",
       "⎢                                          ⎛            2                     \n",
       "⎢  3⋅\\lambda_{v_x}⋅\\mu⋅x⋅y                 ⎜     3⋅\\mu⋅y               \\mu    \n",
       "⎢- ─────────────────────── - \\lambda_{v_y}⋅⎜───────────────── - ──────────────\n",
       "⎢                   5/2                    ⎜              5/2                 \n",
       "⎢     ⎛ 2    2    2⎞                       ⎜⎛ 2    2    2⎞      ⎛ 2    2    2⎞\n",
       "⎢     ⎝x  + y  + z ⎠                       ⎝⎝x  + y  + z ⎠      ⎝x  + y  + z ⎠\n",
       "⎢                                                                             \n",
       "⎢                                                                    ⎛        \n",
       "⎢  3⋅\\lambda_{v_x}⋅\\mu⋅x⋅z   3⋅\\lambda_{v_y}⋅\\mu⋅y⋅z                 ⎜     3⋅\\\n",
       "⎢- ─────────────────────── - ─────────────────────── - \\lambda_{v_z}⋅⎜────────\n",
       "⎢                   5/2                       5/2                    ⎜        \n",
       "⎢     ⎛ 2    2    2⎞            ⎛ 2    2    2⎞                       ⎜⎛ 2    2\n",
       "⎢     ⎝x  + y  + z ⎠            ⎝x  + y  + z ⎠                       ⎝⎝x  + y \n",
       "⎢                                                                             \n",
       "⎢                                               -\\lambda_{x}                  \n",
       "⎢                                                                             \n",
       "⎢                                               -\\lambda_{y}                  \n",
       "⎢                                                                             \n",
       "⎢                                               -\\lambda_{z}                  \n",
       "⎢                                                                             \n",
       "⎢          T⋅\\hat{u}ₓ⋅\\lambda_{v_x}⋅u   T⋅\\hat{u}_y⋅\\lambda_{v_y}⋅u   T⋅\\hat{u\n",
       "⎢          ────────────────────────── + ─────────────────────────── + ────────\n",
       "⎢                       2                             2                       \n",
       "⎣                      m                             m                        \n",
       "\n",
       "                              ⎤\n",
       "⋅x⋅y   3⋅\\lambda_{v_z}⋅\\mu⋅x⋅z⎥\n",
       "──── - ───────────────────────⎥\n",
       "2                       5/2   ⎥\n",
       "          ⎛ 2    2    2⎞      ⎥\n",
       "          ⎝x  + y  + z ⎠      ⎥\n",
       "                              ⎥\n",
       "   ⎞                          ⎥\n",
       "   ⎟   3⋅\\lambda_{v_z}⋅\\mu⋅y⋅z⎥\n",
       "───⎟ - ───────────────────────⎥\n",
       "3/2⎟                    5/2   ⎥\n",
       "   ⎟      ⎛ 2    2    2⎞      ⎥\n",
       "   ⎠      ⎝x  + y  + z ⎠      ⎥\n",
       "                              ⎥\n",
       "    2                        ⎞⎥\n",
       "mu⋅z               \\mu       ⎟⎥\n",
       "───────── - ─────────────────⎟⎥\n",
       "      5/2                 3/2⎟⎥\n",
       "    2⎞      ⎛ 2    2    2⎞   ⎟⎥\n",
       " + z ⎠      ⎝x  + y  + z ⎠   ⎠⎥\n",
       "                              ⎥\n",
       "                              ⎥\n",
       "                              ⎥\n",
       "                              ⎥\n",
       "                              ⎥\n",
       "                              ⎥\n",
       "                              ⎥\n",
       "}_z⋅\\lambda_{v_z}⋅u           ⎥\n",
       "───────────────────           ⎥\n",
       "      2                       ⎥\n",
       "     m                        ⎦"
      ]
     },
     "execution_count": 10,
     "metadata": {},
     "output_type": "execute_result"
    }
   ],
   "source": [
    "# costate equations of motion\n",
    "dl = -H.diff(s)\n",
    "dl"
   ]
  },
  {
   "cell_type": "code",
   "execution_count": 11,
   "metadata": {},
   "outputs": [
    {
     "data": {
      "text/latex": [
       "$$\\left[\\begin{matrix}- \\frac{- I_{sp} T \\lambda_{v_x}^{2} g_{0} - I_{sp} T \\lambda_{v_y}^{2} g_{0} - I_{sp} T \\lambda_{v_z}^{2} g_{0} - T \\lambda_{m} m \\sqrt{\\lambda_{v_x}^{2} + \\lambda_{v_y}^{2} + \\lambda_{v_z}^{2}}}{2 I_{sp} g_{0} m \\sqrt{\\lambda_{v_x}^{2} + \\lambda_{v_y}^{2} + \\lambda_{v_z}^{2}}}\\\\\\frac{\\tilde{\\infty} \\left(- I_{sp} T \\lambda_{v_x}^{2} g_{0} - I_{sp} T \\lambda_{v_y}^{2} g_{0} - I_{sp} T \\lambda_{v_z}^{2} g_{0} + I_{sp} g_{0} m \\sqrt{\\lambda_{v_x}^{2} + \\lambda_{v_y}^{2} + \\lambda_{v_z}^{2}} - T \\lambda_{m} m \\sqrt{\\lambda_{v_x}^{2} + \\lambda_{v_y}^{2} + \\lambda_{v_z}^{2}}\\right)}{m \\sqrt{\\lambda_{v_x}^{2} + \\lambda_{v_y}^{2} + \\lambda_{v_z}^{2}}}\\\\- \\frac{- I_{sp} T \\lambda_{v_x}^{2} g_{0} - I_{sp} T \\lambda_{v_y}^{2} g_{0} - I_{sp} T \\lambda_{v_z}^{2} g_{0} - T \\lambda_{m} m \\sqrt{\\lambda_{v_x}^{2} + \\lambda_{v_y}^{2} + \\lambda_{v_z}^{2}}}{2 I_{sp} g_{0} m \\sqrt{\\lambda_{v_x}^{2} + \\lambda_{v_y}^{2} + \\lambda_{v_z}^{2}}}\\\\\\frac{\\tilde{\\infty} \\left(- I_{sp} T \\lambda_{v_x}^{2} g_{0} - I_{sp} T \\lambda_{v_y}^{2} g_{0} - I_{sp} T \\lambda_{v_z}^{2} g_{0} - T \\lambda_{m} m \\sqrt{\\lambda_{v_x}^{2} + \\lambda_{v_y}^{2} + \\lambda_{v_z}^{2}}\\right)}{m \\sqrt{\\lambda_{v_x}^{2} + \\lambda_{v_y}^{2} + \\lambda_{v_z}^{2}}}\\\\\\frac{- I_{sp} T \\lambda_{v_x}^{2} g_{0} - I_{sp} T \\lambda_{v_y}^{2} g_{0} - I_{sp} T \\lambda_{v_z}^{2} g_{0} + I_{sp} \\beta g_{0} m \\sqrt{\\lambda_{v_x}^{2} + \\lambda_{v_y}^{2} + \\lambda_{v_z}^{2}} - T \\lambda_{m} m \\sqrt{\\lambda_{v_x}^{2} + \\lambda_{v_y}^{2} + \\lambda_{v_z}^{2}}}{2 I_{sp} g_{0} m \\left(\\beta - 1\\right) \\sqrt{\\lambda_{v_x}^{2} + \\lambda_{v_y}^{2} + \\lambda_{v_z}^{2}}}\\\\\\frac{- I_{sp} T \\lambda_{v_x}^{2} g_{0} - I_{sp} T \\lambda_{v_y}^{2} g_{0} - I_{sp} T \\lambda_{v_z}^{2} g_{0} - T \\lambda_{m} m \\sqrt{\\lambda_{v_x}^{2} + \\lambda_{v_y}^{2} + \\lambda_{v_z}^{2}}}{2 I_{sp} g_{0} m \\left(\\beta - 1\\right) \\sqrt{\\lambda_{v_x}^{2} + \\lambda_{v_y}^{2} + \\lambda_{v_z}^{2}}}\\\\- \\frac{- I_{sp} T \\lambda_{v_x}^{2} g_{0} - I_{sp} T \\lambda_{v_y}^{2} g_{0} - I_{sp} T \\lambda_{v_z}^{2} g_{0} - T \\lambda_{m} m \\sqrt{\\lambda_{v_x}^{2} + \\lambda_{v_y}^{2} + \\lambda_{v_z}^{2}}}{2 I_{sp} g_{0} m \\sqrt{\\lambda_{v_x}^{2} + \\lambda_{v_y}^{2} + \\lambda_{v_z}^{2}}}\\\\\\frac{\\tilde{\\infty} \\left(- I_{sp} T \\lambda_{v_x}^{2} g_{0} - I_{sp} T \\lambda_{v_y}^{2} g_{0} - I_{sp} T \\lambda_{v_z}^{2} g_{0} - I_{sp} \\alpha g_{0} m \\sqrt{\\lambda_{v_x}^{2} + \\lambda_{v_y}^{2} + \\lambda_{v_z}^{2}} + I_{sp} g_{0} m \\sqrt{\\lambda_{v_x}^{2} + \\lambda_{v_y}^{2} + \\lambda_{v_z}^{2}} - T \\lambda_{m} m \\sqrt{\\lambda_{v_x}^{2} + \\lambda_{v_y}^{2} + \\lambda_{v_z}^{2}}\\right)}{m \\sqrt{\\lambda_{v_x}^{2} + \\lambda_{v_y}^{2} + \\lambda_{v_z}^{2}}}\\\\\\frac{- I_{sp} T \\lambda_{v_x}^{2} g_{0} - I_{sp} T \\lambda_{v_y}^{2} g_{0} - I_{sp} T \\lambda_{v_z}^{2} g_{0} - I_{sp} \\alpha \\beta g_{0} m \\sqrt{\\lambda_{v_x}^{2} + \\lambda_{v_y}^{2} + \\lambda_{v_z}^{2}} + I_{sp} \\beta g_{0} m \\sqrt{\\lambda_{v_x}^{2} + \\lambda_{v_y}^{2} + \\lambda_{v_z}^{2}} - T \\lambda_{m} m \\sqrt{\\lambda_{v_x}^{2} + \\lambda_{v_y}^{2} + \\lambda_{v_z}^{2}}}{2 I_{sp} g_{0} m \\left(\\beta - 1\\right) \\sqrt{\\lambda_{v_x}^{2} + \\lambda_{v_y}^{2} + \\lambda_{v_z}^{2}}}\\end{matrix}\\right]$$"
      ],
      "text/plain": [
       "⎡                                                                            ⎛\n",
       "⎢                                                                            ⎜\n",
       "⎢                                                                           -⎝\n",
       "⎢                                                                           ──\n",
       "⎢                                                                             \n",
       "⎢                                                                             \n",
       "⎢                                                                             \n",
       "⎢                                                                             \n",
       "⎢                                            ⎛                                \n",
       "⎢                                            ⎜                        2       \n",
       "⎢                                        zoo⋅⎝- I_{sp}⋅T⋅\\lambda_{v_x} ⋅g₀ - I\n",
       "⎢                                        ─────────────────────────────────────\n",
       "⎢                                                                             \n",
       "⎢                                                                             \n",
       "⎢                                                                             \n",
       "⎢                                                                             \n",
       "⎢                                                                            ⎛\n",
       "⎢                                                                            ⎜\n",
       "⎢                                                                           -⎝\n",
       "⎢                                                                           ──\n",
       "⎢                                                                             \n",
       "⎢                                                                             \n",
       "⎢                                                                             \n",
       "⎢                                                                             \n",
       "⎢                                                                             \n",
       "⎢                                                                             \n",
       "⎢                                                                          zoo\n",
       "⎢                                                                          ───\n",
       "⎢                                                                             \n",
       "⎢                                                                             \n",
       "⎢                                                                             \n",
       "⎢                                                                             \n",
       "⎢                                                                             \n",
       "⎢                                                                2            \n",
       "⎢                                        - I_{sp}⋅T⋅\\lambda_{v_x} ⋅g₀ - I_{sp}\n",
       "⎢                                        ─────────────────────────────────────\n",
       "⎢                                                                             \n",
       "⎢                                                                             \n",
       "⎢                                                                             \n",
       "⎢                                                                             \n",
       "⎢                                                                             \n",
       "⎢                                                                             \n",
       "⎢                                                                             \n",
       "⎢                                                                             \n",
       "⎢                                                                             \n",
       "⎢                                                                             \n",
       "⎢                                                                             \n",
       "⎢                                                                             \n",
       "⎢                                                                            ⎛\n",
       "⎢                                                                            ⎜\n",
       "⎢                                                                           -⎝\n",
       "⎢                                                                           ──\n",
       "⎢                                                                             \n",
       "⎢                                                                             \n",
       "⎢                                                                             \n",
       "⎢                                                                             \n",
       "⎢       ⎛                                                                     \n",
       "⎢       ⎜                        2                            2               \n",
       "⎢   zoo⋅⎝- I_{sp}⋅T⋅\\lambda_{v_x} ⋅g₀ - I_{sp}⋅T⋅\\lambda_{v_y} ⋅g₀ - I_{sp}⋅T⋅\n",
       "⎢   ──────────────────────────────────────────────────────────────────────────\n",
       "⎢                                                                             \n",
       "⎢                                                                             \n",
       "⎢                                                                             \n",
       "⎢                                                                             \n",
       "⎢                                                                             \n",
       "⎢                        2                            2                       \n",
       "⎢- I_{sp}⋅T⋅\\lambda_{v_x} ⋅g₀ - I_{sp}⋅T⋅\\lambda_{v_y} ⋅g₀ - I_{sp}⋅T⋅\\lambda_\n",
       "⎢─────────────────────────────────────────────────────────────────────────────\n",
       "⎢                                                                             \n",
       "⎢                                                                             \n",
       "⎣                                                                             \n",
       "\n",
       "                                                                              \n",
       "                        2                            2                        \n",
       "- I_{sp}⋅T⋅\\lambda_{v_x} ⋅g₀ - I_{sp}⋅T⋅\\lambda_{v_y} ⋅g₀ - I_{sp}⋅T⋅\\lambda_{\n",
       "──────────────────────────────────────────────────────────────────────────────\n",
       "                                                              ________________\n",
       "                                                             ╱              2 \n",
       "                                             2⋅I_{sp}⋅g₀⋅m⋅╲╱  \\lambda_{v_x}  \n",
       "                                                                              \n",
       "                                                                        ______\n",
       "                     2                            2                    ╱      \n",
       "_{sp}⋅T⋅\\lambda_{v_y} ⋅g₀ - I_{sp}⋅T⋅\\lambda_{v_z} ⋅g₀ + I_{sp}⋅g₀⋅m⋅╲╱  \\lamb\n",
       "──────────────────────────────────────────────────────────────────────────────\n",
       "                                                        ______________________\n",
       "                                                       ╱              2       \n",
       "                                                   m⋅╲╱  \\lambda_{v_x}  + \\lam\n",
       "                                                                              \n",
       "                                                                              \n",
       "                        2                            2                        \n",
       "- I_{sp}⋅T⋅\\lambda_{v_x} ⋅g₀ - I_{sp}⋅T⋅\\lambda_{v_y} ⋅g₀ - I_{sp}⋅T⋅\\lambda_{\n",
       "──────────────────────────────────────────────────────────────────────────────\n",
       "                                                              ________________\n",
       "                                                             ╱              2 \n",
       "                                             2⋅I_{sp}⋅g₀⋅m⋅╲╱  \\lambda_{v_x}  \n",
       "                                                                              \n",
       " ⎛                                                                            \n",
       " ⎜                        2                            2                      \n",
       "⋅⎝- I_{sp}⋅T⋅\\lambda_{v_x} ⋅g₀ - I_{sp}⋅T⋅\\lambda_{v_y} ⋅g₀ - I_{sp}⋅T⋅\\lambda\n",
       "──────────────────────────────────────────────────────────────────────────────\n",
       "                                                        ______________________\n",
       "                                                       ╱              2       \n",
       "                                                   m⋅╲╱  \\lambda_{v_x}  + \\lam\n",
       "                                                                              \n",
       "                                                                         _____\n",
       "                2                            2                          ╱     \n",
       "⋅T⋅\\lambda_{v_y} ⋅g₀ - I_{sp}⋅T⋅\\lambda_{v_z} ⋅g₀ + I_{sp}⋅\\beta⋅g₀⋅m⋅╲╱  \\lam\n",
       "──────────────────────────────────────────────────────────────────────────────\n",
       "                                                                    __________\n",
       "                                                                   ╱          \n",
       "                                       2⋅I_{sp}⋅g₀⋅m⋅(\\beta - 1)⋅╲╱  \\lambda_{\n",
       "                                                                              \n",
       "                                                                              \n",
       "                        2                            2                        \n",
       "- I_{sp}⋅T⋅\\lambda_{v_x} ⋅g₀ - I_{sp}⋅T⋅\\lambda_{v_y} ⋅g₀ - I_{sp}⋅T⋅\\lambda_{\n",
       "──────────────────────────────────────────────────────────────────────────────\n",
       "                                                                    __________\n",
       "                                                                   ╱          \n",
       "                                       2⋅I_{sp}⋅g₀⋅m⋅(\\beta - 1)⋅╲╱  \\lambda_{\n",
       "                                                                              \n",
       "                                                                              \n",
       "                        2                            2                        \n",
       "- I_{sp}⋅T⋅\\lambda_{v_x} ⋅g₀ - I_{sp}⋅T⋅\\lambda_{v_y} ⋅g₀ - I_{sp}⋅T⋅\\lambda_{\n",
       "──────────────────────────────────────────────────────────────────────────────\n",
       "                                                              ________________\n",
       "                                                             ╱              2 \n",
       "                                             2⋅I_{sp}⋅g₀⋅m⋅╲╱  \\lambda_{v_x}  \n",
       "                                                                              \n",
       "                                          ____________________________________\n",
       "             2                           ╱              2                2    \n",
       "\\lambda_{v_z} ⋅g₀ - I_{sp}⋅\\alpha⋅g₀⋅m⋅╲╱  \\lambda_{v_x}  + \\lambda_{v_y}  + \\\n",
       "──────────────────────────────────────────────────────────────────────────────\n",
       "                                                         _____________________\n",
       "                                                        ╱              2      \n",
       "                                                    m⋅╲╱  \\lambda_{v_x}  + \\la\n",
       "                                                                              \n",
       "                                        ______________________________________\n",
       "     2                                 ╱              2                2      \n",
       "{v_z} ⋅g₀ - I_{sp}⋅\\alpha⋅\\beta⋅g₀⋅m⋅╲╱  \\lambda_{v_x}  + \\lambda_{v_y}  + \\la\n",
       "──────────────────────────────────────────────────────────────────────────────\n",
       "                                                                     _________\n",
       "                                                                    ╱         \n",
       "                                        2⋅I_{sp}⋅g₀⋅m⋅(\\beta - 1)⋅╲╱  \\lambda_\n",
       "\n",
       "                              ________________________________________________\n",
       "    2                        ╱              2                2                \n",
       "v_z} ⋅g₀ - T⋅\\lambda_{m}⋅m⋅╲╱  \\lambda_{v_x}  + \\lambda_{v_y}  + \\lambda_{v_z}\n",
       "──────────────────────────────────────────────────────────────────────────────\n",
       "__________________________________                                            \n",
       "               2                2                                             \n",
       "+ \\lambda_{v_y}  + \\lambda_{v_z}                                              \n",
       "                                                                              \n",
       "____________________________________________                      ____________\n",
       "        2                2                2                      ╱            \n",
       "da_{v_x}  + \\lambda_{v_y}  + \\lambda_{v_z}   - T⋅\\lambda_{m}⋅m⋅╲╱  \\lambda_{v_\n",
       "──────────────────────────────────────────────────────────────────────────────\n",
       "____________________________                                                  \n",
       "         2                2                                                   \n",
       "bda_{v_y}  + \\lambda_{v_z}                                                    \n",
       "                                                                              \n",
       "                              ________________________________________________\n",
       "    2                        ╱              2                2                \n",
       "v_z} ⋅g₀ - T⋅\\lambda_{m}⋅m⋅╲╱  \\lambda_{v_x}  + \\lambda_{v_y}  + \\lambda_{v_z}\n",
       "──────────────────────────────────────────────────────────────────────────────\n",
       "__________________________________                                            \n",
       "               2                2                                             \n",
       "+ \\lambda_{v_y}  + \\lambda_{v_z}                                              \n",
       "                                                                              \n",
       "                                ______________________________________________\n",
       "      2                        ╱              2                2              \n",
       "_{v_z} ⋅g₀ - T⋅\\lambda_{m}⋅m⋅╲╱  \\lambda_{v_x}  + \\lambda_{v_y}  + \\lambda_{v_\n",
       "──────────────────────────────────────────────────────────────────────────────\n",
       "____________________________                                                  \n",
       "         2                2                                                   \n",
       "bda_{v_y}  + \\lambda_{v_z}                                                    \n",
       "                                                                              \n",
       "_____________________________________________                      ___________\n",
       "         2                2                2                      ╱           \n",
       "bda_{v_x}  + \\lambda_{v_y}  + \\lambda_{v_z}   - T⋅\\lambda_{m}⋅m⋅╲╱  \\lambda_{v\n",
       "──────────────────────────────────────────────────────────────────────────────\n",
       "________________________________________                                      \n",
       "    2                2                2                                       \n",
       "v_x}  + \\lambda_{v_y}  + \\lambda_{v_z}                                        \n",
       "                                                                              \n",
       "                              ________________________________________________\n",
       "    2                        ╱              2                2                \n",
       "v_z} ⋅g₀ - T⋅\\lambda_{m}⋅m⋅╲╱  \\lambda_{v_x}  + \\lambda_{v_y}  + \\lambda_{v_z}\n",
       "──────────────────────────────────────────────────────────────────────────────\n",
       "________________________________________                                      \n",
       "    2                2                2                                       \n",
       "v_x}  + \\lambda_{v_y}  + \\lambda_{v_z}                                        \n",
       "                                                                              \n",
       "                              ________________________________________________\n",
       "    2                        ╱              2                2                \n",
       "v_z} ⋅g₀ - T⋅\\lambda_{m}⋅m⋅╲╱  \\lambda_{v_x}  + \\lambda_{v_y}  + \\lambda_{v_z}\n",
       "──────────────────────────────────────────────────────────────────────────────\n",
       "__________________________________                                            \n",
       "               2                2                                             \n",
       "+ \\lambda_{v_y}  + \\lambda_{v_z}                                              \n",
       "                                                                              \n",
       "______________                  ______________________________________________\n",
       "            2                  ╱              2                2              \n",
       "lambda_{v_z}   + I_{sp}⋅g₀⋅m⋅╲╱  \\lambda_{v_x}  + \\lambda_{v_y}  + \\lambda_{v_\n",
       "──────────────────────────────────────────────────────────────────────────────\n",
       "_____________________________                                                 \n",
       "          2                2                                                  \n",
       "mbda_{v_y}  + \\lambda_{v_z}                                                   \n",
       "                                                                              \n",
       "____________                        __________________________________________\n",
       "          2                        ╱              2                2          \n",
       "mbda_{v_z}   + I_{sp}⋅\\beta⋅g₀⋅m⋅╲╱  \\lambda_{v_x}  + \\lambda_{v_y}  + \\lambda\n",
       "──────────────────────────────────────────────────────────────────────────────\n",
       "_________________________________________                                     \n",
       "     2                2                2                                      \n",
       "{v_x}  + \\lambda_{v_y}  + \\lambda_{v_z}                                       \n",
       "\n",
       "__⎞                                                                           \n",
       "2 ⎟                                                                           \n",
       "  ⎠                                                                           \n",
       "────                                                                          \n",
       "                                                                              \n",
       "                                                                              \n",
       "                                                                              \n",
       "                                                                              \n",
       "______________________________________⎞                                       \n",
       "  2                2                2 ⎟                                       \n",
       "x}  + \\lambda_{v_y}  + \\lambda_{v_z}  ⎠                                       \n",
       "───────────────────────────────────────                                       \n",
       "                                                                              \n",
       "                                                                              \n",
       "                                                                              \n",
       "                                                                              \n",
       "__⎞                                                                           \n",
       "2 ⎟                                                                           \n",
       "  ⎠                                                                           \n",
       "────                                                                          \n",
       "                                                                              \n",
       "                                                                              \n",
       "                                                                              \n",
       "                                                                              \n",
       "____⎞                                                                         \n",
       "  2 ⎟                                                                         \n",
       "z}  ⎠                                                                         \n",
       "─────                                                                         \n",
       "                                                                              \n",
       "                                                                              \n",
       "                                                                              \n",
       "                                                                              \n",
       "_______________________________________                                       \n",
       "   2                2                2                                        \n",
       "_x}  + \\lambda_{v_y}  + \\lambda_{v_z}                                         \n",
       "───────────────────────────────────────                                       \n",
       "                                                                              \n",
       "                                                                              \n",
       "                                                                              \n",
       "                                                                              \n",
       "__                                                                            \n",
       "2                                                                             \n",
       "                                                                              \n",
       "──                                                                            \n",
       "                                                                              \n",
       "                                                                              \n",
       "                                                                              \n",
       "                                                                              \n",
       "__⎞                                                                           \n",
       "2 ⎟                                                                           \n",
       "  ⎠                                                                           \n",
       "────                                                                          \n",
       "                                                                              \n",
       "                                                                              \n",
       "                                                                              \n",
       "                                                                              \n",
       "____                      __________________________________________________⎞ \n",
       "  2                      ╱              2                2                2 ⎟ \n",
       "z}   - T⋅\\lambda_{m}⋅m⋅╲╱  \\lambda_{v_x}  + \\lambda_{v_y}  + \\lambda_{v_z}  ⎠ \n",
       "───────────────────────────────────────────────────────────────────────────── \n",
       "                                                                              \n",
       "                                                                              \n",
       "                                                                              \n",
       "                                                                              \n",
       "________                      ________________________________________________\n",
       "      2                      ╱              2                2                \n",
       "_{v_z}   - T⋅\\lambda_{m}⋅m⋅╲╱  \\lambda_{v_x}  + \\lambda_{v_y}  + \\lambda_{v_z}\n",
       "──────────────────────────────────────────────────────────────────────────────\n",
       "                                                                              \n",
       "                                                                              \n",
       "                                                                              \n",
       "\n",
       "  ⎤\n",
       "  ⎥\n",
       "  ⎥\n",
       "  ⎥\n",
       "  ⎥\n",
       "  ⎥\n",
       "  ⎥\n",
       "  ⎥\n",
       "  ⎥\n",
       "  ⎥\n",
       "  ⎥\n",
       "  ⎥\n",
       "  ⎥\n",
       "  ⎥\n",
       "  ⎥\n",
       "  ⎥\n",
       "  ⎥\n",
       "  ⎥\n",
       "  ⎥\n",
       "  ⎥\n",
       "  ⎥\n",
       "  ⎥\n",
       "  ⎥\n",
       "  ⎥\n",
       "  ⎥\n",
       "  ⎥\n",
       "  ⎥\n",
       "  ⎥\n",
       "  ⎥\n",
       "  ⎥\n",
       "  ⎥\n",
       "  ⎥\n",
       "  ⎥\n",
       "  ⎥\n",
       "  ⎥\n",
       "  ⎥\n",
       "  ⎥\n",
       "  ⎥\n",
       "  ⎥\n",
       "  ⎥\n",
       "  ⎥\n",
       "  ⎥\n",
       "  ⎥\n",
       "  ⎥\n",
       "  ⎥\n",
       "  ⎥\n",
       "  ⎥\n",
       "  ⎥\n",
       "  ⎥\n",
       "  ⎥\n",
       "  ⎥\n",
       "  ⎥\n",
       "  ⎥\n",
       "  ⎥\n",
       "  ⎥\n",
       "  ⎥\n",
       "  ⎥\n",
       "  ⎥\n",
       "  ⎥\n",
       "  ⎥\n",
       "  ⎥\n",
       "  ⎥\n",
       "  ⎥\n",
       "  ⎥\n",
       "__⎥\n",
       "2 ⎥\n",
       "  ⎥\n",
       "──⎥\n",
       "  ⎥\n",
       "  ⎥\n",
       "  ⎦"
      ]
     },
     "execution_count": 11,
     "metadata": {},
     "output_type": "execute_result"
    }
   ],
   "source": [
    "Matrix([\n",
    "    ums.subs(alpha, 0).subs(beta, 0),\n",
    "    ums.subs(alpha, 0).subs(beta, 1),\n",
    "    ums.subs(alpha, 1).subs(beta, 0),\n",
    "    ums.subs(alpha, 1).subs(beta, 1),\n",
    "    ums.subs(alpha, 0),\n",
    "    ums.subs(alpha, 1),\n",
    "    ums.subs(beta, 0),\n",
    "    ums.subs(beta, 1),\n",
    "    ums\n",
    "])"
   ]
  },
  {
   "cell_type": "code",
   "execution_count": 12,
   "metadata": {},
   "outputs": [
    {
     "data": {
      "image/png": "[encoded data removed]",
      "text/latex": [
       "$$\\frac{\\lambda_{v_x} v_{x} \\left(x^{2} + y^{2} + z^{2}\\right)^{\\frac{3}{2}} + \\lambda_{v_y} v_{y} \\left(x^{2} + y^{2} + z^{2}\\right)^{\\frac{3}{2}} + \\lambda_{v_z} v_{z} \\left(x^{2} + y^{2} + z^{2}\\right)^{\\frac{3}{2}} - \\lambda_{x} \\mu x - \\lambda_{y} \\mu y - \\lambda_{z} \\mu z}{\\sqrt{\\mu^{2} x^{2} + \\mu^{2} y^{2} + \\mu^{2} z^{2} + \\left(v_{x}^{2} + v_{y}^{2} + v_{z}^{2}\\right) \\left(x^{2} + y^{2} + z^{2}\\right)^{3}}}$$"
      ],
      "text/plain": [
       "                               3/2                                   3/2      \n",
       "                 ⎛ 2    2    2⎞                        ⎛ 2    2    2⎞         \n",
       "\\lambda_{v_x}⋅vₓ⋅⎝x  + y  + z ⎠    + \\lambda_{v_y}⋅v_y⋅⎝x  + y  + z ⎠    + \\la\n",
       "──────────────────────────────────────────────────────────────────────────────\n",
       "                                                     _________________________\n",
       "                                                    ╱                         \n",
       "                                                   ╱     2  2      2  2      2\n",
       "                                                 ╲╱   \\mu ⋅x  + \\mu ⋅y  + \\mu \n",
       "\n",
       "                             3/2                                              \n",
       "               ⎛ 2    2    2⎞                                                 \n",
       "mbda_{v_z}⋅v_z⋅⎝x  + y  + z ⎠    - \\lambda_{x}⋅\\mu⋅x - \\lambda_{y}⋅\\mu⋅y - \\la\n",
       "──────────────────────────────────────────────────────────────────────────────\n",
       "__________________________________________                                    \n",
       "                                        3                                     \n",
       "  2   ⎛  2      2      2⎞ ⎛ 2    2    2⎞                                      \n",
       "⋅z  + ⎝vₓ  + v_y  + v_z ⎠⋅⎝x  + y  + z ⎠                                      \n",
       "\n",
       "              \n",
       "              \n",
       "mbda_{z}⋅\\mu⋅z\n",
       "──────────────\n",
       "              \n",
       "              \n",
       "              \n",
       "              "
      ]
     },
     "execution_count": 12,
     "metadata": {},
     "output_type": "execute_result"
    }
   ],
   "source": [
    "tangent = Matrix([\n",
    "    (-mu/(p.norm()**3))*p,\n",
    "    v\n",
    "])\n",
    "tangent = tangent/tangent.norm()\n",
    "l[:-1, :].dot(tangent).simplify()"
   ]
  },
  {
   "cell_type": "code",
   "execution_count": 13,
   "metadata": {},
   "outputs": [
    {
     "data": {
      "image/png": "[encoded data removed]",
      "text/latex": [
       "$$\\frac{\\tilde{\\infty} \\left(\\lambda_{m} m \\sqrt{\\lambda_{v_x}^{2} + \\lambda_{v_y}^{2} + \\lambda_{v_z}^{2}} + \\lambda_{v_x}^{2} + \\lambda_{v_y}^{2} + \\lambda_{v_z}^{2} + m \\sqrt{\\lambda_{v_x}^{2} + \\lambda_{v_y}^{2} + \\lambda_{v_z}^{2}}\\right)}{m \\sqrt{\\lambda_{v_x}^{2} + \\lambda_{v_y}^{2} + \\lambda_{v_z}^{2}}}$$"
      ],
      "text/plain": [
       "    ⎛                 __________________________________________________      \n",
       "    ⎜                ╱              2                2                2       \n",
       "zoo⋅⎝\\lambda_{m}⋅m⋅╲╱  \\lambda_{v_x}  + \\lambda_{v_y}  + \\lambda_{v_z}   + \\la\n",
       "──────────────────────────────────────────────────────────────────────────────\n",
       "                                                                    __________\n",
       "                                                                   ╱          \n",
       "                                                               m⋅╲╱  \\lambda_{\n",
       "\n",
       "                                                     _________________________\n",
       "          2                2                2       ╱              2          \n",
       "mbda_{v_x}  + \\lambda_{v_y}  + \\lambda_{v_z}  + m⋅╲╱  \\lambda_{v_x}  + \\lambda\n",
       "──────────────────────────────────────────────────────────────────────────────\n",
       "________________________________________                                      \n",
       "    2                2                2                                       \n",
       "v_x}  + \\lambda_{v_y}  + \\lambda_{v_z}                                        \n",
       "\n",
       "_________________________⎞\n",
       "      2                2 ⎟\n",
       "_{v_y}  + \\lambda_{v_z}  ⎠\n",
       "──────────────────────────\n",
       "                          \n",
       "                          \n",
       "                          "
      ]
     },
     "execution_count": 13,
     "metadata": {},
     "output_type": "execute_result"
    }
   ],
   "source": [
    "ums.subs(alpha, 0).subs(beta, 1).simplify()"
   ]
  },
  {
   "cell_type": "markdown",
   "metadata": {},
   "source": [
    "## Base trajectory"
   ]
  },
  {
   "cell_type": "code",
   "execution_count": 14,
   "metadata": {},
   "outputs": [
    {
     "name": "stdout",
     "output_type": "stream",
     "text": [
      "Using matplotlib backend: TkAgg\n"
     ]
    }
   ],
   "source": [
    "import sys, numpy as np, matplotlib.pyplot as plt, pygmo as pg, pykep as pk\n",
    "sys.path.append('../src/')\n",
    "from spacecraft import Spacecraft\n",
    "from indirect import Indirect\n",
    "%matplotlib"
   ]
  },
  {
   "cell_type": "code",
   "execution_count": 15,
   "metadata": {},
   "outputs": [],
   "source": [
    "# instantiate problem\n",
    "seg = Spacecraft(T=0.2, isp=2500, m=1000)"
   ]
  },
  {
   "cell_type": "code",
   "execution_count": 16,
   "metadata": {},
   "outputs": [],
   "source": [
    "# initial state\n",
    "s0 = np.hstack((*pk.planet.jpl_lp('earth').eph(pk.epoch(0)), seg.M))\n",
    "\n",
    "# homotopy parameters\n",
    "alpha = 0\n",
    "seg.beta = 0\n",
    "\n",
    "# duration bounds in days\n",
    "Tlb = 100\n",
    "Tub = 500\n",
    "\n",
    "# costates bounds\n",
    "lb = 50\n",
    "\n",
    "# decision vector guess\n",
    "zg = [379.20912013,   0.93398202,  12.76567896, -45.55493263,  -8.26940351, 49.99989562, 3.00127225, -8.58992837, 8.32972382]"
   ]
  },
  {
   "cell_type": "code",
   "execution_count": 17,
   "metadata": {},
   "outputs": [],
   "source": [
    "# solve single trajectory\n",
    "z, f, feas = seg.solve(s0, alpha, Tlb, Tub, lb, z=zg)\n",
    "\n",
    "# solve multiple candidate trajectories in parallel\n",
    "#zl, fl, feasl = seg.solve_par(s0, alpha, 200, 450, 50, npar=1000)"
   ]
  },
  {
   "cell_type": "code",
   "execution_count": 18,
   "metadata": {},
   "outputs": [
    {
     "name": "stderr",
     "output_type": "stream",
     "text": [
      "'c' argument looks like a single numeric RGB or RGBA sequence, which should be avoided as value-mapping will have precedence in case its length matches with 'x' & 'y'.  Please use a 2-D array with a single row if you really want to specify the same RGB or RGBA value for all points.\n",
      "'c' argument looks like a single numeric RGB or RGBA sequence, which should be avoided as value-mapping will have precedence in case its length matches with 'x' & 'y'.  Please use a 2-D array with a single row if you really want to specify the same RGB or RGBA value for all points.\n",
      "/usr/local/lib/python3.6/dist-packages/matplotlib/cbook/__init__.py:424: MatplotlibDeprecationWarning: \n",
      "Passing one of 'on', 'true', 'off', 'false' as a boolean is deprecated; use an actual boolean (True/False) instead.\n",
      "  warn_deprecated(\"2.2\", \"Passing one of 'on', 'true', 'off', 'false' as a \"\n"
     ]
    },
    {
     "data": {
      "image/png": "[encoded data removed]",
      "text/plain": [
       "<Figure size 432x288 with 1 Axes>"
      ]
     },
     "metadata": {
      "needs_background": "light"
     },
     "output_type": "display_data"
    }
   ],
   "source": [
    "# plot trajectory\n",
    "tl, sl, ul = seg.propagate(z[0], s0, z[2:], alpha, u=True)\n",
    "ax = seg.plot_traj(sl, alpha=1)\n",
    "plt.show()"
   ]
  },
  {
   "cell_type": "markdown",
   "metadata": {},
   "source": [
    "# Policy homotopy in $\\beta \\times [0, 1] : \\alpha = 0$"
   ]
  },
  {
   "cell_type": "code",
   "execution_count": 19,
   "metadata": {},
   "outputs": [],
   "source": [
    "# homotopy\n",
    "alpha = 0\n",
    "beta = 0\n",
    "betag = 0.999\n",
    "#T = seg.homotopy_beta(s0, alpha, beta, Tlb, Tub, lb, z, betag, step=0.1, verbose=True)\n",
    "Ta0 = np.load('spacecraft_z_beta_homotopy_alpha_0.npy'); alpha = 0"
   ]
  },
  {
   "cell_type": "code",
   "execution_count": 20,
   "metadata": {},
   "outputs": [
    {
     "name": "stderr",
     "output_type": "stream",
     "text": [
      "'c' argument looks like a single numeric RGB or RGBA sequence, which should be avoided as value-mapping will have precedence in case its length matches with 'x' & 'y'.  Please use a 2-D array with a single row if you really want to specify the same RGB or RGBA value for all points.\n",
      "'c' argument looks like a single numeric RGB or RGBA sequence, which should be avoided as value-mapping will have precedence in case its length matches with 'x' & 'y'.  Please use a 2-D array with a single row if you really want to specify the same RGB or RGBA value for all points.\n"
     ]
    },
    {
     "data": {
      "image/png": "[encoded data removed]",
      "text/plain": [
       "<Figure size 432x288 with 1 Axes>"
      ]
     },
     "metadata": {
      "needs_background": "light"
     },
     "output_type": "display_data"
    }
   ],
   "source": [
    "# plot homotopy\n",
    "for i, t in enumerate(Ta0):\n",
    "    z = t[0]\n",
    "    tf = z[0]\n",
    "    l0 = z[2:]\n",
    "    seg.beta = t[1]\n",
    "    tl, sl, ul = seg.propagate(tf, s0, l0, alpha, u=True)\n",
    "    if i == 0:\n",
    "        fig, ax = seg.plot_traj(sl, alpha=1, mark=\"k-\")\n",
    "    elif i == len(Ta0) - 1:\n",
    "        seg.plot_traj(sl, alpha=1, mark=\"k--\", ax=ax)\n",
    "    else:\n",
    "        seg.plot_traj(sl, ax=ax)\n",
    "plt.show()"
   ]
  },
  {
   "cell_type": "markdown",
   "metadata": {},
   "source": [
    "# Policy homotopy in $\\beta \\times [0, 1] : \\alpha = 1$"
   ]
  },
  {
   "cell_type": "code",
   "execution_count": 21,
   "metadata": {},
   "outputs": [],
   "source": [
    "# homotopy\n",
    "alpha = 1\n",
    "beta = 0\n",
    "betag = 0.999\n",
    "#T = seg.homotopy_beta(s0, alpha, beta, Tlb, Tub, lb, z, betag, step=0.1, verbose=True)\n",
    "Ta1 = np.load('spacecraft_z_beta_homotopy_alpha_1.npy'); alpha = 1"
   ]
  },
  {
   "cell_type": "code",
   "execution_count": 22,
   "metadata": {},
   "outputs": [
    {
     "name": "stderr",
     "output_type": "stream",
     "text": [
      "'c' argument looks like a single numeric RGB or RGBA sequence, which should be avoided as value-mapping will have precedence in case its length matches with 'x' & 'y'.  Please use a 2-D array with a single row if you really want to specify the same RGB or RGBA value for all points.\n",
      "'c' argument looks like a single numeric RGB or RGBA sequence, which should be avoided as value-mapping will have precedence in case its length matches with 'x' & 'y'.  Please use a 2-D array with a single row if you really want to specify the same RGB or RGBA value for all points.\n"
     ]
    },
    {
     "data": {
      "image/png": "[encoded data removed]",
      "text/plain": [
       "<Figure size 432x288 with 1 Axes>"
      ]
     },
     "metadata": {
      "needs_background": "light"
     },
     "output_type": "display_data"
    }
   ],
   "source": [
    "# plot homotopy\n",
    "for i, t in enumerate(Ta1):\n",
    "    z = t[0]\n",
    "    tf = z[0]\n",
    "    l0 = z[2:]\n",
    "    seg.beta = t[1]\n",
    "    tl, sl, ul = seg.propagate(tf, s0, l0, alpha, u=True)\n",
    "    if i == 0:\n",
    "        fig, ax = seg.plot_traj(sl, alpha=1, mark=\"k-\")\n",
    "    elif i == len(Ta1) - 1:\n",
    "        seg.plot_traj(sl, alpha=1, mark=\"k--\", ax=ax)\n",
    "    else:\n",
    "        seg.plot_traj(sl, ax=ax)\n",
    "plt.show()"
   ]
  },
  {
   "cell_type": "markdown",
   "metadata": {},
   "source": [
    "# Policy homotopy in $\\alpha \\times [0, 1] : \\beta = 1$"
   ]
  },
  {
   "cell_type": "code",
   "execution_count": 23,
   "metadata": {},
   "outputs": [],
   "source": [
    "# homotopy\n",
    "alpha = 0\n",
    "alphag = 1\n",
    "seg.beta = 0.99999\n",
    "z = Ta0[-1][0]\n",
    "#Tb1 = seg.homotopy(s0, alpha, Tlb, Tub, lb, z, alphag, step=0.1, verbose=False)\n",
    "Tb1 = np.load('spacecraft_z_alpha_homotopy_beta_1.npy')"
   ]
  },
  {
   "cell_type": "code",
   "execution_count": 24,
   "metadata": {},
   "outputs": [
    {
     "name": "stderr",
     "output_type": "stream",
     "text": [
      "'c' argument looks like a single numeric RGB or RGBA sequence, which should be avoided as value-mapping will have precedence in case its length matches with 'x' & 'y'.  Please use a 2-D array with a single row if you really want to specify the same RGB or RGBA value for all points.\n",
      "'c' argument looks like a single numeric RGB or RGBA sequence, which should be avoided as value-mapping will have precedence in case its length matches with 'x' & 'y'.  Please use a 2-D array with a single row if you really want to specify the same RGB or RGBA value for all points.\n"
     ]
    },
    {
     "data": {
      "image/png": "[encoded data removed]",
      "text/plain": [
       "<Figure size 432x288 with 1 Axes>"
      ]
     },
     "metadata": {
      "needs_background": "light"
     },
     "output_type": "display_data"
    }
   ],
   "source": [
    "# plot homotopy\n",
    "for i, t in enumerate(Tb1):\n",
    "    z = t[0]\n",
    "    tf = z[0]\n",
    "    l0 = z[2:]\n",
    "    alpha = t[1]\n",
    "    tl, sl, ul = seg.propagate(tf, s0, l0, alpha, u=True)\n",
    "    if i == 0:\n",
    "        fig, ax = seg.plot_traj(sl, alpha=1, mark=\"k-\")\n",
    "    elif i == len(Tb1) - 1:\n",
    "        seg.plot_traj(sl, alpha=1, mark=\"k--\", ax=ax)\n",
    "    else:\n",
    "        seg.plot_traj(sl, ax=ax)\n",
    "plt.show()"
   ]
  },
  {
   "cell_type": "markdown",
   "metadata": {},
   "source": [
    "## Comparing policy homotopies"
   ]
  },
  {
   "cell_type": "code",
   "execution_count": 25,
   "metadata": {},
   "outputs": [
    {
     "data": {
      "image/png": "[encoded data removed]",
      "text/plain": [
       "<Figure size 432x288 with 3 Axes>"
      ]
     },
     "metadata": {
      "needs_background": "light"
     },
     "output_type": "display_data"
    }
   ],
   "source": [
    "# figure\n",
    "fig, ax = plt.subplots(3, sharex=True)\n",
    "\n",
    "alpha = 0\n",
    "for i, sol in enumerate(Ta0):\n",
    "    \n",
    "    # decision vector\n",
    "    z = sol[0]\n",
    "    \n",
    "    # beta homotopy parameter\n",
    "    seg.beta = sol[1]\n",
    "    \n",
    "    # simulate\n",
    "    if i == len(Ta0) - 1:\n",
    "        seg.beta = 0.99999999999\n",
    "        tl, sl, ul = seg.propagate(z[0], s0, z[2:], alpha, u=True)\n",
    "    else:\n",
    "        tl, sl, ul = seg.propagate(z[0], s0, z[2:], alpha, u=True)\n",
    "    \n",
    "    # plot trajectory\n",
    "    if i == 0:\n",
    "        ax[alpha].plot(tl, ul[:,0], \"k-\", label=r'$\\alpha = {}, \\beta=0$'.format(alpha))\n",
    "    elif i == len(Ta0) - 1:\n",
    "        ax[alpha].plot(tl, ul[:,0], \"k--\", label=r'$\\alpha = {}, \\beta=1$'.format(alpha))\n",
    "    else:\n",
    "        ax[alpha].plot(tl, ul[:,0], \"k-\", alpha=0.1)\n",
    "    \n",
    "alpha = 1\n",
    "for i, sol in enumerate(Ta1):\n",
    "    \n",
    "    # decision vector\n",
    "    z = sol[0]\n",
    "    \n",
    "    # beta homotopy parameter\n",
    "    seg.beta = sol[1]\n",
    "    \n",
    "    # simulate\n",
    "    if i == len(Ta1) - 1:\n",
    "        seg.beta = 0.99999999999\n",
    "        tl, sl, ul = seg.propagate(z[0], s0, z[2:], alpha, u=True)\n",
    "    else:\n",
    "        tl, sl, ul = seg.propagate(z[0], s0, z[2:], alpha, u=True)\n",
    "    \n",
    "    # plot trajectory\n",
    "    if i == 0:\n",
    "        ax[alpha].plot(tl, ul[:,0], \"k-\", label=r'$\\alpha = {}, \\beta=0$'.format(alpha))\n",
    "    elif i == len(Ta1) - 1:\n",
    "        ax[alpha].plot(tl, ul[:,0], \"k--\", label=r'$\\alpha = {}, \\beta=1$'.format(alpha))\n",
    "    else:\n",
    "        ax[alpha].plot(tl, ul[:,0], \"k-\", alpha=0.1)\n",
    "        \n",
    "seg.beta = 0.999999999\n",
    "for i, sol in enumerate(Tb1):\n",
    "    \n",
    "    # decision vector\n",
    "    z = sol[0]\n",
    "    \n",
    "    # beta homotopy parameter\n",
    "    alpha = sol[1]\n",
    "    \n",
    "    # simulate\n",
    "    tl, sl, ul = seg.propagate(z[0], s0, z[2:], alpha, u=True)\n",
    "    \n",
    "    # plot trajectory\n",
    "    if i == 0:\n",
    "        ax[2].plot(tl, ul[:,0], \"k-\", label=r'$\\alpha = {}, \\beta=1$'.format(alpha))\n",
    "    elif i == len(Tb1) - 1:\n",
    "        ax[2].plot(tl, ul[:,0], \"k--\", label=r'$\\alpha = {}, \\beta=1$'.format(alpha))\n",
    "    else:\n",
    "        ax[2].plot(tl, ul[:,0], \"k-\", alpha=0.1)\n",
    "    \n",
    "\n",
    "ax[2].set_xlabel(r'$t$')\n",
    "ax[0].set_ylabel(r'$u$')\n",
    "ax[1].set_ylabel(r'$u$')\n",
    "ax[2].set_ylabel(r'$u$')\n",
    "ax[0].legend(loc='lower left')\n",
    "ax[1].legend(loc='lower left')\n",
    "ax[2].legend(loc='lower left')\n",
    "ax[0].set_ylim(-0.05, 1.05)\n",
    "ax[1].set_ylim(-0.05, 1.05)\n",
    "ax[2].set_ylim(-0.05, 1.05)\n",
    "\n",
    "fig.tight_layout()\n",
    "#fig.savefig('spacecraft_u_full_homotopy.pdf', bbox_inches='tight')\n",
    "plt.show()"
   ]
  },
  {
   "cell_type": "markdown",
   "metadata": {},
   "source": [
    "## Random walks at $\\beta = 0$"
   ]
  },
  {
   "cell_type": "code",
   "execution_count": 26,
   "metadata": {},
   "outputs": [],
   "source": [
    "# decision vector and homotopy parameter\n",
    "z, seg.beta = Ta0[0]\n",
    "alpha = 0\n",
    "\n",
    "# number of serial perturbations per walk\n",
    "n = 1\n",
    "\n",
    "# number of walks\n",
    "nw = 8"
   ]
  },
  {
   "cell_type": "code",
   "execution_count": null,
   "metadata": {},
   "outputs": [],
   "source": [
    "# random walks in parallel\n",
    "T = seg.random_walk_par(s0, z, alpha, n, Tlb, Tub, lb, nw, dsm=0.001, verbose=True)"
   ]
  },
  {
   "cell_type": "code",
   "execution_count": null,
   "metadata": {},
   "outputs": [],
   "source": [
    "# plot random walks\n",
    "for i, t in enumerate(T):\n",
    "    s0 = t[0]\n",
    "    z = t[1]\n",
    "    tf = z[0]\n",
    "    l0 = z[2:]\n",
    "    tl, sl, ul = seg.propagate(tf, s0, l0, alpha, u=True)\n",
    "    if i == 0:\n",
    "        fig, ax = seg.plot_traj(sl, alpha=1, mark=\"k-\")\n",
    "        ax.set_aspect('equal')\n",
    "    else:\n",
    "        seg.plot_traj(sl, ax=ax, alpha=0.5)\n",
    "plt.show()"
   ]
  },
  {
   "cell_type": "markdown",
   "metadata": {},
   "source": [
    "## Database homotopy $\\beta \\times [0, 1], \\alpha = 0$"
   ]
  },
  {
   "cell_type": "code",
   "execution_count": 27,
   "metadata": {},
   "outputs": [],
   "source": [
    "#res = seg.homotopy_db_beta(T, alpha, beta, Tlb, Tub, lb, betag, step=0.1)\n",
    "res = np.load('spacecraft_db_beta_homotopy_a0.npy')"
   ]
  },
  {
   "cell_type": "code",
   "execution_count": null,
   "metadata": {},
   "outputs": [],
   "source": [
    "#np.save('spacecraft_db_beta_homotopy_a0.npy', res)"
   ]
  },
  {
   "cell_type": "code",
   "execution_count": 28,
   "metadata": {},
   "outputs": [
    {
     "name": "stderr",
     "output_type": "stream",
     "text": [
      "'c' argument looks like a single numeric RGB or RGBA sequence, which should be avoided as value-mapping will have precedence in case its length matches with 'x' & 'y'.  Please use a 2-D array with a single row if you really want to specify the same RGB or RGBA value for all points.\n",
      "'c' argument looks like a single numeric RGB or RGBA sequence, which should be avoided as value-mapping will have precedence in case its length matches with 'x' & 'y'.  Please use a 2-D array with a single row if you really want to specify the same RGB or RGBA value for all points.\n"
     ]
    },
    {
     "data": {
      "image/png": "[encoded data removed]",
      "text/plain": [
       "<Figure size 432x288 with 1 Axes>"
      ]
     },
     "metadata": {
      "needs_background": "light"
     },
     "output_type": "display_data"
    }
   ],
   "source": [
    "# plot database homotopy\n",
    "alpha = 0\n",
    "for i, r in enumerate(res):\n",
    "    s0, z, seg.beta = r\n",
    "    tf = z[0]\n",
    "    l0 = z[2:]\n",
    "    tl, sl, ul = seg.propagate(tf, s0, l0, alpha, u=True)\n",
    "    if i == 0:\n",
    "        fig, ax = seg.plot_traj(sl, alpha=0.1)\n",
    "        ax.set_aspect('equal')\n",
    "    else:\n",
    "        seg.plot_traj(sl, ax=ax, alpha=0.1)\n",
    "plt.show()"
   ]
  },
  {
   "cell_type": "markdown",
   "metadata": {},
   "source": [
    "## Database homotopy $\\alpha \\times [0, 1], \\beta = 1$"
   ]
  },
  {
   "cell_type": "code",
   "execution_count": 29,
   "metadata": {},
   "outputs": [],
   "source": [
    "# get effort optimal trajectories\n",
    "s0zl = res[np.argwhere(res[:,2] >= 0.999).flatten(), :2]\n",
    "alpha = 0\n",
    "alphag = 1\n",
    "seg.beta == 0.99999\n",
    "#T = seg.homotopy_db(s0zl, alpha, Tlb, Tub, lb, alphag, step=0.01)\n",
    "T = np.load('spacecraft_db_alpha_homotopy_beta_1.npy')"
   ]
  },
  {
   "cell_type": "code",
   "execution_count": null,
   "metadata": {},
   "outputs": [],
   "source": [
    "#np.save('spacecraft_db_alpha_homotopy_beta_1.npy', T)"
   ]
  },
  {
   "cell_type": "code",
   "execution_count": 30,
   "metadata": {},
   "outputs": [
    {
     "name": "stderr",
     "output_type": "stream",
     "text": [
      "'c' argument looks like a single numeric RGB or RGBA sequence, which should be avoided as value-mapping will have precedence in case its length matches with 'x' & 'y'.  Please use a 2-D array with a single row if you really want to specify the same RGB or RGBA value for all points.\n",
      "'c' argument looks like a single numeric RGB or RGBA sequence, which should be avoided as value-mapping will have precedence in case its length matches with 'x' & 'y'.  Please use a 2-D array with a single row if you really want to specify the same RGB or RGBA value for all points.\n"
     ]
    },
    {
     "data": {
      "image/png": "[encoded data removed]",
      "text/plain": [
       "<Figure size 432x288 with 1 Axes>"
      ]
     },
     "metadata": {
      "needs_background": "light"
     },
     "output_type": "display_data"
    },
    {
     "data": {
      "image/png": "[encoded data removed]",
      "text/plain": [
       "<Figure size 432x288 with 1 Axes>"
      ]
     },
     "metadata": {
      "needs_background": "light"
     },
     "output_type": "display_data"
    }
   ],
   "source": [
    "# plot database homotopy\n",
    "fig1, ax1 = plt.subplots(1)\n",
    "for i, r in enumerate(T):\n",
    "    s0, z, alpha = r\n",
    "    tf = z[0]\n",
    "    l0 = z[2:]\n",
    "    tl, sl, ul = seg.propagate(tf, s0, l0, alpha, u=True)\n",
    "    ax1.plot(tl, ul[:,0], \"k-\", alpha=0.01)\n",
    "    if i == 0:\n",
    "        fig, ax = seg.plot_traj(sl, alpha=0.01)\n",
    "        ax.set_aspect('equal')\n",
    "    else:\n",
    "        seg.plot_traj(sl, ax=ax, alpha=0.01)\n",
    "        \n",
    "#fig.savefig('spacecraft_s_alpha_homotopy_db.pdf', bbox_inches='tight')\n",
    "plt.show()"
   ]
  },
  {
   "cell_type": "markdown",
   "metadata": {},
   "source": [
    "## Training a neural network"
   ]
  },
  {
   "cell_type": "code",
   "execution_count": 31,
   "metadata": {},
   "outputs": [],
   "source": [
    "from ann import *"
   ]
  },
  {
   "cell_type": "code",
   "execution_count": 32,
   "metadata": {},
   "outputs": [],
   "source": [
    "# assemble database\n",
    "#db = seg.gen_db(T, cat=True)\n",
    "db = np.load('spacecraft_db.npy')\n",
    "db = db[np.hstack((np.argwhere(db[:,8] == 1).flatten(), np.argwhere(db[:,8] == 0).flatten())), :]"
   ]
  },
  {
   "cell_type": "code",
   "execution_count": null,
   "metadata": {},
   "outputs": [],
   "source": [
    "#np.save('spacecraft_db.npy', db)"
   ]
  },
  {
   "cell_type": "code",
   "execution_count": 33,
   "metadata": {},
   "outputs": [],
   "source": [
    "# get data ready for training \n",
    "#db = Data(db, [0, 1, 2, 3, 4, 5, 6, 7], [8, 9, 10, 11])\n",
    "db = Data(db, [0, 1, 2, 3, 4, 5, 6, 7], [8])"
   ]
  },
  {
   "cell_type": "code",
   "execution_count": 40,
   "metadata": {},
   "outputs": [],
   "source": [
    "# instantiate the neural network\n",
    "mlp = Spacecraft_Throttle_Controller([seg.sdim + 1,20, 20, 20, 20, 20, 1])"
   ]
  },
  {
   "cell_type": "code",
   "execution_count": null,
   "metadata": {},
   "outputs": [
    {
     "name": "stdout",
     "output_type": "stream",
     "text": [
      "Episode 0; Testing Loss 0.055235302633149574; Training Loss 0.048790882997935194\n",
      "Episode 1; Testing Loss 0.05578592904821563; Training Loss 0.04881243482498499\n",
      "Episode 2; Testing Loss 0.05484496595877488; Training Loss 0.048801474891753786\n"
     ]
    }
   ],
   "source": [
    "mlp.train(db.i, db.o, epo=1000, lr=1e-5, ptst=0.1, gpu=True)"
   ]
  },
  {
   "cell_type": "code",
   "execution_count": 57,
   "metadata": {},
   "outputs": [
    {
     "data": {
      "image/png": "[encoded data removed]",
      "text/plain": [
       "<Figure size 432x288 with 1 Axes>"
      ]
     },
     "metadata": {
      "needs_background": "light"
     },
     "output_type": "display_data"
    }
   ],
   "source": [
    "fig, ax = plt.subplots(1)\n",
    "ax.plot(mlp.ltrn, \"k-\")\n",
    "ax.plot(mlp.ltst, \"k--\")\n",
    "ax.set_xlabel('Epoch')\n",
    "ax.set_ylabel('MSE')\n",
    "#ax.set_xscale('log')\n",
    "plt.show()"
   ]
  },
  {
   "cell_type": "markdown",
   "metadata": {},
   "source": [
    "## Neural network accuracy"
   ]
  },
  {
   "cell_type": "code",
   "execution_count": 58,
   "metadata": {},
   "outputs": [],
   "source": [
    "mlp.cpu()\n",
    "# alpha homotopy\n",
    "Tb1 = np.load('spacecraft_z_alpha_homotopy_beta_1.npy'); seg.beta = 0.99999\n",
    "\n",
    "# effort optimal base\n",
    "z = Tb1[0][0]\n",
    "alpha = 0\n",
    "tl0, sl, ul = seg.propagate(z[0], s0, z[2:], alpha, u=True)\n",
    "a0i = np.hstack((sl[:,:seg.sdim], np.full((len(sl), 1), alpha)))\n",
    "a0o = ul\n",
    "a0op = mlp(torch.from_numpy(a0i)).detach().numpy()\n",
    "\n",
    "# time optimal base\n",
    "z = Tb1[-1][0]\n",
    "alpha = 1\n",
    "tl1, sl, ul = seg.propagate(z[0], s0, z[2:], alpha, u=True)\n",
    "a1i = np.hstack((sl[:,:seg.sdim], np.full((len(sl), 1), alpha)))\n",
    "a1o = ul\n",
    "a1op = mlp(torch.from_numpy(a1i)).detach().numpy()"
   ]
  },
  {
   "cell_type": "code",
   "execution_count": 59,
   "metadata": {},
   "outputs": [
    {
     "ename": "IndexError",
     "evalue": "index 1 is out of bounds for axis 1 with size 1",
     "output_type": "error",
     "traceback": [
      "\u001b[0;31m---------------------------------------------------------------------------\u001b[0m",
      "\u001b[0;31mIndexError\u001b[0m                                Traceback (most recent call last)",
      "\u001b[0;32m<ipython-input-59-ab9ef56b43d7>\u001b[0m in \u001b[0;36m<module>\u001b[0;34m\u001b[0m\n\u001b[1;32m      4\u001b[0m     \u001b[0max\u001b[0m\u001b[0;34m[\u001b[0m\u001b[0mi\u001b[0m\u001b[0;34m]\u001b[0m\u001b[0;34m[\u001b[0m\u001b[0;36m0\u001b[0m\u001b[0;34m]\u001b[0m\u001b[0;34m.\u001b[0m\u001b[0mplot\u001b[0m\u001b[0;34m(\u001b[0m\u001b[0mtl0\u001b[0m\u001b[0;34m,\u001b[0m \u001b[0ma0o\u001b[0m\u001b[0;34m[\u001b[0m\u001b[0;34m:\u001b[0m\u001b[0;34m,\u001b[0m \u001b[0mi\u001b[0m\u001b[0;34m]\u001b[0m\u001b[0;34m,\u001b[0m \u001b[0;34m\"k--\"\u001b[0m\u001b[0;34m)\u001b[0m\u001b[0;34m\u001b[0m\u001b[0;34m\u001b[0m\u001b[0m\n\u001b[1;32m      5\u001b[0m     \u001b[0max\u001b[0m\u001b[0;34m[\u001b[0m\u001b[0mi\u001b[0m\u001b[0;34m]\u001b[0m\u001b[0;34m[\u001b[0m\u001b[0;36m1\u001b[0m\u001b[0;34m]\u001b[0m\u001b[0;34m.\u001b[0m\u001b[0mplot\u001b[0m\u001b[0;34m(\u001b[0m\u001b[0mtl1\u001b[0m\u001b[0;34m,\u001b[0m \u001b[0ma1o\u001b[0m\u001b[0;34m[\u001b[0m\u001b[0;34m:\u001b[0m\u001b[0;34m,\u001b[0m \u001b[0mi\u001b[0m\u001b[0;34m]\u001b[0m\u001b[0;34m,\u001b[0m \u001b[0;34m\"k--\"\u001b[0m\u001b[0;34m)\u001b[0m\u001b[0;34m\u001b[0m\u001b[0;34m\u001b[0m\u001b[0m\n\u001b[0;32m----> 6\u001b[0;31m     \u001b[0max\u001b[0m\u001b[0;34m[\u001b[0m\u001b[0mi\u001b[0m\u001b[0;34m]\u001b[0m\u001b[0;34m[\u001b[0m\u001b[0;36m0\u001b[0m\u001b[0;34m]\u001b[0m\u001b[0;34m.\u001b[0m\u001b[0mplot\u001b[0m\u001b[0;34m(\u001b[0m\u001b[0mtl0\u001b[0m\u001b[0;34m,\u001b[0m \u001b[0ma0op\u001b[0m\u001b[0;34m[\u001b[0m\u001b[0;34m:\u001b[0m\u001b[0;34m,\u001b[0m \u001b[0mi\u001b[0m\u001b[0;34m]\u001b[0m\u001b[0;34m,\u001b[0m \u001b[0;34m\"k-\"\u001b[0m\u001b[0;34m)\u001b[0m\u001b[0;34m\u001b[0m\u001b[0;34m\u001b[0m\u001b[0m\n\u001b[0m\u001b[1;32m      7\u001b[0m     \u001b[0max\u001b[0m\u001b[0;34m[\u001b[0m\u001b[0mi\u001b[0m\u001b[0;34m]\u001b[0m\u001b[0;34m[\u001b[0m\u001b[0;36m1\u001b[0m\u001b[0;34m]\u001b[0m\u001b[0;34m.\u001b[0m\u001b[0mplot\u001b[0m\u001b[0;34m(\u001b[0m\u001b[0mtl1\u001b[0m\u001b[0;34m,\u001b[0m \u001b[0ma1op\u001b[0m\u001b[0;34m[\u001b[0m\u001b[0;34m:\u001b[0m\u001b[0;34m,\u001b[0m \u001b[0mi\u001b[0m\u001b[0;34m]\u001b[0m\u001b[0;34m,\u001b[0m \u001b[0;34m\"k-\"\u001b[0m\u001b[0;34m)\u001b[0m\u001b[0;34m\u001b[0m\u001b[0;34m\u001b[0m\u001b[0m\n\u001b[1;32m      8\u001b[0m     \u001b[0;32mif\u001b[0m \u001b[0mi\u001b[0m \u001b[0;34m==\u001b[0m \u001b[0;36m0\u001b[0m\u001b[0;34m:\u001b[0m\u001b[0;34m\u001b[0m\u001b[0;34m\u001b[0m\u001b[0m\n",
      "\u001b[0;31mIndexError\u001b[0m: index 1 is out of bounds for axis 1 with size 1"
     ]
    },
    {
     "data": {
      "image/png": "[encoded data removed]",
      "text/plain": [
       "<Figure size 432x288 with 8 Axes>"
      ]
     },
     "metadata": {
      "needs_background": "light"
     },
     "output_type": "display_data"
    }
   ],
   "source": [
    "# plot\n",
    "fig, ax = plt.subplots(4, 2, sharex=True, sharey=False)\n",
    "for i in range(4):\n",
    "    ax[i][0].plot(tl0, a0o[:, i], \"k--\")\n",
    "    ax[i][1].plot(tl1, a1o[:, i], \"k--\")\n",
    "    ax[i][0].plot(tl0, a0op[:, i], \"k-\")\n",
    "    ax[i][1].plot(tl1, a1op[:, i], \"k-\")\n",
    "    if i == 0:\n",
    "        ax[i][0].set_ylim(-0.1, 1.1)\n",
    "        ax[i][1].set_ylim(-0.1, 1.1)\n",
    "    else:\n",
    "        ax[i][0].set_ylim(-1.1, 1.1)\n",
    "        ax[i][1].set_ylim(-1.1, 1.1)\n",
    "\n",
    "fig.tight_layout()\n",
    "plt.show()"
   ]
  },
  {
   "cell_type": "code",
   "execution_count": null,
   "metadata": {},
   "outputs": [],
   "source": [
    "a1i[0]"
   ]
  },
  {
   "cell_type": "code",
   "execution_count": null,
   "metadata": {},
   "outputs": [],
   "source": []
  }
 ],
 "metadata": {
  "kernelspec": {
   "display_name": "Python 3",
   "language": "python",
   "name": "python3"
  },
  "language_info": {
   "codemirror_mode": {
    "name": "ipython",
    "version": 3
   },
   "file_extension": ".py",
   "mimetype": "text/x-python",
   "name": "python",
   "nbconvert_exporter": "python",
   "pygments_lexer": "ipython3",
   "version": "3.6.7"
  }
 },
 "nbformat": 4,
 "nbformat_minor": 2
}
