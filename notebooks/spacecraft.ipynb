{
 "cells": [
  {
   "cell_type": "markdown",
   "metadata": {},
   "source": [
    "# Homotopic optimal control of interplanetary spacecraft\n",
    "\n",
    "## Dynamics"
   ]
  },
  {
   "cell_type": "code",
   "execution_count": 1,
   "metadata": {},
   "outputs": [],
   "source": [
    "from sympy import *\n",
    "init_printing()"
   ]
  },
  {
   "cell_type": "code",
   "execution_count": 2,
   "metadata": {},
   "outputs": [
    {
     "data": {
      "text/latex": [
       "$$\\left[\\begin{matrix}x & y & z & v_{x} & v_{y} & v_{z} & m\\end{matrix}\\right]$$"
      ],
      "text/plain": [
       "[x  y  z  vₓ  v_y  v_z  m]"
      ]
     },
     "execution_count": 2,
     "metadata": {},
     "output_type": "execute_result"
    }
   ],
   "source": [
    "# state variables\n",
    "x, y, z, vx, vy, vz = symbols('x y z v_x v_y v_z', real=True)\n",
    "m = symbols('m', real=True, nonnegative=True)\n",
    "\n",
    "# position\n",
    "p = Matrix([x, y, z])\n",
    "\n",
    "# velocity\n",
    "v = Matrix([vx, vy, vz])\n",
    "\n",
    "# state\n",
    "s = Matrix([p, v, [m]])\n",
    "s.T"
   ]
  },
  {
   "cell_type": "code",
   "execution_count": 3,
   "metadata": {},
   "outputs": [
    {
     "data": {
      "text/latex": [
       "$$\\left[\\begin{matrix}v_{x}\\\\v_{y}\\\\v_{z}\\\\\\frac{T \\hat{u}_x u}{m} - \\frac{\\mu x}{\\left(x^{2} + y^{2} + z^{2}\\right)^{\\frac{3}{2}}}\\\\\\frac{T \\hat{u}_y u}{m} - \\frac{\\mu y}{\\left(x^{2} + y^{2} + z^{2}\\right)^{\\frac{3}{2}}}\\\\\\frac{T \\hat{u}_z u}{m} - \\frac{\\mu z}{\\left(x^{2} + y^{2} + z^{2}\\right)^{\\frac{3}{2}}}\\\\- \\frac{T u}{I_{sp} g_{0}}\\end{matrix}\\right]$$"
      ],
      "text/plain": [
       "⎡               vₓ                ⎤\n",
       "⎢                                 ⎥\n",
       "⎢               v_y               ⎥\n",
       "⎢                                 ⎥\n",
       "⎢               v_z               ⎥\n",
       "⎢                                 ⎥\n",
       "⎢T⋅\\hat{u}ₓ⋅u         \\mu⋅x       ⎥\n",
       "⎢──────────── - ───────────────── ⎥\n",
       "⎢     m                       3/2 ⎥\n",
       "⎢               ⎛ 2    2    2⎞    ⎥\n",
       "⎢               ⎝x  + y  + z ⎠    ⎥\n",
       "⎢                                 ⎥\n",
       "⎢T⋅\\hat{u}_y⋅u         \\mu⋅y      ⎥\n",
       "⎢───────────── - ─────────────────⎥\n",
       "⎢      m                       3/2⎥\n",
       "⎢                ⎛ 2    2    2⎞   ⎥\n",
       "⎢                ⎝x  + y  + z ⎠   ⎥\n",
       "⎢                                 ⎥\n",
       "⎢T⋅\\hat{u}_z⋅u         \\mu⋅z      ⎥\n",
       "⎢───────────── - ─────────────────⎥\n",
       "⎢      m                       3/2⎥\n",
       "⎢                ⎛ 2    2    2⎞   ⎥\n",
       "⎢                ⎝x  + y  + z ⎠   ⎥\n",
       "⎢                                 ⎥\n",
       "⎢              -T⋅u               ⎥\n",
       "⎢            ─────────            ⎥\n",
       "⎣            I_{sp}⋅g₀            ⎦"
      ]
     },
     "execution_count": 3,
     "metadata": {},
     "output_type": "execute_result"
    }
   ],
   "source": [
    "# control parameters\n",
    "um = symbols('u', real=True, positive=True)\n",
    "ux, uy, uz =symbols('\\\\hat{u}_x \\\\hat{u}_y \\\\hat{u}_z', real=True)\n",
    "uh = Matrix([ux, uy, uz])\n",
    "u = Matrix([[um], uh])\n",
    "\n",
    "# constants\n",
    "c1, c2, mu = symbols('c_1 c_2 \\\\mu', real=True, positive=True)\n",
    "T, isp, mu, g = symbols('T I_{sp} \\\\mu g_0', real=True, positive=True)\n",
    "c1 = T\n",
    "c2 = T/(isp*g)\n",
    "\n",
    "# equations of motion\n",
    "ds = Matrix([\n",
    "    v,\n",
    "    (-mu/((x**2 + y**2 + z**2)**(Rational(3/2))))*(p) + (c1*um/m)*uh,\n",
    "    [-c2*um]\n",
    "])\n",
    "simplify(ds)"
   ]
  },
  {
   "cell_type": "code",
   "execution_count": 4,
   "metadata": {},
   "outputs": [
    {
     "data": {
      "image/png": "[encoded data removed]",
      "text/latex": [
       "$$\\beta \\left(\\alpha - u \\left(\\alpha - 1\\right)\\right) + u^{2} \\left(- \\beta + 1\\right)$$"
      ],
      "text/plain": [
       "                                   2             \n",
       "\\beta⋅(\\alpha - u⋅(\\alpha - 1)) + u ⋅(-\\beta + 1)"
      ]
     },
     "execution_count": 4,
     "metadata": {},
     "output_type": "execute_result"
    }
   ],
   "source": [
    "# homotopy parameter\n",
    "alpha, beta = symbols('\\\\alpha \\\\beta', real=True, nonnegative=True)\n",
    "\n",
    "# Lagrangian\n",
    "L = alpha + (1-alpha)*um\n",
    "L = beta*L + (1-beta)*um**2\n",
    "L.simplify()"
   ]
  },
  {
   "cell_type": "code",
   "execution_count": 5,
   "metadata": {},
   "outputs": [
    {
     "data": {
      "text/latex": [
       "$$\\left[\\begin{matrix}\\lambda_{x} & \\lambda_{y} & \\lambda_{z} & \\lambda_{v_x} & \\lambda_{v_y} & \\lambda_{v_z} & \\lambda_{m}\\end{matrix}\\right]$$"
      ],
      "text/plain": [
       "[\\lambda_{x}  \\lambda_{y}  \\lambda_{z}  \\lambda_{v_x}  \\lambda_{v_y}  \\lambda_\n",
       "{v_z}  \\lambda_{m}]"
      ]
     },
     "execution_count": 5,
     "metadata": {},
     "output_type": "execute_result"
    }
   ],
   "source": [
    " # costate variables\n",
    "l = Matrix(symbols(['\\\\lambda_{' + str(var) + '}' for var in s]), real=True)\n",
    "l.T"
   ]
  },
  {
   "cell_type": "code",
   "execution_count": 6,
   "metadata": {},
   "outputs": [
    {
     "data": {
      "image/png": "[encoded data removed]",
      "text/latex": [
       "$$\\beta \\left(\\alpha + u \\left(- \\alpha + 1\\right)\\right) + \\lambda_{v_x} \\left(\\frac{T \\hat{u}_x u}{m} - \\frac{\\mu x}{\\left(x^{2} + y^{2} + z^{2}\\right)^{\\frac{3}{2}}}\\right) + \\lambda_{v_y} \\left(\\frac{T \\hat{u}_y u}{m} - \\frac{\\mu y}{\\left(x^{2} + y^{2} + z^{2}\\right)^{\\frac{3}{2}}}\\right) + \\lambda_{v_z} \\left(\\frac{T \\hat{u}_z u}{m} - \\frac{\\mu z}{\\left(x^{2} + y^{2} + z^{2}\\right)^{\\frac{3}{2}}}\\right) + \\lambda_{x} v_{x} + \\lambda_{y} v_{y} + \\lambda_{z} v_{z} + u^{2} \\left(- \\beta + 1\\right) - \\frac{T \\lambda_{m} u}{I_{sp} g_{0}}$$"
      ],
      "text/plain": [
       "                                                 ⎛T⋅\\hat{u}ₓ⋅u         \\mu⋅x  \n",
       "\\beta⋅(\\alpha + u⋅(-\\alpha + 1)) + \\lambda_{v_x}⋅⎜──────────── - ─────────────\n",
       "                                                 ⎜     m                      \n",
       "                                                 ⎜               ⎛ 2    2    2\n",
       "                                                 ⎝               ⎝x  + y  + z \n",
       "\n",
       "    ⎞                 ⎛T⋅\\hat{u}_y⋅u         \\mu⋅y      ⎞                 ⎛T⋅\\\n",
       "────⎟ + \\lambda_{v_y}⋅⎜───────────── - ─────────────────⎟ + \\lambda_{v_z}⋅⎜───\n",
       " 3/2⎟                 ⎜      m                       3/2⎟                 ⎜   \n",
       "⎞   ⎟                 ⎜                ⎛ 2    2    2⎞   ⎟                 ⎜   \n",
       "⎠   ⎠                 ⎝                ⎝x  + y  + z ⎠   ⎠                 ⎝   \n",
       "\n",
       "hat{u}_z⋅u         \\mu⋅z      ⎞                                               \n",
       "────────── - ─────────────────⎟ + \\lambda_{x}⋅vₓ + \\lambda_{y}⋅v_y + \\lambda_{\n",
       "   m                       3/2⎟                                               \n",
       "             ⎛ 2    2    2⎞   ⎟                                               \n",
       "             ⎝x  + y  + z ⎠   ⎠                                               \n",
       "\n",
       "          2                T⋅\\lambda_{m}⋅u\n",
       "z}⋅v_z + u ⋅(-\\beta + 1) - ───────────────\n",
       "                              I_{sp}⋅g₀   \n",
       "                                          \n",
       "                                          "
      ]
     },
     "execution_count": 6,
     "metadata": {},
     "output_type": "execute_result"
    }
   ],
   "source": [
    "# Hamiltonian\n",
    "H = l.dot(ds) + L\n",
    "H"
   ]
  },
  {
   "cell_type": "code",
   "execution_count": 7,
   "metadata": {},
   "outputs": [
    {
     "data": {
      "text/latex": [
       "$$\\left[\\begin{matrix}- \\frac{\\lambda_{v_x}}{\\sqrt{\\lambda_{v_x}^{2} + \\lambda_{v_y}^{2} + \\lambda_{v_z}^{2}}}\\\\- \\frac{\\lambda_{v_y}}{\\sqrt{\\lambda_{v_x}^{2} + \\lambda_{v_y}^{2} + \\lambda_{v_z}^{2}}}\\\\- \\frac{\\lambda_{v_z}}{\\sqrt{\\lambda_{v_x}^{2} + \\lambda_{v_y}^{2} + \\lambda_{v_z}^{2}}}\\end{matrix}\\right]$$"
      ],
      "text/plain": [
       "⎡                   -\\lambda_{v_x}                    ⎤\n",
       "⎢─────────────────────────────────────────────────────⎥\n",
       "⎢   __________________________________________________⎥\n",
       "⎢  ╱              2                2                2 ⎥\n",
       "⎢╲╱  \\lambda_{v_x}  + \\lambda_{v_y}  + \\lambda_{v_z}  ⎥\n",
       "⎢                                                     ⎥\n",
       "⎢                   -\\lambda_{v_y}                    ⎥\n",
       "⎢─────────────────────────────────────────────────────⎥\n",
       "⎢   __________________________________________________⎥\n",
       "⎢  ╱              2                2                2 ⎥\n",
       "⎢╲╱  \\lambda_{v_x}  + \\lambda_{v_y}  + \\lambda_{v_z}  ⎥\n",
       "⎢                                                     ⎥\n",
       "⎢                   -\\lambda_{v_z}                    ⎥\n",
       "⎢─────────────────────────────────────────────────────⎥\n",
       "⎢   __________________________________________________⎥\n",
       "⎢  ╱              2                2                2 ⎥\n",
       "⎣╲╱  \\lambda_{v_x}  + \\lambda_{v_y}  + \\lambda_{v_z}  ⎦"
      ]
     },
     "execution_count": 7,
     "metadata": {},
     "output_type": "execute_result"
    }
   ],
   "source": [
    "# minimise Hamiltonian w.r.t. controls\n",
    "lv = Matrix(l[3:6])\n",
    "uhs = -lv/sqrt(sum([var**2 for var in lv]))\n",
    "simplify(uhs)"
   ]
  },
  {
   "cell_type": "code",
   "execution_count": 8,
   "metadata": {},
   "outputs": [
    {
     "data": {
      "image/png": "[encoded data removed]",
      "text/latex": [
       "$$\\frac{- I_{sp} T \\lambda_{v_x}^{2} g_{0} - I_{sp} T \\lambda_{v_y}^{2} g_{0} - I_{sp} T \\lambda_{v_z}^{2} g_{0} - I_{sp} \\alpha \\beta g_{0} m \\sqrt{\\lambda_{v_x}^{2} + \\lambda_{v_y}^{2} + \\lambda_{v_z}^{2}} + I_{sp} \\beta g_{0} m \\sqrt{\\lambda_{v_x}^{2} + \\lambda_{v_y}^{2} + \\lambda_{v_z}^{2}} - T \\lambda_{m} m \\sqrt{\\lambda_{v_x}^{2} + \\lambda_{v_y}^{2} + \\lambda_{v_z}^{2}}}{2 I_{sp} g_{0} m \\left(\\beta - 1\\right) \\sqrt{\\lambda_{v_x}^{2} + \\lambda_{v_y}^{2} + \\lambda_{v_z}^{2}}}$$"
      ],
      "text/plain": [
       "                                                                              \n",
       "                        2                            2                        \n",
       "- I_{sp}⋅T⋅\\lambda_{v_x} ⋅g₀ - I_{sp}⋅T⋅\\lambda_{v_y} ⋅g₀ - I_{sp}⋅T⋅\\lambda_{\n",
       "──────────────────────────────────────────────────────────────────────────────\n",
       "                                                                              \n",
       "                                                                              \n",
       "                                                                              \n",
       "\n",
       "                                       _______________________________________\n",
       "    2                                 ╱              2                2       \n",
       "v_z} ⋅g₀ - I_{sp}⋅\\alpha⋅\\beta⋅g₀⋅m⋅╲╱  \\lambda_{v_x}  + \\lambda_{v_y}  + \\lam\n",
       "──────────────────────────────────────────────────────────────────────────────\n",
       "                                                                    __________\n",
       "                                                                   ╱          \n",
       "                                       2⋅I_{sp}⋅g₀⋅m⋅(\\beta - 1)⋅╲╱  \\lambda_{\n",
       "\n",
       "___________                        ___________________________________________\n",
       "         2                        ╱              2                2           \n",
       "bda_{v_z}   + I_{sp}⋅\\beta⋅g₀⋅m⋅╲╱  \\lambda_{v_x}  + \\lambda_{v_y}  + \\lambda_\n",
       "──────────────────────────────────────────────────────────────────────────────\n",
       "________________________________________                                      \n",
       "    2                2                2                                       \n",
       "v_x}  + \\lambda_{v_y}  + \\lambda_{v_z}                                        \n",
       "\n",
       "_______                      _________________________________________________\n",
       "     2                      ╱              2                2                2\n",
       "{v_z}   - T⋅\\lambda_{m}⋅m⋅╲╱  \\lambda_{v_x}  + \\lambda_{v_y}  + \\lambda_{v_z} \n",
       "──────────────────────────────────────────────────────────────────────────────\n",
       "                                                                              \n",
       "                                                                              \n",
       "                                                                              \n",
       "\n",
       "_\n",
       " \n",
       " \n",
       "─\n",
       " \n",
       " \n",
       " "
      ]
     },
     "execution_count": 8,
     "metadata": {},
     "output_type": "execute_result"
    }
   ],
   "source": [
    "# new Hamiltonian\n",
    "H1 = H.subs(ux, uhs[0]).subs(uy, uhs[1]).subs(uz, uhs[2])\n",
    "ums = solve(H1.diff(um), um)[0]\n",
    "ums"
   ]
  },
  {
   "cell_type": "code",
   "execution_count": 9,
   "metadata": {},
   "outputs": [],
   "source": [
    "lv = symbols('\\lambda_v')"
   ]
  },
  {
   "cell_type": "code",
   "execution_count": 10,
   "metadata": {},
   "outputs": [
    {
     "data": {
      "image/png": "[encoded data removed]",
      "text/latex": [
       "$$\\tilde{\\infty} \\alpha + \\tilde{\\infty} \\lambda_{m} + \\frac{\\tilde{\\infty} \\lambda_{v_x}^{2}}{m \\sqrt{\\lambda_{v_x}^{2} + \\lambda_{v_y}^{2} + \\lambda_{v_z}^{2}}} + \\frac{\\tilde{\\infty} \\lambda_{v_y}^{2}}{m \\sqrt{\\lambda_{v_x}^{2} + \\lambda_{v_y}^{2} + \\lambda_{v_z}^{2}}} + \\frac{\\tilde{\\infty} \\lambda_{v_z}^{2}}{m \\sqrt{\\lambda_{v_x}^{2} + \\lambda_{v_y}^{2} + \\lambda_{v_z}^{2}}} + \\tilde{\\infty}$$"
      ],
      "text/plain": [
       "                                                                   2          \n",
       "                                                  zoo⋅\\lambda_{v_x}           \n",
       "zoo⋅\\alpha + zoo⋅\\lambda_{m} + ───────────────────────────────────────────────\n",
       "                                    __________________________________________\n",
       "                                   ╱              2                2          \n",
       "                               m⋅╲╱  \\lambda_{v_x}  + \\lambda_{v_y}  + \\lambda\n",
       "\n",
       "                                               2                              \n",
       "                              zoo⋅\\lambda_{v_y}                               \n",
       "──────── + ─────────────────────────────────────────────────────── + ─────────\n",
       "________        __________________________________________________        ____\n",
       "      2        ╱              2                2                2        ╱    \n",
       "_{v_z}     m⋅╲╱  \\lambda_{v_x}  + \\lambda_{v_y}  + \\lambda_{v_z}     m⋅╲╱  \\la\n",
       "\n",
       "                           2                        \n",
       "          zoo⋅\\lambda_{v_z}                         \n",
       "────────────────────────────────────────────── + zoo\n",
       "______________________________________________      \n",
       "          2                2                2       \n",
       "mbda_{v_x}  + \\lambda_{v_y}  + \\lambda_{v_z}        "
      ]
     },
     "execution_count": 10,
     "metadata": {},
     "output_type": "execute_result"
    }
   ],
   "source": [
    "ums.subs(beta, 1).simplify()"
   ]
  },
  {
   "cell_type": "markdown",
   "metadata": {},
   "source": [
    "$$\n",
    "\\frac{1}{2(1-\\beta)}\n",
    "\\left(\n",
    "\\frac{T \\left(\\pmb{\\lambda}_v \\cdot \\pmb{\\lambda}_v\\right)}{ \\lambda_v  m }\n",
    "+\n",
    "\\frac{T \\lambda_{m} }{ I_{sp}  g_{0} } +\n",
    "\\beta  \\left(\\alpha - 1\\right)\n",
    "\\right)\n",
    "$$"
   ]
  },
  {
   "cell_type": "code",
   "execution_count": 11,
   "metadata": {},
   "outputs": [
    {
     "data": {
      "image/png": "[encoded data removed]",
      "text/latex": [
       "$$\\frac{\\tilde{\\infty} \\left(\\lambda_{m} m \\sqrt{\\lambda_{v_x}^{2} + \\lambda_{v_y}^{2} + \\lambda_{v_z}^{2}} + \\lambda_{v_x}^{2} + \\lambda_{v_y}^{2} + \\lambda_{v_z}^{2} + m \\sqrt{\\lambda_{v_x}^{2} + \\lambda_{v_y}^{2} + \\lambda_{v_z}^{2}}\\right)}{m \\sqrt{\\lambda_{v_x}^{2} + \\lambda_{v_y}^{2} + \\lambda_{v_z}^{2}}}$$"
      ],
      "text/plain": [
       "    ⎛                 __________________________________________________      \n",
       "    ⎜                ╱              2                2                2       \n",
       "zoo⋅⎝\\lambda_{m}⋅m⋅╲╱  \\lambda_{v_x}  + \\lambda_{v_y}  + \\lambda_{v_z}   + \\la\n",
       "──────────────────────────────────────────────────────────────────────────────\n",
       "                                                                    __________\n",
       "                                                                   ╱          \n",
       "                                                               m⋅╲╱  \\lambda_{\n",
       "\n",
       "                                                     _________________________\n",
       "          2                2                2       ╱              2          \n",
       "mbda_{v_x}  + \\lambda_{v_y}  + \\lambda_{v_z}  + m⋅╲╱  \\lambda_{v_x}  + \\lambda\n",
       "──────────────────────────────────────────────────────────────────────────────\n",
       "________________________________________                                      \n",
       "    2                2                2                                       \n",
       "v_x}  + \\lambda_{v_y}  + \\lambda_{v_z}                                        \n",
       "\n",
       "_________________________⎞\n",
       "      2                2 ⎟\n",
       "_{v_y}  + \\lambda_{v_z}  ⎠\n",
       "──────────────────────────\n",
       "                          \n",
       "                          \n",
       "                          "
      ]
     },
     "execution_count": 11,
     "metadata": {},
     "output_type": "execute_result"
    }
   ],
   "source": [
    "ums.subs(beta, 1).subs(alpha, 0).simplify()"
   ]
  },
  {
   "cell_type": "code",
   "execution_count": 12,
   "metadata": {},
   "outputs": [
    {
     "data": {
      "image/png": "[encoded data removed]",
      "text/latex": [
       "$$- \\frac{I_{sp} T g_{0} \\left(\\lambda_{v_x}^{2} + \\lambda_{v_y}^{2} + \\lambda_{v_z}^{2}\\right) + I_{sp} \\beta g_{0} m \\left(\\alpha - 1\\right) \\sqrt{\\lambda_{v_x}^{2} + \\lambda_{v_y}^{2} + \\lambda_{v_z}^{2}} + T \\lambda_{m} m \\sqrt{\\lambda_{v_x}^{2} + \\lambda_{v_y}^{2} + \\lambda_{v_z}^{2}}}{2 I_{sp} g_{0} m \\left(\\beta - 1\\right) \\sqrt{\\lambda_{v_x}^{2} + \\lambda_{v_y}^{2} + \\lambda_{v_z}^{2}}}$$"
      ],
      "text/plain": [
       " ⎛                                                                            \n",
       " ⎜            ⎛             2                2                2⎞              \n",
       "-⎝I_{sp}⋅T⋅g₀⋅⎝\\lambda_{v_x}  + \\lambda_{v_y}  + \\lambda_{v_z} ⎠ + I_{sp}⋅\\bet\n",
       "──────────────────────────────────────────────────────────────────────────────\n",
       "                                                                              \n",
       "                                                                              \n",
       "                                                                         2⋅I_{\n",
       "\n",
       "                       __________________________________________________     \n",
       "                      ╱              2                2                2      \n",
       "a⋅g₀⋅m⋅(\\alpha - 1)⋅╲╱  \\lambda_{v_x}  + \\lambda_{v_y}  + \\lambda_{v_z}   + T⋅\n",
       "──────────────────────────────────────────────────────────────────────────────\n",
       "                        __________________________________________________    \n",
       "                       ╱              2                2                2     \n",
       "sp}⋅g₀⋅m⋅(\\beta - 1)⋅╲╱  \\lambda_{v_x}  + \\lambda_{v_y}  + \\lambda_{v_z}      \n",
       "\n",
       "                 __________________________________________________⎞ \n",
       "                ╱              2                2                2 ⎟ \n",
       "\\lambda_{m}⋅m⋅╲╱  \\lambda_{v_x}  + \\lambda_{v_y}  + \\lambda_{v_z}  ⎠ \n",
       "─────────────────────────────────────────────────────────────────────\n",
       "                                                                     \n",
       "                                                                     \n",
       "                                                                     "
      ]
     },
     "execution_count": 12,
     "metadata": {},
     "output_type": "execute_result"
    }
   ],
   "source": [
    "ums.simplify().collect(isp*T*g).collect(beta*isp*g*m).collect(sqrt(sum(var**2 for var in l[3:6]))).simplify()"
   ]
  },
  {
   "cell_type": "markdown",
   "metadata": {},
   "source": [
    "$$\n",
    "\\frac{\n",
    "    -I_{sp} T g_0 \\left( \\pmb{\\lambda}_v \\cdot \\pmb{\\lambda}_v \\right)\n",
    "    + \\lambda_v I_{sp} g_0 m \\beta (1- \\alpha)\n",
    "    - \\lambda_v \\lambda_m T m\n",
    "}{\n",
    "    2 \\lambda_v I_{sp} g_0 m (\\beta -1)\n",
    "}\n",
    "$$"
   ]
  },
  {
   "cell_type": "markdown",
   "metadata": {},
   "source": [
    "$$\n",
    "\\frac{1}{2(\\beta - 1)}\n",
    "\\left(\n",
    "\\beta (1- \\alpha)\n",
    "-\n",
    "\\frac{\n",
    "    T \\left( \\pmb{\\lambda}_v \\cdot \\pmb{\\lambda}_v \\right)\n",
    "}{\n",
    "    \\lambda_v  m \n",
    "} \n",
    "-\n",
    "\\frac{\n",
    "      \\lambda_m T \n",
    "}{\n",
    "      I_{sp} g_0 \n",
    "}\n",
    "\\right)\n",
    "$$"
   ]
  },
  {
   "cell_type": "markdown",
   "metadata": {},
   "source": [
    "$$\n",
    "\\frac{\n",
    "    -I_{sp} T g_0 \\left( \\pmb{\\lambda}_v \\cdot \\pmb{\\lambda}_v \\right)\n",
    "    + \\lambda_v I_{sp} g_0 m \\left( 1 - \\alpha \\right)\n",
    "    - T \\lambda_m m \\lambda_v\n",
    "}{\n",
    "    m \\lambda_v\n",
    "}\n",
    "$$"
   ]
  },
  {
   "cell_type": "code",
   "execution_count": 13,
   "metadata": {},
   "outputs": [],
   "source": [
    "us = Matrix([[ums], uhs])"
   ]
  },
  {
   "cell_type": "code",
   "execution_count": null,
   "metadata": {},
   "outputs": [],
   "source": []
  },
  {
   "cell_type": "code",
   "execution_count": null,
   "metadata": {
    "scrolled": false
   },
   "outputs": [],
   "source": [
    "# costate equations of motion\n",
    "dl = -H.diff(s)\n",
    "dl"
   ]
  },
  {
   "cell_type": "code",
   "execution_count": null,
   "metadata": {},
   "outputs": [],
   "source": [
    "Matrix([\n",
    "    ums.subs(alpha, 0).subs(beta, 0),\n",
    "    ums.subs(alpha, 0).subs(beta, 1),\n",
    "    ums.subs(alpha, 1).subs(beta, 0),\n",
    "    ums.subs(alpha, 1).subs(beta, 1),\n",
    "    ums.subs(alpha, 0),\n",
    "    ums.subs(alpha, 1),\n",
    "    ums.subs(beta, 0),\n",
    "    ums.subs(beta, 1),\n",
    "    ums\n",
    "])"
   ]
  },
  {
   "cell_type": "code",
   "execution_count": null,
   "metadata": {},
   "outputs": [],
   "source": [
    "tangent = Matrix([\n",
    "    (-mu/(p.norm()**3))*p,\n",
    "    v\n",
    "])\n",
    "tangent = tangent/tangent.norm()\n",
    "l[:-1, :].dot(tangent).simplify().collect()"
   ]
  },
  {
   "cell_type": "code",
   "execution_count": null,
   "metadata": {},
   "outputs": [],
   "source": [
    "# regular optimal control\n",
    "ums.subs(beta, 1).simplify().subs(sqrt(sum([var**2 for var in l[3:6]])), '\\lambda_v')"
   ]
  },
  {
   "cell_type": "markdown",
   "metadata": {},
   "source": [
    "$$\n",
    "\\frac{\\pmb{\\lambda}_v \\cdot \\pmb{\\lambda}_v}{\\lambda_v m} + \\lambda_m + 1 + \\alpha\n",
    "$$"
   ]
  },
  {
   "cell_type": "code",
   "execution_count": null,
   "metadata": {},
   "outputs": [],
   "source": [
    "# effort optimal control\n",
    "ums.subs(beta, 1).subs(alpha, 0).simplify().subs(sqrt(sum([var**2 for var in l[3:6]])), '\\lambda_v')"
   ]
  },
  {
   "cell_type": "markdown",
   "metadata": {},
   "source": [
    "$$\n",
    "\\frac{\\pmb{\\lambda}_v \\cdot \\pmb{\\lambda}_v}{\\lambda_v m}\n",
    "+\n",
    "\\lambda_m\n",
    "+\n",
    "1\n",
    "$$"
   ]
  },
  {
   "cell_type": "code",
   "execution_count": null,
   "metadata": {},
   "outputs": [],
   "source": [
    "# time optimal control\n",
    "ums.subs(beta, 1).subs(alpha, 1).simplify().subs(sqrt(sum([var**2 for var in l[3:6]])), '\\lambda_v')"
   ]
  },
  {
   "cell_type": "code",
   "execution_count": null,
   "metadata": {},
   "outputs": [],
   "source": [
    "# effort or time optimal control"
   ]
  },
  {
   "cell_type": "markdown",
   "metadata": {},
   "source": [
    "$$\n",
    "\\frac{\\pmb{\\lambda}_v \\cdot \\pmb{\\lambda}_v}{\\lambda_v m}\n",
    "+\n",
    "\\lambda_m\n",
    "$$"
   ]
  },
  {
   "cell_type": "markdown",
   "metadata": {},
   "source": [
    "$$\n",
    "\\frac{\\mu}{r^3} \\pmb{\\lambda}_v - \\frac{3\\mu}{r^5}\\left( \\pmb{\\lambda}_v \\cdot \\pmb{r} \\right)\n",
    "$$"
   ]
  },
  {
   "cell_type": "markdown",
   "metadata": {},
   "source": [
    "tangent"
   ]
  },
  {
   "cell_type": "markdown",
   "metadata": {},
   "source": [
    "## Base trajectory"
   ]
  },
  {
   "cell_type": "code",
   "execution_count": 14,
   "metadata": {},
   "outputs": [
    {
     "name": "stdout",
     "output_type": "stream",
     "text": [
      "Using matplotlib backend: TkAgg\n"
     ]
    }
   ],
   "source": [
    "import sys, numpy as np, matplotlib.pyplot as plt, pygmo as pg, pykep as pk\n",
    "sys.path.append('../src/')\n",
    "from spacecraft import Spacecraft\n",
    "from indirect import Indirect\n",
    "%matplotlib"
   ]
  },
  {
   "cell_type": "code",
   "execution_count": 15,
   "metadata": {},
   "outputs": [],
   "source": [
    "# instantiate problem\n",
    "seg = Spacecraft(T=0.2, isp=2500, m=1000)"
   ]
  },
  {
   "cell_type": "code",
   "execution_count": 16,
   "metadata": {},
   "outputs": [],
   "source": [
    "# initial state\n",
    "s0 = np.hstack((*pk.planet.jpl_lp('earth').eph(pk.epoch(0)), seg.M))\n",
    "\n",
    "# homotopy parameters\n",
    "alpha = 0\n",
    "seg.beta = 0\n",
    "\n",
    "# duration bounds in days\n",
    "Tlb = 100\n",
    "Tub = 500\n",
    "\n",
    "# costates bounds\n",
    "lb = 50\n",
    "\n",
    "# decision vector guess\n",
    "zg = [379.20912013,   0.93398202,  12.76567896, -45.55493263,  -8.26940351, 49.99989562, 3.00127225, -8.58992837, 8.32972382]"
   ]
  },
  {
   "cell_type": "code",
   "execution_count": 17,
   "metadata": {},
   "outputs": [],
   "source": [
    "# solve single trajectory\n",
    "z, f, feas = seg.solve(s0, alpha, Tlb, Tub, lb, z=zg)\n",
    "\n",
    "# solve multiple candidate trajectories in parallel\n",
    "#zl, fl, feasl = seg.solve_par(s0, alpha, 200, 450, 50, npar=1000)"
   ]
  },
  {
   "cell_type": "code",
   "execution_count": 18,
   "metadata": {},
   "outputs": [
    {
     "name": "stderr",
     "output_type": "stream",
     "text": [
      "'c' argument looks like a single numeric RGB or RGBA sequence, which should be avoided as value-mapping will have precedence in case its length matches with 'x' & 'y'.  Please use a 2-D array with a single row if you really want to specify the same RGB or RGBA value for all points.\n",
      "'c' argument looks like a single numeric RGB or RGBA sequence, which should be avoided as value-mapping will have precedence in case its length matches with 'x' & 'y'.  Please use a 2-D array with a single row if you really want to specify the same RGB or RGBA value for all points.\n",
      "/usr/local/lib/python3.6/dist-packages/matplotlib/cbook/__init__.py:424: MatplotlibDeprecationWarning: \n",
      "Passing one of 'on', 'true', 'off', 'false' as a boolean is deprecated; use an actual boolean (True/False) instead.\n",
      "  warn_deprecated(\"2.2\", \"Passing one of 'on', 'true', 'off', 'false' as a \"\n"
     ]
    },
    {
     "data": {
      "image/png": "[encoded data removed]",
      "text/plain": [
       "<Figure size 432x288 with 1 Axes>"
      ]
     },
     "metadata": {
      "needs_background": "light"
     },
     "output_type": "display_data"
    }
   ],
   "source": [
    "# plot trajectory\n",
    "tl, sl, ul = seg.propagate(z[0], s0, z[2:], alpha, u=True)\n",
    "ax = seg.plot_traj(sl, alpha=1)\n",
    "plt.show()"
   ]
  },
  {
   "cell_type": "markdown",
   "metadata": {},
   "source": [
    "# Policy homotopy in $\\beta \\times [0, 1] : \\alpha = 0$"
   ]
  },
  {
   "cell_type": "code",
   "execution_count": 19,
   "metadata": {},
   "outputs": [],
   "source": [
    "# homotopy\n",
    "alpha = 0\n",
    "beta = 0\n",
    "betag = 0.999\n",
    "#T = seg.homotopy_beta(s0, alpha, beta, Tlb, Tub, lb, z, betag, step=0.1, verbose=True)\n",
    "Ta0 = np.load('spacecraft_z_beta_homotopy_alpha_0.npy'); alpha = 0"
   ]
  },
  {
   "cell_type": "code",
   "execution_count": 20,
   "metadata": {},
   "outputs": [
    {
     "name": "stderr",
     "output_type": "stream",
     "text": [
      "'c' argument looks like a single numeric RGB or RGBA sequence, which should be avoided as value-mapping will have precedence in case its length matches with 'x' & 'y'.  Please use a 2-D array with a single row if you really want to specify the same RGB or RGBA value for all points.\n",
      "'c' argument looks like a single numeric RGB or RGBA sequence, which should be avoided as value-mapping will have precedence in case its length matches with 'x' & 'y'.  Please use a 2-D array with a single row if you really want to specify the same RGB or RGBA value for all points.\n"
     ]
    },
    {
     "data": {
      "text/plain": [
       "<Figure size 432x288 with 0 Axes>"
      ]
     },
     "metadata": {},
     "output_type": "display_data"
    },
    {
     "data": {
      "image/png": "[encoded data removed]",
      "text/plain": [
       "<Figure size 432x288 with 1 Axes>"
      ]
     },
     "metadata": {
      "needs_background": "light"
     },
     "output_type": "display_data"
    }
   ],
   "source": [
    "# plot homotopy\n",
    "fig = plt.figure()\n",
    "for i, t in enumerate(Ta0):\n",
    "    z = t[0]\n",
    "    tf = z[0]\n",
    "    l0 = z[2:]\n",
    "    seg.beta = t[1]\n",
    "    tl, sl, ul = seg.propagate(tf, s0, l0, alpha, u=True)\n",
    "    if i == 0:\n",
    "        fig, ax = seg.plot_traj(sl, alpha=1, mark=\"k-\")\n",
    "    elif i == len(Ta0) - 1:\n",
    "        seg.plot_traj(sl, alpha=1, mark=\"k--\", ax=ax)\n",
    "    else:\n",
    "        seg.plot_traj(sl, ax=ax)\n",
    "plt.show()"
   ]
  },
  {
   "cell_type": "markdown",
   "metadata": {},
   "source": [
    "# Policy homotopy in $\\beta \\times [0, 1] : \\alpha = 1$"
   ]
  },
  {
   "cell_type": "code",
   "execution_count": 21,
   "metadata": {},
   "outputs": [],
   "source": [
    "# homotopy\n",
    "alpha = 1\n",
    "beta = 0\n",
    "betag = 0.999\n",
    "#T = seg.homotopy_beta(s0, alpha, beta, Tlb, Tub, lb, z, betag, step=0.1, verbose=True)\n",
    "Ta1 = np.load('spacecraft_z_beta_homotopy_alpha_1.npy'); alpha = 1"
   ]
  },
  {
   "cell_type": "code",
   "execution_count": 22,
   "metadata": {},
   "outputs": [
    {
     "name": "stderr",
     "output_type": "stream",
     "text": [
      "'c' argument looks like a single numeric RGB or RGBA sequence, which should be avoided as value-mapping will have precedence in case its length matches with 'x' & 'y'.  Please use a 2-D array with a single row if you really want to specify the same RGB or RGBA value for all points.\n",
      "'c' argument looks like a single numeric RGB or RGBA sequence, which should be avoided as value-mapping will have precedence in case its length matches with 'x' & 'y'.  Please use a 2-D array with a single row if you really want to specify the same RGB or RGBA value for all points.\n"
     ]
    },
    {
     "data": {
      "image/png": "[encoded data removed]",
      "text/plain": [
       "<Figure size 432x288 with 1 Axes>"
      ]
     },
     "metadata": {
      "needs_background": "light"
     },
     "output_type": "display_data"
    }
   ],
   "source": [
    "# plot homotopy\n",
    "for i, t in enumerate(Ta1):\n",
    "    z = t[0]\n",
    "    tf = z[0]\n",
    "    l0 = z[2:]\n",
    "    seg.beta = t[1]\n",
    "    tl, sl, ul = seg.propagate(tf, s0, l0, alpha, u=True)\n",
    "    if i == 0:\n",
    "        fig, ax = seg.plot_traj(sl, alpha=1, mark=\"k-\")\n",
    "    elif i == len(Ta1) - 1:\n",
    "        seg.plot_traj(sl, alpha=1, mark=\"k--\", ax=ax)\n",
    "    else:\n",
    "        seg.plot_traj(sl, ax=ax)\n",
    "ax1 = ax\n",
    "plt.show()"
   ]
  },
  {
   "cell_type": "markdown",
   "metadata": {},
   "source": [
    "# Policy homotopy in $\\alpha \\times [0, 1] : \\beta = 1$"
   ]
  },
  {
   "cell_type": "code",
   "execution_count": 23,
   "metadata": {},
   "outputs": [],
   "source": [
    "# homotopy\n",
    "alpha = 0\n",
    "alphag = 1\n",
    "seg.beta = 0.99999\n",
    "z = Ta0[-1][0]\n",
    "#Tb1 = seg.homotopy(s0, alpha, Tlb, Tub, lb, z, alphag, step=0.1, verbose=False)\n",
    "Tb1 = np.load('spacecraft_z_alpha_homotopy_beta_1.npy')"
   ]
  },
  {
   "cell_type": "code",
   "execution_count": 24,
   "metadata": {},
   "outputs": [
    {
     "name": "stderr",
     "output_type": "stream",
     "text": [
      "'c' argument looks like a single numeric RGB or RGBA sequence, which should be avoided as value-mapping will have precedence in case its length matches with 'x' & 'y'.  Please use a 2-D array with a single row if you really want to specify the same RGB or RGBA value for all points.\n",
      "'c' argument looks like a single numeric RGB or RGBA sequence, which should be avoided as value-mapping will have precedence in case its length matches with 'x' & 'y'.  Please use a 2-D array with a single row if you really want to specify the same RGB or RGBA value for all points.\n"
     ]
    },
    {
     "data": {
      "image/png": "[encoded data removed]",
      "text/plain": [
       "<Figure size 432x288 with 1 Axes>"
      ]
     },
     "metadata": {
      "needs_background": "light"
     },
     "output_type": "display_data"
    }
   ],
   "source": [
    "# plot homotopy\n",
    "for i, t in enumerate(Tb1):\n",
    "    z = t[0]\n",
    "    tf = z[0]\n",
    "    l0 = z[2:]\n",
    "    alpha = t[1]\n",
    "    tl, sl, ul = seg.propagate(tf, s0, l0, alpha, u=True)\n",
    "    if i == 0:\n",
    "        fig, ax = seg.plot_traj(sl, alpha=1, mark=\"k-\")\n",
    "    elif i == len(Tb1) - 1:\n",
    "        seg.plot_traj(sl, alpha=1, mark=\"k--\", ax=ax)\n",
    "    else:\n",
    "        seg.plot_traj(sl, ax=ax)\n",
    "ax2 = ax\n",
    "plt.show()"
   ]
  },
  {
   "cell_type": "markdown",
   "metadata": {},
   "source": [
    "## Comparing policy homotopies"
   ]
  },
  {
   "cell_type": "code",
   "execution_count": 26,
   "metadata": {},
   "outputs": [
    {
     "data": {
      "image/png": "[encoded data removed]",
      "text/plain": [
       "<Figure size 432x288 with 3 Axes>"
      ]
     },
     "metadata": {
      "needs_background": "light"
     },
     "output_type": "display_data"
    }
   ],
   "source": [
    "# figure\n",
    "fig, ax = plt.subplots(3, sharex=True)\n",
    "\n",
    "alpha = 0\n",
    "for i, sol in enumerate(Ta0):\n",
    "    \n",
    "    # decision vector\n",
    "    z = sol[0]\n",
    "    \n",
    "    # beta homotopy parameter\n",
    "    seg.beta = sol[1]\n",
    "    \n",
    "    # simulate\n",
    "    if i == len(Ta0) - 1:\n",
    "        seg.beta = 0.99999999999\n",
    "        tl, sl, ul = seg.propagate(z[0], s0, z[2:], alpha, u=True)\n",
    "    else:\n",
    "        tl, sl, ul = seg.propagate(z[0], s0, z[2:], alpha, u=True)\n",
    "    \n",
    "    # plot trajectory\n",
    "    if i == 0:\n",
    "        ax[alpha].plot(tl, ul[:,0], \"k-\", label=r'$\\alpha = {}, \\beta=0$'.format(alpha))\n",
    "    elif i == len(Ta0) - 1:\n",
    "        ax[alpha].plot(tl, ul[:,0], \"k--\", label=r'$\\alpha = {}, \\beta=1$'.format(alpha))\n",
    "    else:\n",
    "        ax[alpha].plot(tl, ul[:,0], \"k-\", alpha=0.1)\n",
    "    \n",
    "alpha = 1\n",
    "for i, sol in enumerate(Ta1):\n",
    "    \n",
    "    # decision vector\n",
    "    z = sol[0]\n",
    "    \n",
    "    # beta homotopy parameter\n",
    "    seg.beta = sol[1]\n",
    "    \n",
    "    # simulate\n",
    "    if i == len(Ta1) - 1:\n",
    "        seg.beta = 0.99999999999\n",
    "        tl, sl, ul = seg.propagate(z[0], s0, z[2:], alpha, u=True)\n",
    "    else:\n",
    "        tl, sl, ul = seg.propagate(z[0], s0, z[2:], alpha, u=True)\n",
    "    \n",
    "    # plot trajectory\n",
    "    if i == 0:\n",
    "        ax[alpha].plot(tl, ul[:,0], \"k-\", label=r'$\\alpha = {}, \\beta=0$'.format(alpha))\n",
    "    elif i == len(Ta1) - 1:\n",
    "        ax[alpha].plot(tl, ul[:,0], \"k--\", label=r'$\\alpha = {}, \\beta=1$'.format(alpha))\n",
    "    else:\n",
    "        ax[alpha].plot(tl, ul[:,0], \"k-\", alpha=0.1)\n",
    "        \n",
    "seg.beta = 0.999999999\n",
    "for i, sol in enumerate(Tb1):\n",
    "    \n",
    "    # decision vector\n",
    "    z = sol[0]\n",
    "    \n",
    "    # beta homotopy parameter\n",
    "    alpha = sol[1]\n",
    "    \n",
    "    # simulate\n",
    "    tl, sl, ul = seg.propagate(z[0], s0, z[2:], alpha, u=True)\n",
    "    \n",
    "    # plot trajectory\n",
    "    if i == 0:\n",
    "        ax[2].plot(tl, ul[:,0], \"k-\", label=r'$\\alpha = {}, \\beta=1$'.format(alpha))\n",
    "    elif i == len(Tb1) - 1:\n",
    "        ax[2].plot(tl, ul[:,0], \"k--\", label=r'$\\alpha = {}, \\beta=1$'.format(alpha))\n",
    "    else:\n",
    "        ax[2].plot(tl, ul[:,0], \"k-\", alpha=0.1)\n",
    "    \n",
    "\n",
    "ax[2].set_xlabel(r'$t$')\n",
    "ax[0].set_ylabel(r'$u$')\n",
    "ax[1].set_ylabel(r'$u$')\n",
    "ax[2].set_ylabel(r'$u$')\n",
    "ax[0].legend(loc='lower left')\n",
    "ax[1].legend(loc='lower left')\n",
    "ax[2].legend(loc='lower left')\n",
    "ax[0].set_ylim(-0.05, 1.05)\n",
    "ax[1].set_ylim(-0.05, 1.05)\n",
    "ax[2].set_ylim(-0.05, 1.05)\n",
    "\n",
    "fig.tight_layout()\n",
    "#fig.savefig('spacecraft_u_full_homotopy.pdf', bbox_inches='tight')\n",
    "plt.show()"
   ]
  },
  {
   "cell_type": "markdown",
   "metadata": {},
   "source": [
    "## Random walks at $\\beta = 0$"
   ]
  },
  {
   "cell_type": "code",
   "execution_count": 27,
   "metadata": {},
   "outputs": [],
   "source": [
    "# decision vector and homotopy parameter\n",
    "z, seg.beta = Ta0[0]\n",
    "alpha = 0\n",
    "\n",
    "# number of serial perturbations per walk\n",
    "n = 1\n",
    "\n",
    "# number of walks\n",
    "nw = 8"
   ]
  },
  {
   "cell_type": "code",
   "execution_count": null,
   "metadata": {},
   "outputs": [],
   "source": [
    "# random walks in parallel\n",
    "T = seg.random_walk_par(s0, z, alpha, n, Tlb, Tub, lb, nw, dsm=0.001, verbose=True)"
   ]
  },
  {
   "cell_type": "code",
   "execution_count": 28,
   "metadata": {},
   "outputs": [
    {
     "ename": "TypeError",
     "evalue": "'Symbol' object is not iterable",
     "output_type": "error",
     "traceback": [
      "\u001b[0;31m---------------------------------------------------------------------------\u001b[0m",
      "\u001b[0;31mTypeError\u001b[0m                                 Traceback (most recent call last)",
      "\u001b[0;32m<ipython-input-28-aacb4cbac7a3>\u001b[0m in \u001b[0;36m<module>\u001b[0;34m\u001b[0m\n\u001b[1;32m      1\u001b[0m \u001b[0;31m# plot random walks\u001b[0m\u001b[0;34m\u001b[0m\u001b[0;34m\u001b[0m\u001b[0;34m\u001b[0m\u001b[0m\n\u001b[0;32m----> 2\u001b[0;31m \u001b[0;32mfor\u001b[0m \u001b[0mi\u001b[0m\u001b[0;34m,\u001b[0m \u001b[0mt\u001b[0m \u001b[0;32min\u001b[0m \u001b[0menumerate\u001b[0m\u001b[0;34m(\u001b[0m\u001b[0mT\u001b[0m\u001b[0;34m)\u001b[0m\u001b[0;34m:\u001b[0m\u001b[0;34m\u001b[0m\u001b[0;34m\u001b[0m\u001b[0m\n\u001b[0m\u001b[1;32m      3\u001b[0m     \u001b[0ms0\u001b[0m \u001b[0;34m=\u001b[0m \u001b[0mt\u001b[0m\u001b[0;34m[\u001b[0m\u001b[0;36m0\u001b[0m\u001b[0;34m]\u001b[0m\u001b[0;34m\u001b[0m\u001b[0;34m\u001b[0m\u001b[0m\n\u001b[1;32m      4\u001b[0m     \u001b[0mz\u001b[0m \u001b[0;34m=\u001b[0m \u001b[0mt\u001b[0m\u001b[0;34m[\u001b[0m\u001b[0;36m1\u001b[0m\u001b[0;34m]\u001b[0m\u001b[0;34m\u001b[0m\u001b[0;34m\u001b[0m\u001b[0m\n\u001b[1;32m      5\u001b[0m     \u001b[0mtf\u001b[0m \u001b[0;34m=\u001b[0m \u001b[0mz\u001b[0m\u001b[0;34m[\u001b[0m\u001b[0;36m0\u001b[0m\u001b[0;34m]\u001b[0m\u001b[0;34m\u001b[0m\u001b[0;34m\u001b[0m\u001b[0m\n",
      "\u001b[0;31mTypeError\u001b[0m: 'Symbol' object is not iterable"
     ]
    }
   ],
   "source": [
    "# plot random walks\n",
    "for i, t in enumerate(T):\n",
    "    s0 = t[0]\n",
    "    z = t[1]\n",
    "    tf = z[0]\n",
    "    l0 = z[2:]\n",
    "    tl, sl, ul = seg.propagate(tf, s0, l0, alpha, u=True)\n",
    "    if i == 0:\n",
    "        fig, ax = seg.plot_traj(sl, alpha=1, mark=\"k-\")\n",
    "        ax.set_aspect('equal')\n",
    "    else:\n",
    "        seg.plot_traj(sl, ax=ax, alpha=0.5)\n",
    "plt.show()"
   ]
  },
  {
   "cell_type": "markdown",
   "metadata": {},
   "source": [
    "## Database homotopy $\\beta \\times [0, 1], \\alpha = 0$"
   ]
  },
  {
   "cell_type": "code",
   "execution_count": 29,
   "metadata": {},
   "outputs": [],
   "source": [
    "#res = seg.homotopy_db_beta(T, alpha, beta, Tlb, Tub, lb, betag, step=0.1)\n",
    "res = np.load('spacecraft_db_beta_homotopy_a0.npy')"
   ]
  },
  {
   "cell_type": "code",
   "execution_count": 30,
   "metadata": {},
   "outputs": [],
   "source": [
    "#np.save('spacecraft_db_beta_homotopy_a0.npy', res)"
   ]
  },
  {
   "cell_type": "code",
   "execution_count": 31,
   "metadata": {},
   "outputs": [
    {
     "name": "stderr",
     "output_type": "stream",
     "text": [
      "'c' argument looks like a single numeric RGB or RGBA sequence, which should be avoided as value-mapping will have precedence in case its length matches with 'x' & 'y'.  Please use a 2-D array with a single row if you really want to specify the same RGB or RGBA value for all points.\n",
      "'c' argument looks like a single numeric RGB or RGBA sequence, which should be avoided as value-mapping will have precedence in case its length matches with 'x' & 'y'.  Please use a 2-D array with a single row if you really want to specify the same RGB or RGBA value for all points.\n"
     ]
    },
    {
     "data": {
      "image/png": "[encoded data removed]",
      "text/plain": [
       "<Figure size 432x288 with 1 Axes>"
      ]
     },
     "metadata": {
      "needs_background": "light"
     },
     "output_type": "display_data"
    }
   ],
   "source": [
    "# plot database homotopy\n",
    "alpha = 0\n",
    "for i, r in enumerate(res):\n",
    "    s0, z, seg.beta = r\n",
    "    tf = z[0]\n",
    "    l0 = z[2:]\n",
    "    tl, sl, ul = seg.propagate(tf, s0, l0, alpha, u=True)\n",
    "    if i == 0:\n",
    "        fig, ax = seg.plot_traj(sl, alpha=0.1)\n",
    "        ax.set_aspect('equal')\n",
    "    else:\n",
    "        seg.plot_traj(sl, ax=ax, alpha=0.1)\n",
    "plt.show()"
   ]
  },
  {
   "cell_type": "markdown",
   "metadata": {},
   "source": [
    "## Database homotopy $\\alpha \\times [0, 1], \\beta = 1$"
   ]
  },
  {
   "cell_type": "code",
   "execution_count": 32,
   "metadata": {},
   "outputs": [],
   "source": [
    "# get effort optimal trajectories\n",
    "s0zl = res[np.argwhere(res[:,2] >= 0.999).flatten(), :2]\n",
    "alpha = 0\n",
    "alphag = 1\n",
    "seg.beta == 0.99999\n",
    "#T = seg.homotopy_db(s0zl, alpha, Tlb, Tub, lb, alphag, step=0.01)\n",
    "T = np.load('spacecraft_db_alpha_homotopy_beta_1.npy')"
   ]
  },
  {
   "cell_type": "code",
   "execution_count": 33,
   "metadata": {},
   "outputs": [],
   "source": [
    "#np.save('spacecraft_db_alpha_homotopy_beta_1.npy', T)"
   ]
  },
  {
   "cell_type": "code",
   "execution_count": 34,
   "metadata": {},
   "outputs": [
    {
     "name": "stderr",
     "output_type": "stream",
     "text": [
      "'c' argument looks like a single numeric RGB or RGBA sequence, which should be avoided as value-mapping will have precedence in case its length matches with 'x' & 'y'.  Please use a 2-D array with a single row if you really want to specify the same RGB or RGBA value for all points.\n",
      "'c' argument looks like a single numeric RGB or RGBA sequence, which should be avoided as value-mapping will have precedence in case its length matches with 'x' & 'y'.  Please use a 2-D array with a single row if you really want to specify the same RGB or RGBA value for all points.\n"
     ]
    },
    {
     "data": {
      "image/png": "[encoded data removed]",
      "text/plain": [
       "<Figure size 432x288 with 1 Axes>"
      ]
     },
     "metadata": {
      "needs_background": "light"
     },
     "output_type": "display_data"
    },
    {
     "data": {
      "image/png": "[encoded data removed]",
      "text/plain": [
       "<Figure size 432x288 with 1 Axes>"
      ]
     },
     "metadata": {
      "needs_background": "light"
     },
     "output_type": "display_data"
    }
   ],
   "source": [
    "# plot database homotopy\n",
    "fig1, ax1 = plt.subplots(1)\n",
    "for i, r in enumerate(T):\n",
    "    s0, z, alpha = r\n",
    "    tf = z[0]\n",
    "    l0 = z[2:]\n",
    "    tl, sl, ul = seg.propagate(tf, s0, l0, alpha, u=True)\n",
    "    ax1.plot(tl, ul[:,0], \"k-\", alpha=0.01)\n",
    "    if i == 0:\n",
    "        fig, ax = seg.plot_traj(sl, alpha=0.01)\n",
    "        ax.set_aspect('equal')\n",
    "    else:\n",
    "        seg.plot_traj(sl, ax=ax, alpha=0.01)\n",
    "        \n",
    "#fig.savefig('spacecraft_s_alpha_homotopy_db.pdf', bbox_inches='tight')\n",
    "plt.show()"
   ]
  },
  {
   "cell_type": "markdown",
   "metadata": {},
   "source": [
    "## Training a neural network"
   ]
  },
  {
   "cell_type": "code",
   "execution_count": 35,
   "metadata": {},
   "outputs": [],
   "source": [
    "from ann import *"
   ]
  },
  {
   "cell_type": "code",
   "execution_count": 42,
   "metadata": {},
   "outputs": [],
   "source": [
    "# assemble database\n",
    "#db = seg.gen_db(T, cat=True)\n",
    "db = np.load('spacecraft_db.npy')\n",
    "db = db[np.hstack((np.argwhere(db[:,8] == 1).flatten(), np.argwhere(db[:,8] == 0).flatten())), :]"
   ]
  },
  {
   "cell_type": "code",
   "execution_count": 37,
   "metadata": {},
   "outputs": [
    {
     "name": "stderr",
     "output_type": "stream",
     "text": [
      "/usr/local/lib/python3.6/dist-packages/scipy/integrate/_ivp/common.py:38: UserWarning: `rtol` is too low, setting to 2.220446049250313e-14\n",
      "  warn(\"`rtol` is too low, setting to {}\".format(100 * EPS))\n"
     ]
    }
   ],
   "source": [
    "Tb1 = np.load('spacecraft_z_alpha_homotopy_beta_1.npy'); seg.beta = 0.9999\n",
    "db = list()\n",
    "for r in Tb1:\n",
    "    z, alpha = r\n",
    "    tl, sl, ul = seg.propagate(z[0], s0, z[2:], alpha, u=True, atol=1e-14, rtol=1e-14)\n",
    "    d = np.hstack((\n",
    "        sl[:, :seg.sdim],\n",
    "        np.full((len(sl), 1), alpha),\n",
    "        ul.reshape(-1, seg.udim)\n",
    "    ))\n",
    "    db.append(d)\n",
    "db = np.vstack(db)\n",
    "db = db[np.hstack((np.argwhere(db[:,8] == 1).flatten(), np.argwhere(db[:,8] == 0).flatten())), :]"
   ]
  },
  {
   "cell_type": "code",
   "execution_count": null,
   "metadata": {},
   "outputs": [],
   "source": [
    "#np.save('spacecraft_db.npy', db)"
   ]
  },
  {
   "cell_type": "code",
   "execution_count": 43,
   "metadata": {},
   "outputs": [],
   "source": [
    "# get data ready for training \n",
    "#db = Data(db, [0, 1, 2, 3, 4, 5, 6, 7], [8, 9, 10, 11])\n",
    "db = Data(db, [0, 1, 2, 3, 4, 5, 6, 7], [8])"
   ]
  },
  {
   "cell_type": "code",
   "execution_count": 44,
   "metadata": {},
   "outputs": [],
   "source": [
    "# instantiate the neural network\n",
    "#mlp = Spacecraft_Controller([seg.sdim + 1, 20, 20, 20, 20, 20, 20, 4])\n",
    "mlp = Spacecraft_Throttle_Controller([seg.sdim + 1, 20, 20, 1])"
   ]
  },
  {
   "cell_type": "code",
   "execution_count": 45,
   "metadata": {},
   "outputs": [
    {
     "name": "stdout",
     "output_type": "stream",
     "text": [
      "Episode 0; Testing Loss 0.1849045268993733; Training Loss 0.18523875953513622\n",
      "Episode 1; Testing Loss 0.18025235908099668; Training Loss 0.1806162817487865\n",
      "Episode 2; Testing Loss 0.1760882603847477; Training Loss 0.17648062140613607\n",
      "Episode 3; Testing Loss 0.17240248062000862; Training Loss 0.17282196444277714\n",
      "Episode 4; Testing Loss 0.16917892582536526; Training Loss 0.1696241599316657\n",
      "Episode 5; Testing Loss 0.16639530399713973; Training Loss 0.16686487498652022\n",
      "Episode 6; Testing Loss 0.16402360634129817; Training Loss 0.16451607058095644\n",
      "Episode 7; Testing Loss 0.1620309032642127; Training Loss 0.1625447962711131\n",
      "Episode 8; Testing Loss 0.16038042698780994; Training Loss 0.16091427235188416\n",
      "Episode 9; Testing Loss 0.1590328304019329; Training Loss 0.15958514884165895\n",
      "Episode 10; Testing Loss 0.1579475730649265; Training Loss 0.15851689217209414\n",
      "Episode 11; Testing Loss 0.15708436692616787; Training Loss 0.15766923163091076\n",
      "Episode 12; Testing Loss 0.15640452020789883; Training Loss 0.15700350352395623\n",
      "Episode 13; Testing Loss 0.15587201396636802; Training Loss 0.15648372730574212\n",
      "Episode 14; Testing Loss 0.15545424064653052; Training Loss 0.1560773430256951\n",
      "Episode 15; Testing Loss 0.15512242191295486; Training Loss 0.15575562764200415\n",
      "Episode 16; Testing Loss 0.15485175904426313; Training Loss 0.15549384376294076\n",
      "Episode 17; Testing Loss 0.15462137516920024; Training Loss 0.15527118025087824\n",
      "Episode 18; Testing Loss 0.1544141072003311; Training Loss 0.15507054264158443\n",
      "Episode 19; Testing Loss 0.1542162009515343; Training Loss 0.15487824694307428\n",
      "Episode 20; Testing Loss 0.1540169538189214; Training Loss 0.15468366123565297\n",
      "Episode 21; Testing Loss 0.15380833860242196; Training Loss 0.15447882865512308\n",
      "Episode 22; Testing Loss 0.15358463223408417; Training Loss 0.15425809550764133\n",
      "Episode 23; Testing Loss 0.15334206488105523; Training Loss 0.1540177599551794\n",
      "Episode 24; Testing Loss 0.1530784981678082; Training Loss 0.15375574998145888\n",
      "Episode 25; Testing Loss 0.15279313614907944; Training Loss 0.15347133423400233\n",
      "Episode 26; Testing Loss 0.15248626907494134; Training Loss 0.15316486574891364\n",
      "Episode 27; Testing Loss 0.15215904771762934; Training Loss 0.15283755629636311\n",
      "Episode 28; Testing Loss 0.15181328481732406; Training Loss 0.15249127787609562\n",
      "Episode 29; Testing Loss 0.15145127979121834; Training Loss 0.15212838748350796\n",
      "Episode 30; Testing Loss 0.15107566300603958; Training Loss 0.15175157142703252\n",
      "Episode 31; Testing Loss 0.15068925644801734; Training Loss 0.15136370601519844\n",
      "Episode 32; Testing Loss 0.15029494838716675; Training Loss 0.1509677321984491\n",
      "Episode 33; Testing Loss 0.14989558050954818; Training Loss 0.15056654263108124\n",
      "Episode 34; Testing Loss 0.14949384689117093; Training Loss 0.15016288052178428\n",
      "Episode 35; Testing Loss 0.149092205034674; Training Loss 0.14975925049222683\n",
      "Episode 36; Testing Loss 0.14869279991651393; Training Loss 0.14935784239277403\n",
      "Episode 37; Testing Loss 0.14829740253445198; Training Loss 0.14896046956968326\n",
      "Episode 38; Testing Loss 0.14790736474419014; Training Loss 0.14856852338074825\n",
      "Episode 39; Testing Loss 0.14752359218110092; Training Loss 0.14818294576653088\n",
      "Episode 40; Testing Loss 0.14714653674672504; Training Loss 0.14780422137144952\n",
      "Episode 41; Testing Loss 0.1467762094931543; Training Loss 0.14743239006533002\n",
      "Episode 42; Testing Loss 0.14641221378837957; Training Loss 0.1470670797685578\n",
      "Episode 43; Testing Loss 0.1460537974574547; Training Loss 0.14670755829736845\n",
      "Episode 44; Testing Loss 0.14569992127559958; Training Loss 0.14635280162783926\n",
      "Episode 45; Testing Loss 0.14534933988793577; Training Loss 0.14600157467450625\n",
      "Episode 46; Testing Loss 0.1450006901220218; Training Loss 0.1456525195682795\n",
      "Episode 47; Testing Loss 0.1446525809224758; Training Loss 0.14530424567603314\n",
      "Episode 48; Testing Loss 0.1443036789126164; Training Loss 0.14495541537319187\n",
      "Episode 49; Testing Loss 0.14395278394436986; Training Loss 0.14460481992895477\n",
      "Episode 50; Testing Loss 0.14359888990914182; Training Loss 0.14425144076737073\n",
      "Episode 51; Testing Loss 0.1432412274407996; Training Loss 0.1438944927186677\n",
      "Episode 52; Testing Loss 0.14287928678233439; Training Loss 0.14353344751060154\n",
      "Episode 53; Testing Loss 0.14251282081992572; Training Loss 0.14316803747733994\n",
      "Episode 54; Testing Loss 0.1421418299222103; Training Loss 0.14279824109640588\n",
      "Episode 55; Testing Loss 0.14176653159291985; Training Loss 0.14242425333394282\n",
      "Episode 56; Testing Loss 0.14138731892697332; Training Loss 0.1420464447631212\n",
      "Episode 57; Testing Loss 0.14100471238482118; Training Loss 0.14166531394804505\n",
      "Episode 58; Testing Loss 0.1406193094569483; Training Loss 0.14128143764754358\n",
      "Episode 59; Testing Loss 0.1402317364245146; Training Loss 0.14089542303209548\n",
      "Episode 60; Testing Loss 0.13984260571953896; Training Loss 0.14050786540979404\n",
      "Episode 61; Testing Loss 0.1394524814605484; Training Loss 0.14011931403455546\n",
      "Episode 62; Testing Loss 0.13906185470706775; Training Loss 0.13973024754113733\n",
      "Episode 63; Testing Loss 0.13867112895103834; Training Loss 0.139341059529708\n",
      "Episode 64; Testing Loss 0.1382806154390987; Training Loss 0.13895205390043555\n",
      "Episode 65; Testing Loss 0.13789053716451288; Training Loss 0.13856344878502536\n",
      "Episode 66; Testing Loss 0.13750103982186154; Training Loss 0.13817538737698254\n",
      "Episode 67; Testing Loss 0.13711220769509153; Training Loss 0.13778795363979635\n",
      "Episode 68; Testing Loss 0.1367240823413924; Training Loss 0.13740119076389523\n",
      "Episode 69; Testing Loss 0.13633668201428345; Training Loss 0.1370151203237021\n",
      "Episode 70; Testing Loss 0.13595002000247647; Training Loss 0.1366297603187648\n",
      "Episode 71; Testing Loss 0.13556412040490382; Training Loss 0.13624514062658818\n",
      "Episode 72; Testing Loss 0.13517903027406275; Training Loss 0.13586131480647512\n",
      "Episode 73; Testing Loss 0.13479482749960328; Training Loss 0.13547836763373738\n",
      "Episode 74; Testing Loss 0.13441162423675193; Training Loss 0.1350964181766967\n",
      "Episode 75; Testing Loss 0.13402956608051148; Training Loss 0.1347156186258847\n",
      "Episode 76; Testing Loss 0.13364882752355012; Training Loss 0.13433614942253275\n",
      "Episode 77; Testing Loss 0.13326960449649847; Training Loss 0.13395821149472315\n",
      "Episode 78; Testing Loss 0.13289210496301435; Training Loss 0.13358201658361418\n",
      "Episode 79; Testing Loss 0.13251653862295001; Training Loss 0.13320777672303083\n",
      "Episode 80; Testing Loss 0.13214310676567778; Training Loss 0.13283569392390066\n",
      "Episode 81; Testing Loss 0.13177199321773306; Training Loss 0.13246595101592218\n",
      "Episode 82; Testing Loss 0.1314033571559909; Training Loss 0.13209870442400412\n",
      "Episode 83; Testing Loss 0.1310373283263717; Training Loss 0.13173407942336543\n",
      "Episode 84; Testing Loss 0.1306740049402758; Training Loss 0.1313721681462028\n",
      "Episode 85; Testing Loss 0.13031345424180213; Training Loss 0.13101303033031833\n",
      "Episode 86; Testing Loss 0.12995571547475637; Training Loss 0.13065669653209824\n",
      "Episode 87; Testing Loss 0.12960080475547234; Training Loss 0.13030317329983765\n",
      "Episode 88; Testing Loss 0.12924872119695502; Training Loss 0.12995244963953942\n",
      "Episode 89; Testing Loss 0.12889945354739288; Training Loss 0.12960450402009163\n",
      "Episode 90; Testing Loss 0.12855298660753592; Training Loss 0.1292593111647083\n",
      "Episode 91; Testing Loss 0.1282093067739864; Training Loss 0.128916847957205\n",
      "Episode 92; Testing Loss 0.1278684062055666; Training Loss 0.12857709794253572\n",
      "Episode 93; Testing Loss 0.1275302853072271; Training Loss 0.128240054099753\n",
      "Episode 94; Testing Loss 0.12719495344411996; Training Loss 0.1279057197865831\n",
      "Episode 95; Testing Loss 0.1268624280102298; Training Loss 0.12757410796988342\n",
      "Episode 96; Testing Loss 0.12653273215589037; Training Loss 0.12724523904013335\n",
      "Episode 97; Testing Loss 0.12620589160682807; Training Loss 0.12691913764051113\n",
      "Episode 98; Testing Loss 0.12588193107196502; Training Loss 0.1265958290097092\n",
      "Episode 99; Testing Loss 0.12556087073526984; Training Loss 0.12627533533927787\n",
      "Episode 100; Testing Loss 0.12524272326401886; Training Loss 0.1259576725863626\n",
      "Episode 101; Testing Loss 0.12492749165534213; Training Loss 0.12564284807467893\n",
      "Episode 102; Testing Loss 0.12461516810304821; Training Loss 0.1253308590780554\n",
      "Episode 103; Testing Loss 0.12430573391799915; Training Loss 0.12502169243344474\n"
     ]
    },
    {
     "name": "stdout",
     "output_type": "stream",
     "text": [
      "Episode 104; Testing Loss 0.12399916039787814; Training Loss 0.1247153250927874\n",
      "Episode 105; Testing Loss 0.12369541043256464; Training Loss 0.12441172541352179\n",
      "Episode 106; Testing Loss 0.1233944405615419; Training Loss 0.12411085491709867\n",
      "Episode 107; Testing Loss 0.1230962031750514; Training Loss 0.12381267021910923\n",
      "Episode 108; Testing Loss 0.12280064857019873; Training Loss 0.12351712485302452\n",
      "Episode 109; Testing Loss 0.12250772663024938; Training Loss 0.12322417076518492\n",
      "Episode 110; Testing Loss 0.12221738797831305; Training Loss 0.12293375934000844\n",
      "Episode 111; Testing Loss 0.12192958455177975; Training Loss 0.12264584190757452\n",
      "Episode 112; Testing Loss 0.12164426963628756; Training Loss 0.12236036977614721\n",
      "Episode 113; Testing Loss 0.12136139747447368; Training Loss 0.12207729390608732\n",
      "Episode 114; Testing Loss 0.12108092261522531; Training Loss 0.12179656438930002\n",
      "Episode 115; Testing Loss 0.12080279918800531; Training Loss 0.12151812991419013\n",
      "Episode 116; Testing Loss 0.12052698027370623; Training Loss 0.12124193737992663\n",
      "Episode 117; Testing Loss 0.12025341750323529; Training Loss 0.12096793178025417\n",
      "Episode 118; Testing Loss 0.1199820609562051; Training Loss 0.12069605641577105\n",
      "Episode 119; Testing Loss 0.11971285936653031; Training Loss 0.12042625342544915\n",
      "Episode 120; Testing Loss 0.11944576058106661; Training Loss 0.12015846456625034\n",
      "Episode 121; Testing Loss 0.11918071217258878; Training Loss 0.11989263212433729\n",
      "Episode 122; Testing Loss 0.11891766208625576; Training Loss 0.11962869981993947\n",
      "Episode 123; Testing Loss 0.11865655920211979; Training Loss 0.11936661357319617\n",
      "Episode 124; Testing Loss 0.11839735372274746; Training Loss 0.1191063220278698\n",
      "Episode 125; Testing Loss 0.11813999733802266; Training Loss 0.11884777677675007\n",
      "Episode 126; Testing Loss 0.11788444316916485; Training Loss 0.11859093228704884\n",
      "Episode 127; Testing Loss 0.1176306455403103; Training Loss 0.11833574557539984\n",
      "Episode 128; Testing Loss 0.11737855965961205; Training Loss 0.11808217572041103\n",
      "Episode 129; Testing Loss 0.11712814130624202; Training Loss 0.11783018331958185\n",
      "Episode 130; Testing Loss 0.11687934661316092; Training Loss 0.11757972999469593\n",
      "Episode 131; Testing Loss 0.11663213201022796; Training Loss 0.11733077802705104\n",
      "Episode 132; Testing Loss 0.11638645435455357; Training Loss 0.11708329016817332\n",
      "Episode 133; Testing Loss 0.1161422712332282; Training Loss 0.11683722963018826\n",
      "Episode 134; Testing Loss 0.11589954138679924; Training Loss 0.11659256022289997\n",
      "Episode 135; Testing Loss 0.11565822517733541; Training Loss 0.11634924657821041\n",
      "Episode 136; Testing Loss 0.11541828501730002; Training Loss 0.11610725439250132\n",
      "Episode 137; Testing Loss 0.11517968568522095; Training Loss 0.11586655062382452\n",
      "Episode 138; Testing Loss 0.11494239447823569; Training Loss 0.11562710360075691\n",
      "Episode 139; Testing Loss 0.11470638118409097; Training Loss 0.11538888302780306\n",
      "Episode 140; Testing Loss 0.11447161788837061; Training Loss 0.11515185990061218\n",
      "Episode 141; Testing Loss 0.11423807865979668; Training Loss 0.11491600636647456\n",
      "Episode 142; Testing Loss 0.11400573917187097; Training Loss 0.11468129557656714\n",
      "Episode 143; Testing Loss 0.11377457632092274; Training Loss 0.1144477015742224\n",
      "Episode 144; Testing Loss 0.11354456788991708; Training Loss 0.11421519924979638\n",
      "Episode 145; Testing Loss 0.11331569228820895; Training Loss 0.11398376437159227\n",
      "Episode 146; Testing Loss 0.1130879283756397; Training Loss 0.11375337368030912\n",
      "Episode 147; Testing Loss 0.11286125536075885; Training Loss 0.11352400501687634\n",
      "Episode 148; Testing Loss 0.11263565275198495; Training Loss 0.11329563744536511\n",
      "Episode 149; Testing Loss 0.11241110033904946; Training Loss 0.11306825133545267\n",
      "Episode 150; Testing Loss 0.11218757818895549; Training Loss 0.11284182838115006\n",
      "Episode 151; Testing Loss 0.11196506665258504; Training Loss 0.11261635155035334\n",
      "Episode 152; Testing Loss 0.11174354639002217; Training Loss 0.11239180497822344\n",
      "Episode 153; Testing Loss 0.11152299843021464; Training Loss 0.11216817383076255\n",
      "Episode 154; Testing Loss 0.11130340428072905; Training Loss 0.11194544417040045\n",
      "Episode 155; Testing Loss 0.11108474609557636; Training Loss 0.1117236028513362\n",
      "Episode 156; Testing Loss 0.11086700689568195; Training Loss 0.11150263746145378\n",
      "Episode 157; Testing Loss 0.11065017082133731; Training Loss 0.1112825363126732\n",
      "Episode 158; Testing Loss 0.11043422338385137; Training Loss 0.11106328846828584\n",
      "Episode 159; Testing Loss 0.11021915167825155; Training Loss 0.11084488378711214\n",
      "Episode 160; Testing Loss 0.11000494452227218; Training Loss 0.11062731296325151\n",
      "Episode 161; Testing Loss 0.10979159249837635; Training Loss 0.11041056754567115\n",
      "Episode 162; Testing Loss 0.10957908789213568; Training Loss 0.11019463993198479\n",
      "Episode 163; Testing Loss 0.10936742453779977; Training Loss 0.10997952334145489\n",
      "Episode 164; Testing Loss 0.10915659759599122; Training Loss 0.10976521177977111\n",
      "Episode 165; Testing Loss 0.10894660329618934; Training Loss 0.10955170001073668\n",
      "Episode 166; Testing Loss 0.10873743867713406; Training Loss 0.10933898354593047\n",
      "Episode 167; Testing Loss 0.10852910135275556; Training Loss 0.10912705865632298\n",
      "Episode 168; Testing Loss 0.10832158932244226; Training Loss 0.10891592240085701\n",
      "Episode 169; Testing Loss 0.1081149008356729; Training Loss 0.10870557266088633\n",
      "Episode 170; Testing Loss 0.10790903431450787; Training Loss 0.10849600816745489\n",
      "Episode 171; Testing Loss 0.1077039883340902; Training Loss 0.1082872285116165\n",
      "Episode 172; Testing Loss 0.10749976166027941; Training Loss 0.1080792341345752\n",
      "Episode 173; Testing Loss 0.10729635334289021; Training Loss 0.10787202630178666\n",
      "Episode 174; Testing Loss 0.10709376286069917; Training Loss 0.10766560707056147\n",
      "Episode 175; Testing Loss 0.10689199030943251; Training Loss 0.1074599792618936\n",
      "Episode 176; Testing Loss 0.1066910366168231; Training Loss 0.107255146444481\n",
      "Episode 177; Testing Loss 0.10649090376139146; Training Loss 0.10705111293306552\n",
      "Episode 178; Testing Loss 0.1062915949668461; Training Loss 0.10684788379749972\n",
      "Episode 179; Testing Loss 0.1060931148439721; Training Loss 0.1066454648749745\n",
      "Episode 180; Testing Loss 0.1058954694577728; Training Loss 0.10644386277756224\n",
      "Episode 181; Testing Loss 0.10569866630866068; Training Loss 0.10624308489027443\n",
      "Episode 182; Testing Loss 0.10550271422993705; Training Loss 0.106043139359395\n",
      "Episode 183; Testing Loss 0.10530762321684316; Training Loss 0.10584403507502646\n",
      "Episode 184; Testing Loss 0.10511340421180045; Training Loss 0.10564578165362157\n",
      "Episode 185; Testing Loss 0.10492006887492038; Training Loss 0.10544838942510268\n",
      "Episode 186; Testing Loss 0.10472762936808208; Training Loss 0.1052518694259056\n",
      "Episode 187; Testing Loss 0.10453609817649903; Training Loss 0.1050562333957046\n",
      "Episode 188; Testing Loss 0.10434548798516814; Training Loss 0.10486149377313883\n",
      "Episode 189; Testing Loss 0.10415581162069311; Training Loss 0.10466766368625409\n",
      "Episode 190; Testing Loss 0.10396708206198879; Training Loss 0.10447475693556425\n",
      "Episode 191; Testing Loss 0.10377931251644042; Training Loss 0.10428278797112289\n",
      "Episode 192; Testing Loss 0.10359251655064072; Training Loss 0.10409177186709453\n",
      "Episode 193; Testing Loss 0.10340670825740281; Training Loss 0.103901724298158\n",
      "Episode 194; Testing Loss 0.1032219024340698; Training Loss 0.10371266151984902\n",
      "Episode 195; Testing Loss 0.10303811474327412; Training Loss 0.1035246003528676\n",
      "Episode 196; Testing Loss 0.10285536182801222; Training Loss 0.10333755816834947\n",
      "Episode 197; Testing Loss 0.10267366135882298; Training Loss 0.10315155287095229\n",
      "Episode 198; Testing Loss 0.10249303200170531; Training Loss 0.10296660287719056\n",
      "Episode 199; Testing Loss 0.10231349330879942; Training Loss 0.10278272708915043\n",
      "Episode 200; Testing Loss 0.10213506554693744; Training Loss 0.10259994486525575\n",
      "Episode 201; Testing Loss 0.10195776948910985; Training Loss 0.10241827599075647\n",
      "Episode 202; Testing Loss 0.10178162619899152; Training Loss 0.1022377406496358\n",
      "Episode 203; Testing Loss 0.10160665683837154; Training Loss 0.10205835939796455\n",
      "Episode 204; Testing Loss 0.10143288252250911; Training Loss 0.10188015313724952\n",
      "Episode 205; Testing Loss 0.10126032424022408; Training Loss 0.10170314308592034\n"
     ]
    },
    {
     "name": "stdout",
     "output_type": "stream",
     "text": [
      "Episode 206; Testing Loss 0.10108900284537775; Training Loss 0.10152735074809023\n",
      "Episode 207; Testing Loss 0.10091893911529304; Training Loss 0.10135279787994193\n",
      "Episode 208; Testing Loss 0.10075015386074732; Training Loss 0.10117950645549723\n",
      "Episode 209; Testing Loss 0.10058266806314543; Training Loss 0.10100749863310261\n",
      "Episode 210; Testing Loss 0.1004165030086078; Training Loss 0.10083679672324683\n",
      "Episode 211; Testing Loss 0.10025168038831593; Training Loss 0.10066742315694889\n",
      "Episode 212; Testing Loss 0.10008822233982395; Training Loss 0.10049940045300554\n",
      "Episode 213; Testing Loss 0.09992615141500426; Training Loss 0.10033275118308849\n",
      "Episode 214; Testing Loss 0.09976549047462425; Training Loss 0.10016749793438451\n",
      "Episode 215; Testing Loss 0.09960626252396433; Training Loss 0.1000036632707328\n",
      "Episode 216; Testing Loss 0.0994484905152964; Training Loss 0.09984126969354692\n",
      "Episode 217; Testing Loss 0.09929219714896405; Training Loss 0.09968033960345699\n",
      "Episode 218; Testing Loss 0.09913740470433569; Training Loss 0.09952089526255849\n",
      "Episode 219; Testing Loss 0.09898413492537321; Training Loss 0.0993629587568277\n",
      "Episode 220; Testing Loss 0.09883240897458727; Training Loss 0.09920655195793954\n",
      "Episode 221; Testing Loss 0.09868224745559273; Training Loss 0.09905169648463165\n",
      "Episode 222; Testing Loss 0.09853367049072084; Training Loss 0.09889841366405333\n",
      "Episode 223; Testing Loss 0.09838669782887793; Training Loss 0.09874672449386336\n",
      "Episode 224; Testing Loss 0.09824134895221753; Training Loss 0.09859664960530805\n",
      "Episode 225; Testing Loss 0.09809764315023965; Training Loss 0.09844820922681076\n",
      "Episode 226; Testing Loss 0.09795559953709619; Training Loss 0.09830142314749665\n",
      "Episode 227; Testing Loss 0.0978152370007671; Training Loss 0.09815631068008525\n",
      "Episode 228; Testing Loss 0.09767657408861893; Training Loss 0.09801289062340013\n",
      "Episode 229; Testing Loss 0.0975396288486493; Training Loss 0.09787118122516225\n",
      "Episode 230; Testing Loss 0.09740441865587444; Training Loss 0.09773120014563864\n",
      "Episode 231; Testing Loss 0.09727096005643616; Training Loss 0.09759296442269938\n",
      "Episode 232; Testing Loss 0.09713926865755002; Training Loss 0.09745649043799359\n",
      "Episode 233; Testing Loss 0.09700935908043921; Training Loss 0.09732179388419102\n",
      "Episode 234; Testing Loss 0.09688124497864284; Training Loss 0.09718888973322673\n",
      "Episode 235; Testing Loss 0.09675493910869702; Training Loss 0.09705779220574438\n",
      "Episode 236; Testing Loss 0.09663045342789432; Training Loss 0.09692851474217769\n",
      "Episode 237; Testing Loss 0.09650779918756801; Training Loss 0.09680106997533951\n",
      "Episode 238; Testing Loss 0.09638698699205667; Training Loss 0.09667546970445703\n",
      "Episode 239; Testing Loss 0.09626802680288044; Training Loss 0.09655172487024549\n",
      "Episode 240; Testing Loss 0.09615092788255686; Training Loss 0.09642984553090996\n",
      "Episode 241; Testing Loss 0.09603569868885486; Training Loss 0.09630984083942756\n",
      "Episode 242; Testing Loss 0.09592234674359566; Training Loss 0.09619171902238084\n",
      "Episode 243; Testing Loss 0.09581087850684417; Training Loss 0.09607548736071461\n",
      "Episode 244; Testing Loss 0.09570129928562787; Training Loss 0.09596115217252134\n",
      "Episode 245; Testing Loss 0.09559361319682576; Training Loss 0.09584871879769088\n",
      "Episode 246; Testing Loss 0.09548782318917214; Training Loss 0.09573819158449928\n",
      "Episode 247; Testing Loss 0.09538393111342688; Training Loss 0.09562957387814228\n",
      "Episode 248; Testing Loss 0.09528193781703406; Training Loss 0.09552286801129278\n",
      "Episode 249; Testing Loss 0.09518184323357834; Training Loss 0.09541807529668593\n",
      "Episode 250; Testing Loss 0.0950836464398737; Training Loss 0.09531519602157698\n",
      "Episode 251; Testing Loss 0.09498734566391702; Training Loss 0.09521422944386948\n",
      "Episode 252; Testing Loss 0.09489293824231551; Training Loss 0.09511517378986167\n",
      "Episode 253; Testing Loss 0.09480042054123393; Training Loss 0.09501802625380971\n",
      "Episode 254; Testing Loss 0.09470978786606195; Training Loss 0.09492278299952055\n",
      "Episode 255; Testing Loss 0.09462103438818056; Training Loss 0.0948294391638461\n",
      "Episode 256; Testing Loss 0.09453415311183744; Training Loss 0.09473798886233939\n",
      "Episode 257; Testing Loss 0.09444913589184098; Training Loss 0.09464842519679494\n",
      "Episode 258; Testing Loss 0.09436597349740944; Training Loss 0.09456074026480284\n",
      "Episode 259; Testing Loss 0.09428465570395127; Training Loss 0.09447492517104746\n",
      "Episode 260; Testing Loss 0.09420517138684119; Training Loss 0.09439097004060425\n",
      "Episode 261; Testing Loss 0.09412750859194877; Training Loss 0.09430886403379816\n",
      "Episode 262; Testing Loss 0.09405165456643846; Training Loss 0.09422859536280619\n",
      "Episode 263; Testing Loss 0.09397759574727742; Training Loss 0.0941501513094236\n",
      "Episode 264; Testing Loss 0.09390531771933432; Training Loss 0.094073518244857\n",
      "Episode 265; Testing Loss 0.09383480516508409; Training Loss 0.09399868165048372\n",
      "Episode 266; Testing Loss 0.09376604183040813; Training Loss 0.09392562614048026\n",
      "Episode 267; Testing Loss 0.09369901052526611; Training Loss 0.09385433548601413\n",
      "Episode 268; Testing Loss 0.09363369316604801; Training Loss 0.09378479264043883\n",
      "Episode 269; Testing Loss 0.09357007085251041; Training Loss 0.09371697976614186\n",
      "Episode 270; Testing Loss 0.09350812396103331; Training Loss 0.09365087826240995\n",
      "Episode 271; Testing Loss 0.09344783223139422; Training Loss 0.09358646879438501\n",
      "Episode 272; Testing Loss 0.09338917482764539; Training Loss 0.09352373132331265\n",
      "Episode 273; Testing Loss 0.09333213036382276; Training Loss 0.0934626451369709\n",
      "Episode 274; Testing Loss 0.09327667689825257; Training Loss 0.09340318888169444\n",
      "Episode 275; Testing Loss 0.09322279191143082; Training Loss 0.09334534059443053\n",
      "Episode 276; Testing Loss 0.09317045228794198; Training Loss 0.09328907773588947\n",
      "Episode 277; Testing Loss 0.09311963432061776; Training Loss 0.0932343772241879\n",
      "Episode 278; Testing Loss 0.09307031374654234; Training Loss 0.09318121546891489\n",
      "Episode 279; Testing Loss 0.09302246581244057; Training Loss 0.09312956840587172\n",
      "Episode 280; Testing Loss 0.09297606535655477; Training Loss 0.09307941153168983\n",
      "Episode 281; Testing Loss 0.09293108688851512; Training Loss 0.09303071993919668\n",
      "Episode 282; Testing Loss 0.09288750465045412; Training Loss 0.09298346835245283\n",
      "Episode 283; Testing Loss 0.09284529265043474; Training Loss 0.09293763116175567\n",
      "Episode 284; Testing Loss 0.09280442467008135; Training Loss 0.09289318245920479\n",
      "Episode 285; Testing Loss 0.09276487425812537; Training Loss 0.09285009607302276\n",
      "Episode 286; Testing Loss 0.09272661472619582; Training Loss 0.09280834560276445\n",
      "Episode 287; Testing Loss 0.09268961916147954; Training Loss 0.09276790445337954\n",
      "Episode 288; Testing Loss 0.0926538604635765; Training Loss 0.09272874586961212\n",
      "Episode 289; Testing Loss 0.09261931140278955; Training Loss 0.0926908429693606\n",
      "Episode 290; Testing Loss 0.09258594468889489; Training Loss 0.09265416877669276\n",
      "Episode 291; Testing Loss 0.09255373303547951; Training Loss 0.09261869625475602\n",
      "Episode 292; Testing Loss 0.09252264920750432; Training Loss 0.09258439833718954\n",
      "Episode 293; Testing Loss 0.09249266604659599; Training Loss 0.09255124795929548\n",
      "Episode 294; Testing Loss 0.09246375647771908; Training Loss 0.09251921808841804\n",
      "Episode 295; Testing Loss 0.09243589350768266; Training Loss 0.09248828175341227\n",
      "Episode 296; Testing Loss 0.09240905022841665; Training Loss 0.09245841207311474\n",
      "Episode 297; Testing Loss 0.09238319983479522; Training Loss 0.09242958228405859\n",
      "Episode 298; Testing Loss 0.09235831565989386; Training Loss 0.09240176576715456\n",
      "Episode 299; Testing Loss 0.09233437122282771; Training Loss 0.09237493607349777\n",
      "Episode 300; Testing Loss 0.09231134027890896; Training Loss 0.09234906694885679\n",
      "Episode 301; Testing Loss 0.09228919686104023; Training Loss 0.09232413235756587\n",
      "Episode 302; Testing Loss 0.09226791530516411; Training Loss 0.09230010650466448\n",
      "Episode 303; Testing Loss 0.09224747025912688; Training Loss 0.09227696385760153\n",
      "Episode 304; Testing Loss 0.09222783668092818; Training Loss 0.09225467916629937\n",
      "Episode 305; Testing Loss 0.09220898983586923; Training Loss 0.0922332274823544\n",
      "Episode 306; Testing Loss 0.09219090530156902; Training Loss 0.09221258417702052\n",
      "Episode 307; Testing Loss 0.0921735589853033; Training Loss 0.09219272495811809\n"
     ]
    },
    {
     "name": "stdout",
     "output_type": "stream",
     "text": [
      "Episode 308; Testing Loss 0.09215692715216756; Training Loss 0.09217362588558187\n",
      "Episode 309; Testing Loss 0.09214098645743023; Training Loss 0.09215526338608077\n",
      "Episode 310; Testing Loss 0.09212571397463754; Training Loss 0.09213761426658659\n",
      "Episode 311; Testing Loss 0.09211108721300179; Training Loss 0.09212065572634333\n",
      "Episode 312; Testing Loss 0.09209708412206855; Training Loss 0.0921043653682612\n",
      "Episode 313; Testing Loss 0.09208368308718935; Training Loss 0.09208872120883073\n",
      "Episode 314; Testing Loss 0.09207086292231546; Training Loss 0.09207370168729997\n",
      "Episode 315; Testing Loss 0.0920586028672868; Training Loss 0.09205928567334487\n",
      "Episode 316; Testing Loss 0.09204688259349161; Training Loss 0.0920454524741574\n",
      "Episode 317; Testing Loss 0.09203568221771014; Training Loss 0.09203218184021406\n",
      "Episode 318; Testing Loss 0.09202498231950755; Training Loss 0.09201945397022522\n",
      "Episode 319; Testing Loss 0.09201476395615915; Training Loss 0.09200724951507705\n",
      "Episode 320; Testing Loss 0.09200500867000974; Training Loss 0.09199554958084794\n",
      "Episode 321; Testing Loss 0.09199569848653226; Training Loss 0.09198433573098064\n",
      "Episode 322; Testing Loss 0.0919868159053826; Training Loss 0.09197358998751924\n",
      "Episode 323; Testing Loss 0.0919783438892562; Training Loss 0.09196329483163512\n",
      "Episode 324; Testing Loss 0.09197026585563901; Training Loss 0.09195343320324607\n",
      "Episode 325; Testing Loss 0.09196256567453785; Training Loss 0.09194398850010929\n",
      "Episode 326; Testing Loss 0.09195522767193161; Training Loss 0.09193494457586725\n",
      "Episode 327; Testing Loss 0.09194823663569117; Training Loss 0.09192628573774052\n",
      "Episode 328; Testing Loss 0.09194157781958975; Training Loss 0.09191799674341439\n",
      "Episode 329; Testing Loss 0.09193523694190621; Training Loss 0.09191006279737951\n",
      "Episode 330; Testing Loss 0.0919292001776233; Training Loss 0.0919024695467311\n",
      "Episode 331; Testing Loss 0.09192345414608265; Training Loss 0.09189520307638364\n",
      "Episode 332; Testing Loss 0.09191798589762769; Training Loss 0.09188824990386735\n",
      "Episode 333; Testing Loss 0.09191278290290114; Training Loss 0.0918815969736347\n",
      "Episode 334; Testing Loss 0.09190783304659085; Training Loss 0.09187523165097058\n",
      "Episode 335; Testing Loss 0.09190312462512804; Training Loss 0.091869141715454\n",
      "Episode 336; Testing Loss 0.09189864634583025; Training Loss 0.09186331535438941\n",
      "Episode 337; Testing Loss 0.09189438732429706; Training Loss 0.09185774115529936\n",
      "Episode 338; Testing Loss 0.09189033707789415; Training Loss 0.09185240809877512\n",
      "Episode 339; Testing Loss 0.0918864855149786; Training Loss 0.09184730555072593\n",
      "Episode 340; Testing Loss 0.09188282292161663; Training Loss 0.09184242325453709\n",
      "Episode 341; Testing Loss 0.09187933994832055; Training Loss 0.09183775132295857\n",
      "Episode 342; Testing Loss 0.09187602759923748; Training Loss 0.09183328022993155\n",
      "Episode 343; Testing Loss 0.09187287722460316; Training Loss 0.0918290008021691\n",
      "Episode 344; Testing Loss 0.09186988051568014; Training Loss 0.09182490421072312\n",
      "Episode 345; Testing Loss 0.09186702950015158; Training Loss 0.09182098196243416\n",
      "Episode 346; Testing Loss 0.09186431653586398; Training Loss 0.0918172258912554\n",
      "Episode 347; Testing Loss 0.09186173430173294; Training Loss 0.09181362814966178\n",
      "Episode 348; Testing Loss 0.09185927578615334; Training Loss 0.09181018119991782\n",
      "Episode 349; Testing Loss 0.09185693427430447; Training Loss 0.09180687780544489\n",
      "Episode 350; Testing Loss 0.09185470333635767; Training Loss 0.09180371102213032\n",
      "Episode 351; Testing Loss 0.09185257681786997; Training Loss 0.09180067418971492\n",
      "Episode 352; Testing Loss 0.09185054883249502; Training Loss 0.09179776092323817\n",
      "Episode 353; Testing Loss 0.09184861375613745; Training Loss 0.09179496510450967\n",
      "Episode 354; Testing Loss 0.09184676622094969; Training Loss 0.09179228087369172\n",
      "Episode 355; Testing Loss 0.09184500110793149; Training Loss 0.09178970262097397\n",
      "Episode 356; Testing Loss 0.09184331353767304; Training Loss 0.09178722497835219\n",
      "Episode 357; Testing Loss 0.09184169885987278; Training Loss 0.09178484281149861\n",
      "Episode 358; Testing Loss 0.09184015264286362; Training Loss 0.09178255121178443\n",
      "Episode 359; Testing Loss 0.09183867066430684; Training Loss 0.09178034548839219\n",
      "Episode 360; Testing Loss 0.09183724890369385; Training Loss 0.09177822116074155\n",
      "Episode 361; Testing Loss 0.09183588353631149; Training Loss 0.09177617395071351\n",
      "Episode 362; Testing Loss 0.0918345709277766; Training Loss 0.09177419977537501\n",
      "Episode 363; Testing Loss 0.091833307628075; Training Loss 0.09177229473969346\n",
      "Episode 364; Testing Loss 0.09183209036446761; Training Loss 0.09177045512945385\n",
      "Episode 365; Testing Loss 0.09183091603334714; Training Loss 0.09176867740430722\n",
      "Episode 366; Testing Loss 0.09182978169174319; Training Loss 0.09176695819105896\n",
      "Episode 367; Testing Loss 0.09182868454933373; Training Loss 0.09176529427704884\n",
      "Episode 368; Testing Loss 0.09182762196165406; Training Loss 0.09176368260377332\n",
      "Episode 369; Testing Loss 0.0918265914245551; Training Loss 0.09176212026063993\n",
      "Episode 370; Testing Loss 0.09182559056942619; Training Loss 0.09176060447890774\n",
      "Episode 371; Testing Loss 0.09182461715845792; Training Loss 0.09175913262582075\n",
      "Episode 372; Testing Loss 0.09182366907933588; Training Loss 0.09175770219888937\n",
      "Episode 373; Testing Loss 0.09182274433923576; Training Loss 0.0917563108203815\n",
      "Episode 374; Testing Loss 0.09182184105835828; Training Loss 0.09175495623195704\n",
      "Episode 375; Testing Loss 0.09182095746371183; Training Loss 0.09175363628948512\n",
      "Episode 376; Testing Loss 0.09182009188360009; Training Loss 0.09175234895803373\n",
      "Episode 377; Testing Loss 0.09181924274306216; Training Loss 0.0917510923070455\n",
      "Episode 378; Testing Loss 0.09181840856003362; Training Loss 0.09174986450564827\n",
      "Episode 379; Testing Loss 0.09181758794178645; Training Loss 0.09174866381814444\n",
      "Episode 380; Testing Loss 0.09181677958113146; Training Loss 0.09174748859968451\n",
      "Episode 381; Testing Loss 0.09181598225216327; Training Loss 0.09174633729205339\n",
      "Episode 382; Testing Loss 0.09181519480566155; Training Loss 0.0917452084196527\n",
      "Episode 383; Testing Loss 0.09181441616448717; Training Loss 0.09174410058561708\n",
      "Episode 384; Testing Loss 0.09181364531941649; Training Loss 0.09174301246807835\n",
      "Episode 385; Testing Loss 0.09181288132561607; Training Loss 0.09174194281658758\n",
      "Episode 386; Testing Loss 0.09181212329970465; Training Loss 0.09174089044866458\n",
      "Episode 387; Testing Loss 0.09181137041712824; Training Loss 0.09173985424649478\n",
      "Episode 388; Testing Loss 0.09181062190949063; Training Loss 0.09173883315375901\n",
      "Episode 389; Testing Loss 0.09180987706159577; Training Loss 0.09173782617259298\n",
      "Episode 390; Testing Loss 0.09180913520825609; Training Loss 0.09173683236067796\n",
      "Episode 391; Testing Loss 0.09180839573103153; Training Loss 0.0917358508284357\n",
      "Episode 392; Testing Loss 0.09180765805522077; Training Loss 0.09173488073638414\n",
      "Episode 393; Testing Loss 0.09180692164728234; Training Loss 0.09173392129257003\n",
      "Episode 394; Testing Loss 0.09180618601271269; Training Loss 0.09173297175011146\n",
      "Episode 395; Testing Loss 0.09180545069419316; Training Loss 0.0917320314049107\n",
      "Episode 396; Testing Loss 0.09180471526980062; Training Loss 0.09173109959338077\n",
      "Episode 397; Testing Loss 0.09180397935104644; Training Loss 0.09173017569033322\n",
      "Episode 398; Testing Loss 0.09180324258075176; Training Loss 0.091729259106955\n",
      "Episode 399; Testing Loss 0.09180250463085189; Training Loss 0.0917283492888699\n",
      "Episode 400; Testing Loss 0.09180176520033642; Training Loss 0.09172744571428759\n",
      "Episode 401; Testing Loss 0.09180102401346442; Training Loss 0.09172654789226\n",
      "Episode 402; Testing Loss 0.09180028081831255; Training Loss 0.09172565536098747\n",
      "Episode 403; Testing Loss 0.09179953538553064; Training Loss 0.0917247676862441\n",
      "Episode 404; Testing Loss 0.09179878750716891; Training Loss 0.0917238844598589\n",
      "Episode 405; Testing Loss 0.09179803699541376; Training Loss 0.09172300529826372\n",
      "Episode 406; Testing Loss 0.09179728368120772; Training Loss 0.09172212984113279\n",
      "Episode 407; Testing Loss 0.09179652741280074; Training Loss 0.09172125775007979\n",
      "Episode 408; Testing Loss 0.09179576805437772; Training Loss 0.09172038870741979\n",
      "Episode 409; Testing Loss 0.09179500548486853; Training Loss 0.09171952241499044\n"
     ]
    },
    {
     "name": "stdout",
     "output_type": "stream",
     "text": [
      "Episode 410; Testing Loss 0.09179423959696868; Training Loss 0.09171865859304737\n",
      "Episode 411; Testing Loss 0.09179347029634355; Training Loss 0.09171779697921045\n",
      "Episode 412; Testing Loss 0.09179269750088478; Training Loss 0.09171693732745108\n",
      "Episode 413; Testing Loss 0.09179192113991468; Training Loss 0.0917160794071364\n",
      "Episode 414; Testing Loss 0.09179114115333772; Training Loss 0.0917152230021613\n",
      "Episode 415; Testing Loss 0.09179035749070223; Training Loss 0.09171436791006018\n",
      "Episode 416; Testing Loss 0.09178957011033456; Training Loss 0.09171351394122866\n",
      "Episode 417; Testing Loss 0.09178877897858224; Training Loss 0.09171266091814054\n",
      "Episode 418; Testing Loss 0.09178798406920259; Training Loss 0.09171180867464429\n",
      "Episode 419; Testing Loss 0.09178718536287948; Training Loss 0.09171095705526365\n",
      "Episode 420; Testing Loss 0.09178638284677945; Training Loss 0.09171010591456913\n",
      "Episode 421; Testing Loss 0.09178557651408699; Training Loss 0.09170925511655346\n",
      "Episode 422; Testing Loss 0.09178476636347749; Training Loss 0.09170840453406515\n",
      "Episode 423; Testing Loss 0.09178395239855394; Training Loss 0.09170755404827162\n",
      "Episode 424; Testing Loss 0.09178313462731251; Training Loss 0.09170670354813296\n",
      "Episode 425; Testing Loss 0.0917823130616653; Training Loss 0.09170585292992055\n",
      "Episode 426; Testing Loss 0.09178148771708719; Training Loss 0.09170500209677938\n",
      "Episode 427; Testing Loss 0.0917806586123204; Training Loss 0.09170415095827177\n",
      "Episode 428; Testing Loss 0.09177982576913254; Training Loss 0.09170329942998531\n",
      "Episode 429; Testing Loss 0.09177898921204278; Training Loss 0.09170244743316171\n",
      "Episode 430; Testing Loss 0.0917781489680129; Training Loss 0.09170159489431844\n",
      "Episode 431; Testing Loss 0.091777305066115; Training Loss 0.09170074174491742\n",
      "Episode 432; Testing Loss 0.0917764575372075; Training Loss 0.09169988792105616\n",
      "Episode 433; Testing Loss 0.09177560641366331; Training Loss 0.09169903336315852\n",
      "Episode 434; Testing Loss 0.09177475172916524; Training Loss 0.09169817801569219\n",
      "Episode 435; Testing Loss 0.09177389351855962; Training Loss 0.09169732182690862\n",
      "Episode 436; Testing Loss 0.0917730318177226; Training Loss 0.09169646474860155\n",
      "Episode 437; Testing Loss 0.09177216666342361; Training Loss 0.0916956067358525\n",
      "Episode 438; Testing Loss 0.09177129809315486; Training Loss 0.09169474774683305\n",
      "Episode 439; Testing Loss 0.0917704261449432; Training Loss 0.09169388774259425\n",
      "Episode 440; Testing Loss 0.09176955085716813; Training Loss 0.09169302668685943\n",
      "Episode 441; Testing Loss 0.09176867226841466; Training Loss 0.09169216454586332\n",
      "Episode 442; Testing Loss 0.09176779041737032; Training Loss 0.09169130128816877\n",
      "Episode 443; Testing Loss 0.09176690534276348; Training Loss 0.09169043688450793\n",
      "Episode 444; Testing Loss 0.09176601708329138; Training Loss 0.09168957130764381\n",
      "Episode 445; Testing Loss 0.09176512567756429; Training Loss 0.0916887045322199\n",
      "Episode 446; Testing Loss 0.09176423116401543; Training Loss 0.09168783653463113\n",
      "Episode 447; Testing Loss 0.0917633335807953; Training Loss 0.09168696729290209\n",
      "Episode 448; Testing Loss 0.09176243296568119; Training Loss 0.09168609678658377\n",
      "Episode 449; Testing Loss 0.09176152935599755; Training Loss 0.09168522499662331\n",
      "Episode 450; Testing Loss 0.09176062278857845; Training Loss 0.0916843519052783\n",
      "Episode 451; Testing Loss 0.09175971329973819; Training Loss 0.0916834774960287\n",
      "Episode 452; Testing Loss 0.09175880092526087; Training Loss 0.09168260175347537\n",
      "Episode 453; Testing Loss 0.09175788570037596; Training Loss 0.09168172466327211\n",
      "Episode 454; Testing Loss 0.09175696765971204; Training Loss 0.09168084621203033\n",
      "Episode 455; Testing Loss 0.0917560468372543; Training Loss 0.09167996638727043\n",
      "Episode 456; Testing Loss 0.09175512326629925; Training Loss 0.09167908517733529\n",
      "Episode 457; Testing Loss 0.09175419697942316; Training Loss 0.09167820257134689\n",
      "Episode 458; Testing Loss 0.09175326800847566; Training Loss 0.09167731855912847\n",
      "Episode 459; Testing Loss 0.0917523363845831; Training Loss 0.09167643313117449\n",
      "Episode 460; Testing Loss 0.0917514021381551; Training Loss 0.09167554627856452\n",
      "Episode 461; Testing Loss 0.09175046529887435; Training Loss 0.09167465799296154\n",
      "Episode 462; Testing Loss 0.09174952589569534; Training Loss 0.09167376826654006\n",
      "Episode 463; Testing Loss 0.09174858395681587; Training Loss 0.09167287709194244\n",
      "Episode 464; Testing Loss 0.09174763950966472; Training Loss 0.091671984462253\n",
      "Episode 465; Testing Loss 0.09174669258089922; Training Loss 0.09167109037096377\n",
      "Episode 466; Testing Loss 0.09174574319640533; Training Loss 0.09167019481193804\n",
      "Episode 467; Testing Loss 0.0917447913813204; Training Loss 0.09166929777937492\n",
      "Episode 468; Testing Loss 0.09174383716004397; Training Loss 0.09166839926779285\n",
      "Episode 469; Testing Loss 0.0917428805562422; Training Loss 0.09166749927198996\n",
      "Episode 470; Testing Loss 0.09174192159285577; Training Loss 0.09166659778702861\n",
      "Episode 471; Testing Loss 0.09174096029208884; Training Loss 0.09166569480821513\n",
      "Episode 472; Testing Loss 0.09173999667541556; Training Loss 0.09166479033106811\n",
      "Episode 473; Testing Loss 0.09173903076358217; Training Loss 0.09166388435131342\n",
      "Episode 474; Testing Loss 0.09173806257662785; Training Loss 0.09166297686485245\n",
      "Episode 475; Testing Loss 0.0917370921339; Training Loss 0.09166206786775191\n",
      "Episode 476; Testing Loss 0.09173611945407421; Training Loss 0.09166115735623652\n",
      "Episode 477; Testing Loss 0.0917351445551616; Training Loss 0.09166024532665523\n",
      "Episode 478; Testing Loss 0.09173416745452147; Training Loss 0.09165933177548435\n",
      "Episode 479; Testing Loss 0.0917331881688647; Training Loss 0.09165841669931639\n",
      "Episode 480; Testing Loss 0.09173220671425927; Training Loss 0.09165750009483294\n",
      "Episode 481; Testing Loss 0.09173122310614427; Training Loss 0.09165658195881403\n",
      "Episode 482; Testing Loss 0.09173023735935015; Training Loss 0.09165566228810955\n",
      "Episode 483; Testing Loss 0.09172924948811205; Training Loss 0.091654741079653\n",
      "Episode 484; Testing Loss 0.09172825950609295; Training Loss 0.09165381833042434\n",
      "Episode 485; Testing Loss 0.09172726742638927; Training Loss 0.09165289403747096\n",
      "Episode 486; Testing Loss 0.0917262732615436; Training Loss 0.09165196819788578\n",
      "Episode 487; Testing Loss 0.09172527702355608; Training Loss 0.09165104080880439\n",
      "Episode 488; Testing Loss 0.09172427872388776; Training Loss 0.09165011186740041\n",
      "Episode 489; Testing Loss 0.09172327837347982; Training Loss 0.09164918137087165\n",
      "Episode 490; Testing Loss 0.09172227598276986; Training Loss 0.09164824931644956\n",
      "Episode 491; Testing Loss 0.09172127156171099; Training Loss 0.09164731570138582\n",
      "Episode 492; Testing Loss 0.09172026511978078; Training Loss 0.09164638052295046\n",
      "Episode 493; Testing Loss 0.09171925666599584; Training Loss 0.09164544377842523\n",
      "Episode 494; Testing Loss 0.09171824620892083; Training Loss 0.09164450546511019\n",
      "Episode 495; Testing Loss 0.09171723375668119; Training Loss 0.09164356558030065\n",
      "Episode 496; Testing Loss 0.09171621931696916; Training Loss 0.09164262412131899\n",
      "Episode 497; Testing Loss 0.09171520289706322; Training Loss 0.09164168108546963\n",
      "Episode 498; Testing Loss 0.09171418450383781; Training Loss 0.09164073647006941\n",
      "Episode 499; Testing Loss 0.0917131641437805; Training Loss 0.09163979027242837\n"
     ]
    }
   ],
   "source": [
    "mlp.train(db.i, db.o, epo=500, lr=1e-3, ptst=0.1, gpu=False)"
   ]
  },
  {
   "cell_type": "code",
   "execution_count": 41,
   "metadata": {},
   "outputs": [
    {
     "data": {
      "image/png": "[encoded data removed]",
      "text/plain": [
       "<Figure size 432x288 with 1 Axes>"
      ]
     },
     "metadata": {
      "needs_background": "light"
     },
     "output_type": "display_data"
    }
   ],
   "source": [
    "fig, ax = plt.subplots(1)\n",
    "ax.plot(mlp.ltrn, \"k-\")\n",
    "ax.plot(mlp.ltst, \"k--\")\n",
    "ax.set_xlabel('Epoch')\n",
    "ax.set_ylabel('MSE')\n",
    "#ax.set_xscale('log')\n",
    "plt.show()"
   ]
  },
  {
   "cell_type": "markdown",
   "metadata": {},
   "source": [
    "## Neural network accuracy"
   ]
  },
  {
   "cell_type": "code",
   "execution_count": null,
   "metadata": {},
   "outputs": [],
   "source": [
    "mlp.cpu()\n",
    "# alpha homotopy\n",
    "Tb1 = np.load('spacecraft_z_alpha_homotopy_beta_1.npy'); seg.beta = 0.9999\n",
    "\n",
    "# effort optimal base\n",
    "z = Tb1[0][0]\n",
    "alpha = 0\n",
    "tl0, sl, ul = seg.propagate(z[0], s0, z[2:], alpha, u=True)\n",
    "a0i = np.hstack((sl[:,:seg.sdim], np.full((len(sl), 1), alpha)))\n",
    "a0o = ul\n",
    "a0op = mlp(torch.from_numpy(a0i)).detach().numpy()\n",
    "\n",
    "# time optimal base\n",
    "z = Tb1[-1][0]\n",
    "alpha = 1\n",
    "tl1, sl, ul = seg.propagate(z[0], s0, z[2:], alpha, u=True)\n",
    "a1i = np.hstack((sl[:,:seg.sdim], np.full((len(sl), 1), alpha)))\n",
    "a1o = ul\n",
    "a1op = mlp(torch.from_numpy(a1i)).detach().numpy()"
   ]
  },
  {
   "cell_type": "code",
   "execution_count": null,
   "metadata": {},
   "outputs": [],
   "source": [
    "# plot\n",
    "fig, ax = plt.subplots(4, 2, sharex=True, sharey=False)\n",
    "for i in range(4):\n",
    "    ax[i][0].plot(tl0, a0o[:, i], \"k--\")\n",
    "    ax[i][1].plot(tl1, a1o[:, i], \"k--\")\n",
    "    ax[i][0].plot(tl0, a0op[:, i], \"k-\")\n",
    "    ax[i][1].plot(tl1, a1op[:, i], \"k-\")\n",
    "    if i == 0:\n",
    "        ax[i][0].set_ylim(-0.1, 1.1)\n",
    "        ax[i][1].set_ylim(-0.1, 1.1)\n",
    "    else:\n",
    "        ax[i][0].set_ylim(-1.1, 1.1)\n",
    "        ax[i][1].set_ylim(-1.1, 1.1)\n",
    "\n",
    "fig.tight_layout()\n",
    "plt.show()"
   ]
  },
  {
   "cell_type": "code",
   "execution_count": null,
   "metadata": {},
   "outputs": [],
   "source": [
    "a1i[0]"
   ]
  },
  {
   "cell_type": "code",
   "execution_count": null,
   "metadata": {},
   "outputs": [],
   "source": []
  }
 ],
 "metadata": {
  "kernelspec": {
   "display_name": "Python 3",
   "language": "python",
   "name": "python3"
  },
  "language_info": {
   "codemirror_mode": {
    "name": "ipython",
    "version": 3
   },
   "file_extension": ".py",
   "mimetype": "text/x-python",
   "name": "python",
   "nbconvert_exporter": "python",
   "pygments_lexer": "ipython3",
   "version": "3.6.7"
  }
 },
 "nbformat": 4,
 "nbformat_minor": 2
}
