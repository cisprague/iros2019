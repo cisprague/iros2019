{
 "cells": [
  {
   "cell_type": "markdown",
   "metadata": {},
   "source": [
    "# Homotopic optimal control of interplanetary spacecraft\n",
    "\n",
    "## Dynamics"
   ]
  },
  {
   "cell_type": "code",
   "execution_count": 21,
   "metadata": {},
   "outputs": [],
   "source": [
    "from sympy import *\n",
    "init_printing()"
   ]
  },
  {
   "cell_type": "code",
   "execution_count": 22,
   "metadata": {},
   "outputs": [
    {
     "data": {
      "text/latex": [
       "$$\\left[\\begin{matrix}x & y & z & v_{x} & v_{y} & v_{z} & m\\end{matrix}\\right]$$"
      ],
      "text/plain": [
       "[x  y  z  vₓ  v_y  v_z  m]"
      ]
     },
     "execution_count": 22,
     "metadata": {},
     "output_type": "execute_result"
    }
   ],
   "source": [
    "# state variables\n",
    "x, y, z, vx, vy, vz = symbols('x y z v_x v_y v_z', real=True)\n",
    "m = symbols('m', real=True, nonnegative=True)\n",
    "\n",
    "# position\n",
    "p = Matrix([x, y, z])\n",
    "\n",
    "# velocity\n",
    "v = Matrix([vx, vy, vz])\n",
    "\n",
    "# state\n",
    "s = Matrix([p, v, [m]])\n",
    "s.T"
   ]
  },
  {
   "cell_type": "code",
   "execution_count": 23,
   "metadata": {},
   "outputs": [
    {
     "data": {
      "text/latex": [
       "$$\\left[\\begin{matrix}v_{x}\\\\v_{y}\\\\v_{z}\\\\\\frac{\\hat{u}_x c_{1} u}{m} - \\frac{\\mu x}{\\left(x^{2} + y^{2} + z^{2}\\right)^{\\frac{3}{2}}}\\\\\\frac{\\hat{u}_y c_{1} u}{m} - \\frac{\\mu y}{\\left(x^{2} + y^{2} + z^{2}\\right)^{\\frac{3}{2}}}\\\\\\frac{\\hat{u}_z c_{1} u}{m} - \\frac{\\mu z}{\\left(x^{2} + y^{2} + z^{2}\\right)^{\\frac{3}{2}}}\\\\- c_{2} u\\end{matrix}\\right]$$"
      ],
      "text/plain": [
       "⎡                vₓ                ⎤\n",
       "⎢                                  ⎥\n",
       "⎢               v_y                ⎥\n",
       "⎢                                  ⎥\n",
       "⎢               v_z                ⎥\n",
       "⎢                                  ⎥\n",
       "⎢\\hat{u}ₓ⋅c₁⋅u         \\mu⋅x       ⎥\n",
       "⎢───────────── - ───────────────── ⎥\n",
       "⎢      m                       3/2 ⎥\n",
       "⎢                ⎛ 2    2    2⎞    ⎥\n",
       "⎢                ⎝x  + y  + z ⎠    ⎥\n",
       "⎢                                  ⎥\n",
       "⎢\\hat{u}_y⋅c₁⋅u         \\mu⋅y      ⎥\n",
       "⎢────────────── - ─────────────────⎥\n",
       "⎢      m                        3/2⎥\n",
       "⎢                 ⎛ 2    2    2⎞   ⎥\n",
       "⎢                 ⎝x  + y  + z ⎠   ⎥\n",
       "⎢                                  ⎥\n",
       "⎢\\hat{u}_z⋅c₁⋅u         \\mu⋅z      ⎥\n",
       "⎢────────────── - ─────────────────⎥\n",
       "⎢      m                        3/2⎥\n",
       "⎢                 ⎛ 2    2    2⎞   ⎥\n",
       "⎢                 ⎝x  + y  + z ⎠   ⎥\n",
       "⎢                                  ⎥\n",
       "⎣              -c₂⋅u               ⎦"
      ]
     },
     "execution_count": 23,
     "metadata": {},
     "output_type": "execute_result"
    }
   ],
   "source": [
    "# control parameters\n",
    "um = symbols('u', real=True, positive=True)\n",
    "ux, uy, uz =symbols('\\\\hat{u}_x \\\\hat{u}_y \\\\hat{u}_z', real=True)\n",
    "uh = Matrix([ux, uy, uz])\n",
    "u = Matrix([[um], uh])\n",
    "\n",
    "# constants\n",
    "c1, c2, mu = symbols('c_1 c_2 \\\\mu', real=True, positive=True)\n",
    "\n",
    "# equations of motion\n",
    "ds = Matrix([\n",
    "    v,\n",
    "    (-mu/((x**2 + y**2 + z**2)**(Rational(3/2))))*(p) + (c1*um/m)*uh,\n",
    "    [-c2*um]\n",
    "])\n",
    "ds"
   ]
  },
  {
   "cell_type": "code",
   "execution_count": 24,
   "metadata": {},
   "outputs": [
    {
     "data": {
      "image/png": "[encoded data removed]",
      "text/latex": [
       "$$\\beta \\left(\\alpha + u \\left(- \\alpha + 1\\right)\\right) + u^{2} \\left(- \\beta + 1\\right)$$"
      ],
      "text/plain": [
       "                                    2             \n",
       "\\beta⋅(\\alpha + u⋅(-\\alpha + 1)) + u ⋅(-\\beta + 1)"
      ]
     },
     "execution_count": 24,
     "metadata": {},
     "output_type": "execute_result"
    }
   ],
   "source": [
    "# homotopy parameter\n",
    "alpha, beta = symbols('\\\\alpha \\\\beta', real=True, nonnegative=True)\n",
    "\n",
    "# Lagrangian\n",
    "L = alpha + (1-alpha)*um\n",
    "L = beta*L + (1-beta)*um**2\n",
    "L"
   ]
  },
  {
   "cell_type": "code",
   "execution_count": 25,
   "metadata": {},
   "outputs": [
    {
     "data": {
      "text/latex": [
       "$$\\left[\\begin{matrix}\\lambda_{x} & \\lambda_{y} & \\lambda_{z} & \\lambda_{v_x} & \\lambda_{v_y} & \\lambda_{v_z} & \\lambda_{m}\\end{matrix}\\right]$$"
      ],
      "text/plain": [
       "[\\lambda_{x}  \\lambda_{y}  \\lambda_{z}  \\lambda_{v_x}  \\lambda_{v_y}  \\lambda_\n",
       "{v_z}  \\lambda_{m}]"
      ]
     },
     "execution_count": 25,
     "metadata": {},
     "output_type": "execute_result"
    }
   ],
   "source": [
    " # costate variables\n",
    "l = Matrix(symbols(['\\\\lambda_{' + str(var) + '}' for var in s]), real=True)\n",
    "l.T"
   ]
  },
  {
   "cell_type": "code",
   "execution_count": 26,
   "metadata": {},
   "outputs": [
    {
     "data": {
      "image/png": "[encoded data removed]",
      "text/latex": [
       "$$\\beta \\left(\\alpha + u \\left(- \\alpha + 1\\right)\\right) - \\lambda_{m} c_{2} u + \\lambda_{v_x} \\left(\\frac{\\hat{u}_x c_{1} u}{m} - \\frac{\\mu x}{\\left(x^{2} + y^{2} + z^{2}\\right)^{\\frac{3}{2}}}\\right) + \\lambda_{v_y} \\left(\\frac{\\hat{u}_y c_{1} u}{m} - \\frac{\\mu y}{\\left(x^{2} + y^{2} + z^{2}\\right)^{\\frac{3}{2}}}\\right) + \\lambda_{v_z} \\left(\\frac{\\hat{u}_z c_{1} u}{m} - \\frac{\\mu z}{\\left(x^{2} + y^{2} + z^{2}\\right)^{\\frac{3}{2}}}\\right) + \\lambda_{x} v_{x} + \\lambda_{y} v_{y} + \\lambda_{z} v_{z} + u^{2} \\left(- \\beta + 1\\right)$$"
      ],
      "text/plain": [
       "                                                                    ⎛\\hat{u}ₓ⋅\n",
       "\\beta⋅(\\alpha + u⋅(-\\alpha + 1)) - \\lambda_{m}⋅c₂⋅u + \\lambda_{v_x}⋅⎜─────────\n",
       "                                                                    ⎜      m  \n",
       "                                                                    ⎜         \n",
       "                                                                    ⎝         \n",
       "\n",
       "c₁⋅u         \\mu⋅x      ⎞                 ⎛\\hat{u}_y⋅c₁⋅u         \\mu⋅y      ⎞\n",
       "──── - ─────────────────⎟ + \\lambda_{v_y}⋅⎜────────────── - ─────────────────⎟\n",
       "                     3/2⎟                 ⎜      m                        3/2⎟\n",
       "       ⎛ 2    2    2⎞   ⎟                 ⎜                 ⎛ 2    2    2⎞   ⎟\n",
       "       ⎝x  + y  + z ⎠   ⎠                 ⎝                 ⎝x  + y  + z ⎠   ⎠\n",
       "\n",
       "                 ⎛\\hat{u}_z⋅c₁⋅u         \\mu⋅z      ⎞                         \n",
       " + \\lambda_{v_z}⋅⎜────────────── - ─────────────────⎟ + \\lambda_{x}⋅vₓ + \\lamb\n",
       "                 ⎜      m                        3/2⎟                         \n",
       "                 ⎜                 ⎛ 2    2    2⎞   ⎟                         \n",
       "                 ⎝                 ⎝x  + y  + z ⎠   ⎠                         \n",
       "\n",
       "                                2             \n",
       "da_{y}⋅v_y + \\lambda_{z}⋅v_z + u ⋅(-\\beta + 1)\n",
       "                                              \n",
       "                                              \n",
       "                                              "
      ]
     },
     "execution_count": 26,
     "metadata": {},
     "output_type": "execute_result"
    }
   ],
   "source": [
    "# Hamiltonian\n",
    "H = l.dot(ds) + L\n",
    "H"
   ]
  },
  {
   "cell_type": "code",
   "execution_count": 27,
   "metadata": {},
   "outputs": [
    {
     "data": {
      "text/latex": [
       "$$\\left[\\begin{matrix}- \\frac{\\lambda_{v_x}}{\\sqrt{\\lambda_{v_x}^{2} + \\lambda_{v_y}^{2} + \\lambda_{v_z}^{2}}}\\\\- \\frac{\\lambda_{v_y}}{\\sqrt{\\lambda_{v_x}^{2} + \\lambda_{v_y}^{2} + \\lambda_{v_z}^{2}}}\\\\- \\frac{\\lambda_{v_z}}{\\sqrt{\\lambda_{v_x}^{2} + \\lambda_{v_y}^{2} + \\lambda_{v_z}^{2}}}\\end{matrix}\\right]$$"
      ],
      "text/plain": [
       "⎡                   -\\lambda_{v_x}                    ⎤\n",
       "⎢─────────────────────────────────────────────────────⎥\n",
       "⎢   __________________________________________________⎥\n",
       "⎢  ╱              2                2                2 ⎥\n",
       "⎢╲╱  \\lambda_{v_x}  + \\lambda_{v_y}  + \\lambda_{v_z}  ⎥\n",
       "⎢                                                     ⎥\n",
       "⎢                   -\\lambda_{v_y}                    ⎥\n",
       "⎢─────────────────────────────────────────────────────⎥\n",
       "⎢   __________________________________________________⎥\n",
       "⎢  ╱              2                2                2 ⎥\n",
       "⎢╲╱  \\lambda_{v_x}  + \\lambda_{v_y}  + \\lambda_{v_z}  ⎥\n",
       "⎢                                                     ⎥\n",
       "⎢                   -\\lambda_{v_z}                    ⎥\n",
       "⎢─────────────────────────────────────────────────────⎥\n",
       "⎢   __________________________________________________⎥\n",
       "⎢  ╱              2                2                2 ⎥\n",
       "⎣╲╱  \\lambda_{v_x}  + \\lambda_{v_y}  + \\lambda_{v_z}  ⎦"
      ]
     },
     "execution_count": 27,
     "metadata": {},
     "output_type": "execute_result"
    }
   ],
   "source": [
    "# minimise Hamiltonian w.r.t. controls\n",
    "lv = Matrix(l[3:6])\n",
    "uhs = -lv/sqrt(sum([var**2 for var in lv]))\n",
    "uhs"
   ]
  },
  {
   "cell_type": "code",
   "execution_count": 28,
   "metadata": {},
   "outputs": [
    {
     "data": {
      "image/png": "[encoded data removed]",
      "text/latex": [
       "$$\\frac{- \\alpha \\beta m \\sqrt{\\lambda_{v_x}^{2} + \\lambda_{v_y}^{2} + \\lambda_{v_z}^{2}} + \\beta m \\sqrt{\\lambda_{v_x}^{2} + \\lambda_{v_y}^{2} + \\lambda_{v_z}^{2}} - \\lambda_{m} c_{2} m \\sqrt{\\lambda_{v_x}^{2} + \\lambda_{v_y}^{2} + \\lambda_{v_z}^{2}} - \\lambda_{v_x}^{2} c_{1} - \\lambda_{v_y}^{2} c_{1} - \\lambda_{v_z}^{2} c_{1}}{2 m \\left(\\beta - 1\\right) \\sqrt{\\lambda_{v_x}^{2} + \\lambda_{v_y}^{2} + \\lambda_{v_z}^{2}}}$$"
      ],
      "text/plain": [
       "                    __________________________________________________        \n",
       "                   ╱              2                2                2         \n",
       "- \\alpha⋅\\beta⋅m⋅╲╱  \\lambda_{v_x}  + \\lambda_{v_y}  + \\lambda_{v_z}   + \\beta\n",
       "──────────────────────────────────────────────────────────────────────────────\n",
       "                                                                              \n",
       "                                                                              \n",
       "                                                                              \n",
       "\n",
       "      __________________________________________________                      \n",
       "     ╱              2                2                2                       \n",
       "⋅m⋅╲╱  \\lambda_{v_x}  + \\lambda_{v_y}  + \\lambda_{v_z}   - \\lambda_{m}⋅c₂⋅m⋅╲╱\n",
       "──────────────────────────────────────────────────────────────────────────────\n",
       "                                        ______________________________________\n",
       "                                       ╱              2                2      \n",
       "                     2⋅m⋅(\\beta - 1)⋅╲╱  \\lambda_{v_x}  + \\lambda_{v_y}  + \\la\n",
       "\n",
       " __________________________________________________                           \n",
       "╱              2                2                2                 2          \n",
       "  \\lambda_{v_x}  + \\lambda_{v_y}  + \\lambda_{v_z}   - \\lambda_{v_x} ⋅c₁ - \\lam\n",
       "──────────────────────────────────────────────────────────────────────────────\n",
       "____________                                                                  \n",
       "          2                                                                   \n",
       "mbda_{v_z}                                                                    \n",
       "\n",
       "                                 \n",
       "         2                   2   \n",
       "bda_{v_y} ⋅c₁ - \\lambda_{v_z} ⋅c₁\n",
       "─────────────────────────────────\n",
       "                                 \n",
       "                                 \n",
       "                                 "
      ]
     },
     "execution_count": 28,
     "metadata": {},
     "output_type": "execute_result"
    }
   ],
   "source": [
    "# new Hamiltonian\n",
    "H1 = H.subs(ux, uhs[0]).subs(uy, uhs[1]).subs(uz, uhs[2])\n",
    "ums = solve(H1.diff(um), um)[0]\n",
    "ums"
   ]
  },
  {
   "cell_type": "code",
   "execution_count": 29,
   "metadata": {},
   "outputs": [
    {
     "data": {
      "text/latex": [
       "$$\\left[\\begin{matrix}\\frac{- \\alpha \\beta m \\sqrt{\\lambda_{v_x}^{2} + \\lambda_{v_y}^{2} + \\lambda_{v_z}^{2}} + \\beta m \\sqrt{\\lambda_{v_x}^{2} + \\lambda_{v_y}^{2} + \\lambda_{v_z}^{2}} - \\lambda_{m} c_{2} m \\sqrt{\\lambda_{v_x}^{2} + \\lambda_{v_y}^{2} + \\lambda_{v_z}^{2}} - \\lambda_{v_x}^{2} c_{1} - \\lambda_{v_y}^{2} c_{1} - \\lambda_{v_z}^{2} c_{1}}{2 m \\left(\\beta - 1\\right) \\sqrt{\\lambda_{v_x}^{2} + \\lambda_{v_y}^{2} + \\lambda_{v_z}^{2}}}\\\\- \\frac{\\lambda_{v_x}}{\\sqrt{\\lambda_{v_x}^{2} + \\lambda_{v_y}^{2} + \\lambda_{v_z}^{2}}}\\\\- \\frac{\\lambda_{v_y}}{\\sqrt{\\lambda_{v_x}^{2} + \\lambda_{v_y}^{2} + \\lambda_{v_z}^{2}}}\\\\- \\frac{\\lambda_{v_z}}{\\sqrt{\\lambda_{v_x}^{2} + \\lambda_{v_y}^{2} + \\lambda_{v_z}^{2}}}\\end{matrix}\\right]$$"
      ],
      "text/plain": [
       "⎡                    __________________________________________________       \n",
       "⎢                   ╱              2                2                2        \n",
       "⎢- \\alpha⋅\\beta⋅m⋅╲╱  \\lambda_{v_x}  + \\lambda_{v_y}  + \\lambda_{v_z}   + \\bet\n",
       "⎢─────────────────────────────────────────────────────────────────────────────\n",
       "⎢                                                                             \n",
       "⎢                                                                             \n",
       "⎢                                                                             \n",
       "⎢                                                                             \n",
       "⎢                                                                             \n",
       "⎢                                                                             \n",
       "⎢                                                                             \n",
       "⎢                                                                             \n",
       "⎢                                                                             \n",
       "⎢                                                                             \n",
       "⎢                                                                             \n",
       "⎢                                                                             \n",
       "⎢                                                                             \n",
       "⎢                                                                             \n",
       "⎢                                                                             \n",
       "⎢                                                                             \n",
       "⎢                                                                             \n",
       "⎢                                                                             \n",
       "⎢                                                                             \n",
       "⎢                                                                             \n",
       "⎣                                                                             \n",
       "\n",
       "       __________________________________________________                     \n",
       "      ╱              2                2                2                      \n",
       "a⋅m⋅╲╱  \\lambda_{v_x}  + \\lambda_{v_y}  + \\lambda_{v_z}   - \\lambda_{m}⋅c₂⋅m⋅╲\n",
       "──────────────────────────────────────────────────────────────────────────────\n",
       "                                         _____________________________________\n",
       "                                        ╱              2                2     \n",
       "                      2⋅m⋅(\\beta - 1)⋅╲╱  \\lambda_{v_x}  + \\lambda_{v_y}  + \\l\n",
       "                                                                              \n",
       "                                                 -\\lambda_{v_x}               \n",
       "                              ────────────────────────────────────────────────\n",
       "                                 _____________________________________________\n",
       "                                ╱              2                2             \n",
       "                              ╲╱  \\lambda_{v_x}  + \\lambda_{v_y}  + \\lambda_{v\n",
       "                                                                              \n",
       "                                                 -\\lambda_{v_y}               \n",
       "                              ────────────────────────────────────────────────\n",
       "                                 _____________________________________________\n",
       "                                ╱              2                2             \n",
       "                              ╲╱  \\lambda_{v_x}  + \\lambda_{v_y}  + \\lambda_{v\n",
       "                                                                              \n",
       "                                                 -\\lambda_{v_z}               \n",
       "                              ────────────────────────────────────────────────\n",
       "                                 _____________________________________________\n",
       "                                ╱              2                2             \n",
       "                              ╲╱  \\lambda_{v_x}  + \\lambda_{v_y}  + \\lambda_{v\n",
       "\n",
       "  __________________________________________________                          \n",
       " ╱              2                2                2                 2         \n",
       "╱  \\lambda_{v_x}  + \\lambda_{v_y}  + \\lambda_{v_z}   - \\lambda_{v_x} ⋅c₁ - \\la\n",
       "──────────────────────────────────────────────────────────────────────────────\n",
       "_____________                                                                 \n",
       "           2                                                                  \n",
       "ambda_{v_z}                                                                   \n",
       "                                                                              \n",
       "                                                                              \n",
       "─────                                                                         \n",
       "_____                                                                         \n",
       "   2                                                                          \n",
       "_z}                                                                           \n",
       "                                                                              \n",
       "                                                                              \n",
       "─────                                                                         \n",
       "_____                                                                         \n",
       "   2                                                                          \n",
       "_z}                                                                           \n",
       "                                                                              \n",
       "                                                                              \n",
       "─────                                                                         \n",
       "_____                                                                         \n",
       "   2                                                                          \n",
       "_z}                                                                           \n",
       "\n",
       "                                  ⎤\n",
       "          2                   2   ⎥\n",
       "mbda_{v_y} ⋅c₁ - \\lambda_{v_z} ⋅c₁⎥\n",
       "──────────────────────────────────⎥\n",
       "                                  ⎥\n",
       "                                  ⎥\n",
       "                                  ⎥\n",
       "                                  ⎥\n",
       "                                  ⎥\n",
       "                                  ⎥\n",
       "                                  ⎥\n",
       "                                  ⎥\n",
       "                                  ⎥\n",
       "                                  ⎥\n",
       "                                  ⎥\n",
       "                                  ⎥\n",
       "                                  ⎥\n",
       "                                  ⎥\n",
       "                                  ⎥\n",
       "                                  ⎥\n",
       "                                  ⎥\n",
       "                                  ⎥\n",
       "                                  ⎥\n",
       "                                  ⎥\n",
       "                                  ⎦"
      ]
     },
     "execution_count": 29,
     "metadata": {},
     "output_type": "execute_result"
    }
   ],
   "source": [
    "us = Matrix([[ums], uhs])\n",
    "us"
   ]
  },
  {
   "cell_type": "code",
   "execution_count": 30,
   "metadata": {
    "scrolled": false
   },
   "outputs": [
    {
     "data": {
      "text/latex": [
       "$$\\left[\\begin{matrix}- \\lambda_{v_x} \\left(\\frac{3 \\mu x^{2}}{\\left(x^{2} + y^{2} + z^{2}\\right)^{\\frac{5}{2}}} - \\frac{\\mu}{\\left(x^{2} + y^{2} + z^{2}\\right)^{\\frac{3}{2}}}\\right) - \\frac{3 \\lambda_{v_y} \\mu x y}{\\left(x^{2} + y^{2} + z^{2}\\right)^{\\frac{5}{2}}} - \\frac{3 \\lambda_{v_z} \\mu x z}{\\left(x^{2} + y^{2} + z^{2}\\right)^{\\frac{5}{2}}}\\\\- \\frac{3 \\lambda_{v_x} \\mu x y}{\\left(x^{2} + y^{2} + z^{2}\\right)^{\\frac{5}{2}}} - \\lambda_{v_y} \\left(\\frac{3 \\mu y^{2}}{\\left(x^{2} + y^{2} + z^{2}\\right)^{\\frac{5}{2}}} - \\frac{\\mu}{\\left(x^{2} + y^{2} + z^{2}\\right)^{\\frac{3}{2}}}\\right) - \\frac{3 \\lambda_{v_z} \\mu y z}{\\left(x^{2} + y^{2} + z^{2}\\right)^{\\frac{5}{2}}}\\\\- \\frac{3 \\lambda_{v_x} \\mu x z}{\\left(x^{2} + y^{2} + z^{2}\\right)^{\\frac{5}{2}}} - \\frac{3 \\lambda_{v_y} \\mu y z}{\\left(x^{2} + y^{2} + z^{2}\\right)^{\\frac{5}{2}}} - \\lambda_{v_z} \\left(\\frac{3 \\mu z^{2}}{\\left(x^{2} + y^{2} + z^{2}\\right)^{\\frac{5}{2}}} - \\frac{\\mu}{\\left(x^{2} + y^{2} + z^{2}\\right)^{\\frac{3}{2}}}\\right)\\\\- \\lambda_{x}\\\\- \\lambda_{y}\\\\- \\lambda_{z}\\\\\\frac{\\hat{u}_x \\lambda_{v_x} c_{1} u}{m^{2}} + \\frac{\\hat{u}_y \\lambda_{v_y} c_{1} u}{m^{2}} + \\frac{\\hat{u}_z \\lambda_{v_z} c_{1} u}{m^{2}}\\end{matrix}\\right]$$"
      ],
      "text/plain": [
       "⎡                ⎛            2                        ⎞                      \n",
       "⎢                ⎜     3⋅\\mu⋅x               \\mu       ⎟   3⋅\\lambda_{v_y}⋅\\mu\n",
       "⎢- \\lambda_{v_x}⋅⎜───────────────── - ─────────────────⎟ - ───────────────────\n",
       "⎢                ⎜              5/2                 3/2⎟                    5/\n",
       "⎢                ⎜⎛ 2    2    2⎞      ⎛ 2    2    2⎞   ⎟      ⎛ 2    2    2⎞  \n",
       "⎢                ⎝⎝x  + y  + z ⎠      ⎝x  + y  + z ⎠   ⎠      ⎝x  + y  + z ⎠  \n",
       "⎢                                                                             \n",
       "⎢                                          ⎛            2                     \n",
       "⎢  3⋅\\lambda_{v_x}⋅\\mu⋅x⋅y                 ⎜     3⋅\\mu⋅y               \\mu    \n",
       "⎢- ─────────────────────── - \\lambda_{v_y}⋅⎜───────────────── - ──────────────\n",
       "⎢                   5/2                    ⎜              5/2                 \n",
       "⎢     ⎛ 2    2    2⎞                       ⎜⎛ 2    2    2⎞      ⎛ 2    2    2⎞\n",
       "⎢     ⎝x  + y  + z ⎠                       ⎝⎝x  + y  + z ⎠      ⎝x  + y  + z ⎠\n",
       "⎢                                                                             \n",
       "⎢                                                                    ⎛        \n",
       "⎢  3⋅\\lambda_{v_x}⋅\\mu⋅x⋅z   3⋅\\lambda_{v_y}⋅\\mu⋅y⋅z                 ⎜     3⋅\\\n",
       "⎢- ─────────────────────── - ─────────────────────── - \\lambda_{v_z}⋅⎜────────\n",
       "⎢                   5/2                       5/2                    ⎜        \n",
       "⎢     ⎛ 2    2    2⎞            ⎛ 2    2    2⎞                       ⎜⎛ 2    2\n",
       "⎢     ⎝x  + y  + z ⎠            ⎝x  + y  + z ⎠                       ⎝⎝x  + y \n",
       "⎢                                                                             \n",
       "⎢                                               -\\lambda_{x}                  \n",
       "⎢                                                                             \n",
       "⎢                                               -\\lambda_{y}                  \n",
       "⎢                                                                             \n",
       "⎢                                               -\\lambda_{z}                  \n",
       "⎢                                                                             \n",
       "⎢         \\hat{u}ₓ⋅\\lambda_{v_x}⋅c₁⋅u   \\hat{u}_y⋅\\lambda_{v_y}⋅c₁⋅u   \\hat{u}\n",
       "⎢         ─────────────────────────── + ──────────────────────────── + ───────\n",
       "⎢                       2                             2                       \n",
       "⎣                      m                             m                        \n",
       "\n",
       "                              ⎤\n",
       "⋅x⋅y   3⋅\\lambda_{v_z}⋅\\mu⋅x⋅z⎥\n",
       "──── - ───────────────────────⎥\n",
       "2                       5/2   ⎥\n",
       "          ⎛ 2    2    2⎞      ⎥\n",
       "          ⎝x  + y  + z ⎠      ⎥\n",
       "                              ⎥\n",
       "   ⎞                          ⎥\n",
       "   ⎟   3⋅\\lambda_{v_z}⋅\\mu⋅y⋅z⎥\n",
       "───⎟ - ───────────────────────⎥\n",
       "3/2⎟                    5/2   ⎥\n",
       "   ⎟      ⎛ 2    2    2⎞      ⎥\n",
       "   ⎠      ⎝x  + y  + z ⎠      ⎥\n",
       "                              ⎥\n",
       "    2                        ⎞⎥\n",
       "mu⋅z               \\mu       ⎟⎥\n",
       "───────── - ─────────────────⎟⎥\n",
       "      5/2                 3/2⎟⎥\n",
       "    2⎞      ⎛ 2    2    2⎞   ⎟⎥\n",
       " + z ⎠      ⎝x  + y  + z ⎠   ⎠⎥\n",
       "                              ⎥\n",
       "                              ⎥\n",
       "                              ⎥\n",
       "                              ⎥\n",
       "                              ⎥\n",
       "                              ⎥\n",
       "                              ⎥\n",
       "_z⋅\\lambda_{v_z}⋅c₁⋅u         ⎥\n",
       "─────────────────────         ⎥\n",
       "       2                      ⎥\n",
       "      m                       ⎦"
      ]
     },
     "execution_count": 30,
     "metadata": {},
     "output_type": "execute_result"
    }
   ],
   "source": [
    "# costate equations of motion\n",
    "dl = -H.diff(s)\n",
    "dl"
   ]
  },
  {
   "cell_type": "code",
   "execution_count": null,
   "metadata": {},
   "outputs": [],
   "source": [
    "Matrix([\n",
    "    ums.subs(alpha, 0).subs(beta, 0),\n",
    "    ums.subs(alpha, 0).subs(beta, 1),\n",
    "    ums.subs(alpha, 1).subs(beta, 0),\n",
    "    ums.subs(alpha, 1).subs(beta, 1),\n",
    "    ums.subs(alpha, 0),\n",
    "    ums.subs(alpha, 1),\n",
    "    ums.subs(beta, 0),\n",
    "    ums.subs(beta, 1),\n",
    "    ums\n",
    "])"
   ]
  },
  {
   "cell_type": "code",
   "execution_count": 32,
   "metadata": {},
   "outputs": [
    {
     "data": {
      "image/png": "[encoded data removed]",
      "text/latex": [
       "$$1$$"
      ],
      "text/plain": [
       "1"
      ]
     },
     "execution_count": 32,
     "metadata": {},
     "output_type": "execute_result"
    }
   ],
   "source": [
    "L.subs(beta, 1).subs(alpha, 1)"
   ]
  },
  {
   "cell_type": "markdown",
   "metadata": {},
   "source": [
    "## Base trajectory"
   ]
  },
  {
   "cell_type": "code",
   "execution_count": 12,
   "metadata": {},
   "outputs": [
    {
     "name": "stdout",
     "output_type": "stream",
     "text": [
      "Using matplotlib backend: TkAgg\n"
     ]
    }
   ],
   "source": [
    "import sys, numpy as np, matplotlib.pyplot as plt, pygmo as pg, pykep as pk\n",
    "sys.path.append('../src/')\n",
    "from spacecraft import Spacecraft\n",
    "from indirect import Indirect\n",
    "%matplotlib"
   ]
  },
  {
   "cell_type": "code",
   "execution_count": 2,
   "metadata": {},
   "outputs": [],
   "source": [
    "# instantiate problem\n",
    "seg = Spacecraft(T=0.2, isp=2500, m=1000)"
   ]
  },
  {
   "cell_type": "code",
   "execution_count": 3,
   "metadata": {},
   "outputs": [],
   "source": [
    "# initial state\n",
    "s0 = np.hstack((*pk.planet.jpl_lp('earth').eph(pk.epoch(0)), seg.M))\n",
    "\n",
    "# duration bounds in days\n",
    "Tlb = 100\n",
    "Tub = 500\n",
    "\n",
    "# costates bounds\n",
    "lb = 50\n",
    "\n",
    "# homotopy parameters\n",
    "alpha = 1\n",
    "seg.beta = 0"
   ]
  },
  {
   "cell_type": "code",
   "execution_count": 4,
   "metadata": {},
   "outputs": [],
   "source": [
    "# solve for base trajectory\n",
    "zl, fl, feasl = seg.solve_par(s0, alpha, 200, 450, 50, npar=1000)"
   ]
  },
  {
   "cell_type": "code",
   "execution_count": 6,
   "metadata": {},
   "outputs": [
    {
     "name": "stderr",
     "output_type": "stream",
     "text": [
      "'c' argument looks like a single numeric RGB or RGBA sequence, which should be avoided as value-mapping will have precedence in case its length matches with 'x' & 'y'.  Please use a 2-D array with a single row if you really want to specify the same RGB or RGBA value for all points.\n",
      "'c' argument looks like a single numeric RGB or RGBA sequence, which should be avoided as value-mapping will have precedence in case its length matches with 'x' & 'y'.  Please use a 2-D array with a single row if you really want to specify the same RGB or RGBA value for all points.\n"
     ]
    },
    {
     "data": {
      "image/png": "[encoded data removed]",
      "text/plain": [
       "<Figure size 432x288 with 1 Axes>"
      ]
     },
     "metadata": {
      "needs_background": "light"
     },
     "output_type": "display_data"
    },
    {
     "data": {
      "image/png": "[encoded data removed]",
      "text/plain": [
       "<Figure size 432x288 with 1 Axes>"
      ]
     },
     "metadata": {
      "needs_background": "light"
     },
     "output_type": "display_data"
    }
   ],
   "source": [
    "# plot\n",
    "fig = plt.figure()\n",
    "ax = fig.add_subplot(111, projection='3d')\n",
    "fig1, ax1 = plt.subplots(1)\n",
    "\n",
    "# orbits\n",
    "pk.orbit_plots.plot_planet(\n",
    "    pk.planet.jpl_lp('earth'), pk.epoch(6939.5), color=(0.8, 0.8, 0.8), ax=ax)\n",
    "pk.orbit_plots.plot_planet(\n",
    "    pk.planet.jpl_lp('mars'), pk.epoch(6939.5), color=(0.8, 0.8, 0.8), ax=ax)\n",
    "\n",
    "# trajectories\n",
    "for i, z in enumerate(zl):\n",
    "    \n",
    "    if feasl[i]:\n",
    "        \n",
    "        # simulate\n",
    "        tl, sl, ul = seg.propagate(z[0], s0, z[2:], 0, u=True)\n",
    "\n",
    "        # plot trajectory\n",
    "        ax.plot(sl[:,0], sl[:,1], sl[:,2], \"k-\", alpha=0.5)\n",
    "\n",
    "        ax1.plot(tl, ul[:,0], \"k-\", alpha=0.1)\n",
    "\n",
    "# tidy up\n",
    "ax.set_aspect('equal')\n",
    "ax.grid('False')\n",
    "\n",
    "# Get rid of the panes\n",
    "ax.w_xaxis.set_pane_color((1.0, 1.0, 1.0, 0.0))\n",
    "ax.w_yaxis.set_pane_color((1.0, 1.0, 1.0, 0.0))\n",
    "ax.w_zaxis.set_pane_color((1.0, 1.0, 1.0, 0.0))\n",
    "\n",
    "# Get rid of the spines\n",
    "ax.w_xaxis.line.set_color((1.0, 1.0, 1.0, 0.0))\n",
    "ax.w_yaxis.line.set_color((1.0, 1.0, 1.0, 0.0))\n",
    "ax.w_zaxis.line.set_color((1.0, 1.0, 1.0, 0.0))\n",
    "\n",
    "plt.show()"
   ]
  },
  {
   "cell_type": "markdown",
   "metadata": {},
   "source": [
    "# Policy homotopy in $\\beta \\times [0, 1] : \\alpha = 0$"
   ]
  },
  {
   "cell_type": "code",
   "execution_count": 18,
   "metadata": {},
   "outputs": [
    {
     "name": "stdout",
     "output_type": "stream",
     "text": [
      "Solving at 0.000000, [ 3.66653231e+02  7.40902475e-01  1.42343110e+01 -4.34141166e+01\n",
      " -8.59675197e+00  4.83509509e+01  4.13066530e-02 -9.08458499e+00\n",
      "  6.76564309e+00]\n",
      "Solving at 0.100000, [379.20912013   0.93398202  12.76567896 -45.55493263  -8.26940351\n",
      "  49.99989562   3.00127225  -8.58992837   8.32972382]\n",
      "Solving at 0.200000, [376.07178809   0.88636469  13.50510273 -44.65912524  -7.68863096\n",
      "  49.58162605   1.76240249  -7.79936473   7.71769351]\n",
      "Solving at 0.300000, [373.3730887    0.8447901   14.2300129  -43.96137574  -7.05043982\n",
      "  49.31721231   0.5880371   -6.98175536   7.12604846]\n",
      "Solving at 0.400000, [370.97419662   0.80724101  14.91989833 -43.39411048  -6.35946341\n",
      "  49.1324275   -0.5194005   -6.12778182   6.55214929]\n",
      "Solving at 0.500000, [368.78116672   0.77233707  15.56535532 -42.92708372  -5.62256127\n",
      "  48.99544795  -1.5576188   -5.23763467   5.99608218]\n",
      "Solving at 0.600000, [366.73092558   0.73911517  16.15243173 -42.53139167  -4.84813317\n",
      "  48.87368421  -2.51922981  -4.31768725   5.45867379]\n",
      "Solving at 0.700000, [364.76961731   0.70667516  16.67487066 -42.20503906  -4.04802148\n",
      "  48.76452587  -3.39617419  -3.38007645   4.94398996]\n",
      "Solving at 0.800000, [362.85900754   0.67424489  17.11896667 -41.94733606  -3.23911322\n",
      "  48.66423583  -4.17122358  -2.44446351   4.45890281]\n",
      "Solving at 0.900000, [360.99688396   0.64144518  17.45515527 -41.75205983  -2.44974205\n",
      "  48.56085067  -4.80863775  -1.54266117   4.01706983]\n",
      "Solving at 0.950000, [359.35635512   0.61057677  17.65716927 -41.67060755  -1.74729324\n",
      "  48.51648875  -5.24414842  -0.73229882   3.65659902]\n",
      "Solving at 0.975000, [358.92666008   0.60149646  17.69407578 -41.66522573  -1.5212225\n",
      "  48.52192085  -5.34386098  -0.450748     3.54982772]\n",
      "Solving at 0.987500, [358.92666008   0.60149646  17.69407578 -41.66522573  -1.5212225\n",
      "  48.52192085  -5.34386098  -0.450748     3.54982772]\n",
      "Solving at 0.993750, [358.92666008   0.60149646  17.69407578 -41.66522573  -1.5212225\n",
      "  48.52192085  -5.34386098  -0.450748     3.54982772]\n",
      "Solving at 1.000000, [358.92666008   0.60149646  17.69407578 -41.66522573  -1.5212225\n",
      "  48.52192085  -5.34386098  -0.450748     3.54982772]\n",
      "Solving at 0.996875, [358.92666008   0.60149646  17.69407578 -41.66522573  -1.5212225\n",
      "  48.52192085  -5.34386098  -0.450748     3.54982772]\n"
     ]
    }
   ],
   "source": [
    "# best decision vector\n",
    "zs = [379.20912013,   0.93398202,  12.76567896, -45.55493263,  -8.26940351, 49.99989562, 3.00127225, -8.58992837, 8.32972382]\n",
    "\n",
    "# best homotopy parameter\n",
    "betas = 0\n",
    "\n",
    "# current homotopy parameter\n",
    "seg.beta = betas\n",
    "\n",
    "# constant alpha parameter\n",
    "alpha = 1\n",
    "\n",
    "# solution\n",
    "sols = list()\n",
    "\n",
    "# homotopy loop\n",
    "i = 0\n",
    "while i < 2:\n",
    "    \n",
    "    print('Solving at {:1f}, {}'.format(seg.beta, z))\n",
    "    \n",
    "    # solve\n",
    "    z, f, feas = seg.solve(s0, alpha, 100, zs[0], 1000, z=zs)\n",
    "    \n",
    "    # if succesfull\n",
    "    if feas:\n",
    "        \n",
    "        # best decision vector\n",
    "        zs = z\n",
    "        \n",
    "        # best homotopy parameter\n",
    "        betas = seg.beta\n",
    "        \n",
    "        # record solution\n",
    "        sols.append((zs, betas))\n",
    "        \n",
    "        # finished homotopy\n",
    "        if seg.beta == 1:\n",
    "            print('Finished')\n",
    "            break\n",
    "            \n",
    "        # homotopy boundry\n",
    "        elif seg.beta > 0.99:\n",
    "            seg.beta = 1\n",
    "            i += 1\n",
    "            \n",
    "        # increase parameter\n",
    "        else:\n",
    "            \n",
    "            # bounded step\n",
    "            bstep = min(0.1, (1 + seg.beta)/2. - seg.beta)\n",
    "            \n",
    "            # apply step\n",
    "            seg.beta += bstep\n",
    "            \n",
    "    # failure\n",
    "    else:\n",
    "        \n",
    "        # decrease parameter\n",
    "        seg.beta = (betas + seg.beta)/2."
   ]
  },
  {
   "cell_type": "code",
   "execution_count": 20,
   "metadata": {},
   "outputs": [],
   "source": [
    "#np.save('spacecraft_z_beta_homotopy_alpha_0.npy', np.array(sols))\n",
    "#np.save('spacecraft_z_beta_homotopy_alpha_1.npy', np.array(sols))"
   ]
  },
  {
   "cell_type": "code",
   "execution_count": null,
   "metadata": {},
   "outputs": [],
   "source": [
    "sols = np.load('spacecraft_z_beta_homotopy_alpha_1.npy'); alpha = 1\n",
    "#sols = np.load('spacecraft_z_beta_homotopy_alpha_0.npy'); alpha = 0"
   ]
  },
  {
   "cell_type": "code",
   "execution_count": 19,
   "metadata": {},
   "outputs": [
    {
     "name": "stderr",
     "output_type": "stream",
     "text": [
      "'c' argument looks like a single numeric RGB or RGBA sequence, which should be avoided as value-mapping will have precedence in case its length matches with 'x' & 'y'.  Please use a 2-D array with a single row if you really want to specify the same RGB or RGBA value for all points.\n",
      "'c' argument looks like a single numeric RGB or RGBA sequence, which should be avoided as value-mapping will have precedence in case its length matches with 'x' & 'y'.  Please use a 2-D array with a single row if you really want to specify the same RGB or RGBA value for all points.\n"
     ]
    }
   ],
   "source": [
    "fig = plt.figure()\n",
    "ax = fig.add_subplot(111, projection='3d')\n",
    "\n",
    "fig1, ax1 = plt.subplots(1)\n",
    "\n",
    "# orbits\n",
    "pk.orbit_plots.plot_planet(\n",
    "    pk.planet.jpl_lp('earth'), pk.epoch(0), color=(0.8, 0.8, 0.8), ax=ax)\n",
    "pk.orbit_plots.plot_planet(\n",
    "    pk.planet.jpl_lp('mars'), pk.epoch(0), color=(0.8, 0.8, 0.8), ax=ax, s=0)\n",
    "\n",
    "\n",
    "for i, sol in enumerate(sols):\n",
    "    \n",
    "    # decision vector\n",
    "    z = sol[0]\n",
    "    \n",
    "    # beta homotopy parameter\n",
    "    seg.beta = sol[1]\n",
    "    \n",
    "    # simulate\n",
    "    tl, sl, ul = seg.propagate(z[0], s0, z[2:], alpha, u=True)\n",
    "    \n",
    "    # plot trajectory\n",
    "    if i == 0:\n",
    "        ax.plot(sl[:,0], sl[:,1], sl[:,2], \"k-\", label=r'$\\alpha = {}, \\beta=0$'.format(alpha))\n",
    "        ax1.plot(tl, ul[:,0], \"k-\", label=r'$\\alpha = {}, \\beta=0$'.format(alpha))\n",
    "    elif i == len(sols) - 1:\n",
    "        ax.plot(sl[:,0], sl[:,1], sl[:,2], \"k--\", label=r'$\\alpha = {}, \\beta=1$'.format(alpha))\n",
    "        ax1.plot(tl, ul[:,0], \"k--\", label=r'$\\alpha = {}, \\beta=1$'.format(alpha))\n",
    "    else:   \n",
    "        ax.plot(sl[:,0], sl[:,1], sl[:,2], \"k-\", alpha=0.1)\n",
    "        ax1.plot(tl, ul[:,0], \"k-\", alpha=0.1)\n",
    "    \n",
    "\n",
    "# tidy up\n",
    "ax.set_aspect('equal')\n",
    "ax.grid('False')\n",
    "\n",
    "# Get rid of the panes\n",
    "ax.w_xaxis.set_pane_color((1.0, 1.0, 1.0, 0.0))\n",
    "ax.w_yaxis.set_pane_color((1.0, 1.0, 1.0, 0.0))\n",
    "ax.w_zaxis.set_pane_color((1.0, 1.0, 1.0, 0.0))\n",
    "\n",
    "# Get rid of the spines\n",
    "ax.w_xaxis.line.set_color((1.0, 1.0, 1.0, 0.0))\n",
    "ax.w_yaxis.line.set_color((1.0, 1.0, 1.0, 0.0))\n",
    "ax.w_zaxis.line.set_color((1.0, 1.0, 1.0, 0.0))\n",
    "\n",
    "ax.set_xlabel(r'$x$')\n",
    "ax.set_ylabel(r'$y$')\n",
    "ax.set_zlabel(r'$z$')\n",
    "ax1.set_xlabel(r'$t$')\n",
    "ax1.set_ylabel(r'$u$')\n",
    "ax1.set_ylim(-0.05, 1.05)\n",
    "\n",
    "\n",
    "ax.legend()\n",
    "ax1.legend()\n",
    "fig.tight_layout()\n",
    "#fig.savefig('spacecraft_s_beta_homotopy_alpha_0.pdf', bbox_inches='tight')\n",
    "#fig1.savefig('spacecraft_u_beta_homotopy_alpha_0.pdf', bbox_inches='tight')\n",
    "fig.savefig('spacecraft_s_beta_homotopy_alpha_{}.pdf'.format(alpha), bbox_inches='tight')\n",
    "fig1.savefig('spacecraft_u_beta_homotopy_alpha_{}.pdf'.format(alpha), bbox_inches='tight')\n",
    "\n",
    "plt.show()"
   ]
  },
  {
   "cell_type": "code",
   "execution_count": 38,
   "metadata": {},
   "outputs": [],
   "source": [
    "# homotopy data\n",
    "sols1 = np.load('spacecraft_z_beta_homotopy_alpha_1.npy')\n",
    "sols0 = np.load('spacecraft_z_beta_homotopy_alpha_0.npy')\n",
    "\n",
    "# figure\n",
    "fig, ax = plt.subplots(2, sharex=True)\n",
    "\n",
    "alpha = 0\n",
    "for i, sol in enumerate(sols0):\n",
    "    \n",
    "    # decision vector\n",
    "    z = sol[0]\n",
    "    \n",
    "    # beta homotopy parameter\n",
    "    seg.beta = sol[1]\n",
    "    \n",
    "    # simulate\n",
    "    tl, sl, ul = seg.propagate(z[0], s0, z[2:], alpha, u=True)\n",
    "    \n",
    "    # plot trajectory\n",
    "    if i == 0:\n",
    "        ax[alpha].plot(tl, ul[:,0], \"k-\", label=r'$\\alpha = {}, \\beta=0$'.format(alpha))\n",
    "    elif i == len(sols) - 1:\n",
    "        ax[alpha].plot(tl, ul[:,0], \"k--\", label=r'$\\alpha = {}, \\beta=1$'.format(alpha))\n",
    "    else:\n",
    "        ax[alpha].plot(tl, ul[:,0], \"k-\", alpha=0.1)\n",
    "    \n",
    "alpha = 1\n",
    "for i, sol in enumerate(sols1):\n",
    "    \n",
    "    # decision vector\n",
    "    z = sol[0]\n",
    "    \n",
    "    # beta homotopy parameter\n",
    "    seg.beta = sol[1]\n",
    "    \n",
    "    # simulate\n",
    "    tl, sl, ul = seg.propagate(z[0], s0, z[2:], alpha, u=True)\n",
    "    \n",
    "    # plot trajectory\n",
    "    if i == 0:\n",
    "        ax[alpha].plot(tl, ul[:,0], \"k-\", label=r'$\\alpha = {}, \\beta=0$'.format(alpha))\n",
    "    elif i == len(sols) - 1:\n",
    "        ax[alpha].plot(tl, ul[:,0], \"k--\", label=r'$\\alpha = {}, \\beta=1$'.format(alpha))\n",
    "    else:\n",
    "        ax[alpha].plot(tl, ul[:,0], \"k-\", alpha=0.1)\n",
    "    \n",
    "\n",
    "ax[1].set_xlabel(r'$t$')\n",
    "ax[0].set_ylabel(r'$u$')\n",
    "ax[1].set_ylabel(r'$u$')\n",
    "ax[0].legend()\n",
    "ax[1].legend()\n",
    "ax[0].set_ylim(-0.05, 1.05)\n",
    "ax[1].set_ylim(-0.05, 1.05)\n",
    "plt.show()"
   ]
  },
  {
   "cell_type": "markdown",
   "metadata": {},
   "source": [
    "## Policy homotopy $\\alpha \\times [0, 1] : \\beta = 1$"
   ]
  },
  {
   "cell_type": "code",
   "execution_count": null,
   "metadata": {},
   "outputs": [],
   "source": []
  }
 ],
 "metadata": {
  "kernelspec": {
   "display_name": "Python 3",
   "language": "python",
   "name": "python3"
  },
  "language_info": {
   "codemirror_mode": {
    "name": "ipython",
    "version": 3
   },
   "file_extension": ".py",
   "mimetype": "text/x-python",
   "name": "python",
   "nbconvert_exporter": "python",
   "pygments_lexer": "ipython3",
   "version": "3.6.7"
  }
 },
 "nbformat": 4,
 "nbformat_minor": 2
}
