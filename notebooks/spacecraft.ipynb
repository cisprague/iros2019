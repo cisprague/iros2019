{
 "cells": [
  {
   "cell_type": "markdown",
   "metadata": {},
   "source": [
    "# Homotopic optimal control of interplanetary spacecraft\n",
    "\n",
    "## Dynamics"
   ]
  },
  {
   "cell_type": "code",
   "execution_count": 1,
   "metadata": {},
   "outputs": [],
   "source": [
    "from sympy import *\n",
    "init_printing()"
   ]
  },
  {
   "cell_type": "code",
   "execution_count": 2,
   "metadata": {},
   "outputs": [
    {
     "data": {
      "text/latex": [
       "$$\\left[\\begin{matrix}x & y & z & v_{x} & v_{y} & v_{z} & m\\end{matrix}\\right]$$"
      ],
      "text/plain": [
       "[x  y  z  vₓ  v_y  v_z  m]"
      ]
     },
     "execution_count": 2,
     "metadata": {},
     "output_type": "execute_result"
    }
   ],
   "source": [
    "# state variables\n",
    "x, y, z, vx, vy, vz = symbols('x y z v_x v_y v_z', real=True)\n",
    "m = symbols('m', real=True, nonnegative=True)\n",
    "\n",
    "# position\n",
    "p = Matrix([x, y, z])\n",
    "\n",
    "# velocity\n",
    "v = Matrix([vx, vy, vz])\n",
    "\n",
    "# state\n",
    "s = Matrix([p, v, [m]])\n",
    "s.T"
   ]
  },
  {
   "cell_type": "code",
   "execution_count": 3,
   "metadata": {},
   "outputs": [
    {
     "data": {
      "text/latex": [
       "$$\\left[\\begin{matrix}v_{x}\\\\v_{y}\\\\v_{z}\\\\\\frac{T \\hat{u}_x u}{m} - \\frac{\\mu x}{\\left(x^{2} + y^{2} + z^{2}\\right)^{\\frac{3}{2}}}\\\\\\frac{T \\hat{u}_y u}{m} - \\frac{\\mu y}{\\left(x^{2} + y^{2} + z^{2}\\right)^{\\frac{3}{2}}}\\\\\\frac{T \\hat{u}_z u}{m} - \\frac{\\mu z}{\\left(x^{2} + y^{2} + z^{2}\\right)^{\\frac{3}{2}}}\\\\- \\frac{T u}{I_{sp} g_{0}}\\end{matrix}\\right]$$"
      ],
      "text/plain": [
       "⎡               vₓ                ⎤\n",
       "⎢                                 ⎥\n",
       "⎢               v_y               ⎥\n",
       "⎢                                 ⎥\n",
       "⎢               v_z               ⎥\n",
       "⎢                                 ⎥\n",
       "⎢T⋅\\hat{u}ₓ⋅u         \\mu⋅x       ⎥\n",
       "⎢──────────── - ───────────────── ⎥\n",
       "⎢     m                       3/2 ⎥\n",
       "⎢               ⎛ 2    2    2⎞    ⎥\n",
       "⎢               ⎝x  + y  + z ⎠    ⎥\n",
       "⎢                                 ⎥\n",
       "⎢T⋅\\hat{u}_y⋅u         \\mu⋅y      ⎥\n",
       "⎢───────────── - ─────────────────⎥\n",
       "⎢      m                       3/2⎥\n",
       "⎢                ⎛ 2    2    2⎞   ⎥\n",
       "⎢                ⎝x  + y  + z ⎠   ⎥\n",
       "⎢                                 ⎥\n",
       "⎢T⋅\\hat{u}_z⋅u         \\mu⋅z      ⎥\n",
       "⎢───────────── - ─────────────────⎥\n",
       "⎢      m                       3/2⎥\n",
       "⎢                ⎛ 2    2    2⎞   ⎥\n",
       "⎢                ⎝x  + y  + z ⎠   ⎥\n",
       "⎢                                 ⎥\n",
       "⎢              -T⋅u               ⎥\n",
       "⎢            ─────────            ⎥\n",
       "⎣            I_{sp}⋅g₀            ⎦"
      ]
     },
     "execution_count": 3,
     "metadata": {},
     "output_type": "execute_result"
    }
   ],
   "source": [
    "# control parameters\n",
    "um = symbols('u', real=True, positive=True)\n",
    "ux, uy, uz =symbols('\\\\hat{u}_x \\\\hat{u}_y \\\\hat{u}_z', real=True)\n",
    "uh = Matrix([ux, uy, uz])\n",
    "u = Matrix([[um], uh])\n",
    "\n",
    "# constants\n",
    "c1, c2, mu = symbols('c_1 c_2 \\\\mu', real=True, positive=True)\n",
    "T, isp, mu, g = symbols('T I_{sp} \\\\mu g_0', real=True, positive=True)\n",
    "c1 = T\n",
    "c2 = T/(isp*g)\n",
    "\n",
    "# equations of motion\n",
    "ds = Matrix([\n",
    "    v,\n",
    "    (-mu/((x**2 + y**2 + z**2)**(Rational(3/2))))*(p) + (c1*um/m)*uh,\n",
    "    [-c2*um]\n",
    "])\n",
    "simplify(ds)"
   ]
  },
  {
   "cell_type": "code",
   "execution_count": 4,
   "metadata": {},
   "outputs": [
    {
     "data": {
      "image/png": "[encoded data removed]",
      "text/latex": [
       "$$\\beta \\left(\\alpha - u \\left(\\alpha - 1\\right)\\right) + u^{2} \\left(- \\beta + 1\\right)$$"
      ],
      "text/plain": [
       "                                   2             \n",
       "\\beta⋅(\\alpha - u⋅(\\alpha - 1)) + u ⋅(-\\beta + 1)"
      ]
     },
     "execution_count": 4,
     "metadata": {},
     "output_type": "execute_result"
    }
   ],
   "source": [
    "# homotopy parameter\n",
    "alpha, beta = symbols('\\\\alpha \\\\beta', real=True, nonnegative=True)\n",
    "\n",
    "# Lagrangian\n",
    "L = alpha + (1-alpha)*um\n",
    "L = beta*L + (1-beta)*um**2\n",
    "L.simplify()"
   ]
  },
  {
   "cell_type": "code",
   "execution_count": 5,
   "metadata": {},
   "outputs": [
    {
     "data": {
      "text/latex": [
       "$$\\left[\\begin{matrix}\\lambda_{x} & \\lambda_{y} & \\lambda_{z} & \\lambda_{v_x} & \\lambda_{v_y} & \\lambda_{v_z} & \\lambda_{m}\\end{matrix}\\right]$$"
      ],
      "text/plain": [
       "[\\lambda_{x}  \\lambda_{y}  \\lambda_{z}  \\lambda_{v_x}  \\lambda_{v_y}  \\lambda_\n",
       "{v_z}  \\lambda_{m}]"
      ]
     },
     "execution_count": 5,
     "metadata": {},
     "output_type": "execute_result"
    }
   ],
   "source": [
    " # costate variables\n",
    "l = Matrix(symbols(['\\\\lambda_{' + str(var) + '}' for var in s]), real=True)\n",
    "l.T"
   ]
  },
  {
   "cell_type": "code",
   "execution_count": 6,
   "metadata": {},
   "outputs": [
    {
     "data": {
      "image/png": "[encoded data removed]",
      "text/latex": [
       "$$\\beta \\left(\\alpha + u \\left(- \\alpha + 1\\right)\\right) + \\lambda_{v_x} \\left(\\frac{T \\hat{u}_x u}{m} - \\frac{\\mu x}{\\left(x^{2} + y^{2} + z^{2}\\right)^{\\frac{3}{2}}}\\right) + \\lambda_{v_y} \\left(\\frac{T \\hat{u}_y u}{m} - \\frac{\\mu y}{\\left(x^{2} + y^{2} + z^{2}\\right)^{\\frac{3}{2}}}\\right) + \\lambda_{v_z} \\left(\\frac{T \\hat{u}_z u}{m} - \\frac{\\mu z}{\\left(x^{2} + y^{2} + z^{2}\\right)^{\\frac{3}{2}}}\\right) + \\lambda_{x} v_{x} + \\lambda_{y} v_{y} + \\lambda_{z} v_{z} + u^{2} \\left(- \\beta + 1\\right) - \\frac{T \\lambda_{m} u}{I_{sp} g_{0}}$$"
      ],
      "text/plain": [
       "                                                 ⎛T⋅\\hat{u}ₓ⋅u         \\mu⋅x  \n",
       "\\beta⋅(\\alpha + u⋅(-\\alpha + 1)) + \\lambda_{v_x}⋅⎜──────────── - ─────────────\n",
       "                                                 ⎜     m                      \n",
       "                                                 ⎜               ⎛ 2    2    2\n",
       "                                                 ⎝               ⎝x  + y  + z \n",
       "\n",
       "    ⎞                 ⎛T⋅\\hat{u}_y⋅u         \\mu⋅y      ⎞                 ⎛T⋅\\\n",
       "────⎟ + \\lambda_{v_y}⋅⎜───────────── - ─────────────────⎟ + \\lambda_{v_z}⋅⎜───\n",
       " 3/2⎟                 ⎜      m                       3/2⎟                 ⎜   \n",
       "⎞   ⎟                 ⎜                ⎛ 2    2    2⎞   ⎟                 ⎜   \n",
       "⎠   ⎠                 ⎝                ⎝x  + y  + z ⎠   ⎠                 ⎝   \n",
       "\n",
       "hat{u}_z⋅u         \\mu⋅z      ⎞                                               \n",
       "────────── - ─────────────────⎟ + \\lambda_{x}⋅vₓ + \\lambda_{y}⋅v_y + \\lambda_{\n",
       "   m                       3/2⎟                                               \n",
       "             ⎛ 2    2    2⎞   ⎟                                               \n",
       "             ⎝x  + y  + z ⎠   ⎠                                               \n",
       "\n",
       "          2                T⋅\\lambda_{m}⋅u\n",
       "z}⋅v_z + u ⋅(-\\beta + 1) - ───────────────\n",
       "                              I_{sp}⋅g₀   \n",
       "                                          \n",
       "                                          "
      ]
     },
     "execution_count": 6,
     "metadata": {},
     "output_type": "execute_result"
    }
   ],
   "source": [
    "# Hamiltonian\n",
    "H = l.dot(ds) + L\n",
    "H"
   ]
  },
  {
   "cell_type": "code",
   "execution_count": 7,
   "metadata": {},
   "outputs": [
    {
     "data": {
      "text/latex": [
       "$$\\left[\\begin{matrix}- \\frac{\\lambda_{v_x}}{\\sqrt{\\lambda_{v_x}^{2} + \\lambda_{v_y}^{2} + \\lambda_{v_z}^{2}}}\\\\- \\frac{\\lambda_{v_y}}{\\sqrt{\\lambda_{v_x}^{2} + \\lambda_{v_y}^{2} + \\lambda_{v_z}^{2}}}\\\\- \\frac{\\lambda_{v_z}}{\\sqrt{\\lambda_{v_x}^{2} + \\lambda_{v_y}^{2} + \\lambda_{v_z}^{2}}}\\end{matrix}\\right]$$"
      ],
      "text/plain": [
       "⎡                   -\\lambda_{v_x}                    ⎤\n",
       "⎢─────────────────────────────────────────────────────⎥\n",
       "⎢   __________________________________________________⎥\n",
       "⎢  ╱              2                2                2 ⎥\n",
       "⎢╲╱  \\lambda_{v_x}  + \\lambda_{v_y}  + \\lambda_{v_z}  ⎥\n",
       "⎢                                                     ⎥\n",
       "⎢                   -\\lambda_{v_y}                    ⎥\n",
       "⎢─────────────────────────────────────────────────────⎥\n",
       "⎢   __________________________________________________⎥\n",
       "⎢  ╱              2                2                2 ⎥\n",
       "⎢╲╱  \\lambda_{v_x}  + \\lambda_{v_y}  + \\lambda_{v_z}  ⎥\n",
       "⎢                                                     ⎥\n",
       "⎢                   -\\lambda_{v_z}                    ⎥\n",
       "⎢─────────────────────────────────────────────────────⎥\n",
       "⎢   __________________________________________________⎥\n",
       "⎢  ╱              2                2                2 ⎥\n",
       "⎣╲╱  \\lambda_{v_x}  + \\lambda_{v_y}  + \\lambda_{v_z}  ⎦"
      ]
     },
     "execution_count": 7,
     "metadata": {},
     "output_type": "execute_result"
    }
   ],
   "source": [
    "# minimise Hamiltonian w.r.t. controls\n",
    "lv = Matrix(l[3:6])\n",
    "uhs = -lv/sqrt(sum([var**2 for var in lv]))\n",
    "simplify(uhs)"
   ]
  },
  {
   "cell_type": "code",
   "execution_count": 8,
   "metadata": {},
   "outputs": [
    {
     "data": {
      "image/png": "[encoded data removed]",
      "text/latex": [
       "$$\\frac{- I_{sp} T \\lambda_{v_x}^{2} g_{0} - I_{sp} T \\lambda_{v_y}^{2} g_{0} - I_{sp} T \\lambda_{v_z}^{2} g_{0} - I_{sp} \\alpha \\beta g_{0} m \\sqrt{\\lambda_{v_x}^{2} + \\lambda_{v_y}^{2} + \\lambda_{v_z}^{2}} + I_{sp} \\beta g_{0} m \\sqrt{\\lambda_{v_x}^{2} + \\lambda_{v_y}^{2} + \\lambda_{v_z}^{2}} - T \\lambda_{m} m \\sqrt{\\lambda_{v_x}^{2} + \\lambda_{v_y}^{2} + \\lambda_{v_z}^{2}}}{2 I_{sp} g_{0} m \\left(\\beta - 1\\right) \\sqrt{\\lambda_{v_x}^{2} + \\lambda_{v_y}^{2} + \\lambda_{v_z}^{2}}}$$"
      ],
      "text/plain": [
       "                                                                              \n",
       "                        2                            2                        \n",
       "- I_{sp}⋅T⋅\\lambda_{v_x} ⋅g₀ - I_{sp}⋅T⋅\\lambda_{v_y} ⋅g₀ - I_{sp}⋅T⋅\\lambda_{\n",
       "──────────────────────────────────────────────────────────────────────────────\n",
       "                                                                              \n",
       "                                                                              \n",
       "                                                                              \n",
       "\n",
       "                                       _______________________________________\n",
       "    2                                 ╱              2                2       \n",
       "v_z} ⋅g₀ - I_{sp}⋅\\alpha⋅\\beta⋅g₀⋅m⋅╲╱  \\lambda_{v_x}  + \\lambda_{v_y}  + \\lam\n",
       "──────────────────────────────────────────────────────────────────────────────\n",
       "                                                                    __________\n",
       "                                                                   ╱          \n",
       "                                       2⋅I_{sp}⋅g₀⋅m⋅(\\beta - 1)⋅╲╱  \\lambda_{\n",
       "\n",
       "___________                        ___________________________________________\n",
       "         2                        ╱              2                2           \n",
       "bda_{v_z}   + I_{sp}⋅\\beta⋅g₀⋅m⋅╲╱  \\lambda_{v_x}  + \\lambda_{v_y}  + \\lambda_\n",
       "──────────────────────────────────────────────────────────────────────────────\n",
       "________________________________________                                      \n",
       "    2                2                2                                       \n",
       "v_x}  + \\lambda_{v_y}  + \\lambda_{v_z}                                        \n",
       "\n",
       "_______                      _________________________________________________\n",
       "     2                      ╱              2                2                2\n",
       "{v_z}   - T⋅\\lambda_{m}⋅m⋅╲╱  \\lambda_{v_x}  + \\lambda_{v_y}  + \\lambda_{v_z} \n",
       "──────────────────────────────────────────────────────────────────────────────\n",
       "                                                                              \n",
       "                                                                              \n",
       "                                                                              \n",
       "\n",
       "_\n",
       " \n",
       " \n",
       "─\n",
       " \n",
       " \n",
       " "
      ]
     },
     "execution_count": 8,
     "metadata": {},
     "output_type": "execute_result"
    }
   ],
   "source": [
    "# new Hamiltonian\n",
    "H1 = H.subs(ux, uhs[0]).subs(uy, uhs[1]).subs(uz, uhs[2])\n",
    "ums = solve(H1.diff(um), um)[0]\n",
    "ums.subs(l[3:6,:].norm(), '\\\\lambda_v')"
   ]
  },
  {
   "cell_type": "code",
   "execution_count": 9,
   "metadata": {},
   "outputs": [
    {
     "data": {
      "text/latex": [
       "$$\\left[\\begin{matrix}\\frac{- I_{sp} T \\lambda_{v_x}^{2} g_{0} - I_{sp} T \\lambda_{v_y}^{2} g_{0} - I_{sp} T \\lambda_{v_z}^{2} g_{0} - I_{sp} \\alpha \\beta g_{0} m \\sqrt{\\lambda_{v_x}^{2} + \\lambda_{v_y}^{2} + \\lambda_{v_z}^{2}} + I_{sp} \\beta g_{0} m \\sqrt{\\lambda_{v_x}^{2} + \\lambda_{v_y}^{2} + \\lambda_{v_z}^{2}} - T \\lambda_{m} m \\sqrt{\\lambda_{v_x}^{2} + \\lambda_{v_y}^{2} + \\lambda_{v_z}^{2}}}{2 I_{sp} g_{0} m \\left(\\beta - 1\\right) \\sqrt{\\lambda_{v_x}^{2} + \\lambda_{v_y}^{2} + \\lambda_{v_z}^{2}}}\\\\- \\frac{\\lambda_{v_x}}{\\sqrt{\\lambda_{v_x}^{2} + \\lambda_{v_y}^{2} + \\lambda_{v_z}^{2}}}\\\\- \\frac{\\lambda_{v_y}}{\\sqrt{\\lambda_{v_x}^{2} + \\lambda_{v_y}^{2} + \\lambda_{v_z}^{2}}}\\\\- \\frac{\\lambda_{v_z}}{\\sqrt{\\lambda_{v_x}^{2} + \\lambda_{v_y}^{2} + \\lambda_{v_z}^{2}}}\\end{matrix}\\right]$$"
      ],
      "text/plain": [
       "⎡                                                                             \n",
       "⎢                        2                            2                       \n",
       "⎢- I_{sp}⋅T⋅\\lambda_{v_x} ⋅g₀ - I_{sp}⋅T⋅\\lambda_{v_y} ⋅g₀ - I_{sp}⋅T⋅\\lambda_\n",
       "⎢─────────────────────────────────────────────────────────────────────────────\n",
       "⎢                                                                             \n",
       "⎢                                                                             \n",
       "⎢                                                                             \n",
       "⎢                                                                             \n",
       "⎢                                                                             \n",
       "⎢                                                                             \n",
       "⎢                                                                             \n",
       "⎢                                                                             \n",
       "⎢                                                                             \n",
       "⎢                                                                             \n",
       "⎢                                                                             \n",
       "⎢                                                                             \n",
       "⎢                                                                             \n",
       "⎢                                                                             \n",
       "⎢                                                                             \n",
       "⎢                                                                             \n",
       "⎢                                                                             \n",
       "⎢                                                                             \n",
       "⎢                                                                             \n",
       "⎢                                                                             \n",
       "⎣                                                                             \n",
       "\n",
       "                                        ______________________________________\n",
       "     2                                 ╱              2                2      \n",
       "{v_z} ⋅g₀ - I_{sp}⋅\\alpha⋅\\beta⋅g₀⋅m⋅╲╱  \\lambda_{v_x}  + \\lambda_{v_y}  + \\la\n",
       "──────────────────────────────────────────────────────────────────────────────\n",
       "                                                                     _________\n",
       "                                                                    ╱         \n",
       "                                        2⋅I_{sp}⋅g₀⋅m⋅(\\beta - 1)⋅╲╱  \\lambda_\n",
       "                                                                              \n",
       "                                                                        -\\lamb\n",
       "                                                     ─────────────────────────\n",
       "                                                        ______________________\n",
       "                                                       ╱              2       \n",
       "                                                     ╲╱  \\lambda_{v_x}  + \\lam\n",
       "                                                                              \n",
       "                                                                        -\\lamb\n",
       "                                                     ─────────────────────────\n",
       "                                                        ______________________\n",
       "                                                       ╱              2       \n",
       "                                                     ╲╱  \\lambda_{v_x}  + \\lam\n",
       "                                                                              \n",
       "                                                                        -\\lamb\n",
       "                                                     ─────────────────────────\n",
       "                                                        ______________________\n",
       "                                                       ╱              2       \n",
       "                                                     ╲╱  \\lambda_{v_x}  + \\lam\n",
       "\n",
       "____________                        __________________________________________\n",
       "          2                        ╱              2                2          \n",
       "mbda_{v_z}   + I_{sp}⋅\\beta⋅g₀⋅m⋅╲╱  \\lambda_{v_x}  + \\lambda_{v_y}  + \\lambda\n",
       "──────────────────────────────────────────────────────────────────────────────\n",
       "_________________________________________                                     \n",
       "     2                2                2                                      \n",
       "{v_x}  + \\lambda_{v_y}  + \\lambda_{v_z}                                       \n",
       "                                                                              \n",
       "da_{v_x}                                                                      \n",
       "────────────────────────────                                                  \n",
       "____________________________                                                  \n",
       "         2                2                                                   \n",
       "bda_{v_y}  + \\lambda_{v_z}                                                    \n",
       "                                                                              \n",
       "da_{v_y}                                                                      \n",
       "────────────────────────────                                                  \n",
       "____________________________                                                  \n",
       "         2                2                                                   \n",
       "bda_{v_y}  + \\lambda_{v_z}                                                    \n",
       "                                                                              \n",
       "da_{v_z}                                                                      \n",
       "────────────────────────────                                                  \n",
       "____________________________                                                  \n",
       "         2                2                                                   \n",
       "bda_{v_y}  + \\lambda_{v_z}                                                    \n",
       "\n",
       "________                      ________________________________________________\n",
       "      2                      ╱              2                2                \n",
       "_{v_z}   - T⋅\\lambda_{m}⋅m⋅╲╱  \\lambda_{v_x}  + \\lambda_{v_y}  + \\lambda_{v_z}\n",
       "──────────────────────────────────────────────────────────────────────────────\n",
       "                                                                              \n",
       "                                                                              \n",
       "                                                                              \n",
       "                                                                              \n",
       "                                                                              \n",
       "                                                                              \n",
       "                                                                              \n",
       "                                                                              \n",
       "                                                                              \n",
       "                                                                              \n",
       "                                                                              \n",
       "                                                                              \n",
       "                                                                              \n",
       "                                                                              \n",
       "                                                                              \n",
       "                                                                              \n",
       "                                                                              \n",
       "                                                                              \n",
       "                                                                              \n",
       "                                                                              \n",
       "                                                                              \n",
       "\n",
       "__⎤\n",
       "2 ⎥\n",
       "  ⎥\n",
       "──⎥\n",
       "  ⎥\n",
       "  ⎥\n",
       "  ⎥\n",
       "  ⎥\n",
       "  ⎥\n",
       "  ⎥\n",
       "  ⎥\n",
       "  ⎥\n",
       "  ⎥\n",
       "  ⎥\n",
       "  ⎥\n",
       "  ⎥\n",
       "  ⎥\n",
       "  ⎥\n",
       "  ⎥\n",
       "  ⎥\n",
       "  ⎥\n",
       "  ⎥\n",
       "  ⎥\n",
       "  ⎥\n",
       "  ⎦"
      ]
     },
     "execution_count": 9,
     "metadata": {},
     "output_type": "execute_result"
    }
   ],
   "source": [
    "us = Matrix([[ums], uhs])\n",
    "us"
   ]
  },
  {
   "cell_type": "code",
   "execution_count": 10,
   "metadata": {
    "scrolled": false
   },
   "outputs": [
    {
     "data": {
      "text/latex": [
       "$$\\left[\\begin{matrix}- \\lambda_{v_x} \\left(\\frac{3 \\mu x^{2}}{\\left(x^{2} + y^{2} + z^{2}\\right)^{\\frac{5}{2}}} - \\frac{\\mu}{\\left(x^{2} + y^{2} + z^{2}\\right)^{\\frac{3}{2}}}\\right) - \\frac{3 \\lambda_{v_y} \\mu x y}{\\left(x^{2} + y^{2} + z^{2}\\right)^{\\frac{5}{2}}} - \\frac{3 \\lambda_{v_z} \\mu x z}{\\left(x^{2} + y^{2} + z^{2}\\right)^{\\frac{5}{2}}}\\\\- \\frac{3 \\lambda_{v_x} \\mu x y}{\\left(x^{2} + y^{2} + z^{2}\\right)^{\\frac{5}{2}}} - \\lambda_{v_y} \\left(\\frac{3 \\mu y^{2}}{\\left(x^{2} + y^{2} + z^{2}\\right)^{\\frac{5}{2}}} - \\frac{\\mu}{\\left(x^{2} + y^{2} + z^{2}\\right)^{\\frac{3}{2}}}\\right) - \\frac{3 \\lambda_{v_z} \\mu y z}{\\left(x^{2} + y^{2} + z^{2}\\right)^{\\frac{5}{2}}}\\\\- \\frac{3 \\lambda_{v_x} \\mu x z}{\\left(x^{2} + y^{2} + z^{2}\\right)^{\\frac{5}{2}}} - \\frac{3 \\lambda_{v_y} \\mu y z}{\\left(x^{2} + y^{2} + z^{2}\\right)^{\\frac{5}{2}}} - \\lambda_{v_z} \\left(\\frac{3 \\mu z^{2}}{\\left(x^{2} + y^{2} + z^{2}\\right)^{\\frac{5}{2}}} - \\frac{\\mu}{\\left(x^{2} + y^{2} + z^{2}\\right)^{\\frac{3}{2}}}\\right)\\\\- \\lambda_{x}\\\\- \\lambda_{y}\\\\- \\lambda_{z}\\\\\\frac{T \\hat{u}_x \\lambda_{v_x} u}{m^{2}} + \\frac{T \\hat{u}_y \\lambda_{v_y} u}{m^{2}} + \\frac{T \\hat{u}_z \\lambda_{v_z} u}{m^{2}}\\end{matrix}\\right]$$"
      ],
      "text/plain": [
       "⎡                ⎛            2                        ⎞                      \n",
       "⎢                ⎜     3⋅\\mu⋅x               \\mu       ⎟   3⋅\\lambda_{v_y}⋅\\mu\n",
       "⎢- \\lambda_{v_x}⋅⎜───────────────── - ─────────────────⎟ - ───────────────────\n",
       "⎢                ⎜              5/2                 3/2⎟                    5/\n",
       "⎢                ⎜⎛ 2    2    2⎞      ⎛ 2    2    2⎞   ⎟      ⎛ 2    2    2⎞  \n",
       "⎢                ⎝⎝x  + y  + z ⎠      ⎝x  + y  + z ⎠   ⎠      ⎝x  + y  + z ⎠  \n",
       "⎢                                                                             \n",
       "⎢                                          ⎛            2                     \n",
       "⎢  3⋅\\lambda_{v_x}⋅\\mu⋅x⋅y                 ⎜     3⋅\\mu⋅y               \\mu    \n",
       "⎢- ─────────────────────── - \\lambda_{v_y}⋅⎜───────────────── - ──────────────\n",
       "⎢                   5/2                    ⎜              5/2                 \n",
       "⎢     ⎛ 2    2    2⎞                       ⎜⎛ 2    2    2⎞      ⎛ 2    2    2⎞\n",
       "⎢     ⎝x  + y  + z ⎠                       ⎝⎝x  + y  + z ⎠      ⎝x  + y  + z ⎠\n",
       "⎢                                                                             \n",
       "⎢                                                                    ⎛        \n",
       "⎢  3⋅\\lambda_{v_x}⋅\\mu⋅x⋅z   3⋅\\lambda_{v_y}⋅\\mu⋅y⋅z                 ⎜     3⋅\\\n",
       "⎢- ─────────────────────── - ─────────────────────── - \\lambda_{v_z}⋅⎜────────\n",
       "⎢                   5/2                       5/2                    ⎜        \n",
       "⎢     ⎛ 2    2    2⎞            ⎛ 2    2    2⎞                       ⎜⎛ 2    2\n",
       "⎢     ⎝x  + y  + z ⎠            ⎝x  + y  + z ⎠                       ⎝⎝x  + y \n",
       "⎢                                                                             \n",
       "⎢                                               -\\lambda_{x}                  \n",
       "⎢                                                                             \n",
       "⎢                                               -\\lambda_{y}                  \n",
       "⎢                                                                             \n",
       "⎢                                               -\\lambda_{z}                  \n",
       "⎢                                                                             \n",
       "⎢          T⋅\\hat{u}ₓ⋅\\lambda_{v_x}⋅u   T⋅\\hat{u}_y⋅\\lambda_{v_y}⋅u   T⋅\\hat{u\n",
       "⎢          ────────────────────────── + ─────────────────────────── + ────────\n",
       "⎢                       2                             2                       \n",
       "⎣                      m                             m                        \n",
       "\n",
       "                              ⎤\n",
       "⋅x⋅y   3⋅\\lambda_{v_z}⋅\\mu⋅x⋅z⎥\n",
       "──── - ───────────────────────⎥\n",
       "2                       5/2   ⎥\n",
       "          ⎛ 2    2    2⎞      ⎥\n",
       "          ⎝x  + y  + z ⎠      ⎥\n",
       "                              ⎥\n",
       "   ⎞                          ⎥\n",
       "   ⎟   3⋅\\lambda_{v_z}⋅\\mu⋅y⋅z⎥\n",
       "───⎟ - ───────────────────────⎥\n",
       "3/2⎟                    5/2   ⎥\n",
       "   ⎟      ⎛ 2    2    2⎞      ⎥\n",
       "   ⎠      ⎝x  + y  + z ⎠      ⎥\n",
       "                              ⎥\n",
       "    2                        ⎞⎥\n",
       "mu⋅z               \\mu       ⎟⎥\n",
       "───────── - ─────────────────⎟⎥\n",
       "      5/2                 3/2⎟⎥\n",
       "    2⎞      ⎛ 2    2    2⎞   ⎟⎥\n",
       " + z ⎠      ⎝x  + y  + z ⎠   ⎠⎥\n",
       "                              ⎥\n",
       "                              ⎥\n",
       "                              ⎥\n",
       "                              ⎥\n",
       "                              ⎥\n",
       "                              ⎥\n",
       "                              ⎥\n",
       "}_z⋅\\lambda_{v_z}⋅u           ⎥\n",
       "───────────────────           ⎥\n",
       "      2                       ⎥\n",
       "     m                        ⎦"
      ]
     },
     "execution_count": 10,
     "metadata": {},
     "output_type": "execute_result"
    }
   ],
   "source": [
    "# costate equations of motion\n",
    "dl = -H.diff(s)\n",
    "dl"
   ]
  },
  {
   "cell_type": "code",
   "execution_count": 11,
   "metadata": {},
   "outputs": [
    {
     "data": {
      "text/latex": [
       "$$\\left[\\begin{matrix}- \\frac{- I_{sp} T \\lambda_{v_x}^{2} g_{0} - I_{sp} T \\lambda_{v_y}^{2} g_{0} - I_{sp} T \\lambda_{v_z}^{2} g_{0} - T \\lambda_{m} m \\sqrt{\\lambda_{v_x}^{2} + \\lambda_{v_y}^{2} + \\lambda_{v_z}^{2}}}{2 I_{sp} g_{0} m \\sqrt{\\lambda_{v_x}^{2} + \\lambda_{v_y}^{2} + \\lambda_{v_z}^{2}}}\\\\\\frac{\\tilde{\\infty} \\left(- I_{sp} T \\lambda_{v_x}^{2} g_{0} - I_{sp} T \\lambda_{v_y}^{2} g_{0} - I_{sp} T \\lambda_{v_z}^{2} g_{0} + I_{sp} g_{0} m \\sqrt{\\lambda_{v_x}^{2} + \\lambda_{v_y}^{2} + \\lambda_{v_z}^{2}} - T \\lambda_{m} m \\sqrt{\\lambda_{v_x}^{2} + \\lambda_{v_y}^{2} + \\lambda_{v_z}^{2}}\\right)}{m \\sqrt{\\lambda_{v_x}^{2} + \\lambda_{v_y}^{2} + \\lambda_{v_z}^{2}}}\\\\- \\frac{- I_{sp} T \\lambda_{v_x}^{2} g_{0} - I_{sp} T \\lambda_{v_y}^{2} g_{0} - I_{sp} T \\lambda_{v_z}^{2} g_{0} - T \\lambda_{m} m \\sqrt{\\lambda_{v_x}^{2} + \\lambda_{v_y}^{2} + \\lambda_{v_z}^{2}}}{2 I_{sp} g_{0} m \\sqrt{\\lambda_{v_x}^{2} + \\lambda_{v_y}^{2} + \\lambda_{v_z}^{2}}}\\\\\\frac{\\tilde{\\infty} \\left(- I_{sp} T \\lambda_{v_x}^{2} g_{0} - I_{sp} T \\lambda_{v_y}^{2} g_{0} - I_{sp} T \\lambda_{v_z}^{2} g_{0} - T \\lambda_{m} m \\sqrt{\\lambda_{v_x}^{2} + \\lambda_{v_y}^{2} + \\lambda_{v_z}^{2}}\\right)}{m \\sqrt{\\lambda_{v_x}^{2} + \\lambda_{v_y}^{2} + \\lambda_{v_z}^{2}}}\\\\\\frac{- I_{sp} T \\lambda_{v_x}^{2} g_{0} - I_{sp} T \\lambda_{v_y}^{2} g_{0} - I_{sp} T \\lambda_{v_z}^{2} g_{0} + I_{sp} \\beta g_{0} m \\sqrt{\\lambda_{v_x}^{2} + \\lambda_{v_y}^{2} + \\lambda_{v_z}^{2}} - T \\lambda_{m} m \\sqrt{\\lambda_{v_x}^{2} + \\lambda_{v_y}^{2} + \\lambda_{v_z}^{2}}}{2 I_{sp} g_{0} m \\left(\\beta - 1\\right) \\sqrt{\\lambda_{v_x}^{2} + \\lambda_{v_y}^{2} + \\lambda_{v_z}^{2}}}\\\\\\frac{- I_{sp} T \\lambda_{v_x}^{2} g_{0} - I_{sp} T \\lambda_{v_y}^{2} g_{0} - I_{sp} T \\lambda_{v_z}^{2} g_{0} - T \\lambda_{m} m \\sqrt{\\lambda_{v_x}^{2} + \\lambda_{v_y}^{2} + \\lambda_{v_z}^{2}}}{2 I_{sp} g_{0} m \\left(\\beta - 1\\right) \\sqrt{\\lambda_{v_x}^{2} + \\lambda_{v_y}^{2} + \\lambda_{v_z}^{2}}}\\\\- \\frac{- I_{sp} T \\lambda_{v_x}^{2} g_{0} - I_{sp} T \\lambda_{v_y}^{2} g_{0} - I_{sp} T \\lambda_{v_z}^{2} g_{0} - T \\lambda_{m} m \\sqrt{\\lambda_{v_x}^{2} + \\lambda_{v_y}^{2} + \\lambda_{v_z}^{2}}}{2 I_{sp} g_{0} m \\sqrt{\\lambda_{v_x}^{2} + \\lambda_{v_y}^{2} + \\lambda_{v_z}^{2}}}\\\\\\frac{\\tilde{\\infty} \\left(- I_{sp} T \\lambda_{v_x}^{2} g_{0} - I_{sp} T \\lambda_{v_y}^{2} g_{0} - I_{sp} T \\lambda_{v_z}^{2} g_{0} - I_{sp} \\alpha g_{0} m \\sqrt{\\lambda_{v_x}^{2} + \\lambda_{v_y}^{2} + \\lambda_{v_z}^{2}} + I_{sp} g_{0} m \\sqrt{\\lambda_{v_x}^{2} + \\lambda_{v_y}^{2} + \\lambda_{v_z}^{2}} - T \\lambda_{m} m \\sqrt{\\lambda_{v_x}^{2} + \\lambda_{v_y}^{2} + \\lambda_{v_z}^{2}}\\right)}{m \\sqrt{\\lambda_{v_x}^{2} + \\lambda_{v_y}^{2} + \\lambda_{v_z}^{2}}}\\\\\\frac{- I_{sp} T \\lambda_{v_x}^{2} g_{0} - I_{sp} T \\lambda_{v_y}^{2} g_{0} - I_{sp} T \\lambda_{v_z}^{2} g_{0} - I_{sp} \\alpha \\beta g_{0} m \\sqrt{\\lambda_{v_x}^{2} + \\lambda_{v_y}^{2} + \\lambda_{v_z}^{2}} + I_{sp} \\beta g_{0} m \\sqrt{\\lambda_{v_x}^{2} + \\lambda_{v_y}^{2} + \\lambda_{v_z}^{2}} - T \\lambda_{m} m \\sqrt{\\lambda_{v_x}^{2} + \\lambda_{v_y}^{2} + \\lambda_{v_z}^{2}}}{2 I_{sp} g_{0} m \\left(\\beta - 1\\right) \\sqrt{\\lambda_{v_x}^{2} + \\lambda_{v_y}^{2} + \\lambda_{v_z}^{2}}}\\end{matrix}\\right]$$"
      ],
      "text/plain": [
       "⎡                                                                            ⎛\n",
       "⎢                                                                            ⎜\n",
       "⎢                                                                           -⎝\n",
       "⎢                                                                           ──\n",
       "⎢                                                                             \n",
       "⎢                                                                             \n",
       "⎢                                                                             \n",
       "⎢                                                                             \n",
       "⎢                                            ⎛                                \n",
       "⎢                                            ⎜                        2       \n",
       "⎢                                        zoo⋅⎝- I_{sp}⋅T⋅\\lambda_{v_x} ⋅g₀ - I\n",
       "⎢                                        ─────────────────────────────────────\n",
       "⎢                                                                             \n",
       "⎢                                                                             \n",
       "⎢                                                                             \n",
       "⎢                                                                             \n",
       "⎢                                                                            ⎛\n",
       "⎢                                                                            ⎜\n",
       "⎢                                                                           -⎝\n",
       "⎢                                                                           ──\n",
       "⎢                                                                             \n",
       "⎢                                                                             \n",
       "⎢                                                                             \n",
       "⎢                                                                             \n",
       "⎢                                                                             \n",
       "⎢                                                                             \n",
       "⎢                                                                          zoo\n",
       "⎢                                                                          ───\n",
       "⎢                                                                             \n",
       "⎢                                                                             \n",
       "⎢                                                                             \n",
       "⎢                                                                             \n",
       "⎢                                                                             \n",
       "⎢                                                                2            \n",
       "⎢                                        - I_{sp}⋅T⋅\\lambda_{v_x} ⋅g₀ - I_{sp}\n",
       "⎢                                        ─────────────────────────────────────\n",
       "⎢                                                                             \n",
       "⎢                                                                             \n",
       "⎢                                                                             \n",
       "⎢                                                                             \n",
       "⎢                                                                             \n",
       "⎢                                                                             \n",
       "⎢                                                                             \n",
       "⎢                                                                             \n",
       "⎢                                                                             \n",
       "⎢                                                                             \n",
       "⎢                                                                             \n",
       "⎢                                                                             \n",
       "⎢                                                                            ⎛\n",
       "⎢                                                                            ⎜\n",
       "⎢                                                                           -⎝\n",
       "⎢                                                                           ──\n",
       "⎢                                                                             \n",
       "⎢                                                                             \n",
       "⎢                                                                             \n",
       "⎢                                                                             \n",
       "⎢       ⎛                                                                     \n",
       "⎢       ⎜                        2                            2               \n",
       "⎢   zoo⋅⎝- I_{sp}⋅T⋅\\lambda_{v_x} ⋅g₀ - I_{sp}⋅T⋅\\lambda_{v_y} ⋅g₀ - I_{sp}⋅T⋅\n",
       "⎢   ──────────────────────────────────────────────────────────────────────────\n",
       "⎢                                                                             \n",
       "⎢                                                                             \n",
       "⎢                                                                             \n",
       "⎢                                                                             \n",
       "⎢                                                                             \n",
       "⎢                        2                            2                       \n",
       "⎢- I_{sp}⋅T⋅\\lambda_{v_x} ⋅g₀ - I_{sp}⋅T⋅\\lambda_{v_y} ⋅g₀ - I_{sp}⋅T⋅\\lambda_\n",
       "⎢─────────────────────────────────────────────────────────────────────────────\n",
       "⎢                                                                             \n",
       "⎢                                                                             \n",
       "⎣                                                                             \n",
       "\n",
       "                                                                              \n",
       "                        2                            2                        \n",
       "- I_{sp}⋅T⋅\\lambda_{v_x} ⋅g₀ - I_{sp}⋅T⋅\\lambda_{v_y} ⋅g₀ - I_{sp}⋅T⋅\\lambda_{\n",
       "──────────────────────────────────────────────────────────────────────────────\n",
       "                                                              ________________\n",
       "                                                             ╱              2 \n",
       "                                             2⋅I_{sp}⋅g₀⋅m⋅╲╱  \\lambda_{v_x}  \n",
       "                                                                              \n",
       "                                                                        ______\n",
       "                     2                            2                    ╱      \n",
       "_{sp}⋅T⋅\\lambda_{v_y} ⋅g₀ - I_{sp}⋅T⋅\\lambda_{v_z} ⋅g₀ + I_{sp}⋅g₀⋅m⋅╲╱  \\lamb\n",
       "──────────────────────────────────────────────────────────────────────────────\n",
       "                                                        ______________________\n",
       "                                                       ╱              2       \n",
       "                                                   m⋅╲╱  \\lambda_{v_x}  + \\lam\n",
       "                                                                              \n",
       "                                                                              \n",
       "                        2                            2                        \n",
       "- I_{sp}⋅T⋅\\lambda_{v_x} ⋅g₀ - I_{sp}⋅T⋅\\lambda_{v_y} ⋅g₀ - I_{sp}⋅T⋅\\lambda_{\n",
       "──────────────────────────────────────────────────────────────────────────────\n",
       "                                                              ________________\n",
       "                                                             ╱              2 \n",
       "                                             2⋅I_{sp}⋅g₀⋅m⋅╲╱  \\lambda_{v_x}  \n",
       "                                                                              \n",
       " ⎛                                                                            \n",
       " ⎜                        2                            2                      \n",
       "⋅⎝- I_{sp}⋅T⋅\\lambda_{v_x} ⋅g₀ - I_{sp}⋅T⋅\\lambda_{v_y} ⋅g₀ - I_{sp}⋅T⋅\\lambda\n",
       "──────────────────────────────────────────────────────────────────────────────\n",
       "                                                        ______________________\n",
       "                                                       ╱              2       \n",
       "                                                   m⋅╲╱  \\lambda_{v_x}  + \\lam\n",
       "                                                                              \n",
       "                                                                         _____\n",
       "                2                            2                          ╱     \n",
       "⋅T⋅\\lambda_{v_y} ⋅g₀ - I_{sp}⋅T⋅\\lambda_{v_z} ⋅g₀ + I_{sp}⋅\\beta⋅g₀⋅m⋅╲╱  \\lam\n",
       "──────────────────────────────────────────────────────────────────────────────\n",
       "                                                                    __________\n",
       "                                                                   ╱          \n",
       "                                       2⋅I_{sp}⋅g₀⋅m⋅(\\beta - 1)⋅╲╱  \\lambda_{\n",
       "                                                                              \n",
       "                                                                              \n",
       "                        2                            2                        \n",
       "- I_{sp}⋅T⋅\\lambda_{v_x} ⋅g₀ - I_{sp}⋅T⋅\\lambda_{v_y} ⋅g₀ - I_{sp}⋅T⋅\\lambda_{\n",
       "──────────────────────────────────────────────────────────────────────────────\n",
       "                                                                    __________\n",
       "                                                                   ╱          \n",
       "                                       2⋅I_{sp}⋅g₀⋅m⋅(\\beta - 1)⋅╲╱  \\lambda_{\n",
       "                                                                              \n",
       "                                                                              \n",
       "                        2                            2                        \n",
       "- I_{sp}⋅T⋅\\lambda_{v_x} ⋅g₀ - I_{sp}⋅T⋅\\lambda_{v_y} ⋅g₀ - I_{sp}⋅T⋅\\lambda_{\n",
       "──────────────────────────────────────────────────────────────────────────────\n",
       "                                                              ________________\n",
       "                                                             ╱              2 \n",
       "                                             2⋅I_{sp}⋅g₀⋅m⋅╲╱  \\lambda_{v_x}  \n",
       "                                                                              \n",
       "                                          ____________________________________\n",
       "             2                           ╱              2                2    \n",
       "\\lambda_{v_z} ⋅g₀ - I_{sp}⋅\\alpha⋅g₀⋅m⋅╲╱  \\lambda_{v_x}  + \\lambda_{v_y}  + \\\n",
       "──────────────────────────────────────────────────────────────────────────────\n",
       "                                                         _____________________\n",
       "                                                        ╱              2      \n",
       "                                                    m⋅╲╱  \\lambda_{v_x}  + \\la\n",
       "                                                                              \n",
       "                                        ______________________________________\n",
       "     2                                 ╱              2                2      \n",
       "{v_z} ⋅g₀ - I_{sp}⋅\\alpha⋅\\beta⋅g₀⋅m⋅╲╱  \\lambda_{v_x}  + \\lambda_{v_y}  + \\la\n",
       "──────────────────────────────────────────────────────────────────────────────\n",
       "                                                                     _________\n",
       "                                                                    ╱         \n",
       "                                        2⋅I_{sp}⋅g₀⋅m⋅(\\beta - 1)⋅╲╱  \\lambda_\n",
       "\n",
       "                              ________________________________________________\n",
       "    2                        ╱              2                2                \n",
       "v_z} ⋅g₀ - T⋅\\lambda_{m}⋅m⋅╲╱  \\lambda_{v_x}  + \\lambda_{v_y}  + \\lambda_{v_z}\n",
       "──────────────────────────────────────────────────────────────────────────────\n",
       "__________________________________                                            \n",
       "               2                2                                             \n",
       "+ \\lambda_{v_y}  + \\lambda_{v_z}                                              \n",
       "                                                                              \n",
       "____________________________________________                      ____________\n",
       "        2                2                2                      ╱            \n",
       "da_{v_x}  + \\lambda_{v_y}  + \\lambda_{v_z}   - T⋅\\lambda_{m}⋅m⋅╲╱  \\lambda_{v_\n",
       "──────────────────────────────────────────────────────────────────────────────\n",
       "____________________________                                                  \n",
       "         2                2                                                   \n",
       "bda_{v_y}  + \\lambda_{v_z}                                                    \n",
       "                                                                              \n",
       "                              ________________________________________________\n",
       "    2                        ╱              2                2                \n",
       "v_z} ⋅g₀ - T⋅\\lambda_{m}⋅m⋅╲╱  \\lambda_{v_x}  + \\lambda_{v_y}  + \\lambda_{v_z}\n",
       "──────────────────────────────────────────────────────────────────────────────\n",
       "__________________________________                                            \n",
       "               2                2                                             \n",
       "+ \\lambda_{v_y}  + \\lambda_{v_z}                                              \n",
       "                                                                              \n",
       "                                ______________________________________________\n",
       "      2                        ╱              2                2              \n",
       "_{v_z} ⋅g₀ - T⋅\\lambda_{m}⋅m⋅╲╱  \\lambda_{v_x}  + \\lambda_{v_y}  + \\lambda_{v_\n",
       "──────────────────────────────────────────────────────────────────────────────\n",
       "____________________________                                                  \n",
       "         2                2                                                   \n",
       "bda_{v_y}  + \\lambda_{v_z}                                                    \n",
       "                                                                              \n",
       "_____________________________________________                      ___________\n",
       "         2                2                2                      ╱           \n",
       "bda_{v_x}  + \\lambda_{v_y}  + \\lambda_{v_z}   - T⋅\\lambda_{m}⋅m⋅╲╱  \\lambda_{v\n",
       "──────────────────────────────────────────────────────────────────────────────\n",
       "________________________________________                                      \n",
       "    2                2                2                                       \n",
       "v_x}  + \\lambda_{v_y}  + \\lambda_{v_z}                                        \n",
       "                                                                              \n",
       "                              ________________________________________________\n",
       "    2                        ╱              2                2                \n",
       "v_z} ⋅g₀ - T⋅\\lambda_{m}⋅m⋅╲╱  \\lambda_{v_x}  + \\lambda_{v_y}  + \\lambda_{v_z}\n",
       "──────────────────────────────────────────────────────────────────────────────\n",
       "________________________________________                                      \n",
       "    2                2                2                                       \n",
       "v_x}  + \\lambda_{v_y}  + \\lambda_{v_z}                                        \n",
       "                                                                              \n",
       "                              ________________________________________________\n",
       "    2                        ╱              2                2                \n",
       "v_z} ⋅g₀ - T⋅\\lambda_{m}⋅m⋅╲╱  \\lambda_{v_x}  + \\lambda_{v_y}  + \\lambda_{v_z}\n",
       "──────────────────────────────────────────────────────────────────────────────\n",
       "__________________________________                                            \n",
       "               2                2                                             \n",
       "+ \\lambda_{v_y}  + \\lambda_{v_z}                                              \n",
       "                                                                              \n",
       "______________                  ______________________________________________\n",
       "            2                  ╱              2                2              \n",
       "lambda_{v_z}   + I_{sp}⋅g₀⋅m⋅╲╱  \\lambda_{v_x}  + \\lambda_{v_y}  + \\lambda_{v_\n",
       "──────────────────────────────────────────────────────────────────────────────\n",
       "_____________________________                                                 \n",
       "          2                2                                                  \n",
       "mbda_{v_y}  + \\lambda_{v_z}                                                   \n",
       "                                                                              \n",
       "____________                        __________________________________________\n",
       "          2                        ╱              2                2          \n",
       "mbda_{v_z}   + I_{sp}⋅\\beta⋅g₀⋅m⋅╲╱  \\lambda_{v_x}  + \\lambda_{v_y}  + \\lambda\n",
       "──────────────────────────────────────────────────────────────────────────────\n",
       "_________________________________________                                     \n",
       "     2                2                2                                      \n",
       "{v_x}  + \\lambda_{v_y}  + \\lambda_{v_z}                                       \n",
       "\n",
       "__⎞                                                                           \n",
       "2 ⎟                                                                           \n",
       "  ⎠                                                                           \n",
       "────                                                                          \n",
       "                                                                              \n",
       "                                                                              \n",
       "                                                                              \n",
       "                                                                              \n",
       "______________________________________⎞                                       \n",
       "  2                2                2 ⎟                                       \n",
       "x}  + \\lambda_{v_y}  + \\lambda_{v_z}  ⎠                                       \n",
       "───────────────────────────────────────                                       \n",
       "                                                                              \n",
       "                                                                              \n",
       "                                                                              \n",
       "                                                                              \n",
       "__⎞                                                                           \n",
       "2 ⎟                                                                           \n",
       "  ⎠                                                                           \n",
       "────                                                                          \n",
       "                                                                              \n",
       "                                                                              \n",
       "                                                                              \n",
       "                                                                              \n",
       "____⎞                                                                         \n",
       "  2 ⎟                                                                         \n",
       "z}  ⎠                                                                         \n",
       "─────                                                                         \n",
       "                                                                              \n",
       "                                                                              \n",
       "                                                                              \n",
       "                                                                              \n",
       "_______________________________________                                       \n",
       "   2                2                2                                        \n",
       "_x}  + \\lambda_{v_y}  + \\lambda_{v_z}                                         \n",
       "───────────────────────────────────────                                       \n",
       "                                                                              \n",
       "                                                                              \n",
       "                                                                              \n",
       "                                                                              \n",
       "__                                                                            \n",
       "2                                                                             \n",
       "                                                                              \n",
       "──                                                                            \n",
       "                                                                              \n",
       "                                                                              \n",
       "                                                                              \n",
       "                                                                              \n",
       "__⎞                                                                           \n",
       "2 ⎟                                                                           \n",
       "  ⎠                                                                           \n",
       "────                                                                          \n",
       "                                                                              \n",
       "                                                                              \n",
       "                                                                              \n",
       "                                                                              \n",
       "____                      __________________________________________________⎞ \n",
       "  2                      ╱              2                2                2 ⎟ \n",
       "z}   - T⋅\\lambda_{m}⋅m⋅╲╱  \\lambda_{v_x}  + \\lambda_{v_y}  + \\lambda_{v_z}  ⎠ \n",
       "───────────────────────────────────────────────────────────────────────────── \n",
       "                                                                              \n",
       "                                                                              \n",
       "                                                                              \n",
       "                                                                              \n",
       "________                      ________________________________________________\n",
       "      2                      ╱              2                2                \n",
       "_{v_z}   - T⋅\\lambda_{m}⋅m⋅╲╱  \\lambda_{v_x}  + \\lambda_{v_y}  + \\lambda_{v_z}\n",
       "──────────────────────────────────────────────────────────────────────────────\n",
       "                                                                              \n",
       "                                                                              \n",
       "                                                                              \n",
       "\n",
       "  ⎤\n",
       "  ⎥\n",
       "  ⎥\n",
       "  ⎥\n",
       "  ⎥\n",
       "  ⎥\n",
       "  ⎥\n",
       "  ⎥\n",
       "  ⎥\n",
       "  ⎥\n",
       "  ⎥\n",
       "  ⎥\n",
       "  ⎥\n",
       "  ⎥\n",
       "  ⎥\n",
       "  ⎥\n",
       "  ⎥\n",
       "  ⎥\n",
       "  ⎥\n",
       "  ⎥\n",
       "  ⎥\n",
       "  ⎥\n",
       "  ⎥\n",
       "  ⎥\n",
       "  ⎥\n",
       "  ⎥\n",
       "  ⎥\n",
       "  ⎥\n",
       "  ⎥\n",
       "  ⎥\n",
       "  ⎥\n",
       "  ⎥\n",
       "  ⎥\n",
       "  ⎥\n",
       "  ⎥\n",
       "  ⎥\n",
       "  ⎥\n",
       "  ⎥\n",
       "  ⎥\n",
       "  ⎥\n",
       "  ⎥\n",
       "  ⎥\n",
       "  ⎥\n",
       "  ⎥\n",
       "  ⎥\n",
       "  ⎥\n",
       "  ⎥\n",
       "  ⎥\n",
       "  ⎥\n",
       "  ⎥\n",
       "  ⎥\n",
       "  ⎥\n",
       "  ⎥\n",
       "  ⎥\n",
       "  ⎥\n",
       "  ⎥\n",
       "  ⎥\n",
       "  ⎥\n",
       "  ⎥\n",
       "  ⎥\n",
       "  ⎥\n",
       "  ⎥\n",
       "  ⎥\n",
       "  ⎥\n",
       "__⎥\n",
       "2 ⎥\n",
       "  ⎥\n",
       "──⎥\n",
       "  ⎥\n",
       "  ⎥\n",
       "  ⎦"
      ]
     },
     "execution_count": 11,
     "metadata": {},
     "output_type": "execute_result"
    }
   ],
   "source": [
    "Matrix([\n",
    "    ums.subs(alpha, 0).subs(beta, 0),\n",
    "    ums.subs(alpha, 0).subs(beta, 1),\n",
    "    ums.subs(alpha, 1).subs(beta, 0),\n",
    "    ums.subs(alpha, 1).subs(beta, 1),\n",
    "    ums.subs(alpha, 0),\n",
    "    ums.subs(alpha, 1),\n",
    "    ums.subs(beta, 0),\n",
    "    ums.subs(beta, 1),\n",
    "    ums\n",
    "])"
   ]
  },
  {
   "cell_type": "code",
   "execution_count": 12,
   "metadata": {},
   "outputs": [
    {
     "data": {
      "image/png": "[encoded data removed]",
      "text/latex": [
       "$$\\frac{\\lambda_{v_x} v_{x} \\left(x^{2} + y^{2} + z^{2}\\right)^{\\frac{3}{2}} + \\lambda_{v_y} v_{y} \\left(x^{2} + y^{2} + z^{2}\\right)^{\\frac{3}{2}} + \\lambda_{v_z} v_{z} \\left(x^{2} + y^{2} + z^{2}\\right)^{\\frac{3}{2}} - \\lambda_{x} \\mu x - \\lambda_{y} \\mu y - \\lambda_{z} \\mu z}{\\sqrt{\\mu^{2} x^{2} + \\mu^{2} y^{2} + \\mu^{2} z^{2} + \\left(v_{x}^{2} + v_{y}^{2} + v_{z}^{2}\\right) \\left(x^{2} + y^{2} + z^{2}\\right)^{3}}}$$"
      ],
      "text/plain": [
       "                               3/2                                   3/2      \n",
       "                 ⎛ 2    2    2⎞                        ⎛ 2    2    2⎞         \n",
       "\\lambda_{v_x}⋅vₓ⋅⎝x  + y  + z ⎠    + \\lambda_{v_y}⋅v_y⋅⎝x  + y  + z ⎠    + \\la\n",
       "──────────────────────────────────────────────────────────────────────────────\n",
       "                                                     _________________________\n",
       "                                                    ╱                         \n",
       "                                                   ╱     2  2      2  2      2\n",
       "                                                 ╲╱   \\mu ⋅x  + \\mu ⋅y  + \\mu \n",
       "\n",
       "                             3/2                                              \n",
       "               ⎛ 2    2    2⎞                                                 \n",
       "mbda_{v_z}⋅v_z⋅⎝x  + y  + z ⎠    - \\lambda_{x}⋅\\mu⋅x - \\lambda_{y}⋅\\mu⋅y - \\la\n",
       "──────────────────────────────────────────────────────────────────────────────\n",
       "__________________________________________                                    \n",
       "                                        3                                     \n",
       "  2   ⎛  2      2      2⎞ ⎛ 2    2    2⎞                                      \n",
       "⋅z  + ⎝vₓ  + v_y  + v_z ⎠⋅⎝x  + y  + z ⎠                                      \n",
       "\n",
       "              \n",
       "              \n",
       "mbda_{z}⋅\\mu⋅z\n",
       "──────────────\n",
       "              \n",
       "              \n",
       "              \n",
       "              "
      ]
     },
     "execution_count": 12,
     "metadata": {},
     "output_type": "execute_result"
    }
   ],
   "source": [
    "tangent = Matrix([\n",
    "    (-mu/(p.norm()**3))*p,\n",
    "    v\n",
    "])\n",
    "tangent = tangent/tangent.norm()\n",
    "l[:-1, :].dot(tangent).simplify()"
   ]
  },
  {
   "cell_type": "code",
   "execution_count": 13,
   "metadata": {},
   "outputs": [
    {
     "data": {
      "image/png": "[encoded data removed]",
      "text/latex": [
       "$$\\frac{\\tilde{\\infty} \\left(\\lambda_{m} m \\sqrt{\\lambda_{v_x}^{2} + \\lambda_{v_y}^{2} + \\lambda_{v_z}^{2}} + \\lambda_{v_x}^{2} + \\lambda_{v_y}^{2} + \\lambda_{v_z}^{2} + m \\sqrt{\\lambda_{v_x}^{2} + \\lambda_{v_y}^{2} + \\lambda_{v_z}^{2}}\\right)}{m \\sqrt{\\lambda_{v_x}^{2} + \\lambda_{v_y}^{2} + \\lambda_{v_z}^{2}}}$$"
      ],
      "text/plain": [
       "    ⎛                 __________________________________________________      \n",
       "    ⎜                ╱              2                2                2       \n",
       "zoo⋅⎝\\lambda_{m}⋅m⋅╲╱  \\lambda_{v_x}  + \\lambda_{v_y}  + \\lambda_{v_z}   + \\la\n",
       "──────────────────────────────────────────────────────────────────────────────\n",
       "                                                                    __________\n",
       "                                                                   ╱          \n",
       "                                                               m⋅╲╱  \\lambda_{\n",
       "\n",
       "                                                     _________________________\n",
       "          2                2                2       ╱              2          \n",
       "mbda_{v_x}  + \\lambda_{v_y}  + \\lambda_{v_z}  + m⋅╲╱  \\lambda_{v_x}  + \\lambda\n",
       "──────────────────────────────────────────────────────────────────────────────\n",
       "________________________________________                                      \n",
       "    2                2                2                                       \n",
       "v_x}  + \\lambda_{v_y}  + \\lambda_{v_z}                                        \n",
       "\n",
       "_________________________⎞\n",
       "      2                2 ⎟\n",
       "_{v_y}  + \\lambda_{v_z}  ⎠\n",
       "──────────────────────────\n",
       "                          \n",
       "                          \n",
       "                          "
      ]
     },
     "execution_count": 13,
     "metadata": {},
     "output_type": "execute_result"
    }
   ],
   "source": [
    "ums.subs(alpha, 0).subs(beta, 1).simplify()"
   ]
  },
  {
   "cell_type": "markdown",
   "metadata": {},
   "source": [
    "## Base trajectory"
   ]
  },
  {
   "cell_type": "code",
   "execution_count": 14,
   "metadata": {},
   "outputs": [
    {
     "name": "stdout",
     "output_type": "stream",
     "text": [
      "Using matplotlib backend: TkAgg\n"
     ]
    }
   ],
   "source": [
    "import sys, numpy as np, matplotlib.pyplot as plt, pygmo as pg, pykep as pk\n",
    "sys.path.append('../src/')\n",
    "from spacecraft import Spacecraft\n",
    "from indirect import Indirect\n",
    "%matplotlib"
   ]
  },
  {
   "cell_type": "code",
   "execution_count": 15,
   "metadata": {},
   "outputs": [],
   "source": [
    "# instantiate problem\n",
    "seg = Spacecraft(T=0.2, isp=2500, m=1000)"
   ]
  },
  {
   "cell_type": "code",
   "execution_count": 16,
   "metadata": {},
   "outputs": [],
   "source": [
    "# initial state\n",
    "s0 = np.hstack((*pk.planet.jpl_lp('earth').eph(pk.epoch(0)), seg.M))\n",
    "\n",
    "# homotopy parameters\n",
    "alpha = 0\n",
    "seg.beta = 0\n",
    "\n",
    "# duration bounds in days\n",
    "Tlb = 100\n",
    "Tub = 500\n",
    "\n",
    "# costates bounds\n",
    "lb = 50\n",
    "\n",
    "# decision vector guess\n",
    "zg = [379.20912013,   0.93398202,  12.76567896, -45.55493263,  -8.26940351, 49.99989562, 3.00127225, -8.58992837, 8.32972382]"
   ]
  },
  {
   "cell_type": "code",
   "execution_count": 17,
   "metadata": {},
   "outputs": [],
   "source": [
    "# solve single trajectory\n",
    "z, f, feas = seg.solve(s0, alpha, Tlb, Tub, lb, z=zg)\n",
    "\n",
    "# solve multiple candidate trajectories in parallel\n",
    "#zl, fl, feasl = seg.solve_par(s0, alpha, 200, 450, 50, npar=1000)"
   ]
  },
  {
   "cell_type": "code",
   "execution_count": 18,
   "metadata": {},
   "outputs": [
    {
     "name": "stderr",
     "output_type": "stream",
     "text": [
      "'c' argument looks like a single numeric RGB or RGBA sequence, which should be avoided as value-mapping will have precedence in case its length matches with 'x' & 'y'.  Please use a 2-D array with a single row if you really want to specify the same RGB or RGBA value for all points.\n",
      "'c' argument looks like a single numeric RGB or RGBA sequence, which should be avoided as value-mapping will have precedence in case its length matches with 'x' & 'y'.  Please use a 2-D array with a single row if you really want to specify the same RGB or RGBA value for all points.\n",
      "/usr/local/lib/python3.6/dist-packages/matplotlib/cbook/__init__.py:424: MatplotlibDeprecationWarning: \n",
      "Passing one of 'on', 'true', 'off', 'false' as a boolean is deprecated; use an actual boolean (True/False) instead.\n",
      "  warn_deprecated(\"2.2\", \"Passing one of 'on', 'true', 'off', 'false' as a \"\n"
     ]
    },
    {
     "data": {
      "image/png": "[encoded data removed]",
      "text/plain": [
       "<Figure size 432x288 with 1 Axes>"
      ]
     },
     "metadata": {
      "needs_background": "light"
     },
     "output_type": "display_data"
    }
   ],
   "source": [
    "# plot trajectory\n",
    "tl, sl, ul = seg.propagate(z[0], s0, z[2:], alpha, u=True)\n",
    "ax = seg.plot_traj(sl, alpha=1)\n",
    "plt.show()"
   ]
  },
  {
   "cell_type": "markdown",
   "metadata": {},
   "source": [
    "# Policy homotopy in $\\beta \\times [0, 1] : \\alpha = 0$"
   ]
  },
  {
   "cell_type": "code",
   "execution_count": 19,
   "metadata": {},
   "outputs": [],
   "source": [
    "# homotopy\n",
    "alpha = 0\n",
    "beta = 0\n",
    "betag = 0.999\n",
    "#T = seg.homotopy_beta(s0, alpha, beta, Tlb, Tub, lb, z, betag, step=0.1, verbose=True)\n",
    "Ta0 = np.load('spacecraft_z_beta_homotopy_alpha_0.npy'); alpha = 0"
   ]
  },
  {
   "cell_type": "code",
   "execution_count": 20,
   "metadata": {},
   "outputs": [
    {
     "name": "stderr",
     "output_type": "stream",
     "text": [
      "'c' argument looks like a single numeric RGB or RGBA sequence, which should be avoided as value-mapping will have precedence in case its length matches with 'x' & 'y'.  Please use a 2-D array with a single row if you really want to specify the same RGB or RGBA value for all points.\n",
      "'c' argument looks like a single numeric RGB or RGBA sequence, which should be avoided as value-mapping will have precedence in case its length matches with 'x' & 'y'.  Please use a 2-D array with a single row if you really want to specify the same RGB or RGBA value for all points.\n"
     ]
    },
    {
     "data": {
      "image/png": "[encoded data removed]",
      "text/plain": [
       "<Figure size 432x288 with 1 Axes>"
      ]
     },
     "metadata": {
      "needs_background": "light"
     },
     "output_type": "display_data"
    }
   ],
   "source": [
    "# plot homotopy\n",
    "for i, t in enumerate(Ta0):\n",
    "    z = t[0]\n",
    "    tf = z[0]\n",
    "    l0 = z[2:]\n",
    "    seg.beta = t[1]\n",
    "    tl, sl, ul = seg.propagate(tf, s0, l0, alpha, u=True)\n",
    "    if i == 0:\n",
    "        fig, ax = seg.plot_traj(sl, alpha=1, mark=\"k-\")\n",
    "    elif i == len(Ta0) - 1:\n",
    "        seg.plot_traj(sl, alpha=1, mark=\"k--\", ax=ax)\n",
    "    else:\n",
    "        seg.plot_traj(sl, ax=ax)\n",
    "plt.show()"
   ]
  },
  {
   "cell_type": "markdown",
   "metadata": {},
   "source": [
    "# Policy homotopy in $\\beta \\times [0, 1] : \\alpha = 1$"
   ]
  },
  {
   "cell_type": "code",
   "execution_count": 21,
   "metadata": {},
   "outputs": [],
   "source": [
    "# homotopy\n",
    "alpha = 1\n",
    "beta = 0\n",
    "betag = 0.999\n",
    "#T = seg.homotopy_beta(s0, alpha, beta, Tlb, Tub, lb, z, betag, step=0.1, verbose=True)\n",
    "Ta1 = np.load('spacecraft_z_beta_homotopy_alpha_1.npy'); alpha = 1"
   ]
  },
  {
   "cell_type": "code",
   "execution_count": 22,
   "metadata": {},
   "outputs": [
    {
     "name": "stderr",
     "output_type": "stream",
     "text": [
      "'c' argument looks like a single numeric RGB or RGBA sequence, which should be avoided as value-mapping will have precedence in case its length matches with 'x' & 'y'.  Please use a 2-D array with a single row if you really want to specify the same RGB or RGBA value for all points.\n",
      "'c' argument looks like a single numeric RGB or RGBA sequence, which should be avoided as value-mapping will have precedence in case its length matches with 'x' & 'y'.  Please use a 2-D array with a single row if you really want to specify the same RGB or RGBA value for all points.\n"
     ]
    },
    {
     "data": {
      "image/png": "[encoded data removed]",
      "text/plain": [
       "<Figure size 432x288 with 1 Axes>"
      ]
     },
     "metadata": {
      "needs_background": "light"
     },
     "output_type": "display_data"
    }
   ],
   "source": [
    "# plot homotopy\n",
    "for i, t in enumerate(Ta1):\n",
    "    z = t[0]\n",
    "    tf = z[0]\n",
    "    l0 = z[2:]\n",
    "    seg.beta = t[1]\n",
    "    tl, sl, ul = seg.propagate(tf, s0, l0, alpha, u=True)\n",
    "    if i == 0:\n",
    "        fig, ax = seg.plot_traj(sl, alpha=1, mark=\"k-\")\n",
    "    elif i == len(Ta1) - 1:\n",
    "        seg.plot_traj(sl, alpha=1, mark=\"k--\", ax=ax)\n",
    "    else:\n",
    "        seg.plot_traj(sl, ax=ax)\n",
    "plt.show()"
   ]
  },
  {
   "cell_type": "markdown",
   "metadata": {},
   "source": [
    "# Policy homotopy in $\\alpha \\times [0, 1] : \\beta = 1$"
   ]
  },
  {
   "cell_type": "code",
   "execution_count": 23,
   "metadata": {},
   "outputs": [],
   "source": [
    "# homotopy\n",
    "alpha = 0\n",
    "alphag = 1\n",
    "seg.beta = 0.99999\n",
    "z = Ta0[-1][0]\n",
    "#Tb1 = seg.homotopy(s0, alpha, Tlb, Tub, lb, z, alphag, step=0.1, verbose=False)\n",
    "Tb1 = np.load('spacecraft_z_alpha_homotopy_beta_1.npy')"
   ]
  },
  {
   "cell_type": "code",
   "execution_count": 24,
   "metadata": {},
   "outputs": [
    {
     "name": "stderr",
     "output_type": "stream",
     "text": [
      "'c' argument looks like a single numeric RGB or RGBA sequence, which should be avoided as value-mapping will have precedence in case its length matches with 'x' & 'y'.  Please use a 2-D array with a single row if you really want to specify the same RGB or RGBA value for all points.\n",
      "'c' argument looks like a single numeric RGB or RGBA sequence, which should be avoided as value-mapping will have precedence in case its length matches with 'x' & 'y'.  Please use a 2-D array with a single row if you really want to specify the same RGB or RGBA value for all points.\n"
     ]
    },
    {
     "data": {
      "image/png": "[encoded data removed]",
      "text/plain": [
       "<Figure size 432x288 with 1 Axes>"
      ]
     },
     "metadata": {
      "needs_background": "light"
     },
     "output_type": "display_data"
    }
   ],
   "source": [
    "# plot homotopy\n",
    "for i, t in enumerate(Tb1):\n",
    "    z = t[0]\n",
    "    tf = z[0]\n",
    "    l0 = z[2:]\n",
    "    alpha = t[1]\n",
    "    tl, sl, ul = seg.propagate(tf, s0, l0, alpha, u=True)\n",
    "    if i == 0:\n",
    "        fig, ax = seg.plot_traj(sl, alpha=1, mark=\"k-\")\n",
    "    elif i == len(Tb1) - 1:\n",
    "        seg.plot_traj(sl, alpha=1, mark=\"k--\", ax=ax)\n",
    "    else:\n",
    "        seg.plot_traj(sl, ax=ax)\n",
    "plt.show()"
   ]
  },
  {
   "cell_type": "markdown",
   "metadata": {},
   "source": [
    "## Comparing policy homotopies"
   ]
  },
  {
   "cell_type": "code",
   "execution_count": 25,
   "metadata": {},
   "outputs": [
    {
     "data": {
      "image/png": "[encoded data removed]",
      "text/plain": [
       "<Figure size 432x288 with 3 Axes>"
      ]
     },
     "metadata": {
      "needs_background": "light"
     },
     "output_type": "display_data"
    }
   ],
   "source": [
    "# figure\n",
    "fig, ax = plt.subplots(3, sharex=True)\n",
    "\n",
    "alpha = 0\n",
    "for i, sol in enumerate(Ta0):\n",
    "    \n",
    "    # decision vector\n",
    "    z = sol[0]\n",
    "    \n",
    "    # beta homotopy parameter\n",
    "    seg.beta = sol[1]\n",
    "    \n",
    "    # simulate\n",
    "    if i == len(Ta0) - 1:\n",
    "        seg.beta = 0.99999999999\n",
    "        tl, sl, ul = seg.propagate(z[0], s0, z[2:], alpha, u=True)\n",
    "    else:\n",
    "        tl, sl, ul = seg.propagate(z[0], s0, z[2:], alpha, u=True)\n",
    "    \n",
    "    # plot trajectory\n",
    "    if i == 0:\n",
    "        ax[alpha].plot(tl, ul[:,0], \"k-\", label=r'$\\alpha = {}, \\beta=0$'.format(alpha))\n",
    "    elif i == len(Ta0) - 1:\n",
    "        ax[alpha].plot(tl, ul[:,0], \"k--\", label=r'$\\alpha = {}, \\beta=1$'.format(alpha))\n",
    "    else:\n",
    "        ax[alpha].plot(tl, ul[:,0], \"k-\", alpha=0.1)\n",
    "    \n",
    "alpha = 1\n",
    "for i, sol in enumerate(Ta1):\n",
    "    \n",
    "    # decision vector\n",
    "    z = sol[0]\n",
    "    \n",
    "    # beta homotopy parameter\n",
    "    seg.beta = sol[1]\n",
    "    \n",
    "    # simulate\n",
    "    if i == len(Ta1) - 1:\n",
    "        seg.beta = 0.99999999999\n",
    "        tl, sl, ul = seg.propagate(z[0], s0, z[2:], alpha, u=True)\n",
    "    else:\n",
    "        tl, sl, ul = seg.propagate(z[0], s0, z[2:], alpha, u=True)\n",
    "    \n",
    "    # plot trajectory\n",
    "    if i == 0:\n",
    "        ax[alpha].plot(tl, ul[:,0], \"k-\", label=r'$\\alpha = {}, \\beta=0$'.format(alpha))\n",
    "    elif i == len(Ta1) - 1:\n",
    "        ax[alpha].plot(tl, ul[:,0], \"k--\", label=r'$\\alpha = {}, \\beta=1$'.format(alpha))\n",
    "    else:\n",
    "        ax[alpha].plot(tl, ul[:,0], \"k-\", alpha=0.1)\n",
    "        \n",
    "seg.beta = 0.999999999\n",
    "for i, sol in enumerate(Tb1):\n",
    "    \n",
    "    # decision vector\n",
    "    z = sol[0]\n",
    "    \n",
    "    # beta homotopy parameter\n",
    "    alpha = sol[1]\n",
    "    \n",
    "    # simulate\n",
    "    tl, sl, ul = seg.propagate(z[0], s0, z[2:], alpha, u=True)\n",
    "    \n",
    "    # plot trajectory\n",
    "    if i == 0:\n",
    "        ax[2].plot(tl, ul[:,0], \"k-\", label=r'$\\alpha = {}, \\beta=1$'.format(alpha))\n",
    "    elif i == len(Tb1) - 1:\n",
    "        ax[2].plot(tl, ul[:,0], \"k--\", label=r'$\\alpha = {}, \\beta=1$'.format(alpha))\n",
    "    else:\n",
    "        ax[2].plot(tl, ul[:,0], \"k-\", alpha=0.1)\n",
    "    \n",
    "\n",
    "ax[2].set_xlabel(r'$t$')\n",
    "ax[0].set_ylabel(r'$u$')\n",
    "ax[1].set_ylabel(r'$u$')\n",
    "ax[2].set_ylabel(r'$u$')\n",
    "ax[0].legend(loc='lower left')\n",
    "ax[1].legend(loc='lower left')\n",
    "ax[2].legend(loc='lower left')\n",
    "ax[0].set_ylim(-0.05, 1.05)\n",
    "ax[1].set_ylim(-0.05, 1.05)\n",
    "ax[2].set_ylim(-0.05, 1.05)\n",
    "\n",
    "fig.tight_layout()\n",
    "#fig.savefig('spacecraft_u_full_homotopy.pdf', bbox_inches='tight')\n",
    "plt.show()"
   ]
  },
  {
   "cell_type": "markdown",
   "metadata": {},
   "source": [
    "## Random walks at $\\beta = 0$"
   ]
  },
  {
   "cell_type": "code",
   "execution_count": 26,
   "metadata": {},
   "outputs": [],
   "source": [
    "# decision vector and homotopy parameter\n",
    "z, seg.beta = Ta0[0]\n",
    "alpha = 0\n",
    "\n",
    "# number of serial perturbations per walk\n",
    "n = 2\n",
    "\n",
    "# number of walks\n",
    "nw = 4"
   ]
  },
  {
   "cell_type": "code",
   "execution_count": 27,
   "metadata": {},
   "outputs": [
    {
     "name": "stdout",
     "output_type": "stream",
     "text": [
      "Success 1. Step sice now 0.01\n",
      "Success 1. Step sice now 0.01\n",
      "Success 1. Step sice now 0.01\n",
      "Success 1. Step sice now 0.01\n",
      "Success 2. Step sice now 0.01\n",
      "Success 2. Step sice now 0.01\n",
      "Success 2. Step sice now 0.01\n",
      "Success 2. Step sice now 0.01\n"
     ]
    }
   ],
   "source": [
    "# random walks in parallel\n",
    "T = seg.random_walk_par(s0, z, alpha, n, Tlb, Tub, lb, nw, dsm=0.01, verbose=True)"
   ]
  },
  {
   "cell_type": "code",
   "execution_count": 28,
   "metadata": {},
   "outputs": [
    {
     "name": "stderr",
     "output_type": "stream",
     "text": [
      "'c' argument looks like a single numeric RGB or RGBA sequence, which should be avoided as value-mapping will have precedence in case its length matches with 'x' & 'y'.  Please use a 2-D array with a single row if you really want to specify the same RGB or RGBA value for all points.\n",
      "'c' argument looks like a single numeric RGB or RGBA sequence, which should be avoided as value-mapping will have precedence in case its length matches with 'x' & 'y'.  Please use a 2-D array with a single row if you really want to specify the same RGB or RGBA value for all points.\n"
     ]
    },
    {
     "data": {
      "image/png": "[encoded data removed]",
      "text/plain": [
       "<Figure size 432x288 with 1 Axes>"
      ]
     },
     "metadata": {
      "needs_background": "light"
     },
     "output_type": "display_data"
    }
   ],
   "source": [
    "# plot random walks\n",
    "for i, t in enumerate(T):\n",
    "    s0 = t[0]\n",
    "    z = t[1]\n",
    "    tf = z[0]\n",
    "    l0 = z[2:]\n",
    "    tl, sl, ul = seg.propagate(tf, s0, l0, alpha, u=True)\n",
    "    if i == 0:\n",
    "        fig, ax = seg.plot_traj(sl, alpha=1, mark=\"k-\")\n",
    "        ax.set_aspect('equal')\n",
    "    else:\n",
    "        seg.plot_traj(sl, ax=ax, alpha=0.5)\n",
    "plt.show()"
   ]
  },
  {
   "cell_type": "markdown",
   "metadata": {},
   "source": [
    "# Database homotopy $\\beta \\times [0, 1], \\alpha = 0$"
   ]
  },
  {
   "cell_type": "code",
   "execution_count": 62,
   "metadata": {},
   "outputs": [],
   "source": [
    "#res = seg.homotopy_db_beta(T, alpha, beta, Tlb, Tub, lb, betag, step=0.1)\n",
    "res = np.load('spacecraft_db_beta_homotopy_a0.npy')"
   ]
  },
  {
   "cell_type": "code",
   "execution_count": 63,
   "metadata": {},
   "outputs": [
    {
     "name": "stderr",
     "output_type": "stream",
     "text": [
      "'c' argument looks like a single numeric RGB or RGBA sequence, which should be avoided as value-mapping will have precedence in case its length matches with 'x' & 'y'.  Please use a 2-D array with a single row if you really want to specify the same RGB or RGBA value for all points.\n",
      "'c' argument looks like a single numeric RGB or RGBA sequence, which should be avoided as value-mapping will have precedence in case its length matches with 'x' & 'y'.  Please use a 2-D array with a single row if you really want to specify the same RGB or RGBA value for all points.\n"
     ]
    },
    {
     "name": "stdout",
     "output_type": "stream",
     "text": [
      "Using matplotlib backend: TkAgg\n"
     ]
    }
   ],
   "source": [
    "%matplotlib\n",
    "# plot database homotopy\n",
    "for i, r in enumerate(res):\n",
    "    s0, z, seg.beta = r\n",
    "    tf = z[0]\n",
    "    l0 = z[2:]\n",
    "    tl, sl, ul = seg.propagate(tf, s0, l0, alpha, u=True)\n",
    "    if i == 0:\n",
    "        fig, ax = seg.plot_traj(sl, alpha=0.1)\n",
    "        ax.set_aspect('equal')\n",
    "    else:\n",
    "        seg.plot_traj(sl, ax=ax, alpha=0.1)\n",
    "plt.show()"
   ]
  },
  {
   "cell_type": "code",
   "execution_count": 77,
   "metadata": {},
   "outputs": [
    {
     "data": {
      "text/plain": [
       "array([array([-2.52166457e+10,  1.44924279e+11, -3.82769158e+04, -2.98330342e+04,\n",
       "       -5.21794677e+03,  1.37814665e-03,  1.00000000e+03]),\n",
       "       array([ 3.66647875e+02,  7.40814267e-01,  1.42396048e+01, -4.34249440e+01,\n",
       "       -8.59948806e+00,  4.83638947e+01,  3.90951580e-02, -9.08757515e+00,\n",
       "        6.76643474e+00])], dtype=object)"
      ]
     },
     "execution_count": 77,
     "metadata": {},
     "output_type": "execute_result"
    }
   ],
   "source": [
    "gT = res[np.argwhere(res[:,2] >= 0.999).flatten(), :2]\n",
    "gT[0]"
   ]
  },
  {
   "cell_type": "code",
   "execution_count": null,
   "metadata": {},
   "outputs": [
    {
     "name": "stdout",
     "output_type": "stream",
     "text": [
      "z=[367.67511395   0.85450776  13.42208432 -44.53245683  -5.63701593\n",
      "  48.77420388   1.47032107  -6.29833064   7.16404647]\n",
      "a=0.0\n",
      "z=[370.3295601    0.97983335  13.15766809 -44.61283557  -6.10363794\n",
      "  49.26736177   2.02327723  -5.80530079   7.69523848]\n",
      "a=0.0\n",
      "z=[ 3.64486642e+02  6.88677266e-01  1.39095829e+01 -4.21482309e+01\n",
      " -8.21554097e+00  4.70317202e+01 -7.56545470e-02 -8.68237802e+00\n",
      "  6.53520755e+00]\n",
      "a=0.0\n",
      "z=[ 3.66647875e+02  7.40814267e-01  1.42396048e+01 -4.34249440e+01\n",
      " -8.59948806e+00  4.83638947e+01  3.90951580e-02 -9.08757515e+00\n",
      "  6.76643474e+00]\n",
      "a=0.0\n",
      "z=[367.15274819   0.8449775   13.94671784 -44.3323304   -5.23669508\n",
      "  48.96460658   0.75879665  -5.75279765   6.78874192]\n",
      "a=0.1\n",
      "z=[365.95309682   0.72903381  14.86372567 -43.44868648  -7.86537072\n",
      "  48.7642463   -0.71309816  -8.16003447   6.42333602]\n",
      "a=0.1\n",
      "z=[365.73261659   0.70902987   9.83572252 -32.68084402  -7.16845024\n",
      "  35.90982193   1.05870545  -7.75621795   5.44965407]\n",
      "a=0.1\n",
      "z=[ 3.66547590e+02  8.34024805e-01  1.46301467e+01 -4.45149156e+01\n",
      " -4.83258059e+00  4.95922106e+01  5.73277871e-04 -5.19341583e+00\n",
      "  6.44258119e+00]\n",
      "a=0.2\n",
      "z=[ 3.64808221e+02  6.93918006e-01  1.04633928e+01 -3.24154287e+01\n",
      " -6.52465973e+00  3.60367903e+01  2.19126254e-01 -6.93772490e+00\n",
      "  5.12176992e+00]\n",
      "a=0.2\n",
      "z=[370.94259663   0.99080668  10.01377828 -35.77792973  -5.27910204\n",
      "  39.08042329   2.27551153  -5.10306477   6.54309842]\n",
      "a=0.1\n",
      "z=[365.2520405    0.71714024  15.38658049 -43.29356237  -7.10318703\n",
      "  48.92740841  -1.42273101  -7.21481209   6.06538751]\n",
      "a=0.2\n",
      "z=[ 3.66238578e+02  8.28461189e-01  1.39342365e+01 -4.15525053e+01\n",
      " -4.31277513e+00  4.64763264e+01 -3.40041797e-01 -4.57784051e+00\n",
      "  5.84479276e+00]\n",
      "a=0.30000000000000004\n",
      "z=[363.81691132   0.67778065  11.07634738 -32.155582    -5.83792841\n",
      "  36.14148001  -0.61153475  -6.09029849   4.79265546]\n",
      "a=0.30000000000000004\n",
      "z=[370.33153711   0.97986848  10.52323605 -35.68591555  -4.88349842\n",
      "  39.40781558   1.62039658  -4.64504461   6.15657084]\n",
      "a=0.2\n",
      "z=[364.48552017   0.70409141  15.98576849 -43.34995535  -6.32391038\n",
      "  49.31729646  -2.15208232  -6.25036077   5.72201608]\n",
      "a=0.30000000000000004\n",
      "z=[367.86612423   0.85801293   7.64390424 -25.79494473  -3.34585738\n",
      "  28.15881212   1.00833938  -3.76000295   4.22561883]\n",
      "a=0.4\n",
      "z=[362.76220582   0.66063694  11.6380476  -31.84237365  -5.1068471\n",
      "  36.1483016   -1.41483986  -5.21486039   4.45665747]\n",
      "a=0.4\n",
      "z=[369.66735521   0.96809546  11.02840476 -35.60773775  -4.4677139\n",
      "  39.73031905   0.96797722  -4.160491     5.76750492]\n",
      "a=0.30000000000000004\n",
      "z=[365.50673996   0.72146386  10.91949543 -31.13715592  -5.29935081\n",
      "  35.10419498  -0.84101808  -5.42608938   4.4486327 ]\n",
      "a=0.4\n",
      "z=[ 3.66869210e+02  8.39835028e-01  8.38087492e+00 -2.60802593e+01\n",
      " -2.96284729e+00  2.89262331e+01  2.32725925e-01 -3.22256726e+00\n",
      "  3.88908183e+00]\n",
      "a=0.5\n",
      "z=[371.19382207   0.99533791   6.23116145 -22.7957861   -3.46492619\n",
      "  24.77825946   1.62930801  -3.36880665   4.27017456]\n",
      "a=0.4\n",
      "z=[ 3.64269548e+02  6.85144003e-01  7.25859026e+00 -2.16803367e+01\n",
      " -4.13184034e+00  2.42510921e+01 -1.62174391e-01 -4.34848648e+00\n",
      "  3.31886106e+00]\n",
      "a=0.5\n",
      "z=[365.60955934   0.72320809   8.90185348 -25.52483387  -4.40738615\n",
      "  28.74795267  -0.62821213  -4.52689024   3.67562071]\n",
      "a=0.5\n",
      "z=[368.07330909   0.86182808   4.81493448 -16.56352014  -2.20486664\n",
      "  18.01423356   0.75912431  -2.4927237    2.76736789]\n",
      "a=0.6\n",
      "z=[362.712339     0.65982657   7.84113429 -21.39844619  -3.41026633\n",
      "  24.30260293  -0.97546848  -3.47871449   2.98594137]\n",
      "a=0.6\n",
      "z=[ 3.66643881e+02  7.40744924e-01  5.71180166e+00 -1.74118737e+01\n",
      " -3.44488604e+00  1.93936348e+01  1.30057937e-02 -3.63973299e+00\n",
      "  2.71185300e+00]\n",
      "a=0.6\n",
      "z=[370.25129641   0.9784399    6.72752359 -22.66974429  -3.07066156\n",
      "  25.06755191   0.97740121  -2.91382175   3.88116573]\n",
      "a=0.5\n",
      "z=[361.58868416   0.64152844   7.34870638 -19.02205793  -2.60531701\n",
      "  21.79403485  -1.33416399  -2.59077018   2.48005488]\n",
      "a=0.7\n"
     ]
    }
   ],
   "source": [
    "s0zl = res[np.argwhere(res[:,2] >= 0.999).flatten(), :2]\n",
    "alpha = 0\n",
    "alphag = 1\n",
    "seg.beta == 0.999\n",
    "T = seg.homotopy_db(s0zl, alpha, Tlb, Tub, lb, alphag, step=0.1)"
   ]
  },
  {
   "cell_type": "code",
   "execution_count": null,
   "metadata": {},
   "outputs": [],
   "source": []
  }
 ],
 "metadata": {
  "kernelspec": {
   "display_name": "Python 3",
   "language": "python",
   "name": "python3"
  },
  "language_info": {
   "codemirror_mode": {
    "name": "ipython",
    "version": 3
   },
   "file_extension": ".py",
   "mimetype": "text/x-python",
   "name": "python",
   "nbconvert_exporter": "python",
   "pygments_lexer": "ipython3",
   "version": "3.6.7"
  }
 },
 "nbformat": 4,
 "nbformat_minor": 2
}
