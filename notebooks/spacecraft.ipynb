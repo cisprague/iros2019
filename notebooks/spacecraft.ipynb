{
 "cells": [
  {
   "cell_type": "markdown",
   "metadata": {},
   "source": [
    "# Homotopic optimal control of interplanetary spacecraft\n",
    "\n",
    "## Dynamics"
   ]
  },
  {
   "cell_type": "code",
   "execution_count": 1,
   "metadata": {},
   "outputs": [],
   "source": [
    "from sympy import *\n",
    "init_printing()"
   ]
  },
  {
   "cell_type": "code",
   "execution_count": 2,
   "metadata": {},
   "outputs": [
    {
     "data": {
      "text/latex": [
       "$$\\left[\\begin{matrix}x & y & z & v_{x} & v_{y} & v_{z} & m\\end{matrix}\\right]$$"
      ],
      "text/plain": [
       "[x  y  z  vₓ  v_y  v_z  m]"
      ]
     },
     "execution_count": 2,
     "metadata": {},
     "output_type": "execute_result"
    }
   ],
   "source": [
    "# state variables\n",
    "x, y, z, vx, vy, vz = symbols('x y z v_x v_y v_z', real=True)\n",
    "m = symbols('m', real=True, nonnegative=True)\n",
    "\n",
    "# position\n",
    "p = Matrix([x, y, z])\n",
    "\n",
    "# velocity\n",
    "v = Matrix([vx, vy, vz])\n",
    "\n",
    "# state\n",
    "s = Matrix([p, v, [m]])\n",
    "s.T"
   ]
  },
  {
   "cell_type": "code",
   "execution_count": 3,
   "metadata": {},
   "outputs": [
    {
     "data": {
      "text/latex": [
       "$$\\left[\\begin{matrix}v_{x}\\\\v_{y}\\\\v_{z}\\\\\\frac{\\hat{u}_x c_{1} u}{m} - \\frac{\\mu x}{\\left(x^{2} + y^{2} + z^{2}\\right)^{\\frac{3}{2}}}\\\\\\frac{\\hat{u}_y c_{1} u}{m} - \\frac{\\mu y}{\\left(x^{2} + y^{2} + z^{2}\\right)^{\\frac{3}{2}}}\\\\\\frac{\\hat{u}_z c_{1} u}{m} - \\frac{\\mu z}{\\left(x^{2} + y^{2} + z^{2}\\right)^{\\frac{3}{2}}}\\\\- c_{2} u\\end{matrix}\\right]$$"
      ],
      "text/plain": [
       "⎡                vₓ                ⎤\n",
       "⎢                                  ⎥\n",
       "⎢               v_y                ⎥\n",
       "⎢                                  ⎥\n",
       "⎢               v_z                ⎥\n",
       "⎢                                  ⎥\n",
       "⎢\\hat{u}ₓ⋅c₁⋅u         \\mu⋅x       ⎥\n",
       "⎢───────────── - ───────────────── ⎥\n",
       "⎢      m                       3/2 ⎥\n",
       "⎢                ⎛ 2    2    2⎞    ⎥\n",
       "⎢                ⎝x  + y  + z ⎠    ⎥\n",
       "⎢                                  ⎥\n",
       "⎢\\hat{u}_y⋅c₁⋅u         \\mu⋅y      ⎥\n",
       "⎢────────────── - ─────────────────⎥\n",
       "⎢      m                        3/2⎥\n",
       "⎢                 ⎛ 2    2    2⎞   ⎥\n",
       "⎢                 ⎝x  + y  + z ⎠   ⎥\n",
       "⎢                                  ⎥\n",
       "⎢\\hat{u}_z⋅c₁⋅u         \\mu⋅z      ⎥\n",
       "⎢────────────── - ─────────────────⎥\n",
       "⎢      m                        3/2⎥\n",
       "⎢                 ⎛ 2    2    2⎞   ⎥\n",
       "⎢                 ⎝x  + y  + z ⎠   ⎥\n",
       "⎢                                  ⎥\n",
       "⎣              -c₂⋅u               ⎦"
      ]
     },
     "execution_count": 3,
     "metadata": {},
     "output_type": "execute_result"
    }
   ],
   "source": [
    "# control parameters\n",
    "um = symbols('u', real=True, positive=True)\n",
    "ux, uy, uz =symbols('\\\\hat{u}_x \\\\hat{u}_y \\\\hat{u}_z', real=True)\n",
    "uh = Matrix([ux, uy, uz])\n",
    "u = Matrix([[um], uh])\n",
    "\n",
    "# constants\n",
    "c1, c2, mu = symbols('c_1 c_2 \\\\mu', real=True, positive=True)\n",
    "\n",
    "# equations of motion\n",
    "ds = Matrix([\n",
    "    v,\n",
    "    (-mu/((x**2 + y**2 + z**2)**(Rational(3/2))))*(p) + (c1*um/m)*uh,\n",
    "    [-c2*um]\n",
    "])\n",
    "ds"
   ]
  },
  {
   "cell_type": "code",
   "execution_count": 4,
   "metadata": {},
   "outputs": [
    {
     "data": {
      "image/png": "[encoded data removed]",
      "text/latex": [
       "$$\\beta \\left(\\alpha + u \\left(- \\alpha + 1\\right)\\right) + u^{2} \\left(- \\beta + 1\\right)$$"
      ],
      "text/plain": [
       "                                    2             \n",
       "\\beta⋅(\\alpha + u⋅(-\\alpha + 1)) + u ⋅(-\\beta + 1)"
      ]
     },
     "execution_count": 4,
     "metadata": {},
     "output_type": "execute_result"
    }
   ],
   "source": [
    "# homotopy parameter\n",
    "alpha, beta = symbols('\\\\alpha \\\\beta', real=True, nonnegative=True)\n",
    "\n",
    "# Lagrangian\n",
    "L = alpha + (1-alpha)*um\n",
    "L = beta*L + (1-beta)*um**2\n",
    "L"
   ]
  },
  {
   "cell_type": "code",
   "execution_count": 5,
   "metadata": {},
   "outputs": [
    {
     "data": {
      "text/latex": [
       "$$\\left[\\begin{matrix}\\lambda_{x} & \\lambda_{y} & \\lambda_{z} & \\lambda_{v_x} & \\lambda_{v_y} & \\lambda_{v_z} & \\lambda_{m}\\end{matrix}\\right]$$"
      ],
      "text/plain": [
       "[\\lambda_{x}  \\lambda_{y}  \\lambda_{z}  \\lambda_{v_x}  \\lambda_{v_y}  \\lambda_\n",
       "{v_z}  \\lambda_{m}]"
      ]
     },
     "execution_count": 5,
     "metadata": {},
     "output_type": "execute_result"
    }
   ],
   "source": [
    " # costate variables\n",
    "l = Matrix(symbols(['\\\\lambda_{' + str(var) + '}' for var in s]), real=True)\n",
    "l.T"
   ]
  },
  {
   "cell_type": "code",
   "execution_count": 6,
   "metadata": {},
   "outputs": [
    {
     "data": {
      "image/png": "[encoded data removed]",
      "text/latex": [
       "$$\\beta \\left(\\alpha + u \\left(- \\alpha + 1\\right)\\right) - \\lambda_{m} c_{2} u + \\lambda_{v_x} \\left(\\frac{\\hat{u}_x c_{1} u}{m} - \\frac{\\mu x}{\\left(x^{2} + y^{2} + z^{2}\\right)^{\\frac{3}{2}}}\\right) + \\lambda_{v_y} \\left(\\frac{\\hat{u}_y c_{1} u}{m} - \\frac{\\mu y}{\\left(x^{2} + y^{2} + z^{2}\\right)^{\\frac{3}{2}}}\\right) + \\lambda_{v_z} \\left(\\frac{\\hat{u}_z c_{1} u}{m} - \\frac{\\mu z}{\\left(x^{2} + y^{2} + z^{2}\\right)^{\\frac{3}{2}}}\\right) + \\lambda_{x} v_{x} + \\lambda_{y} v_{y} + \\lambda_{z} v_{z} + u^{2} \\left(- \\beta + 1\\right)$$"
      ],
      "text/plain": [
       "                                                                    ⎛\\hat{u}ₓ⋅\n",
       "\\beta⋅(\\alpha + u⋅(-\\alpha + 1)) - \\lambda_{m}⋅c₂⋅u + \\lambda_{v_x}⋅⎜─────────\n",
       "                                                                    ⎜      m  \n",
       "                                                                    ⎜         \n",
       "                                                                    ⎝         \n",
       "\n",
       "c₁⋅u         \\mu⋅x      ⎞                 ⎛\\hat{u}_y⋅c₁⋅u         \\mu⋅y      ⎞\n",
       "──── - ─────────────────⎟ + \\lambda_{v_y}⋅⎜────────────── - ─────────────────⎟\n",
       "                     3/2⎟                 ⎜      m                        3/2⎟\n",
       "       ⎛ 2    2    2⎞   ⎟                 ⎜                 ⎛ 2    2    2⎞   ⎟\n",
       "       ⎝x  + y  + z ⎠   ⎠                 ⎝                 ⎝x  + y  + z ⎠   ⎠\n",
       "\n",
       "                 ⎛\\hat{u}_z⋅c₁⋅u         \\mu⋅z      ⎞                         \n",
       " + \\lambda_{v_z}⋅⎜────────────── - ─────────────────⎟ + \\lambda_{x}⋅vₓ + \\lamb\n",
       "                 ⎜      m                        3/2⎟                         \n",
       "                 ⎜                 ⎛ 2    2    2⎞   ⎟                         \n",
       "                 ⎝                 ⎝x  + y  + z ⎠   ⎠                         \n",
       "\n",
       "                                2             \n",
       "da_{y}⋅v_y + \\lambda_{z}⋅v_z + u ⋅(-\\beta + 1)\n",
       "                                              \n",
       "                                              \n",
       "                                              "
      ]
     },
     "execution_count": 6,
     "metadata": {},
     "output_type": "execute_result"
    }
   ],
   "source": [
    "# Hamiltonian\n",
    "H = l.dot(ds) + L\n",
    "H"
   ]
  },
  {
   "cell_type": "code",
   "execution_count": 7,
   "metadata": {},
   "outputs": [
    {
     "data": {
      "text/latex": [
       "$$\\left[\\begin{matrix}- \\frac{\\lambda_{v_x}}{\\sqrt{\\lambda_{v_x}^{2} + \\lambda_{v_y}^{2} + \\lambda_{v_z}^{2}}}\\\\- \\frac{\\lambda_{v_y}}{\\sqrt{\\lambda_{v_x}^{2} + \\lambda_{v_y}^{2} + \\lambda_{v_z}^{2}}}\\\\- \\frac{\\lambda_{v_z}}{\\sqrt{\\lambda_{v_x}^{2} + \\lambda_{v_y}^{2} + \\lambda_{v_z}^{2}}}\\end{matrix}\\right]$$"
      ],
      "text/plain": [
       "⎡                   -\\lambda_{v_x}                    ⎤\n",
       "⎢─────────────────────────────────────────────────────⎥\n",
       "⎢   __________________________________________________⎥\n",
       "⎢  ╱              2                2                2 ⎥\n",
       "⎢╲╱  \\lambda_{v_x}  + \\lambda_{v_y}  + \\lambda_{v_z}  ⎥\n",
       "⎢                                                     ⎥\n",
       "⎢                   -\\lambda_{v_y}                    ⎥\n",
       "⎢─────────────────────────────────────────────────────⎥\n",
       "⎢   __________________________________________________⎥\n",
       "⎢  ╱              2                2                2 ⎥\n",
       "⎢╲╱  \\lambda_{v_x}  + \\lambda_{v_y}  + \\lambda_{v_z}  ⎥\n",
       "⎢                                                     ⎥\n",
       "⎢                   -\\lambda_{v_z}                    ⎥\n",
       "⎢─────────────────────────────────────────────────────⎥\n",
       "⎢   __________________________________________________⎥\n",
       "⎢  ╱              2                2                2 ⎥\n",
       "⎣╲╱  \\lambda_{v_x}  + \\lambda_{v_y}  + \\lambda_{v_z}  ⎦"
      ]
     },
     "execution_count": 7,
     "metadata": {},
     "output_type": "execute_result"
    }
   ],
   "source": [
    "# minimise Hamiltonian w.r.t. controls\n",
    "lv = Matrix(l[3:6])\n",
    "uhs = -lv/sqrt(sum([var**2 for var in lv]))\n",
    "uhs"
   ]
  },
  {
   "cell_type": "code",
   "execution_count": 8,
   "metadata": {},
   "outputs": [
    {
     "data": {
      "image/png": "[encoded data removed]",
      "text/latex": [
       "$$\\frac{- \\alpha \\beta m \\sqrt{\\lambda_{v_x}^{2} + \\lambda_{v_y}^{2} + \\lambda_{v_z}^{2}} + \\beta m \\sqrt{\\lambda_{v_x}^{2} + \\lambda_{v_y}^{2} + \\lambda_{v_z}^{2}} - \\lambda_{m} c_{2} m \\sqrt{\\lambda_{v_x}^{2} + \\lambda_{v_y}^{2} + \\lambda_{v_z}^{2}} - \\lambda_{v_x}^{2} c_{1} - \\lambda_{v_y}^{2} c_{1} - \\lambda_{v_z}^{2} c_{1}}{2 m \\left(\\beta - 1\\right) \\sqrt{\\lambda_{v_x}^{2} + \\lambda_{v_y}^{2} + \\lambda_{v_z}^{2}}}$$"
      ],
      "text/plain": [
       "                    __________________________________________________        \n",
       "                   ╱              2                2                2         \n",
       "- \\alpha⋅\\beta⋅m⋅╲╱  \\lambda_{v_x}  + \\lambda_{v_y}  + \\lambda_{v_z}   + \\beta\n",
       "──────────────────────────────────────────────────────────────────────────────\n",
       "                                                                              \n",
       "                                                                              \n",
       "                                                                              \n",
       "\n",
       "      __________________________________________________                      \n",
       "     ╱              2                2                2                       \n",
       "⋅m⋅╲╱  \\lambda_{v_x}  + \\lambda_{v_y}  + \\lambda_{v_z}   - \\lambda_{m}⋅c₂⋅m⋅╲╱\n",
       "──────────────────────────────────────────────────────────────────────────────\n",
       "                                        ______________________________________\n",
       "                                       ╱              2                2      \n",
       "                     2⋅m⋅(\\beta - 1)⋅╲╱  \\lambda_{v_x}  + \\lambda_{v_y}  + \\la\n",
       "\n",
       " __________________________________________________                           \n",
       "╱              2                2                2                 2          \n",
       "  \\lambda_{v_x}  + \\lambda_{v_y}  + \\lambda_{v_z}   - \\lambda_{v_x} ⋅c₁ - \\lam\n",
       "──────────────────────────────────────────────────────────────────────────────\n",
       "____________                                                                  \n",
       "          2                                                                   \n",
       "mbda_{v_z}                                                                    \n",
       "\n",
       "                                 \n",
       "         2                   2   \n",
       "bda_{v_y} ⋅c₁ - \\lambda_{v_z} ⋅c₁\n",
       "─────────────────────────────────\n",
       "                                 \n",
       "                                 \n",
       "                                 "
      ]
     },
     "execution_count": 8,
     "metadata": {},
     "output_type": "execute_result"
    }
   ],
   "source": [
    "# new Hamiltonian\n",
    "H1 = H.subs(ux, uhs[0]).subs(uy, uhs[1]).subs(uz, uhs[2])\n",
    "ums = solve(H1.diff(um), um)[0]\n",
    "ums"
   ]
  },
  {
   "cell_type": "code",
   "execution_count": 9,
   "metadata": {},
   "outputs": [
    {
     "data": {
      "text/latex": [
       "$$\\left[\\begin{matrix}\\frac{- \\alpha \\beta m \\sqrt{\\lambda_{v_x}^{2} + \\lambda_{v_y}^{2} + \\lambda_{v_z}^{2}} + \\beta m \\sqrt{\\lambda_{v_x}^{2} + \\lambda_{v_y}^{2} + \\lambda_{v_z}^{2}} - \\lambda_{m} c_{2} m \\sqrt{\\lambda_{v_x}^{2} + \\lambda_{v_y}^{2} + \\lambda_{v_z}^{2}} - \\lambda_{v_x}^{2} c_{1} - \\lambda_{v_y}^{2} c_{1} - \\lambda_{v_z}^{2} c_{1}}{2 m \\left(\\beta - 1\\right) \\sqrt{\\lambda_{v_x}^{2} + \\lambda_{v_y}^{2} + \\lambda_{v_z}^{2}}}\\\\- \\frac{\\lambda_{v_x}}{\\sqrt{\\lambda_{v_x}^{2} + \\lambda_{v_y}^{2} + \\lambda_{v_z}^{2}}}\\\\- \\frac{\\lambda_{v_y}}{\\sqrt{\\lambda_{v_x}^{2} + \\lambda_{v_y}^{2} + \\lambda_{v_z}^{2}}}\\\\- \\frac{\\lambda_{v_z}}{\\sqrt{\\lambda_{v_x}^{2} + \\lambda_{v_y}^{2} + \\lambda_{v_z}^{2}}}\\end{matrix}\\right]$$"
      ],
      "text/plain": [
       "⎡                    __________________________________________________       \n",
       "⎢                   ╱              2                2                2        \n",
       "⎢- \\alpha⋅\\beta⋅m⋅╲╱  \\lambda_{v_x}  + \\lambda_{v_y}  + \\lambda_{v_z}   + \\bet\n",
       "⎢─────────────────────────────────────────────────────────────────────────────\n",
       "⎢                                                                             \n",
       "⎢                                                                             \n",
       "⎢                                                                             \n",
       "⎢                                                                             \n",
       "⎢                                                                             \n",
       "⎢                                                                             \n",
       "⎢                                                                             \n",
       "⎢                                                                             \n",
       "⎢                                                                             \n",
       "⎢                                                                             \n",
       "⎢                                                                             \n",
       "⎢                                                                             \n",
       "⎢                                                                             \n",
       "⎢                                                                             \n",
       "⎢                                                                             \n",
       "⎢                                                                             \n",
       "⎢                                                                             \n",
       "⎢                                                                             \n",
       "⎢                                                                             \n",
       "⎢                                                                             \n",
       "⎣                                                                             \n",
       "\n",
       "       __________________________________________________                     \n",
       "      ╱              2                2                2                      \n",
       "a⋅m⋅╲╱  \\lambda_{v_x}  + \\lambda_{v_y}  + \\lambda_{v_z}   - \\lambda_{m}⋅c₂⋅m⋅╲\n",
       "──────────────────────────────────────────────────────────────────────────────\n",
       "                                         _____________________________________\n",
       "                                        ╱              2                2     \n",
       "                      2⋅m⋅(\\beta - 1)⋅╲╱  \\lambda_{v_x}  + \\lambda_{v_y}  + \\l\n",
       "                                                                              \n",
       "                                                 -\\lambda_{v_x}               \n",
       "                              ────────────────────────────────────────────────\n",
       "                                 _____________________________________________\n",
       "                                ╱              2                2             \n",
       "                              ╲╱  \\lambda_{v_x}  + \\lambda_{v_y}  + \\lambda_{v\n",
       "                                                                              \n",
       "                                                 -\\lambda_{v_y}               \n",
       "                              ────────────────────────────────────────────────\n",
       "                                 _____________________________________________\n",
       "                                ╱              2                2             \n",
       "                              ╲╱  \\lambda_{v_x}  + \\lambda_{v_y}  + \\lambda_{v\n",
       "                                                                              \n",
       "                                                 -\\lambda_{v_z}               \n",
       "                              ────────────────────────────────────────────────\n",
       "                                 _____________________________________________\n",
       "                                ╱              2                2             \n",
       "                              ╲╱  \\lambda_{v_x}  + \\lambda_{v_y}  + \\lambda_{v\n",
       "\n",
       "  __________________________________________________                          \n",
       " ╱              2                2                2                 2         \n",
       "╱  \\lambda_{v_x}  + \\lambda_{v_y}  + \\lambda_{v_z}   - \\lambda_{v_x} ⋅c₁ - \\la\n",
       "──────────────────────────────────────────────────────────────────────────────\n",
       "_____________                                                                 \n",
       "           2                                                                  \n",
       "ambda_{v_z}                                                                   \n",
       "                                                                              \n",
       "                                                                              \n",
       "─────                                                                         \n",
       "_____                                                                         \n",
       "   2                                                                          \n",
       "_z}                                                                           \n",
       "                                                                              \n",
       "                                                                              \n",
       "─────                                                                         \n",
       "_____                                                                         \n",
       "   2                                                                          \n",
       "_z}                                                                           \n",
       "                                                                              \n",
       "                                                                              \n",
       "─────                                                                         \n",
       "_____                                                                         \n",
       "   2                                                                          \n",
       "_z}                                                                           \n",
       "\n",
       "                                  ⎤\n",
       "          2                   2   ⎥\n",
       "mbda_{v_y} ⋅c₁ - \\lambda_{v_z} ⋅c₁⎥\n",
       "──────────────────────────────────⎥\n",
       "                                  ⎥\n",
       "                                  ⎥\n",
       "                                  ⎥\n",
       "                                  ⎥\n",
       "                                  ⎥\n",
       "                                  ⎥\n",
       "                                  ⎥\n",
       "                                  ⎥\n",
       "                                  ⎥\n",
       "                                  ⎥\n",
       "                                  ⎥\n",
       "                                  ⎥\n",
       "                                  ⎥\n",
       "                                  ⎥\n",
       "                                  ⎥\n",
       "                                  ⎥\n",
       "                                  ⎥\n",
       "                                  ⎥\n",
       "                                  ⎥\n",
       "                                  ⎥\n",
       "                                  ⎦"
      ]
     },
     "execution_count": 9,
     "metadata": {},
     "output_type": "execute_result"
    }
   ],
   "source": [
    "us = Matrix([[ums], uhs])\n",
    "us"
   ]
  },
  {
   "cell_type": "code",
   "execution_count": 10,
   "metadata": {
    "scrolled": false
   },
   "outputs": [
    {
     "data": {
      "text/latex": [
       "$$\\left[\\begin{matrix}- \\lambda_{v_x} \\left(\\frac{3 \\mu x^{2}}{\\left(x^{2} + y^{2} + z^{2}\\right)^{\\frac{5}{2}}} - \\frac{\\mu}{\\left(x^{2} + y^{2} + z^{2}\\right)^{\\frac{3}{2}}}\\right) - \\frac{3 \\lambda_{v_y} \\mu x y}{\\left(x^{2} + y^{2} + z^{2}\\right)^{\\frac{5}{2}}} - \\frac{3 \\lambda_{v_z} \\mu x z}{\\left(x^{2} + y^{2} + z^{2}\\right)^{\\frac{5}{2}}}\\\\- \\frac{3 \\lambda_{v_x} \\mu x y}{\\left(x^{2} + y^{2} + z^{2}\\right)^{\\frac{5}{2}}} - \\lambda_{v_y} \\left(\\frac{3 \\mu y^{2}}{\\left(x^{2} + y^{2} + z^{2}\\right)^{\\frac{5}{2}}} - \\frac{\\mu}{\\left(x^{2} + y^{2} + z^{2}\\right)^{\\frac{3}{2}}}\\right) - \\frac{3 \\lambda_{v_z} \\mu y z}{\\left(x^{2} + y^{2} + z^{2}\\right)^{\\frac{5}{2}}}\\\\- \\frac{3 \\lambda_{v_x} \\mu x z}{\\left(x^{2} + y^{2} + z^{2}\\right)^{\\frac{5}{2}}} - \\frac{3 \\lambda_{v_y} \\mu y z}{\\left(x^{2} + y^{2} + z^{2}\\right)^{\\frac{5}{2}}} - \\lambda_{v_z} \\left(\\frac{3 \\mu z^{2}}{\\left(x^{2} + y^{2} + z^{2}\\right)^{\\frac{5}{2}}} - \\frac{\\mu}{\\left(x^{2} + y^{2} + z^{2}\\right)^{\\frac{3}{2}}}\\right)\\\\- \\lambda_{x}\\\\- \\lambda_{y}\\\\- \\lambda_{z}\\\\\\frac{\\hat{u}_x \\lambda_{v_x} c_{1} u}{m^{2}} + \\frac{\\hat{u}_y \\lambda_{v_y} c_{1} u}{m^{2}} + \\frac{\\hat{u}_z \\lambda_{v_z} c_{1} u}{m^{2}}\\end{matrix}\\right]$$"
      ],
      "text/plain": [
       "⎡                ⎛            2                        ⎞                      \n",
       "⎢                ⎜     3⋅\\mu⋅x               \\mu       ⎟   3⋅\\lambda_{v_y}⋅\\mu\n",
       "⎢- \\lambda_{v_x}⋅⎜───────────────── - ─────────────────⎟ - ───────────────────\n",
       "⎢                ⎜              5/2                 3/2⎟                    5/\n",
       "⎢                ⎜⎛ 2    2    2⎞      ⎛ 2    2    2⎞   ⎟      ⎛ 2    2    2⎞  \n",
       "⎢                ⎝⎝x  + y  + z ⎠      ⎝x  + y  + z ⎠   ⎠      ⎝x  + y  + z ⎠  \n",
       "⎢                                                                             \n",
       "⎢                                          ⎛            2                     \n",
       "⎢  3⋅\\lambda_{v_x}⋅\\mu⋅x⋅y                 ⎜     3⋅\\mu⋅y               \\mu    \n",
       "⎢- ─────────────────────── - \\lambda_{v_y}⋅⎜───────────────── - ──────────────\n",
       "⎢                   5/2                    ⎜              5/2                 \n",
       "⎢     ⎛ 2    2    2⎞                       ⎜⎛ 2    2    2⎞      ⎛ 2    2    2⎞\n",
       "⎢     ⎝x  + y  + z ⎠                       ⎝⎝x  + y  + z ⎠      ⎝x  + y  + z ⎠\n",
       "⎢                                                                             \n",
       "⎢                                                                    ⎛        \n",
       "⎢  3⋅\\lambda_{v_x}⋅\\mu⋅x⋅z   3⋅\\lambda_{v_y}⋅\\mu⋅y⋅z                 ⎜     3⋅\\\n",
       "⎢- ─────────────────────── - ─────────────────────── - \\lambda_{v_z}⋅⎜────────\n",
       "⎢                   5/2                       5/2                    ⎜        \n",
       "⎢     ⎛ 2    2    2⎞            ⎛ 2    2    2⎞                       ⎜⎛ 2    2\n",
       "⎢     ⎝x  + y  + z ⎠            ⎝x  + y  + z ⎠                       ⎝⎝x  + y \n",
       "⎢                                                                             \n",
       "⎢                                               -\\lambda_{x}                  \n",
       "⎢                                                                             \n",
       "⎢                                               -\\lambda_{y}                  \n",
       "⎢                                                                             \n",
       "⎢                                               -\\lambda_{z}                  \n",
       "⎢                                                                             \n",
       "⎢         \\hat{u}ₓ⋅\\lambda_{v_x}⋅c₁⋅u   \\hat{u}_y⋅\\lambda_{v_y}⋅c₁⋅u   \\hat{u}\n",
       "⎢         ─────────────────────────── + ──────────────────────────── + ───────\n",
       "⎢                       2                             2                       \n",
       "⎣                      m                             m                        \n",
       "\n",
       "                              ⎤\n",
       "⋅x⋅y   3⋅\\lambda_{v_z}⋅\\mu⋅x⋅z⎥\n",
       "──── - ───────────────────────⎥\n",
       "2                       5/2   ⎥\n",
       "          ⎛ 2    2    2⎞      ⎥\n",
       "          ⎝x  + y  + z ⎠      ⎥\n",
       "                              ⎥\n",
       "   ⎞                          ⎥\n",
       "   ⎟   3⋅\\lambda_{v_z}⋅\\mu⋅y⋅z⎥\n",
       "───⎟ - ───────────────────────⎥\n",
       "3/2⎟                    5/2   ⎥\n",
       "   ⎟      ⎛ 2    2    2⎞      ⎥\n",
       "   ⎠      ⎝x  + y  + z ⎠      ⎥\n",
       "                              ⎥\n",
       "    2                        ⎞⎥\n",
       "mu⋅z               \\mu       ⎟⎥\n",
       "───────── - ─────────────────⎟⎥\n",
       "      5/2                 3/2⎟⎥\n",
       "    2⎞      ⎛ 2    2    2⎞   ⎟⎥\n",
       " + z ⎠      ⎝x  + y  + z ⎠   ⎠⎥\n",
       "                              ⎥\n",
       "                              ⎥\n",
       "                              ⎥\n",
       "                              ⎥\n",
       "                              ⎥\n",
       "                              ⎥\n",
       "                              ⎥\n",
       "_z⋅\\lambda_{v_z}⋅c₁⋅u         ⎥\n",
       "─────────────────────         ⎥\n",
       "       2                      ⎥\n",
       "      m                       ⎦"
      ]
     },
     "execution_count": 10,
     "metadata": {},
     "output_type": "execute_result"
    }
   ],
   "source": [
    "# costate equations of motion\n",
    "dl = -H.diff(s)\n",
    "dl"
   ]
  },
  {
   "cell_type": "code",
   "execution_count": 11,
   "metadata": {},
   "outputs": [
    {
     "data": {
      "text/latex": [
       "$$\\left[\\begin{matrix}- \\frac{- \\lambda_{m} c_{2} m \\sqrt{\\lambda_{v_x}^{2} + \\lambda_{v_y}^{2} + \\lambda_{v_z}^{2}} - \\lambda_{v_x}^{2} c_{1} - \\lambda_{v_y}^{2} c_{1} - \\lambda_{v_z}^{2} c_{1}}{2 m \\sqrt{\\lambda_{v_x}^{2} + \\lambda_{v_y}^{2} + \\lambda_{v_z}^{2}}}\\\\\\frac{\\tilde{\\infty} \\left(- \\lambda_{m} c_{2} m \\sqrt{\\lambda_{v_x}^{2} + \\lambda_{v_y}^{2} + \\lambda_{v_z}^{2}} - \\lambda_{v_x}^{2} c_{1} - \\lambda_{v_y}^{2} c_{1} - \\lambda_{v_z}^{2} c_{1} + m \\sqrt{\\lambda_{v_x}^{2} + \\lambda_{v_y}^{2} + \\lambda_{v_z}^{2}}\\right)}{m \\sqrt{\\lambda_{v_x}^{2} + \\lambda_{v_y}^{2} + \\lambda_{v_z}^{2}}}\\\\- \\frac{- \\lambda_{m} c_{2} m \\sqrt{\\lambda_{v_x}^{2} + \\lambda_{v_y}^{2} + \\lambda_{v_z}^{2}} - \\lambda_{v_x}^{2} c_{1} - \\lambda_{v_y}^{2} c_{1} - \\lambda_{v_z}^{2} c_{1}}{2 m \\sqrt{\\lambda_{v_x}^{2} + \\lambda_{v_y}^{2} + \\lambda_{v_z}^{2}}}\\\\\\frac{\\tilde{\\infty} \\left(- \\lambda_{m} c_{2} m \\sqrt{\\lambda_{v_x}^{2} + \\lambda_{v_y}^{2} + \\lambda_{v_z}^{2}} - \\lambda_{v_x}^{2} c_{1} - \\lambda_{v_y}^{2} c_{1} - \\lambda_{v_z}^{2} c_{1}\\right)}{m \\sqrt{\\lambda_{v_x}^{2} + \\lambda_{v_y}^{2} + \\lambda_{v_z}^{2}}}\\\\\\frac{\\beta m \\sqrt{\\lambda_{v_x}^{2} + \\lambda_{v_y}^{2} + \\lambda_{v_z}^{2}} - \\lambda_{m} c_{2} m \\sqrt{\\lambda_{v_x}^{2} + \\lambda_{v_y}^{2} + \\lambda_{v_z}^{2}} - \\lambda_{v_x}^{2} c_{1} - \\lambda_{v_y}^{2} c_{1} - \\lambda_{v_z}^{2} c_{1}}{2 m \\left(\\beta - 1\\right) \\sqrt{\\lambda_{v_x}^{2} + \\lambda_{v_y}^{2} + \\lambda_{v_z}^{2}}}\\\\\\frac{- \\lambda_{m} c_{2} m \\sqrt{\\lambda_{v_x}^{2} + \\lambda_{v_y}^{2} + \\lambda_{v_z}^{2}} - \\lambda_{v_x}^{2} c_{1} - \\lambda_{v_y}^{2} c_{1} - \\lambda_{v_z}^{2} c_{1}}{2 m \\left(\\beta - 1\\right) \\sqrt{\\lambda_{v_x}^{2} + \\lambda_{v_y}^{2} + \\lambda_{v_z}^{2}}}\\\\- \\frac{- \\lambda_{m} c_{2} m \\sqrt{\\lambda_{v_x}^{2} + \\lambda_{v_y}^{2} + \\lambda_{v_z}^{2}} - \\lambda_{v_x}^{2} c_{1} - \\lambda_{v_y}^{2} c_{1} - \\lambda_{v_z}^{2} c_{1}}{2 m \\sqrt{\\lambda_{v_x}^{2} + \\lambda_{v_y}^{2} + \\lambda_{v_z}^{2}}}\\\\\\frac{\\tilde{\\infty} \\left(- \\alpha m \\sqrt{\\lambda_{v_x}^{2} + \\lambda_{v_y}^{2} + \\lambda_{v_z}^{2}} - \\lambda_{m} c_{2} m \\sqrt{\\lambda_{v_x}^{2} + \\lambda_{v_y}^{2} + \\lambda_{v_z}^{2}} - \\lambda_{v_x}^{2} c_{1} - \\lambda_{v_y}^{2} c_{1} - \\lambda_{v_z}^{2} c_{1} + m \\sqrt{\\lambda_{v_x}^{2} + \\lambda_{v_y}^{2} + \\lambda_{v_z}^{2}}\\right)}{m \\sqrt{\\lambda_{v_x}^{2} + \\lambda_{v_y}^{2} + \\lambda_{v_z}^{2}}}\\\\\\frac{- \\alpha \\beta m \\sqrt{\\lambda_{v_x}^{2} + \\lambda_{v_y}^{2} + \\lambda_{v_z}^{2}} + \\beta m \\sqrt{\\lambda_{v_x}^{2} + \\lambda_{v_y}^{2} + \\lambda_{v_z}^{2}} - \\lambda_{m} c_{2} m \\sqrt{\\lambda_{v_x}^{2} + \\lambda_{v_y}^{2} + \\lambda_{v_z}^{2}} - \\lambda_{v_x}^{2} c_{1} - \\lambda_{v_y}^{2} c_{1} - \\lambda_{v_z}^{2} c_{1}}{2 m \\left(\\beta - 1\\right) \\sqrt{\\lambda_{v_x}^{2} + \\lambda_{v_y}^{2} + \\lambda_{v_z}^{2}}}\\end{matrix}\\right]$$"
      ],
      "text/plain": [
       "⎡                                                                  ⎛          \n",
       "⎢                                                                  ⎜          \n",
       "⎢                                                                 -⎝- \\lambda_\n",
       "⎢                                                                 ────────────\n",
       "⎢                                                                             \n",
       "⎢                                                                             \n",
       "⎢                                                                             \n",
       "⎢                                                                             \n",
       "⎢                                       ⎛                      _______________\n",
       "⎢                                       ⎜                     ╱              2\n",
       "⎢                                   zoo⋅⎝- \\lambda_{m}⋅c₂⋅m⋅╲╱  \\lambda_{v_x} \n",
       "⎢                                   ──────────────────────────────────────────\n",
       "⎢                                                                             \n",
       "⎢                                                                             \n",
       "⎢                                                                             \n",
       "⎢                                                                             \n",
       "⎢                                                                  ⎛          \n",
       "⎢                                                                  ⎜          \n",
       "⎢                                                                 -⎝- \\lambda_\n",
       "⎢                                                                 ────────────\n",
       "⎢                                                                             \n",
       "⎢                                                                             \n",
       "⎢                                                                             \n",
       "⎢                                                                             \n",
       "⎢                                                                    ⎛        \n",
       "⎢                                                                    ⎜        \n",
       "⎢                                                                zoo⋅⎝- \\lambd\n",
       "⎢                                                                ─────────────\n",
       "⎢                                                                             \n",
       "⎢                                                                             \n",
       "⎢                                                                             \n",
       "⎢                                                                             \n",
       "⎢                                               ______________________________\n",
       "⎢                                              ╱              2               \n",
       "⎢                                    \\beta⋅m⋅╲╱  \\lambda_{v_x}  + \\lambda_{v_y\n",
       "⎢                                    ─────────────────────────────────────────\n",
       "⎢                                                                             \n",
       "⎢                                                                             \n",
       "⎢                                                                             \n",
       "⎢                                                                             \n",
       "⎢                                                                             \n",
       "⎢                                                                             \n",
       "⎢                                                                   - \\lambda_\n",
       "⎢                                                                   ──────────\n",
       "⎢                                                                             \n",
       "⎢                                                                             \n",
       "⎢                                                                             \n",
       "⎢                                                                             \n",
       "⎢                                                                  ⎛          \n",
       "⎢                                                                  ⎜          \n",
       "⎢                                                                 -⎝- \\lambda_\n",
       "⎢                                                                 ────────────\n",
       "⎢                                                                             \n",
       "⎢                                                                             \n",
       "⎢                                                                             \n",
       "⎢                                                                             \n",
       "⎢       ⎛              __________________________________________________     \n",
       "⎢       ⎜             ╱              2                2                2      \n",
       "⎢   zoo⋅⎝- \\alpha⋅m⋅╲╱  \\lambda_{v_x}  + \\lambda_{v_y}  + \\lambda_{v_z}   - \\l\n",
       "⎢   ──────────────────────────────────────────────────────────────────────────\n",
       "⎢                                                                             \n",
       "⎢                                                                             \n",
       "⎢                                                                             \n",
       "⎢                                                                             \n",
       "⎢                    __________________________________________________       \n",
       "⎢                   ╱              2                2                2        \n",
       "⎢- \\alpha⋅\\beta⋅m⋅╲╱  \\lambda_{v_x}  + \\lambda_{v_y}  + \\lambda_{v_z}   + \\bet\n",
       "⎢─────────────────────────────────────────────────────────────────────────────\n",
       "⎢                                                                             \n",
       "⎢                                                                             \n",
       "⎣                                                                             \n",
       "\n",
       "            __________________________________________________                \n",
       "           ╱              2                2                2                 \n",
       "{m}⋅c₂⋅m⋅╲╱  \\lambda_{v_x}  + \\lambda_{v_y}  + \\lambda_{v_z}   - \\lambda_{v_x}\n",
       "──────────────────────────────────────────────────────────────────────────────\n",
       "                                  ____________________________________________\n",
       "                                 ╱              2                2            \n",
       "                           2⋅m⋅╲╱  \\lambda_{v_x}  + \\lambda_{v_y}  + \\lambda_{\n",
       "                                                                              \n",
       "___________________________________                                           \n",
       "                2                2                 2                   2      \n",
       " + \\lambda_{v_y}  + \\lambda_{v_z}   - \\lambda_{v_x} ⋅c₁ - \\lambda_{v_y} ⋅c₁ - \n",
       "──────────────────────────────────────────────────────────────────────────────\n",
       "                                 _____________________________________________\n",
       "                                ╱              2                2             \n",
       "                            m⋅╲╱  \\lambda_{v_x}  + \\lambda_{v_y}  + \\lambda_{v\n",
       "                                                                              \n",
       "            __________________________________________________                \n",
       "           ╱              2                2                2                 \n",
       "{m}⋅c₂⋅m⋅╲╱  \\lambda_{v_x}  + \\lambda_{v_y}  + \\lambda_{v_z}   - \\lambda_{v_x}\n",
       "──────────────────────────────────────────────────────────────────────────────\n",
       "                                  ____________________________________________\n",
       "                                 ╱              2                2            \n",
       "                           2⋅m⋅╲╱  \\lambda_{v_x}  + \\lambda_{v_y}  + \\lambda_{\n",
       "                                                                              \n",
       "              __________________________________________________              \n",
       "             ╱              2                2                2               \n",
       "a_{m}⋅c₂⋅m⋅╲╱  \\lambda_{v_x}  + \\lambda_{v_y}  + \\lambda_{v_z}   - \\lambda_{v_\n",
       "──────────────────────────────────────────────────────────────────────────────\n",
       "                                 _____________________________________________\n",
       "                                ╱              2                2             \n",
       "                            m⋅╲╱  \\lambda_{v_x}  + \\lambda_{v_y}  + \\lambda_{v\n",
       "                                                                              \n",
       "____________________                       ___________________________________\n",
       " 2                2                       ╱              2                2   \n",
       "}  + \\lambda_{v_z}   - \\lambda_{m}⋅c₂⋅m⋅╲╱  \\lambda_{v_x}  + \\lambda_{v_y}  + \n",
       "──────────────────────────────────────────────────────────────────────────────\n",
       "                                        ______________________________________\n",
       "                                       ╱              2                2      \n",
       "                     2⋅m⋅(\\beta - 1)⋅╲╱  \\lambda_{v_x}  + \\lambda_{v_y}  + \\la\n",
       "                                                                              \n",
       "            __________________________________________________                \n",
       "           ╱              2                2                2                 \n",
       "{m}⋅c₂⋅m⋅╲╱  \\lambda_{v_x}  + \\lambda_{v_y}  + \\lambda_{v_z}   - \\lambda_{v_x}\n",
       "──────────────────────────────────────────────────────────────────────────────\n",
       "                                        ______________________________________\n",
       "                                       ╱              2                2      \n",
       "                     2⋅m⋅(\\beta - 1)⋅╲╱  \\lambda_{v_x}  + \\lambda_{v_y}  + \\la\n",
       "                                                                              \n",
       "            __________________________________________________                \n",
       "           ╱              2                2                2                 \n",
       "{m}⋅c₂⋅m⋅╲╱  \\lambda_{v_x}  + \\lambda_{v_y}  + \\lambda_{v_z}   - \\lambda_{v_x}\n",
       "──────────────────────────────────────────────────────────────────────────────\n",
       "                                  ____________________________________________\n",
       "                                 ╱              2                2            \n",
       "                           2⋅m⋅╲╱  \\lambda_{v_x}  + \\lambda_{v_y}  + \\lambda_{\n",
       "                                                                              \n",
       "                  __________________________________________________          \n",
       "                 ╱              2                2                2           \n",
       "ambda_{m}⋅c₂⋅m⋅╲╱  \\lambda_{v_x}  + \\lambda_{v_y}  + \\lambda_{v_z}   - \\lambda\n",
       "──────────────────────────────────────────────────────────────────────────────\n",
       "                                  ____________________________________________\n",
       "                                 ╱              2                2            \n",
       "                             m⋅╲╱  \\lambda_{v_x}  + \\lambda_{v_y}  + \\lambda_{\n",
       "                                                                              \n",
       "       __________________________________________________                     \n",
       "      ╱              2                2                2                      \n",
       "a⋅m⋅╲╱  \\lambda_{v_x}  + \\lambda_{v_y}  + \\lambda_{v_z}   - \\lambda_{m}⋅c₂⋅m⋅╲\n",
       "──────────────────────────────────────────────────────────────────────────────\n",
       "                                         _____________________________________\n",
       "                                        ╱              2                2     \n",
       "                      2⋅m⋅(\\beta - 1)⋅╲╱  \\lambda_{v_x}  + \\lambda_{v_y}  + \\l\n",
       "\n",
       "                                            ⎞                                 \n",
       "2                   2                   2   ⎟                                 \n",
       " ⋅c₁ - \\lambda_{v_y} ⋅c₁ - \\lambda_{v_z} ⋅c₁⎠                                 \n",
       "──────────────────────────────────────────────                                \n",
       "______                                                                        \n",
       "    2                                                                         \n",
       "v_z}                                                                          \n",
       "                                                                              \n",
       "                         __________________________________________________⎞  \n",
       "             2          ╱              2                2                2 ⎟  \n",
       "\\lambda_{v_z} ⋅c₁ + m⋅╲╱  \\lambda_{v_x}  + \\lambda_{v_y}  + \\lambda_{v_z}  ⎠  \n",
       "────────────────────────────────────────────────────────────────────────────  \n",
       "_____                                                                         \n",
       "   2                                                                          \n",
       "_z}                                                                           \n",
       "                                                                              \n",
       "                                            ⎞                                 \n",
       "2                   2                   2   ⎟                                 \n",
       " ⋅c₁ - \\lambda_{v_y} ⋅c₁ - \\lambda_{v_z} ⋅c₁⎠                                 \n",
       "──────────────────────────────────────────────                                \n",
       "______                                                                        \n",
       "    2                                                                         \n",
       "v_z}                                                                          \n",
       "                                                                              \n",
       "                                              ⎞                               \n",
       "  2                   2                   2   ⎟                               \n",
       "x} ⋅c₁ - \\lambda_{v_y} ⋅c₁ - \\lambda_{v_z} ⋅c₁⎠                               \n",
       "───────────────────────────────────────────────                               \n",
       "_____                                                                         \n",
       "   2                                                                          \n",
       "_z}                                                                           \n",
       "                                                                              \n",
       "_______________                                                               \n",
       "             2                 2                   2                   2      \n",
       "\\lambda_{v_z}   - \\lambda_{v_x} ⋅c₁ - \\lambda_{v_y} ⋅c₁ - \\lambda_{v_z} ⋅c₁   \n",
       "───────────────────────────────────────────────────────────────────────────   \n",
       "____________                                                                  \n",
       "          2                                                                   \n",
       "mbda_{v_z}                                                                    \n",
       "                                                                              \n",
       "                                                                              \n",
       "2                   2                   2                                     \n",
       " ⋅c₁ - \\lambda_{v_y} ⋅c₁ - \\lambda_{v_z} ⋅c₁                                  \n",
       "────────────────────────────────────────────                                  \n",
       "____________                                                                  \n",
       "          2                                                                   \n",
       "mbda_{v_z}                                                                    \n",
       "                                                                              \n",
       "                                            ⎞                                 \n",
       "2                   2                   2   ⎟                                 \n",
       " ⋅c₁ - \\lambda_{v_y} ⋅c₁ - \\lambda_{v_z} ⋅c₁⎠                                 \n",
       "──────────────────────────────────────────────                                \n",
       "______                                                                        \n",
       "    2                                                                         \n",
       "v_z}                                                                          \n",
       "                                                                              \n",
       "                                                          ____________________\n",
       "      2                   2                   2          ╱              2     \n",
       "_{v_x} ⋅c₁ - \\lambda_{v_y} ⋅c₁ - \\lambda_{v_z} ⋅c₁ + m⋅╲╱  \\lambda_{v_x}  + \\l\n",
       "──────────────────────────────────────────────────────────────────────────────\n",
       "______                                                                        \n",
       "    2                                                                         \n",
       "v_z}                                                                          \n",
       "                                                                              \n",
       "  __________________________________________________                          \n",
       " ╱              2                2                2                 2         \n",
       "╱  \\lambda_{v_x}  + \\lambda_{v_y}  + \\lambda_{v_z}   - \\lambda_{v_x} ⋅c₁ - \\la\n",
       "──────────────────────────────────────────────────────────────────────────────\n",
       "_____________                                                                 \n",
       "           2                                                                  \n",
       "ambda_{v_z}                                                                   \n",
       "\n",
       "                                  ⎤\n",
       "                                  ⎥\n",
       "                                  ⎥\n",
       "                                  ⎥\n",
       "                                  ⎥\n",
       "                                  ⎥\n",
       "                                  ⎥\n",
       "                                  ⎥\n",
       "                                  ⎥\n",
       "                                  ⎥\n",
       "                                  ⎥\n",
       "                                  ⎥\n",
       "                                  ⎥\n",
       "                                  ⎥\n",
       "                                  ⎥\n",
       "                                  ⎥\n",
       "                                  ⎥\n",
       "                                  ⎥\n",
       "                                  ⎥\n",
       "                                  ⎥\n",
       "                                  ⎥\n",
       "                                  ⎥\n",
       "                                  ⎥\n",
       "                                  ⎥\n",
       "                                  ⎥\n",
       "                                  ⎥\n",
       "                                  ⎥\n",
       "                                  ⎥\n",
       "                                  ⎥\n",
       "                                  ⎥\n",
       "                                  ⎥\n",
       "                                  ⎥\n",
       "                                  ⎥\n",
       "                                  ⎥\n",
       "                                  ⎥\n",
       "                                  ⎥\n",
       "                                  ⎥\n",
       "                                  ⎥\n",
       "                                  ⎥\n",
       "                                  ⎥\n",
       "                                  ⎥\n",
       "                                  ⎥\n",
       "                                  ⎥\n",
       "                                  ⎥\n",
       "                                  ⎥\n",
       "                                  ⎥\n",
       "                                  ⎥\n",
       "                                  ⎥\n",
       "                                  ⎥\n",
       "                                  ⎥\n",
       "                                  ⎥\n",
       "                                  ⎥\n",
       "                                  ⎥\n",
       "                                  ⎥\n",
       "                                  ⎥\n",
       "                                  ⎥\n",
       "______________________________⎞   ⎥\n",
       "           2                2 ⎟   ⎥\n",
       "ambda_{v_y}  + \\lambda_{v_z}  ⎠   ⎥\n",
       "───────────────────────────────   ⎥\n",
       "                                  ⎥\n",
       "                                  ⎥\n",
       "                                  ⎥\n",
       "                                  ⎥\n",
       "                                  ⎥\n",
       "          2                   2   ⎥\n",
       "mbda_{v_y} ⋅c₁ - \\lambda_{v_z} ⋅c₁⎥\n",
       "──────────────────────────────────⎥\n",
       "                                  ⎥\n",
       "                                  ⎥\n",
       "                                  ⎦"
      ]
     },
     "execution_count": 11,
     "metadata": {},
     "output_type": "execute_result"
    }
   ],
   "source": [
    "Matrix([\n",
    "    ums.subs(alpha, 0).subs(beta, 0),\n",
    "    ums.subs(alpha, 0).subs(beta, 1),\n",
    "    ums.subs(alpha, 1).subs(beta, 0),\n",
    "    ums.subs(alpha, 1).subs(beta, 1),\n",
    "    ums.subs(alpha, 0),\n",
    "    ums.subs(alpha, 1),\n",
    "    ums.subs(beta, 0),\n",
    "    ums.subs(beta, 1),\n",
    "    ums\n",
    "])"
   ]
  },
  {
   "cell_type": "markdown",
   "metadata": {},
   "source": [
    "## Base trajectory"
   ]
  },
  {
   "cell_type": "code",
   "execution_count": 12,
   "metadata": {},
   "outputs": [
    {
     "name": "stdout",
     "output_type": "stream",
     "text": [
      "Using matplotlib backend: TkAgg\n"
     ]
    }
   ],
   "source": [
    "import sys, numpy as np, matplotlib.pyplot as plt, pygmo as pg, pykep as pk\n",
    "sys.path.append('../src/')\n",
    "from spacecraft import Spacecraft\n",
    "from indirect import Indirect\n",
    "%matplotlib"
   ]
  },
  {
   "cell_type": "code",
   "execution_count": 14,
   "metadata": {},
   "outputs": [],
   "source": [
    "# instantiate problem\n",
    "seg = Spacecraft(T=0.2, isp=2500, m=1000)"
   ]
  },
  {
   "cell_type": "code",
   "execution_count": 15,
   "metadata": {},
   "outputs": [],
   "source": [
    "# initial state\n",
    "s0 = np.hstack((*pk.planet.jpl_lp('earth').eph(pk.epoch(0)), seg.M))\n",
    "\n",
    "# duration bounds in days\n",
    "Tlb = 100\n",
    "Tub = 500\n",
    "\n",
    "# costates bounds\n",
    "lb = 50\n",
    "\n",
    "# homotopy parameters\n",
    "alpha = 0\n",
    "seg.beta = 0"
   ]
  },
  {
   "cell_type": "code",
   "execution_count": 17,
   "metadata": {},
   "outputs": [
    {
     "name": "stdout",
     "output_type": "stream",
     "text": [
      "[447.85419002   8.09073869   1.11265494 -19.4347535   -5.54159539\n",
      "  14.06194584   5.62582364  -4.86975254   6.94011577] True\n"
     ]
    }
   ],
   "source": [
    "zg = [447.85419003,   8.09073869,   1.11265495, -19.43475353, -5.54159539,  14.06194588,   5.62582364,  -4.86975254, 6.94011577]\n",
    "z, f, feas = seg.solve(s0, 0, 100, 1000, 100, z=zg)\n",
    "print(z, feas)"
   ]
  },
  {
   "cell_type": "code",
   "execution_count": 18,
   "metadata": {},
   "outputs": [],
   "source": [
    "tl, sl, ul = seg.propagate(z[0], s0, z[2:], 0, u=True)"
   ]
  },
  {
   "cell_type": "code",
   "execution_count": 19,
   "metadata": {},
   "outputs": [
    {
     "name": "stderr",
     "output_type": "stream",
     "text": [
      "'c' argument looks like a single numeric RGB or RGBA sequence, which should be avoided as value-mapping will have precedence in case its length matches with 'x' & 'y'.  Please use a 2-D array with a single row if you really want to specify the same RGB or RGBA value for all points.\n",
      "'c' argument looks like a single numeric RGB or RGBA sequence, which should be avoided as value-mapping will have precedence in case its length matches with 'x' & 'y'.  Please use a 2-D array with a single row if you really want to specify the same RGB or RGBA value for all points.\n",
      "/usr/local/lib/python3.6/dist-packages/matplotlib/cbook/__init__.py:424: MatplotlibDeprecationWarning: \n",
      "Passing one of 'on', 'true', 'off', 'false' as a boolean is deprecated; use an actual boolean (True/False) instead.\n",
      "  warn_deprecated(\"2.2\", \"Passing one of 'on', 'true', 'off', 'false' as a \"\n"
     ]
    },
    {
     "data": {
      "image/png": "[encoded data removed]",
      "text/plain": [
       "<Figure size 432x288 with 1 Axes>"
      ]
     },
     "metadata": {
      "needs_background": "light"
     },
     "output_type": "display_data"
    }
   ],
   "source": [
    "fig = plt.figure()\n",
    "ax = fig.add_subplot(111, projection='3d')\n",
    "pk.orbit_plots.plot_planet(\n",
    "    pk.planet.jpl_lp('earth'), pk.epoch(6939.5), color=(0.8, 0.8, 0.8), ax=ax)\n",
    "pk.orbit_plots.plot_planet(\n",
    "    pk.planet.keplerian(pk.epoch(z[0]), pk.ic2par(sl[-1,0:3], sl[-1,3:6], seg.mu)),\n",
    "    pk.epoch(z[0]), color=(0.8, 0.8, 0.8), ax=ax\n",
    ")\n",
    "ax.plot(sl[:,0], sl[:,1], sl[:,2], \"k-\")\n",
    "ax.set_aspect('equal')\n",
    "ax.grid('False')\n",
    "# Get rid of the panes\n",
    "ax.w_xaxis.set_pane_color((1.0, 1.0, 1.0, 0.0))\n",
    "ax.w_yaxis.set_pane_color((1.0, 1.0, 1.0, 0.0))\n",
    "ax.w_zaxis.set_pane_color((1.0, 1.0, 1.0, 0.0))\n",
    "\n",
    "# Get rid of the spines\n",
    "ax.w_xaxis.line.set_color((1.0, 1.0, 1.0, 0.0))\n",
    "ax.w_yaxis.line.set_color((1.0, 1.0, 1.0, 0.0))\n",
    "ax.w_zaxis.line.set_color((1.0, 1.0, 1.0, 0.0))\n",
    "plt.show()"
   ]
  },
  {
   "cell_type": "code",
   "execution_count": 20,
   "metadata": {},
   "outputs": [
    {
     "data": {
      "image/png": "[encoded data removed]",
      "text/plain": [
       "<Figure size 432x288 with 4 Axes>"
      ]
     },
     "metadata": {
      "needs_background": "light"
     },
     "output_type": "display_data"
    }
   ],
   "source": [
    "fig, ax = plt.subplots(4, sharex=True)\n",
    "for dim in range(4):\n",
    "    ax[dim].plot(tl, ul[:,dim], \"k-\")\n",
    "fig.tight_layout()\n",
    "ax[0].set_ylabel(r'$u$')\n",
    "ax[1].set_ylabel(r'$\\hat u_x$')\n",
    "ax[2].set_ylabel(r'$\\hat u_y$')\n",
    "ax[3].set_ylabel(r'$\\hat u_z$')\n",
    "ax[3].set_xlabel(r'$t$')\n",
    "plt.show()"
   ]
  },
  {
   "cell_type": "markdown",
   "metadata": {},
   "source": [
    "# Policy homotopy"
   ]
  },
  {
   "cell_type": "code",
   "execution_count": null,
   "metadata": {},
   "outputs": [],
   "source": []
  }
 ],
 "metadata": {
  "kernelspec": {
   "display_name": "Python 3",
   "language": "python",
   "name": "python3"
  },
  "language_info": {
   "codemirror_mode": {
    "name": "ipython",
    "version": 3
   },
   "file_extension": ".py",
   "mimetype": "text/x-python",
   "name": "python",
   "nbconvert_exporter": "python",
   "pygments_lexer": "ipython3",
   "version": "3.6.7"
  }
 },
 "nbformat": 4,
 "nbformat_minor": 2
}
