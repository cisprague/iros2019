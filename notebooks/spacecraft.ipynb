{
 "cells": [
  {
   "cell_type": "markdown",
   "metadata": {},
   "source": [
    "# Homotopic optimal control of interplanetary spacecraft\n",
    "\n",
    "## Dynamics"
   ]
  },
  {
   "cell_type": "code",
   "execution_count": null,
   "metadata": {},
   "outputs": [],
   "source": [
    "from sympy import *\n",
    "init_printing()"
   ]
  },
  {
   "cell_type": "code",
   "execution_count": null,
   "metadata": {},
   "outputs": [],
   "source": [
    "# state variables\n",
    "x, y, z, vx, vy, vz = symbols('x y z v_x v_y v_z', real=True)\n",
    "m = symbols('m', real=True, nonnegative=True)\n",
    "\n",
    "# position\n",
    "p = Matrix([x, y, z])\n",
    "\n",
    "# velocity\n",
    "v = Matrix([vx, vy, vz])\n",
    "\n",
    "# state\n",
    "s = Matrix([p, v, [m]])\n",
    "s.T"
   ]
  },
  {
   "cell_type": "code",
   "execution_count": null,
   "metadata": {},
   "outputs": [],
   "source": [
    "# control parameters\n",
    "um = symbols('u', real=True, positive=True)\n",
    "ux, uy, uz =symbols('\\\\hat{u}_x \\\\hat{u}_y \\\\hat{u}_z', real=True)\n",
    "uh = Matrix([ux, uy, uz])\n",
    "u = Matrix([[um], uh])\n",
    "\n",
    "# constants\n",
    "c1, c2, mu = symbols('c_1 c_2 \\\\mu', real=True, positive=True)\n",
    "T, isp, mu, g = symbols('T I_{sp} \\\\mu g_0', real=True, positive=True)\n",
    "c1 = T\n",
    "c2 = T/(isp*g)\n",
    "\n",
    "# equations of motion\n",
    "ds = Matrix([\n",
    "    v,\n",
    "    (-mu/((x**2 + y**2 + z**2)**(Rational(3/2))))*(p) + (c1*um/m)*uh,\n",
    "    [-c2*um]\n",
    "])\n",
    "simplify(ds)"
   ]
  },
  {
   "cell_type": "code",
   "execution_count": null,
   "metadata": {},
   "outputs": [],
   "source": [
    "# homotopy parameter\n",
    "alpha, beta = symbols('\\\\alpha \\\\beta', real=True, nonnegative=True)\n",
    "\n",
    "# Lagrangian\n",
    "L = alpha + (1-alpha)*um\n",
    "L = beta*L + (1-beta)*um**2\n",
    "L.simplify()\n",
    "print(L)"
   ]
  },
  {
   "cell_type": "code",
   "execution_count": null,
   "metadata": {},
   "outputs": [],
   "source": [
    " # costate variables\n",
    "l = Matrix(symbols(['\\\\lambda_{' + str(var) + '}' for var in s]), real=True)\n",
    "l.T"
   ]
  },
  {
   "cell_type": "code",
   "execution_count": null,
   "metadata": {},
   "outputs": [],
   "source": [
    "# Hamiltonian\n",
    "H = l.dot(ds) + L\n",
    "H"
   ]
  },
  {
   "cell_type": "code",
   "execution_count": null,
   "metadata": {},
   "outputs": [],
   "source": [
    "# minimise Hamiltonian w.r.t. controls\n",
    "lv = Matrix(l[3:6])\n",
    "uhs = -lv/sqrt(sum([var**2 for var in lv]))\n",
    "simplify(uhs)"
   ]
  },
  {
   "cell_type": "code",
   "execution_count": null,
   "metadata": {},
   "outputs": [],
   "source": [
    "# new Hamiltonian\n",
    "H1 = H.subs(ux, uhs[0]).subs(uy, uhs[1]).subs(uz, uhs[2])\n",
    "ums = solve(H1.diff(um), um)[0]\n",
    "ums"
   ]
  },
  {
   "cell_type": "code",
   "execution_count": null,
   "metadata": {},
   "outputs": [],
   "source": [
    "lv = symbols('\\lambda_v')"
   ]
  },
  {
   "cell_type": "code",
   "execution_count": null,
   "metadata": {},
   "outputs": [],
   "source": [
    "ums.subs(beta, 1).simplify()"
   ]
  },
  {
   "cell_type": "markdown",
   "metadata": {},
   "source": [
    "$$\n",
    "\\frac{1}{2(1-\\beta)}\n",
    "\\left(\n",
    "\\frac{T \\left(\\pmb{\\lambda}_v \\cdot \\pmb{\\lambda}_v\\right)}{ \\lambda_v  m }\n",
    "+\n",
    "\\frac{T \\lambda_{m} }{ I_{sp}  g_{0} } +\n",
    "\\beta  \\left(\\alpha - 1\\right)\n",
    "\\right)\n",
    "$$"
   ]
  },
  {
   "cell_type": "code",
   "execution_count": null,
   "metadata": {},
   "outputs": [],
   "source": [
    "ums.subs(beta, 1).subs(alpha, 0).simplify()"
   ]
  },
  {
   "cell_type": "code",
   "execution_count": null,
   "metadata": {},
   "outputs": [],
   "source": [
    "ums.simplify().collect(isp*T*g).collect(beta*isp*g*m).collect(sqrt(sum(var**2 for var in l[3:6]))).simplify()"
   ]
  },
  {
   "cell_type": "markdown",
   "metadata": {},
   "source": [
    "$$\n",
    "\\frac{\n",
    "    -I_{sp} T g_0 \\left( \\pmb{\\lambda}_v \\cdot \\pmb{\\lambda}_v \\right)\n",
    "    + \\lambda_v I_{sp} g_0 m \\beta (1- \\alpha)\n",
    "    - \\lambda_v \\lambda_m T m\n",
    "}{\n",
    "    2 \\lambda_v I_{sp} g_0 m (\\beta -1)\n",
    "}\n",
    "$$"
   ]
  },
  {
   "cell_type": "markdown",
   "metadata": {},
   "source": [
    "$$\n",
    "\\frac{1}{2(\\beta - 1)}\n",
    "\\left(\n",
    "\\beta (1- \\alpha)\n",
    "-\n",
    "\\frac{\n",
    "    T \\left( \\pmb{\\lambda}_v \\cdot \\pmb{\\lambda}_v \\right)\n",
    "}{\n",
    "    \\lambda_v  m \n",
    "} \n",
    "-\n",
    "\\frac{\n",
    "      \\lambda_m T \n",
    "}{\n",
    "      I_{sp} g_0 \n",
    "}\n",
    "\\right)\n",
    "$$"
   ]
  },
  {
   "cell_type": "markdown",
   "metadata": {},
   "source": [
    "$$\n",
    "\\frac{\n",
    "    -I_{sp} T g_0 \\left( \\pmb{\\lambda}_v \\cdot \\pmb{\\lambda}_v \\right)\n",
    "    + \\lambda_v I_{sp} g_0 m \\left( 1 - \\alpha \\right)\n",
    "    - T \\lambda_m m \\lambda_v\n",
    "}{\n",
    "    m \\lambda_v\n",
    "}\n",
    "$$"
   ]
  },
  {
   "cell_type": "code",
   "execution_count": null,
   "metadata": {},
   "outputs": [],
   "source": [
    "us = Matrix([[ums], uhs])"
   ]
  },
  {
   "cell_type": "code",
   "execution_count": null,
   "metadata": {},
   "outputs": [],
   "source": []
  },
  {
   "cell_type": "code",
   "execution_count": null,
   "metadata": {
    "scrolled": false
   },
   "outputs": [],
   "source": [
    "# costate equations of motion\n",
    "dl = -H.diff(s)\n",
    "dl"
   ]
  },
  {
   "cell_type": "code",
   "execution_count": null,
   "metadata": {},
   "outputs": [],
   "source": [
    "Matrix([\n",
    "    ums.subs(alpha, 0).subs(beta, 0),\n",
    "    ums.subs(alpha, 0).subs(beta, 1),\n",
    "    ums.subs(alpha, 1).subs(beta, 0),\n",
    "    ums.subs(alpha, 1).subs(beta, 1),\n",
    "    ums.subs(alpha, 0),\n",
    "    ums.subs(alpha, 1),\n",
    "    ums.subs(beta, 0),\n",
    "    ums.subs(beta, 1),\n",
    "    ums\n",
    "])"
   ]
  },
  {
   "cell_type": "code",
   "execution_count": null,
   "metadata": {},
   "outputs": [],
   "source": [
    "tangent = Matrix([\n",
    "    (-mu/(p.norm()**3))*p,\n",
    "    v\n",
    "])\n",
    "tangent = tangent/tangent.norm()\n",
    "l[:-1, :].dot(tangent).simplify().collect()"
   ]
  },
  {
   "cell_type": "code",
   "execution_count": null,
   "metadata": {},
   "outputs": [],
   "source": [
    "# regular optimal control\n",
    "ums.subs(beta, 1).simplify().subs(sqrt(sum([var**2 for var in l[3:6]])), '\\lambda_v')"
   ]
  },
  {
   "cell_type": "markdown",
   "metadata": {},
   "source": [
    "$$\n",
    "\\frac{\\pmb{\\lambda}_v \\cdot \\pmb{\\lambda}_v}{\\lambda_v m} + \\lambda_m + 1 + \\alpha\n",
    "$$"
   ]
  },
  {
   "cell_type": "code",
   "execution_count": null,
   "metadata": {},
   "outputs": [],
   "source": [
    "# effort optimal control\n",
    "ums.subs(beta, 1).subs(alpha, 0).simplify().subs(sqrt(sum([var**2 for var in l[3:6]])), '\\lambda_v')"
   ]
  },
  {
   "cell_type": "markdown",
   "metadata": {},
   "source": [
    "$$\n",
    "\\frac{\\pmb{\\lambda}_v \\cdot \\pmb{\\lambda}_v}{\\lambda_v m}\n",
    "+\n",
    "\\lambda_m\n",
    "+\n",
    "1\n",
    "$$"
   ]
  },
  {
   "cell_type": "code",
   "execution_count": null,
   "metadata": {},
   "outputs": [],
   "source": [
    "# time optimal control\n",
    "ums.subs(beta, 1).subs(alpha, 1).simplify().subs(sqrt(sum([var**2 for var in l[3:6]])), '\\lambda_v')"
   ]
  },
  {
   "cell_type": "code",
   "execution_count": null,
   "metadata": {},
   "outputs": [],
   "source": [
    "# effort or time optimal control"
   ]
  },
  {
   "cell_type": "markdown",
   "metadata": {},
   "source": [
    "$$\n",
    "\\frac{\\pmb{\\lambda}_v \\cdot \\pmb{\\lambda}_v}{\\lambda_v m}\n",
    "+\n",
    "\\lambda_m\n",
    "$$"
   ]
  },
  {
   "cell_type": "markdown",
   "metadata": {},
   "source": [
    "$$\n",
    "\\frac{\\mu}{r^3} \\pmb{\\lambda}_v - \\frac{3\\mu}{r^5}\\left( \\pmb{\\lambda}_v \\cdot \\pmb{r} \\right)\n",
    "$$"
   ]
  },
  {
   "cell_type": "markdown",
   "metadata": {},
   "source": [
    "tangent"
   ]
  },
  {
   "cell_type": "markdown",
   "metadata": {},
   "source": [
    "## Base trajectory"
   ]
  },
  {
   "cell_type": "code",
   "execution_count": 1,
   "metadata": {},
   "outputs": [
    {
     "name": "stdout",
     "output_type": "stream",
     "text": [
      "Using matplotlib backend: TkAgg\n"
     ]
    }
   ],
   "source": [
    "import sys, numpy as np, matplotlib.pyplot as plt, pygmo as pg, pykep as pk\n",
    "sys.path.append('../src/')\n",
    "from spacecraft import Spacecraft\n",
    "from indirect import Indirect\n",
    "%matplotlib"
   ]
  },
  {
   "cell_type": "code",
   "execution_count": 2,
   "metadata": {},
   "outputs": [],
   "source": [
    "# instantiate problem\n",
    "seg = Spacecraft(T=0.2, isp=2500, m=1000)"
   ]
  },
  {
   "cell_type": "code",
   "execution_count": 3,
   "metadata": {},
   "outputs": [],
   "source": [
    "# initial state\n",
    "s0 = np.hstack((*pk.planet.jpl_lp('earth').eph(pk.epoch(0)), seg.M))\n",
    "\n",
    "# homotopy parameters\n",
    "alpha = 0\n",
    "seg.beta = 0\n",
    "\n",
    "# duration bounds in days\n",
    "Tlb = 100\n",
    "Tub = 500\n",
    "\n",
    "# costates bounds\n",
    "lb = 50\n",
    "\n",
    "# decision vector guess\n",
    "zg = [379.20912013,   0.93398202,  12.76567896, -45.55493263,  -8.26940351, 49.99989562, 3.00127225, -8.58992837, 8.32972382]"
   ]
  },
  {
   "cell_type": "code",
   "execution_count": 4,
   "metadata": {},
   "outputs": [],
   "source": [
    "# solve single trajectory\n",
    "z, f, feas = seg.solve(s0, alpha, Tlb, Tub, lb, z=zg)\n",
    "\n",
    "# solve multiple candidate trajectories in parallel\n",
    "#zl, fl, feasl = seg.solve_par(s0, alpha, 200, 450, 50, npar=1000)"
   ]
  },
  {
   "cell_type": "code",
   "execution_count": 5,
   "metadata": {},
   "outputs": [
    {
     "name": "stderr",
     "output_type": "stream",
     "text": [
      "'c' argument looks like a single numeric RGB or RGBA sequence, which should be avoided as value-mapping will have precedence in case its length matches with 'x' & 'y'.  Please use a 2-D array with a single row if you really want to specify the same RGB or RGBA value for all points.\n",
      "'c' argument looks like a single numeric RGB or RGBA sequence, which should be avoided as value-mapping will have precedence in case its length matches with 'x' & 'y'.  Please use a 2-D array with a single row if you really want to specify the same RGB or RGBA value for all points.\n",
      "/usr/local/lib/python3.6/dist-packages/matplotlib/cbook/__init__.py:424: MatplotlibDeprecationWarning: \n",
      "Passing one of 'on', 'true', 'off', 'false' as a boolean is deprecated; use an actual boolean (True/False) instead.\n",
      "  warn_deprecated(\"2.2\", \"Passing one of 'on', 'true', 'off', 'false' as a \"\n"
     ]
    },
    {
     "data": {
      "image/png": "[encoded data removed]",
      "text/plain": [
       "<Figure size 432x288 with 1 Axes>"
      ]
     },
     "metadata": {
      "needs_background": "light"
     },
     "output_type": "display_data"
    }
   ],
   "source": [
    "# plot trajectory\n",
    "tl, sl, ul = seg.propagate(z[0], s0, z[2:], alpha, u=True)\n",
    "ax = seg.plot_traj(sl, alpha=1)\n",
    "plt.show()"
   ]
  },
  {
   "cell_type": "code",
   "execution_count": 6,
   "metadata": {},
   "outputs": [
    {
     "data": {
      "text/plain": [
       "array([ 1.78451125e+11,  1.20412950e+11, -1.86367612e+09, -1.26248526e+04,\n",
       "        2.21517259e+04,  7.74336764e+02,  7.89187962e+02])"
      ]
     },
     "execution_count": 6,
     "metadata": {},
     "output_type": "execute_result"
    }
   ],
   "source": [
    "sl[-1, :seg.sdim]"
   ]
  },
  {
   "cell_type": "markdown",
   "metadata": {},
   "source": [
    "# Policy homotopy in $\\beta \\times [0, 1] : \\alpha = 0$"
   ]
  },
  {
   "cell_type": "code",
   "execution_count": null,
   "metadata": {},
   "outputs": [],
   "source": [
    "# homotopy\n",
    "alpha = 0\n",
    "beta = 0\n",
    "betag = 0.999\n",
    "#T = seg.homotopy_beta(s0, alpha, beta, Tlb, Tub, lb, z, betag, step=0.1, verbose=True)\n",
    "Ta0 = np.load('spacecraft_z_beta_homotopy_alpha_0.npy'); alpha = 0"
   ]
  },
  {
   "cell_type": "code",
   "execution_count": null,
   "metadata": {},
   "outputs": [],
   "source": [
    "# plot homotopy\n",
    "fig = plt.figure()\n",
    "for i, t in enumerate(Ta0):\n",
    "    z = t[0]\n",
    "    tf = z[0]\n",
    "    l0 = z[2:]\n",
    "    seg.beta = t[1]\n",
    "    tl, sl, ul = seg.propagate(tf, s0, l0, alpha, u=True)\n",
    "    if i == 0:\n",
    "        fig, ax = seg.plot_traj(sl, alpha=1, mark=\"k-\")\n",
    "    elif i == len(Ta0) - 1:\n",
    "        seg.plot_traj(sl, alpha=1, mark=\"k--\", ax=ax)\n",
    "    else:\n",
    "        seg.plot_traj(sl, ax=ax)\n",
    "plt.show()"
   ]
  },
  {
   "cell_type": "markdown",
   "metadata": {},
   "source": [
    "# Policy homotopy in $\\beta \\times [0, 1] : \\alpha = 1$"
   ]
  },
  {
   "cell_type": "code",
   "execution_count": null,
   "metadata": {},
   "outputs": [],
   "source": [
    "# homotopy\n",
    "alpha = 1\n",
    "beta = 0\n",
    "betag = 0.999\n",
    "#T = seg.homotopy_beta(s0, alpha, beta, Tlb, Tub, lb, z, betag, step=0.1, verbose=True)\n",
    "Ta1 = np.load('spacecraft_z_beta_homotopy_alpha_1.npy'); alpha = 1"
   ]
  },
  {
   "cell_type": "code",
   "execution_count": null,
   "metadata": {},
   "outputs": [],
   "source": [
    "# plot homotopy\n",
    "for i, t in enumerate(Ta1):\n",
    "    z = t[0]\n",
    "    tf = z[0]\n",
    "    l0 = z[2:]\n",
    "    seg.beta = t[1]\n",
    "    tl, sl, ul = seg.propagate(tf, s0, l0, alpha, u=True)\n",
    "    if i == 0:\n",
    "        fig, ax = seg.plot_traj(sl, alpha=1, mark=\"k-\")\n",
    "    elif i == len(Ta1) - 1:\n",
    "        seg.plot_traj(sl, alpha=1, mark=\"k--\", ax=ax)\n",
    "    else:\n",
    "        seg.plot_traj(sl, ax=ax)\n",
    "ax1 = ax\n",
    "plt.show()"
   ]
  },
  {
   "cell_type": "markdown",
   "metadata": {},
   "source": [
    "# Policy homotopy in $\\alpha \\times [0, 1] : \\beta = 1$"
   ]
  },
  {
   "cell_type": "code",
   "execution_count": 7,
   "metadata": {},
   "outputs": [],
   "source": [
    "# homotopy\n",
    "alpha = 0\n",
    "alphag = 1\n",
    "seg.beta = 0.999\n",
    "#z = Ta0[-1][0]\n",
    "#Tb1 = seg.homotopy(s0, alpha, Tlb, Tub, lb, z, alphag, step=0.1, verbose=False)\n",
    "Tb1 = np.load('spacecraft_z_alpha_homotopy_beta_1.npy')"
   ]
  },
  {
   "cell_type": "code",
   "execution_count": 8,
   "metadata": {},
   "outputs": [
    {
     "name": "stderr",
     "output_type": "stream",
     "text": [
      "'c' argument looks like a single numeric RGB or RGBA sequence, which should be avoided as value-mapping will have precedence in case its length matches with 'x' & 'y'.  Please use a 2-D array with a single row if you really want to specify the same RGB or RGBA value for all points.\n",
      "'c' argument looks like a single numeric RGB or RGBA sequence, which should be avoided as value-mapping will have precedence in case its length matches with 'x' & 'y'.  Please use a 2-D array with a single row if you really want to specify the same RGB or RGBA value for all points.\n"
     ]
    },
    {
     "data": {
      "image/png": "[encoded data removed]",
      "text/plain": [
       "<Figure size 432x288 with 1 Axes>"
      ]
     },
     "metadata": {
      "needs_background": "light"
     },
     "output_type": "display_data"
    }
   ],
   "source": [
    "# plot homotopy\n",
    "for i, t in enumerate(Tb1):\n",
    "    z = t[0]\n",
    "    tf = z[0]\n",
    "    l0 = z[2:]\n",
    "    alpha = t[1]\n",
    "    tl, sl, ul = seg.propagate(tf, s0, l0, alpha, u=True)\n",
    "    if i == 0:\n",
    "        fig, ax = seg.plot_traj(sl, alpha=1, mark=\"k-\")\n",
    "    elif i == len(Tb1) - 1:\n",
    "        seg.plot_traj(sl, alpha=1, mark=\"k--\", ax=ax)\n",
    "    else:\n",
    "        seg.plot_traj(sl, ax=ax)\n",
    "ax2 = ax\n",
    "plt.show()"
   ]
  },
  {
   "cell_type": "markdown",
   "metadata": {},
   "source": [
    "## Comparing policy homotopies"
   ]
  },
  {
   "cell_type": "code",
   "execution_count": null,
   "metadata": {},
   "outputs": [],
   "source": [
    "# figure\n",
    "fig, ax = plt.subplots(3, sharex=True)\n",
    "\n",
    "alpha = 0\n",
    "for i, sol in enumerate(Ta0):\n",
    "    \n",
    "    # decision vector\n",
    "    z = sol[0]\n",
    "    \n",
    "    # beta homotopy parameter\n",
    "    seg.beta = sol[1]\n",
    "    \n",
    "    # simulate\n",
    "    if i == len(Ta0) - 1:\n",
    "        seg.beta = 0.99999999999\n",
    "        tl, sl, ul = seg.propagate(z[0], s0, z[2:], alpha, u=True)\n",
    "    else:\n",
    "        tl, sl, ul = seg.propagate(z[0], s0, z[2:], alpha, u=True)\n",
    "    \n",
    "    # plot trajectory\n",
    "    if i == 0:\n",
    "        ax[alpha].plot(tl, ul[:,0], \"k-\", label=r'$\\alpha = {}, \\beta=0$'.format(alpha))\n",
    "    elif i == len(Ta0) - 1:\n",
    "        ax[alpha].plot(tl, ul[:,0], \"k--\", label=r'$\\alpha = {}, \\beta=1$'.format(alpha))\n",
    "    else:\n",
    "        ax[alpha].plot(tl, ul[:,0], \"k-\", alpha=0.1)\n",
    "    \n",
    "alpha = 1\n",
    "for i, sol in enumerate(Ta1):\n",
    "    \n",
    "    # decision vector\n",
    "    z = sol[0]\n",
    "    \n",
    "    # beta homotopy parameter\n",
    "    seg.beta = sol[1]\n",
    "    \n",
    "    # simulate\n",
    "    if i == len(Ta1) - 1:\n",
    "        seg.beta = 0.99999999999\n",
    "        tl, sl, ul = seg.propagate(z[0], s0, z[2:], alpha, u=True)\n",
    "    else:\n",
    "        tl, sl, ul = seg.propagate(z[0], s0, z[2:], alpha, u=True)\n",
    "    \n",
    "    # plot trajectory\n",
    "    if i == 0:\n",
    "        ax[alpha].plot(tl, ul[:,0], \"k-\", label=r'$\\alpha = {}, \\beta=0$'.format(alpha))\n",
    "    elif i == len(Ta1) - 1:\n",
    "        ax[alpha].plot(tl, ul[:,0], \"k--\", label=r'$\\alpha = {}, \\beta=1$'.format(alpha))\n",
    "    else:\n",
    "        ax[alpha].plot(tl, ul[:,0], \"k-\", alpha=0.1)\n",
    "        \n",
    "seg.beta = 0.999999999\n",
    "for i, sol in enumerate(Tb1):\n",
    "    \n",
    "    # decision vector\n",
    "    z = sol[0]\n",
    "    \n",
    "    # beta homotopy parameter\n",
    "    alpha = sol[1]\n",
    "    \n",
    "    # simulate\n",
    "    tl, sl, ul = seg.propagate(z[0], s0, z[2:], alpha, u=True)\n",
    "    \n",
    "    # plot trajectory\n",
    "    if i == 0:\n",
    "        ax[2].plot(tl, ul[:,0], \"k-\", label=r'$\\alpha = {}, \\beta=1$'.format(alpha))\n",
    "    elif i == len(Tb1) - 1:\n",
    "        ax[2].plot(tl, ul[:,0], \"k--\", label=r'$\\alpha = {}, \\beta=1$'.format(alpha))\n",
    "    else:\n",
    "        ax[2].plot(tl, ul[:,0], \"k-\", alpha=0.1)\n",
    "    \n",
    "\n",
    "ax[2].set_xlabel(r'$t$')\n",
    "ax[0].set_ylabel(r'$u$')\n",
    "ax[1].set_ylabel(r'$u$')\n",
    "ax[2].set_ylabel(r'$u$')\n",
    "ax[0].legend(loc='lower left')\n",
    "ax[1].legend(loc='lower left')\n",
    "ax[2].legend(loc='lower left')\n",
    "ax[0].set_ylim(-0.05, 1.05)\n",
    "ax[1].set_ylim(-0.05, 1.05)\n",
    "ax[2].set_ylim(-0.05, 1.05)\n",
    "\n",
    "fig.tight_layout()\n",
    "#fig.savefig('spacecraft_u_full_homotopy.pdf', bbox_inches='tight')\n",
    "plt.show()"
   ]
  },
  {
   "cell_type": "markdown",
   "metadata": {},
   "source": [
    "## Random walks at $\\beta = 0$"
   ]
  },
  {
   "cell_type": "code",
   "execution_count": null,
   "metadata": {},
   "outputs": [],
   "source": [
    "# decision vector and homotopy parameter\n",
    "z, seg.beta = Ta0[0]\n",
    "alpha = 0\n",
    "\n",
    "# number of serial perturbations per walk\n",
    "n = 5\n",
    "\n",
    "# number of walks\n",
    "nw = 8"
   ]
  },
  {
   "cell_type": "code",
   "execution_count": null,
   "metadata": {},
   "outputs": [],
   "source": [
    "# random walks in parallel\n",
    "T = seg.random_walk_par(s0, z, alpha, n, Tlb, Tub, lb, nw, dsm=0.005, verbose=True)"
   ]
  },
  {
   "cell_type": "code",
   "execution_count": null,
   "metadata": {},
   "outputs": [],
   "source": [
    "%matplotlib\n",
    "# plot random walks\n",
    "for i, t in enumerate(T):\n",
    "    s0 = t[0]\n",
    "    z = t[1]\n",
    "    tf = z[0]\n",
    "    l0 = z[2:]\n",
    "    tl, sl, ul = seg.propagate(tf, s0, l0, alpha, u=True)\n",
    "    if i == 0:\n",
    "        fig, ax = seg.plot_traj(sl, alpha=1, mark=\"k-\")\n",
    "        ax.set_aspect('equal')\n",
    "    else:\n",
    "        seg.plot_traj(sl, ax=ax, alpha=0.5)\n",
    "plt.show()"
   ]
  },
  {
   "cell_type": "markdown",
   "metadata": {},
   "source": [
    "## Database homotopy $\\beta \\times [0, 1], \\alpha = 0$"
   ]
  },
  {
   "cell_type": "code",
   "execution_count": null,
   "metadata": {},
   "outputs": [],
   "source": [
    "#res = seg.homotopy_db_beta(T, alpha, beta, Tlb, Tub, lb, betag, step=0.1)\n",
    "res = np.load('spacecraft_db_beta_homotopy_a0.npy')"
   ]
  },
  {
   "cell_type": "code",
   "execution_count": null,
   "metadata": {},
   "outputs": [],
   "source": [
    "#np.save('spacecraft_db_beta_homotopy_a0.npy', res)"
   ]
  },
  {
   "cell_type": "code",
   "execution_count": null,
   "metadata": {},
   "outputs": [],
   "source": [
    "%matplotlib\n",
    "# plot database homotopy\n",
    "alpha = 0\n",
    "for i, r in enumerate(res):\n",
    "    s0, z, seg.beta = r\n",
    "    tf = z[0]\n",
    "    l0 = z[2:]\n",
    "    tl, sl, ul = seg.propagate(tf, s0, l0, alpha, u=True)\n",
    "    if i == 0:\n",
    "        fig, ax = seg.plot_traj(sl, alpha=0.01)\n",
    "        ax.set_aspect('equal')\n",
    "    else:\n",
    "        seg.plot_traj(sl, ax=ax, alpha=0.01)\n",
    "plt.show()"
   ]
  },
  {
   "cell_type": "code",
   "execution_count": null,
   "metadata": {},
   "outputs": [],
   "source": [
    "res[:,2] >= 0.999"
   ]
  },
  {
   "cell_type": "markdown",
   "metadata": {},
   "source": [
    "## Database homotopy $\\alpha \\times [0, 1], \\beta = 1$"
   ]
  },
  {
   "cell_type": "code",
   "execution_count": null,
   "metadata": {},
   "outputs": [],
   "source": [
    "# get effort optimal trajectories\n",
    "#s0zl = res[np.argwhere(res[:,2] >= 0.998).flatten(), :2]\n",
    "alpha = 0\n",
    "alphag = 1\n",
    "seg.beta = 0.999\n",
    "#T = seg.homotopy_db(s0zl, alpha, Tlb, Tub, lb, alphag, step=0.1)\n",
    "T = np.load('spacecraft_db_alpha_homotopy_beta_1.npy')"
   ]
  },
  {
   "cell_type": "code",
   "execution_count": null,
   "metadata": {},
   "outputs": [],
   "source": [
    "T"
   ]
  },
  {
   "cell_type": "code",
   "execution_count": null,
   "metadata": {},
   "outputs": [],
   "source": [
    "#np.save('spacecraft_db_alpha_homotopy_beta_1.npy', T)"
   ]
  },
  {
   "cell_type": "code",
   "execution_count": null,
   "metadata": {},
   "outputs": [],
   "source": [
    "%matplotlib\n",
    "seg.beta = 0.999\n",
    "# plot database homotopy\n",
    "fig1, ax1 = plt.subplots(1)\n",
    "for i, r in enumerate(T):\n",
    "    s0, z, alpha = r\n",
    "    tf = z[0]\n",
    "    l0 = z[2:]\n",
    "    tl, sl, ul = seg.propagate(tf, s0, l0, alpha, u=True)\n",
    "    ax1.plot(tl, ul[:,0], \"k-\", alpha=0.01)\n",
    "    if i == 0:\n",
    "        fig, ax = seg.plot_traj(sl, alpha=0.01)\n",
    "        ax.set_aspect('equal')\n",
    "    else:\n",
    "        seg.plot_traj(sl, ax=ax, alpha=0.01)\n",
    "        \n",
    "ax.set_xlabel('x')\n",
    "ax.set_ylabel('y')\n",
    "ax.set_zlabel('z')\n",
    "\n",
    "fig.tight_layout()\n",
    "#fig.savefig('spacecraft_s_alpha_homotopy_db.pdf', bbox_inches='tight')\n",
    "plt.show()"
   ]
  },
  {
   "cell_type": "markdown",
   "metadata": {},
   "source": [
    "## Training a neural network"
   ]
  },
  {
   "cell_type": "code",
   "execution_count": 30,
   "metadata": {},
   "outputs": [],
   "source": [
    "from ann import *\n",
    "import cloudpickle as cp\n",
    "from matplotlib.ticker import FormatStrFormatter"
   ]
  },
  {
   "cell_type": "code",
   "execution_count": 31,
   "metadata": {},
   "outputs": [],
   "source": [
    "# assemble database\n",
    "#db = seg.gen_db(T, cat=True)\n",
    "db = np.load('spacecraft_db.npy')\n",
    "#db = db[np.hstack((np.argwhere(db[:,8] == 1).flatten(), np.argwhere(db[:,8] == 0).flatten())), :]"
   ]
  },
  {
   "cell_type": "code",
   "execution_count": 39,
   "metadata": {},
   "outputs": [
    {
     "data": {
      "text/plain": [
       "(149598261129.93335,\n",
       " 0.016711230601231957,\n",
       " 2.640492490927786e-07,\n",
       " 3.141592653589793,\n",
       " 4.938194050401601,\n",
       " -0.052644245547064206)"
      ]
     },
     "execution_count": 39,
     "metadata": {},
     "output_type": "execute_result"
    }
   ],
   "source": [
    "pk.ic2par(s0[0:3], s0[3:6], pk.MU_SUN)"
   ]
  },
  {
   "cell_type": "code",
   "execution_count": null,
   "metadata": {},
   "outputs": [],
   "source": [
    "Tb1 = np.load('spacecraft_z_alpha_homotopy_beta_1.npy'); seg.beta = 0.999\n",
    "db = list()\n",
    "for r in Tb1:\n",
    "    z, alpha = r\n",
    "    tl, sl, ul = seg.propagate(z[0], s0, z[2:], alpha, u=True, atol=1e-13, rtol=1e-13)\n",
    "    sl[:,0:3] /= seg.L\n",
    "    sl[:,3:6] /= seg.V\n",
    "    sl[:,6] /= seg.M\n",
    "    d = np.hstack((\n",
    "        sl[:, :seg.sdim],\n",
    "        np.full((len(sl), 1), alpha),\n",
    "        ul.reshape(-1, seg.udim)\n",
    "    ))\n",
    "    db.append(d)\n",
    "db = np.vstack(db)\n",
    "db = db[np.hstack((np.argwhere(db[:,8] == 1).flatten(), np.argwhere(db[:,8] == 0).flatten())), :]"
   ]
  },
  {
   "cell_type": "code",
   "execution_count": null,
   "metadata": {},
   "outputs": [],
   "source": [
    "#np.save('spacecraft_db.npy', db)\n",
    "len(db)"
   ]
  },
  {
   "cell_type": "code",
   "execution_count": null,
   "metadata": {},
   "outputs": [],
   "source": [
    "from multiprocessing import cpu_count, Pool\n",
    "\n",
    "# train thrust throttle\n",
    "tnet = Spacecraft_Thrust_Controller([8, 50, 50, 50, 1])\n",
    "tnet.db = Data(db, [0, 1, 2, 3, 4, 5, 6, 7], [8])\n",
    "\n",
    "# train direction\n",
    "dnet = Spacecraft_Direction_Controller([8, 50, 50, 50, 2])\n",
    "dnet.db = Data(db, [0, 1, 2, 3, 4, 5, 6, 7], [9, 10, 11])\n",
    "\n",
    "# parallel function\n",
    "def net_train(net):\n",
    "    net.train(net.db.i[:5000], net.db.o[:5000], epo=500, lr=1e-3, ptst=0.1, gpu=False)\n",
    "    return net\n",
    "\n",
    "# train in parallel\n",
    "nets = [tnet, dnet]\n",
    "tnet, dnet = Pool(cpu_count()).map(net_train, nets)\n",
    "\n",
    "mlp = Spacecraft_Controller_Joined(tnet, dnet)"
   ]
  },
  {
   "cell_type": "code",
   "execution_count": null,
   "metadata": {},
   "outputs": [],
   "source": [
    "# get data ready for training \n",
    "data = Data(db, [0, 1, 2, 3, 4, 5, 6, 7], [8, 9, 10, 11])\n",
    "#db = Data(db, [0, 1, 2, 3, 4, 5, 6, 7], [8])"
   ]
  },
  {
   "cell_type": "code",
   "execution_count": null,
   "metadata": {},
   "outputs": [],
   "source": [
    "# instantiate the neural network\n",
    "mlp = Spacecraft_Controller([seg.sdim + 1, 100, 100, 100, 3])\n",
    "#mlp = Spacecraft_Throttle_Controller([seg.sdim + 1, 50, 50, 50, 1])"
   ]
  },
  {
   "cell_type": "code",
   "execution_count": null,
   "metadata": {},
   "outputs": [],
   "source": [
    "#mlp.train(data.i, data.o, epo=1000, lr=1e-4, ptst=0.01, gpu=False)\n",
    "mlp.train(data.i[:10000], data.o[:10000], epo=2000, lr=1e-4, ptst=0.1, gpu=False)"
   ]
  },
  {
   "cell_type": "code",
   "execution_count": null,
   "metadata": {},
   "outputs": [],
   "source": [
    "fig, ax = plt.subplots(1)\n",
    "ax.plot(mlp.ltrn, \"k-\")\n",
    "ax.plot(mlp.ltst, \"k--\")\n",
    "#ax.set_yscale('log')\n",
    "ax.set_xscale('log')\n",
    "\n",
    "plt.show()"
   ]
  },
  {
   "cell_type": "code",
   "execution_count": 12,
   "metadata": {},
   "outputs": [
    {
     "data": {
      "image/png": "[encoded data removed]",
      "text/plain": [
       "<Figure size 432x288 with 1 Axes>"
      ]
     },
     "metadata": {
      "needs_background": "light"
     },
     "output_type": "display_data"
    }
   ],
   "source": [
    "snets = cp.load(open(\"../src/spacecraft_nets.p\", \"rb\"))\n",
    "fig, ax = plt.subplots(1, sharex=True, sharey=False)\n",
    "\n",
    "# line colours\n",
    "colors = np.linspace(0.8, 0, 4)\n",
    "\n",
    "# pendulum nets\n",
    "for i, net in enumerate(snets):\n",
    "    ax.plot(net.ltrn, color=str(colors[i]), linestyle=\"-\", label=r'${} \\times {}$'.format(net.shape[1], net.nl-2))\n",
    "    ax.plot(net.ltst, color=str(colors[i]), linestyle=\"--\")\n",
    "ax.set_xscale('log')\n",
    "ax.set_yscale('log')\n",
    "ax.set_ylabel(r'$MSE$')\n",
    "ax.yaxis.set_major_formatter(FormatStrFormatter('%.2f'))\n",
    "fig.tight_layout()\n",
    "ax.legend(loc='best')\n",
    "plt.show()"
   ]
  },
  {
   "cell_type": "code",
   "execution_count": 13,
   "metadata": {},
   "outputs": [
    {
     "data": {
      "text/plain": [
       "Spacecraft_Controller(\n",
       "  (0): LayerNorm(torch.Size([8]), eps=1e-05, elementwise_affine=True)\n",
       "  (1): Linear(in_features=8, out_features=100, bias=True)\n",
       "  (2): Softplus(beta=1, threshold=20)\n",
       "  (3): LayerNorm(torch.Size([100]), eps=1e-05, elementwise_affine=True)\n",
       "  (4): Linear(in_features=100, out_features=100, bias=True)\n",
       "  (5): Softplus(beta=1, threshold=20)\n",
       "  (6): LayerNorm(torch.Size([100]), eps=1e-05, elementwise_affine=True)\n",
       "  (7): Linear(in_features=100, out_features=100, bias=True)\n",
       "  (8): Softplus(beta=1, threshold=20)\n",
       "  (9): LayerNorm(torch.Size([100]), eps=1e-05, elementwise_affine=True)\n",
       "  (10): Linear(in_features=100, out_features=100, bias=True)\n",
       "  (11): Softplus(beta=1, threshold=20)\n",
       "  (12): LayerNorm(torch.Size([100]), eps=1e-05, elementwise_affine=True)\n",
       "  (13): Linear(in_features=100, out_features=3, bias=True)\n",
       "  (14): Tanh()\n",
       ")"
      ]
     },
     "execution_count": 13,
     "metadata": {},
     "output_type": "execute_result"
    }
   ],
   "source": [
    "mlp = snets[np.argmin([net.ltrn[-1] for net in snets])]\n",
    "mlp"
   ]
  },
  {
   "cell_type": "code",
   "execution_count": null,
   "metadata": {},
   "outputs": [],
   "source": [
    "mlp = snets[-1]"
   ]
  },
  {
   "cell_type": "markdown",
   "metadata": {},
   "source": [
    "## Neural network accuracy"
   ]
  },
  {
   "cell_type": "code",
   "execution_count": 14,
   "metadata": {},
   "outputs": [],
   "source": [
    "Tb1 = np.load('spacecraft_z_alpha_homotopy_beta_1.npy'); seg.beta = 0.999"
   ]
  },
  {
   "cell_type": "code",
   "execution_count": 15,
   "metadata": {},
   "outputs": [],
   "source": [
    "#mlp.throttle\n",
    "#seg = Spacecraft(T=0.2, isp=2500, m=1000)\n",
    "# alpha homotopy\n",
    "#Tb1 = np.load('spacecraft_z_alpha_homotopy_beta_1.npy'); seg.beta = 0.999\n",
    "\n",
    "# effort optimal base\n",
    "z = Tb1[0][0]\n",
    "alpha = 0\n",
    "tl0, sl, ul = seg.propagate(z[0], s0, z[2:], alpha, u=True)\n",
    "sl[:,0:3] /= seg.L\n",
    "sl[:,3:6] /= seg.V\n",
    "sl[:,6] /= seg.M\n",
    "a0i = np.hstack((sl[:,:seg.sdim], np.full((len(sl), 1), alpha)))\n",
    "a0o = ul\n",
    "a0op = mlp(torch.from_numpy(a0i)).detach().numpy()\n",
    "\n",
    "# time optimal base\n",
    "z = Tb1[-1][0]\n",
    "alpha = 1\n",
    "tl1, sl, ul = seg.propagate(z[0], s0, z[2:], alpha, u=True)\n",
    "sl[:,0:3] /= seg.L\n",
    "sl[:,3:6] /= seg.V\n",
    "sl[:,6] /= seg.M\n",
    "a1i = np.hstack((sl[:,:seg.sdim], np.full((len(sl), 1), alpha)))\n",
    "a1o = ul\n",
    "a1op = mlp(torch.from_numpy(a1i)).detach().numpy()"
   ]
  },
  {
   "cell_type": "code",
   "execution_count": 16,
   "metadata": {},
   "outputs": [
    {
     "data": {
      "image/png": "[encoded data removed]",
      "text/plain": [
       "<Figure size 432x288 with 8 Axes>"
      ]
     },
     "metadata": {
      "needs_background": "light"
     },
     "output_type": "display_data"
    }
   ],
   "source": [
    "# plot\n",
    "fig, ax = plt.subplots(4, 2, sharex=True, sharey=False)\n",
    "for i in range(4):\n",
    "    ax[i][0].plot(tl0, a0o[:, i], \"k--\")\n",
    "    ax[i][1].plot(tl1, a1o[:, i], \"k--\")\n",
    "    ax[i][0].plot(tl0, a0op[:, i], \"k-\", alpha=0.5)\n",
    "    ax[i][1].plot(tl1, a1op[:, i], \"k-\", alpha=0.5)\n",
    "    if i == 0:\n",
    "        ax[i][0].set_ylim(-0.1, 1.1)\n",
    "        ax[i][1].set_ylim(-0.1, 1.1)\n",
    "    else:\n",
    "        ax[i][0].set_ylim(-1.1, 1.1)\n",
    "        ax[i][1].set_ylim(-1.1, 1.1)\n",
    "\n",
    "fig.tight_layout()\n",
    "plt.show()"
   ]
  },
  {
   "cell_type": "markdown",
   "metadata": {},
   "source": [
    "## Simulating the neural network controller"
   ]
  },
  {
   "cell_type": "code",
   "execution_count": 18,
   "metadata": {},
   "outputs": [
    {
     "name": "stdout",
     "output_type": "stream",
     "text": [
      "Using matplotlib backend: TkAgg\n",
      "[ 3.66408671e+02  7.36757424e-01  2.99736427e+00 -9.00370614e+00\n",
      " -1.73024396e+00  1.00553040e+01 -4.65174036e-02 -1.81734508e+00\n",
      "  1.37791067e+00]\n"
     ]
    },
    {
     "name": "stderr",
     "output_type": "stream",
     "text": [
      "'c' argument looks like a single numeric RGB or RGBA sequence, which should be avoided as value-mapping will have precedence in case its length matches with 'x' & 'y'.  Please use a 2-D array with a single row if you really want to specify the same RGB or RGBA value for all points.\n",
      "'c' argument looks like a single numeric RGB or RGBA sequence, which should be avoided as value-mapping will have precedence in case its length matches with 'x' & 'y'.  Please use a 2-D array with a single row if you really want to specify the same RGB or RGBA value for all points.\n"
     ]
    },
    {
     "name": "stdout",
     "output_type": "stream",
     "text": [
      "[ 3.66408671e+02  7.36757424e-01  2.99736427e+00 -9.00370614e+00\n",
      " -1.73024396e+00  1.00553040e+01 -4.65174036e-02 -1.81734508e+00\n",
      "  1.37791067e+00]\n",
      "[ 3.66177822e+02  7.32843544e-01  2.36185160e+00 -6.99569386e+00\n",
      " -1.30481232e+00  7.83275049e+00 -7.63759941e-02 -1.36212876e+00\n",
      "  1.05205726e+00]\n",
      "[ 3.66177822e+02  7.32843544e-01  2.36185160e+00 -6.99569386e+00\n",
      " -1.30481232e+00  7.83275049e+00 -7.63759941e-02 -1.36212876e+00\n",
      "  1.05205726e+00]\n",
      "[ 3.64749349e+02  7.08590333e-01  2.15213410e+00 -5.90754079e+00\n",
      " -8.98499853e-01  6.70612354e+00 -2.59998917e-01 -8.96954925e-01\n",
      "  7.95998807e-01]\n",
      "[ 3.64749349e+02  7.08590333e-01  2.15213410e+00 -5.90754079e+00\n",
      " -8.98499853e-01  6.70612354e+00 -2.59998917e-01 -8.96954925e-01\n",
      "  7.95998807e-01]\n",
      "[362.40474162   0.66808448   1.91089549  -4.79551307  -0.47738195\n",
      "   5.52961284  -0.42392939  -0.42116718   0.53705132]\n",
      "[362.40474162   0.66808448   1.91089549  -4.79551307  -0.47738195\n",
      "   5.52961284  -0.42392939  -0.42116718   0.53705132]\n",
      "[ 3.60231703e+02  6.28444685e-01  1.93554824e+00 -4.62501517e+00\n",
      " -2.69783635e-01  5.37425982e+00 -5.41546518e-01 -1.76580941e-01\n",
      "  4.37371770e-01]\n",
      "[ 3.58926656e+02  6.01496521e-01  1.99832830e+00 -4.70557437e+00\n",
      " -1.71803827e-01  5.47995349e+00 -6.03523488e-01 -5.09069988e-02\n",
      "  4.00909783e-01]\n"
     ]
    }
   ],
   "source": [
    "%matplotlib\n",
    "seg.sf = None\n",
    "# figures\n",
    "fig, ax = plt.subplots(4, sharex=True, sharey=False)\n",
    "\n",
    "# alpha homotopy solutions\n",
    "sols = np.load('spacecraft_z_alpha_homotopy_beta_1.npy')\n",
    "\n",
    "# set beta parameter\n",
    "seg.beta = 0.999\n",
    "\n",
    "# desired alpha parameters\n",
    "na = 10\n",
    "sa = np.linspace(0.8, 1, na)\n",
    "\n",
    "# for each desired alpha parameter\n",
    "for i, a in enumerate(sa):\n",
    "    \n",
    "    # get decision vector and homotopy parameter\n",
    "    z, alpha = sols[np.argmin(abs(sols[:, 1] - a))]\n",
    "    tf = z[0]\n",
    "    print(z)\n",
    "    \n",
    "    # compute trajectory with policy with x0 and tf\n",
    "    tl, sl, ul = seg.propagate_controller(tf, s0, mlp.predict, alpha, atol=1e-10, rtol=1e-10)\n",
    "    \n",
    "    # plot controls\n",
    "    for j in range(4):\n",
    "        ax[j].plot(tl, ul[:,j], \"k-\", alpha=0.5)\n",
    "        \n",
    "    # plot trajectory\n",
    "    if i == 0:\n",
    "        fig, ax1 = seg.plot_traj(sl, alpha=0.5)\n",
    "        ax1.set_aspect('equal')\n",
    "    else:\n",
    "        seg.plot_traj(sl, ax=ax1, alpha=0.5)\n",
    "    \n",
    "\n",
    "plt.show()"
   ]
  },
  {
   "cell_type": "markdown",
   "metadata": {},
   "source": [
    "## Policy trajectory optimality"
   ]
  },
  {
   "cell_type": "code",
   "execution_count": null,
   "metadata": {},
   "outputs": [],
   "source": [
    "from scipy.integrate import simps\n",
    "# which solution to use\n",
    "i = -1\n",
    "\n",
    "# get solution\n",
    "z, alpha = np.load('spacecraft_z_alpha_homotopy_beta_1.npy')[i]\n",
    "tf = z[0]\n",
    "\n",
    "# set beta parameter\n",
    "seg.beta = 0.9999\n",
    "\n",
    "# compute trajectory with policy with x0 and tf\n",
    "tl, sl, ul = seg.propagate_controller(tf, s0, mlp.predict, alpha, atol=1e-13, rtol=1e-13)\n",
    "jp = seg.lagrangian(ul[:,0], alpha, seg.beta)\n",
    "jp = simps(jp, tl)\n",
    "\n",
    "# plot trajectory\n",
    "fig, ax = seg.plot_traj(sl, mark=\"k-\", alpha=1)\n",
    "\n",
    "# compute optimal trajectory to xf from policy trajectory\n",
    "seg.sf = sl[-1, :seg.sdim]\n",
    "z, f, feas = seg.solve(s0, alpha, Tlb, Tub, lb=100, z=z)\n",
    "tl, sl, ul = seg.propagate(z[0], s0, z[2:], alpha, atol=1e-12, rtol=1e-12, u=True)\n",
    "jo = seg.lagrangian(ul[:,0], alpha, seg.beta)\n",
    "jo = simps(jo, tl)\n",
    "\n",
    "# plot trajectory\n",
    "seg.plot_traj(sl, ax=ax, mark=\"k--\", alpha=1)"
   ]
  },
  {
   "cell_type": "code",
   "execution_count": null,
   "metadata": {},
   "outputs": [],
   "source": [
    "abs(jp - jo)/jo*100"
   ]
  },
  {
   "cell_type": "code",
   "execution_count": 19,
   "metadata": {},
   "outputs": [
    {
     "name": "stdout",
     "output_type": "stream",
     "text": [
      "Using matplotlib backend: TkAgg\n",
      "The optimality of net [8, 50, 50, 3] at alpha = 0.0000 is 5.097919%\n",
      "The optimality of net [8, 50, 50, 3] at alpha = 0.1000 is 3.551325%\n",
      "The optimality of net [8, 50, 50, 3] at alpha = 0.2000 is 2.160594%\n",
      "The optimality of net [8, 50, 50, 3] at alpha = 0.3000 is 0.954027%\n",
      "The optimality of net [8, 50, 50, 3] at alpha = 0.4000 is 0.117137%\n",
      "The optimality of net [8, 50, 50, 3] at alpha = 0.5000 is 0.519775%\n",
      "The optimality of net [8, 50, 50, 3] at alpha = 0.6000 is 0.832056%\n",
      "The optimality of net [8, 50, 50, 3] at alpha = 0.7000 is 0.940100%\n",
      "The optimality of net [8, 50, 50, 3] at alpha = 0.8000 is 1.231413%\n",
      "The optimality of net [8, 50, 50, 3] at alpha = 0.9000 is 0.799833%\n",
      "The optimality of net [8, 50, 50, 3] at alpha = 1.0000 is 1.103462%\n",
      "The optimality of net [8, 50, 50, 50, 50, 3] at alpha = 0.0000 is 0.163055%\n",
      "The optimality of net [8, 50, 50, 50, 50, 3] at alpha = 0.1000 is 0.057574%\n",
      "The optimality of net [8, 50, 50, 50, 50, 3] at alpha = 0.2000 is 0.355176%\n",
      "The optimality of net [8, 50, 50, 50, 50, 3] at alpha = 0.3000 is 0.665326%\n",
      "The optimality of net [8, 50, 50, 50, 50, 3] at alpha = 0.4000 is 0.979295%\n",
      "The optimality of net [8, 50, 50, 50, 50, 3] at alpha = 0.5000 is 0.344638%\n",
      "The optimality of net [8, 50, 50, 50, 50, 3] at alpha = 0.6000 is 0.210354%\n",
      "The optimality of net [8, 50, 50, 50, 50, 3] at alpha = 0.7000 is 0.622716%\n",
      "The optimality of net [8, 50, 50, 50, 50, 3] at alpha = 0.8000 is 1.173717%\n",
      "The optimality of net [8, 50, 50, 50, 50, 3] at alpha = 0.9000 is 1.096328%\n",
      "The optimality of net [8, 50, 50, 50, 50, 3] at alpha = 1.0000 is 0.189937%\n",
      "The optimality of net [8, 100, 100, 3] at alpha = 0.0000 is 0.264219%\n",
      "The optimality of net [8, 100, 100, 3] at alpha = 0.1000 is 0.109408%\n",
      "The optimality of net [8, 100, 100, 3] at alpha = 0.2000 is 0.468579%\n",
      "The optimality of net [8, 100, 100, 3] at alpha = 0.3000 is 0.754457%\n",
      "The optimality of net [8, 100, 100, 3] at alpha = 0.4000 is 0.975896%\n",
      "The optimality of net [8, 100, 100, 3] at alpha = 0.5000 is 0.242022%\n",
      "The optimality of net [8, 100, 100, 3] at alpha = 0.6000 is 0.353348%\n",
      "The optimality of net [8, 100, 100, 3] at alpha = 0.7000 is 0.765109%\n",
      "The optimality of net [8, 100, 100, 3] at alpha = 0.8000 is 1.259935%\n",
      "The optimality of net [8, 100, 100, 3] at alpha = 0.9000 is 1.055267%\n",
      "The optimality of net [8, 100, 100, 3] at alpha = 1.0000 is 0.768724%\n",
      "The optimality of net [8, 100, 100, 100, 100, 3] at alpha = 0.0000 is 0.094422%\n",
      "The optimality of net [8, 100, 100, 100, 100, 3] at alpha = 0.1000 is 0.073708%\n",
      "The optimality of net [8, 100, 100, 100, 100, 3] at alpha = 0.2000 is 0.353486%\n",
      "The optimality of net [8, 100, 100, 100, 100, 3] at alpha = 0.3000 is 0.675646%\n",
      "The optimality of net [8, 100, 100, 100, 100, 3] at alpha = 0.4000 is 1.031487%\n",
      "The optimality of net [8, 100, 100, 100, 100, 3] at alpha = 0.5000 is 0.455965%\n",
      "The optimality of net [8, 100, 100, 100, 100, 3] at alpha = 0.6000 is 0.051248%\n",
      "The optimality of net [8, 100, 100, 100, 100, 3] at alpha = 0.7000 is 0.439597%\n",
      "The optimality of net [8, 100, 100, 100, 100, 3] at alpha = 0.8000 is 1.005639%\n",
      "The optimality of net [8, 100, 100, 100, 100, 3] at alpha = 0.9000 is 1.012649%\n",
      "The optimality of net [8, 100, 100, 100, 100, 3] at alpha = 1.0000 is 0.044418%\n"
     ]
    }
   ],
   "source": [
    "%matplotlib\n",
    "from scipy.integrate import simps\n",
    "\n",
    "\n",
    "# alpha homotopy solutions\n",
    "sols = np.load('spacecraft_z_alpha_homotopy_beta_1.npy')\n",
    "\n",
    "# set beta parameter\n",
    "seg.beta = 0.999\n",
    "\n",
    "# desired alpha parameters\n",
    "na = 11\n",
    "sa = np.linspace(0, 1, na)\n",
    "\n",
    "# results\n",
    "opt_array = np.zeros((na, len(snets)))\n",
    "\n",
    "# for each neural network\n",
    "for i, net in enumerate(snets):\n",
    "\n",
    "    # for each desired alpha parameter\n",
    "    for j, a in enumerate(sa):\n",
    "\n",
    "        # get decision vector and homotopy parameter\n",
    "        z, alpha = sols[np.argmin(abs(sols[:, 1] - a))]\n",
    "        tf = z[0]\n",
    "\n",
    "        # compute trajectory with policy with x0 and tf\n",
    "        tl, sl, ul = seg.propagate_controller(tf, s0, net.predict, alpha, atol=1e-13, rtol=1e-13)\n",
    "        \n",
    "        # compute cost of policy trajectory\n",
    "        jp = seg.lagrangian(ul[:,0], alpha, seg.beta)\n",
    "        jp = simps(jp, tl)\n",
    "        \n",
    "        # compute optimal trajectory to xf\n",
    "        seg.sf = sl[-1, :seg.sdim]\n",
    "        z, f, feas = seg.solve(s0, alpha, Tlb, Tub, lb=100, z=z)\n",
    "        tl, sl, ul = seg.propagate(z[0], s0, z[2:], alpha, atol=1e-12, rtol=1e-12, u=True)\n",
    "        \n",
    "        # compute cost of optimal trajectory\n",
    "        jo = seg.lagrangian(ul[:,0], alpha, seg.beta)\n",
    "        jo = simps(jo, tl)\n",
    "        \n",
    "        # compute relative optimality\n",
    "        e = abs(jp - jo)/jo\n",
    "        \n",
    "        # message\n",
    "        print(\"The optimality of net {} at alpha = {:.4f} is {:6f}%\".format(net.shape, alpha, e*100))\n",
    "        \n",
    "        # record\n",
    "        opt_array[j, i] = e"
   ]
  },
  {
   "cell_type": "code",
   "execution_count": 21,
   "metadata": {},
   "outputs": [],
   "source": [
    "import pandas as pd"
   ]
  },
  {
   "cell_type": "code",
   "execution_count": 23,
   "metadata": {},
   "outputs": [
    {
     "name": "stdout",
     "output_type": "stream",
     "text": [
      "\\begin{tabular}{lrrrr}\n",
      "\\toprule\n",
      "{} &  \\$50 \\textbackslash times 4\\$ &  \\$50 \\textbackslash times 6\\$ &  \\$100 \\textbackslash times 4\\$ &  \\$100 \\textbackslash times 6\\$ \\\\\n",
      "\\midrule\n",
      "0.0 &       5.097919 &       0.163055 &        0.264219 &        0.094422 \\\\\n",
      "0.1 &       3.551325 &       0.057574 &        0.109408 &        0.073708 \\\\\n",
      "0.2 &       2.160594 &       0.355176 &        0.468579 &        0.353486 \\\\\n",
      "0.3 &       0.954027 &       0.665326 &        0.754457 &        0.675646 \\\\\n",
      "0.4 &       0.117137 &       0.979295 &        0.975896 &        1.031487 \\\\\n",
      "0.5 &       0.519775 &       0.344638 &        0.242022 &        0.455965 \\\\\n",
      "0.6 &       0.832056 &       0.210354 &        0.353348 &        0.051248 \\\\\n",
      "0.7 &       0.940100 &       0.622716 &        0.765109 &        0.439597 \\\\\n",
      "0.8 &       1.231413 &       1.173717 &        1.259935 &        1.005639 \\\\\n",
      "0.9 &       0.799833 &       1.096328 &        1.055267 &        1.012649 \\\\\n",
      "1.0 &       1.103462 &       0.189937 &        0.768724 &        0.044418 \\\\\n",
      "\\bottomrule\n",
      "\\end{tabular}\n",
      "\n"
     ]
    }
   ],
   "source": [
    "cols = [r'${} \\times {}$'.format(net.shape[1], net.nl) for net in snets]\n",
    "rows = ['{:.1f}'.format(a) for a in sa]\n",
    "df = pd.DataFrame(opt_array*100, columns=cols, index=rows)\n",
    "print(df.to_latex(header=\"Architecture\"))"
   ]
  },
  {
   "cell_type": "code",
   "execution_count": 29,
   "metadata": {},
   "outputs": [
    {
     "data": {
      "text/plain": [
       "$50 \\times 4$     1.573422\n",
       "$50 \\times 6$     0.532556\n",
       "$100 \\times 4$    0.637906\n",
       "$100 \\times 6$    0.476206\n",
       "dtype: float64"
      ]
     },
     "execution_count": 29,
     "metadata": {},
     "output_type": "execute_result"
    }
   ],
   "source": [
    "df.mean().T"
   ]
  },
  {
   "cell_type": "code",
   "execution_count": null,
   "metadata": {},
   "outputs": [],
   "source": [
    "pisode 1484; Testing Loss 0.08300689537962919; Training Loss 0.08476268094085267\n",
    "Episode 1350; Testing Loss 0.05976686691764736; Training Loss 0.061904816916847336\n",
    "Episode 1485; Testing Loss 0.08299662480140191; Training Loss 0.08475273336913237\n",
    "Episode 754; Testing Loss 0.0588751996960444; Training Loss 0.06099920870483687\n",
    "Episode 1351; Testing Loss 0.05976431723441644; Training Loss 0.06190227695845\n",
    "Episode 1486; Testing Loss 0.08298636260854146; Training Loss 0.08474279376129348"
   ]
  }
 ],
 "metadata": {
  "kernelspec": {
   "display_name": "Python 3",
   "language": "python",
   "name": "python3"
  },
  "language_info": {
   "codemirror_mode": {
    "name": "ipython",
    "version": 3
   },
   "file_extension": ".py",
   "mimetype": "text/x-python",
   "name": "python",
   "nbconvert_exporter": "python",
   "pygments_lexer": "ipython3",
   "version": "3.6.7"
  }
 },
 "nbformat": 4,
 "nbformat_minor": 2
}
