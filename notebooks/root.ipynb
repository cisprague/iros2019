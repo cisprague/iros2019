{
 "cells": [
  {
   "cell_type": "code",
   "execution_count": 1,
   "metadata": {},
   "outputs": [],
   "source": [
    "import sys; sys.path.append('../src/')\n",
    "import cloudpickle as cp, numpy as np, pykep as pk\n",
    "from scipy.optimize import fsolve\n",
    "from spacecraft import Spacecraft"
   ]
  },
  {
   "cell_type": "code",
   "execution_count": 2,
   "metadata": {},
   "outputs": [
    {
     "data": {
      "text/plain": [
       "Spacecraft_Controller(\n",
       "  (0): LayerNorm(torch.Size([8]), eps=1e-05, elementwise_affine=True)\n",
       "  (1): Linear(in_features=8, out_features=50, bias=True)\n",
       "  (2): Softplus(beta=1, threshold=20)\n",
       "  (3): LayerNorm(torch.Size([50]), eps=1e-05, elementwise_affine=True)\n",
       "  (4): Linear(in_features=50, out_features=50, bias=True)\n",
       "  (5): Softplus(beta=1, threshold=20)\n",
       "  (6): LayerNorm(torch.Size([50]), eps=1e-05, elementwise_affine=True)\n",
       "  (7): Linear(in_features=50, out_features=50, bias=True)\n",
       "  (8): Softplus(beta=1, threshold=20)\n",
       "  (9): LayerNorm(torch.Size([50]), eps=1e-05, elementwise_affine=True)\n",
       "  (10): Linear(in_features=50, out_features=50, bias=True)\n",
       "  (11): Softplus(beta=1, threshold=20)\n",
       "  (12): LayerNorm(torch.Size([50]), eps=1e-05, elementwise_affine=True)\n",
       "  (13): Linear(in_features=50, out_features=3, bias=True)\n",
       "  (14): Tanh()\n",
       ")"
      ]
     },
     "execution_count": 2,
     "metadata": {},
     "output_type": "execute_result"
    }
   ],
   "source": [
    "# get best neural network\n",
    "nets = cp.load(open('../src/spacecraft_nets.p', \"rb\"))\n",
    "#net = nets[np.argmin([net.ltrn[-1] for net in nets])]\n",
    "net = nets[1]\n",
    "net"
   ]
  },
  {
   "cell_type": "code",
   "execution_count": 3,
   "metadata": {},
   "outputs": [],
   "source": [
    "# get intial state and final time\n",
    "sc = Spacecraft()\n",
    "tf = np.load('spacecraft_z_alpha_homotopy_beta_1.npy')[0][0][0]\n",
    "s0 = np.hstack((*pk.planet.jpl_lp('earth').eph(pk.epoch(0)), sc.M))\n",
    "sc = Spacecraft()\n",
    "sc.beta = 0.999\n",
    "alpha = 0\n",
    "tl, sl, ul = sc.propagate_controller(tf, s0, net.predict, alpha, atol=1e-13, rtol=1e-13)\n",
    "sf = np.copy(sl[-1, :])\n",
    "sf[0:3] /= sc.L\n",
    "sf[3:6] /= sc.V\n",
    "sf[6] /= sc.M"
   ]
  },
  {
   "cell_type": "code",
   "execution_count": 4,
   "metadata": {},
   "outputs": [
    {
     "data": {
      "text/plain": [
       "array([ 0.99961673, -0.69494448,  0.71132704,  0.10519506])"
      ]
     },
     "execution_count": 4,
     "metadata": {},
     "output_type": "execute_result"
    }
   ],
   "source": [
    "net.predict(sf, alpha)"
   ]
  },
  {
   "cell_type": "code",
   "execution_count": 5,
   "metadata": {},
   "outputs": [],
   "source": [
    "def f(x):\n",
    "    obj = net.predict(x, 0)[0]\n",
    "    return np.array([obj, 0, 0, 0, 0, 0, 0])"
   ]
  },
  {
   "cell_type": "code",
   "execution_count": 27,
   "metadata": {},
   "outputs": [
    {
     "name": "stderr",
     "output_type": "stream",
     "text": [
      "/usr/local/lib/python3.6/dist-packages/scipy/optimize/minpack.py:163: RuntimeWarning: The iteration is not making good progress, as measured by the \n",
      "  improvement from the last five Jacobian evaluations.\n",
      "  warnings.warn(msg, RuntimeWarning)\n"
     ]
    },
    {
     "data": {
      "text/plain": [
       "(array([-1.21181424, -0.34414772, -0.81498759,  1.48121237,  0.08346648,\n",
       "         0.37511989,  1.16458919]), 2.391954412317432e-10)"
      ]
     },
     "execution_count": 27,
     "metadata": {},
     "output_type": "execute_result"
    }
   ],
   "source": [
    "sol= fsolve(f, sf, factor=0.1, epsfcn=1e-10, xtol=1e-12)\n",
    "sol, net.predict(sol, 0)[0]"
   ]
  },
  {
   "cell_type": "code",
   "execution_count": null,
   "metadata": {},
   "outputs": [],
   "source": [
    "# get intial state and final time\n",
    "sc = Spacecraft()\n",
    "tf = np.load('spacecraft_z_alpha_homotopy_beta_1.npy')[0][0][0]\n",
    "s0 = np.hstack((*pk.planet.jpl_lp('earth').eph(pk.epoch(0)), sc.M))"
   ]
  },
  {
   "cell_type": "code",
   "execution_count": null,
   "metadata": {},
   "outputs": [],
   "source": [
    "def get_eq(net, s0, tf, alpha, beta=0.999):\n",
    "    \n",
    "    # instantiate spacecraft\n",
    "    sc = Spacecraft()\n",
    "    \n",
    "    # set dynamics beta paramter\n",
    "    sc.beta = beta\n",
    "    \n",
    "    # get policy trajectory\n",
    "    tl, sl, ul = sc.propagate_controller(tf, s0, net.predict, alpha, atol=1e-13, rtol=1e-13)\n",
    "    \n",
    "    # get final state\n",
    "    sf = np.copy(sl[-1, :])\n",
    "    \n",
    "    # nondimensionalise final state\n",
    "    sf[0:3] /= sc.L\n",
    "    sf[3:6] /= sc.V\n",
    "    sf[6] /= sc.M\n",
    "    \n",
    "    # nondimensionalise constants for dynamics\n",
    "    sc.c1 /= sc.F\n",
    "    sc.c2 /= sc.Q\n",
    "    sc.mu /= pk.MU_SUN\n",
    "    \n",
    "    # make functions for root solver\n",
    "    def f(x):\n",
    "        return sc.ds(x, net.predict(x, alpha))\n",
    "    def jac(x):\n",
    "        return sc.dds(x, net.predict(x, alpha))\n",
    "    \n",
    "    # solve for root\n",
    "    sol = root(f, sf, jac=jac, method='hybr', options={'fatol': 1e-8, 'maxiter': 1000, 'disp': True, 'factor': 1, 'jac_options':{'rdiff': }})\n",
    "    print(sol)\n",
    "    \n",
    "    return sol.x, sol.fun, sol.success, sf\n",
    "    "
   ]
  },
  {
   "cell_type": "code",
   "execution_count": null,
   "metadata": {},
   "outputs": [],
   "source": [
    "x, f, feas, sf = get_eq(net, s0, tf, 0)"
   ]
  },
  {
   "cell_type": "code",
   "execution_count": null,
   "metadata": {},
   "outputs": [],
   "source": [
    "f"
   ]
  },
  {
   "cell_type": "code",
   "execution_count": null,
   "metadata": {},
   "outputs": [],
   "source": [
    "# nondimensionalise final state and dynamics\n",
    "\n",
    "sc.c1 /= sc.F\n",
    "sc.c2 /= sc.Q\n",
    "sc.mu /= pk.MU_SUN"
   ]
  },
  {
   "cell_type": "code",
   "execution_count": null,
   "metadata": {},
   "outputs": [],
   "source": [
    "# create functions for solver\n",
    "def f(x):\n",
    "    return sc.ds(x, net.predict(x, 0))\n",
    "def jac(x):\n",
    "    return sc.dds(x, net.predict(x, 0))"
   ]
  },
  {
   "cell_type": "code",
   "execution_count": null,
   "metadata": {},
   "outputs": [],
   "source": []
  },
  {
   "cell_type": "code",
   "execution_count": null,
   "metadata": {},
   "outputs": [],
   "source": [
    "sol = root(f, sf, jac=jac, method='krylov', options={'maxiter': 10000, 'disp': True})\n",
    "sol"
   ]
  },
  {
   "cell_type": "code",
   "execution_count": null,
   "metadata": {},
   "outputs": [],
   "source": [
    "f(sol.x)"
   ]
  },
  {
   "cell_type": "code",
   "execution_count": null,
   "metadata": {},
   "outputs": [],
   "source": [
    "xs = np.copy(sol.x)\n",
    "xs[0:3] /= sc.L\n",
    "xs[3:6] /= sc.V\n",
    "xs[6] /= sc.M\n",
    "xs"
   ]
  },
  {
   "cell_type": "code",
   "execution_count": null,
   "metadata": {},
   "outputs": [],
   "source": [
    "xs"
   ]
  },
  {
   "cell_type": "code",
   "execution_count": null,
   "metadata": {},
   "outputs": [],
   "source": []
  }
 ],
 "metadata": {
  "kernelspec": {
   "display_name": "Python 3",
   "language": "python",
   "name": "python3"
  },
  "language_info": {
   "codemirror_mode": {
    "name": "ipython",
    "version": 3
   },
   "file_extension": ".py",
   "mimetype": "text/x-python",
   "name": "python",
   "nbconvert_exporter": "python",
   "pygments_lexer": "ipython3",
   "version": "3.6.7"
  }
 },
 "nbformat": 4,
 "nbformat_minor": 2
}
