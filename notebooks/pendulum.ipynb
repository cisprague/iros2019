{
 "cells": [
  {
   "cell_type": "markdown",
   "metadata": {},
   "source": [
    "# Homotopic optimal control of inverted pendulum\n",
    "\n",
    "## Dynamics"
   ]
  },
  {
   "cell_type": "code",
   "execution_count": 1,
   "metadata": {},
   "outputs": [],
   "source": [
    "from sympy import *\n",
    "init_printing()"
   ]
  },
  {
   "cell_type": "code",
   "execution_count": 2,
   "metadata": {},
   "outputs": [
    {
     "data": {
      "text/latex": [
       "$$\\left[\\begin{matrix}x & v & \\theta & \\omega\\end{matrix}\\right]$$"
      ],
      "text/plain": [
       "[x  v  \\theta  \\omega]"
      ]
     },
     "execution_count": 2,
     "metadata": {},
     "output_type": "execute_result"
    }
   ],
   "source": [
    "# state variables\n",
    "x, v, theta, omega = symbols(\"x v \\\\theta, \\\\omega\", real=True)\n",
    "s = Matrix([x, v, theta, omega])\n",
    "s.T"
   ]
  },
  {
   "cell_type": "code",
   "execution_count": 3,
   "metadata": {},
   "outputs": [
    {
     "data": {
      "text/latex": [
       "$$\\left[\\begin{matrix}v\\\\u\\\\\\omega\\\\- u \\cos{\\left (\\theta \\right )} + \\sin{\\left (\\theta \\right )}\\end{matrix}\\right]$$"
      ],
      "text/plain": [
       "⎡             v              ⎤\n",
       "⎢                            ⎥\n",
       "⎢             u              ⎥\n",
       "⎢                            ⎥\n",
       "⎢           \\omega           ⎥\n",
       "⎢                            ⎥\n",
       "⎣-u⋅cos(\\theta) + sin(\\theta)⎦"
      ]
     },
     "execution_count": 3,
     "metadata": {},
     "output_type": "execute_result"
    }
   ],
   "source": [
    "# control parameter\n",
    "u = symbols('u', real=True, nonzero=True)\n",
    "\n",
    "# state equations of motion\n",
    "ds = Matrix([v, u, omega, sin(theta) - u*cos(theta)])\n",
    "ds"
   ]
  },
  {
   "cell_type": "code",
   "execution_count": 4,
   "metadata": {},
   "outputs": [
    {
     "data": {
      "image/png": "[encoded data removed]",
      "text/latex": [
       "$$\\alpha \\left(\\beta + \\left(- \\beta + 1\\right) \\left|{u}\\right|\\right) + u^{2} \\left(- \\alpha + 1\\right)$$"
      ],
      "text/plain": [
       "                                     2              \n",
       "\\alpha⋅(\\beta + (-\\beta + 1)⋅│u│) + u ⋅(-\\alpha + 1)"
      ]
     },
     "execution_count": 4,
     "metadata": {},
     "output_type": "execute_result"
    }
   ],
   "source": [
    "# homotopy parameters\n",
    "alpha, beta = symbols('\\\\alpha \\\\beta', real=True, nonegative=True)\n",
    "\n",
    "# homotopy between effort and time\n",
    "L = beta + (1-beta)*abs(u)\n",
    "\n",
    "# homotopy between energy and effort/time\n",
    "L = alpha*L + (1-alpha)*u**2\n",
    "L"
   ]
  },
  {
   "cell_type": "code",
   "execution_count": 5,
   "metadata": {},
   "outputs": [
    {
     "data": {
      "text/latex": [
       "$$\\left[\\begin{matrix}\\lambda_{x} & \\lambda_{v} & \\lambda_{\\theta} & \\lambda_{\\omega}\\end{matrix}\\right]$$"
      ],
      "text/plain": [
       "[\\lambda_{x}  \\lambda_{v}  \\lambda_{\\theta}  \\lambda_{\\omega}]"
      ]
     },
     "execution_count": 5,
     "metadata": {},
     "output_type": "execute_result"
    }
   ],
   "source": [
    "# costate variables\n",
    "l = Matrix(symbols(['\\\\lambda_{' + str(var) + '}' for var in s]), real=True, nonzero=True)\n",
    "l.T"
   ]
  },
  {
   "cell_type": "code",
   "execution_count": 6,
   "metadata": {},
   "outputs": [
    {
     "data": {
      "image/png": "[encoded data removed]",
      "text/latex": [
       "$$\\alpha \\left(\\beta + \\left(- \\beta + 1\\right) \\left|{u}\\right|\\right) + \\lambda_{\\omega} \\left(- u \\cos{\\left (\\theta \\right )} + \\sin{\\left (\\theta \\right )}\\right) + \\lambda_{\\theta} \\omega + \\lambda_{v} u + \\lambda_{x} v + u^{2} \\left(- \\alpha + 1\\right)$$"
      ],
      "text/plain": [
       "                                                                              \n",
       "\\alpha⋅(\\beta + (-\\beta + 1)⋅│u│) + \\lambda_{\\omega}⋅(-u⋅cos(\\theta) + sin(\\th\n",
       "\n",
       "                                                                   2          \n",
       "eta)) + \\lambda_{\\theta}⋅\\omega + \\lambda_{v}⋅u + \\lambda_{x}⋅v + u ⋅(-\\alpha \n",
       "\n",
       "    \n",
       "+ 1)"
      ]
     },
     "execution_count": 6,
     "metadata": {},
     "output_type": "execute_result"
    }
   ],
   "source": [
    "# Hamiltonian\n",
    "H = l.dot(ds) + L\n",
    "H"
   ]
  },
  {
   "cell_type": "code",
   "execution_count": 7,
   "metadata": {},
   "outputs": [
    {
     "data": {
      "text/latex": [
       "$$\\left[\\begin{matrix}0\\\\- \\lambda_{x}\\\\- \\lambda_{\\omega} \\left(u \\sin{\\left (\\theta \\right )} + \\cos{\\left (\\theta \\right )}\\right)\\\\- \\lambda_{\\theta}\\end{matrix}\\right]$$"
      ],
      "text/plain": [
       "⎡                       0                       ⎤\n",
       "⎢                                               ⎥\n",
       "⎢                 -\\lambda_{x}                  ⎥\n",
       "⎢                                               ⎥\n",
       "⎢-\\lambda_{\\omega}⋅(u⋅sin(\\theta) + cos(\\theta))⎥\n",
       "⎢                                               ⎥\n",
       "⎣               -\\lambda_{\\theta}               ⎦"
      ]
     },
     "execution_count": 7,
     "metadata": {},
     "output_type": "execute_result"
    }
   ],
   "source": [
    "# costate equations of motion\n",
    "dl = -H.diff(s)\n",
    "dl"
   ]
  },
  {
   "cell_type": "code",
   "execution_count": 8,
   "metadata": {},
   "outputs": [
    {
     "data": {
      "image/png": "[encoded data removed]",
      "text/latex": [
       "$$\\frac{- \\lambda_{\\omega} \\cos{\\left (\\theta \\right )} + \\lambda_{v}}{2 \\left(\\alpha - 1\\right)}$$"
      ],
      "text/plain": [
       "-\\lambda_{\\omega}⋅cos(\\theta) + \\lambda_{v}\n",
       "───────────────────────────────────────────\n",
       "               2⋅(\\alpha - 1)              "
      ]
     },
     "execution_count": 8,
     "metadata": {},
     "output_type": "execute_result"
    }
   ],
   "source": [
    "# optimal control; note that alpha dissappears\n",
    "# because effort and time optimality are equivalent in this case\n",
    "us = solve(H.diff(u), u)[0]\n",
    "us"
   ]
  },
  {
   "cell_type": "code",
   "execution_count": 9,
   "metadata": {},
   "outputs": [
    {
     "data": {
      "image/png": "[encoded data removed]",
      "text/latex": [
       "$$\\tilde{\\infty} \\left(- \\lambda_{\\omega} \\cos{\\left (\\theta \\right )} + \\lambda_{v}\\right)$$"
      ],
      "text/plain": [
       "zoo⋅(-\\lambda_{\\omega}⋅cos(\\theta) + \\lambda_{v})"
      ]
     },
     "execution_count": 9,
     "metadata": {},
     "output_type": "execute_result"
    }
   ],
   "source": [
    "# effort/time optimal control (bang-bang)\n",
    "us.subs(alpha, 1)"
   ]
  },
  {
   "cell_type": "markdown",
   "metadata": {},
   "source": [
    "## Base trajectory\n",
    "We first solve for a base trajectory, which will subsequently be used to iniate the forthcoming homotopy sequence approach to reaching the difficultly found bang-bang optimal control."
   ]
  },
  {
   "cell_type": "code",
   "execution_count": 10,
   "metadata": {},
   "outputs": [],
   "source": [
    "import sys, numpy as np, matplotlib.pyplot as plt\n",
    "import matplotlib\n",
    "matplotlib.rcParams['pdf.fonttype'] = 42\n",
    "matplotlib.rcParams['ps.fonttype'] = 42\n",
    "sys.path.append('../src/')\n",
    "from pendulum import Pendulum\n",
    "%matplotlib inline"
   ]
  },
  {
   "cell_type": "code",
   "execution_count": 11,
   "metadata": {},
   "outputs": [],
   "source": [
    "# instantiate problem\n",
    "seg = Pendulum()\n",
    "\n",
    "# solve arguments\n",
    "s0 = [0,0,np.pi,0]\n",
    "alpha = 0\n",
    "Tlb = 5\n",
    "Tub = 15\n",
    "lb = 1"
   ]
  },
  {
   "cell_type": "code",
   "execution_count": null,
   "metadata": {},
   "outputs": [],
   "source": [
    "# solve\n",
    "zg = None\n",
    "zg = [10.21795266,  0.19885557,  0.77306339,  0.99997456,  0.83067696]\n",
    "#zg = [6.12032571, 0.03676911, 0.90012948, 1.40507211, 0.39248787]\n",
    "while True:\n",
    "    z, f, feas = seg.solve(s0, alpha, Tlb, Tub, lb, z=zg)\n",
    "    if feas:\n",
    "        break\n",
    "z"
   ]
  },
  {
   "cell_type": "code",
   "execution_count": null,
   "metadata": {},
   "outputs": [],
   "source": [
    "# simulate the solution's resultant trajectory\n",
    "tl, sl, ul = seg.propagate(z[0], s0, z[1:], alpha, atol=1e-12, rtol=1e-12, u=True)"
   ]
  },
  {
   "cell_type": "code",
   "execution_count": null,
   "metadata": {},
   "outputs": [],
   "source": [
    "# plot states and control\n",
    "fig, ax = seg.plot_states(tl, sl, ul)"
   ]
  },
  {
   "cell_type": "code",
   "execution_count": null,
   "metadata": {},
   "outputs": [],
   "source": [
    "# plot geometric trajectory\n",
    "fig, ax = seg.plot_traj(tl, sl)"
   ]
  },
  {
   "cell_type": "markdown",
   "metadata": {},
   "source": [
    "## Policy homotopy\n",
    "\n",
    "```python\n",
    "zo = None\n",
    "a = 0\n",
    "while a < 1:\n",
    "    z = solve(zo, a)\n",
    "    if succesfull(z):\n",
    "        zo = z\n",
    "        a = increase(a)\n",
    "    else:\n",
    "        a = decrease(a)\n",
    "```\n",
    "\n",
    "## Forward homotopy $\\alpha: 0 \\rightarrow 1$\n",
    "This brings us to a bang-bang policy with an appropriate magnitude, which is realisable from the original quadratic policy."
   ]
  },
  {
   "cell_type": "code",
   "execution_count": 12,
   "metadata": {},
   "outputs": [],
   "source": [
    "#sols = seg.homotopy(s0, 0, Tlb, Tub, 10, z, 1, step=0.05)\n",
    "sols = np.load(\"ph.npy\")"
   ]
  },
  {
   "cell_type": "code",
   "execution_count": null,
   "metadata": {},
   "outputs": [],
   "source": [
    "#np.save('ph.npy', np.flip(sols, axis=0))"
   ]
  },
  {
   "cell_type": "code",
   "execution_count": null,
   "metadata": {},
   "outputs": [],
   "source": [
    "# plot the forward homotopy \n",
    "fig, ax = plt.subplots(1)\n",
    "fig1, ax1 = plt.subplots(1)\n",
    "for i in range(len(sols)):\n",
    "    z = sols[i][0]\n",
    "    a = sols[i][1]\n",
    "    seg.alpha = a\n",
    "    tl, sl, ul = seg.propagate(z[0], s0, z[1:], a, u=True)\n",
    "    x = sl[:,0] + np.sin(sl[:,2])\n",
    "    y = np.cos(sl[:,2])\n",
    "    if a == 0:\n",
    "        ax.plot(x, y, \"k-\", alpha=1, label=r\"$\\alpha=0$\")\n",
    "        ax1.plot(tl, ul, \"k-\", alpha=1, label=r\"$\\alpha=0$\")\n",
    "    elif a == 1:\n",
    "        ax.plot(x, y, \"k--\", alpha=1, label=r\"$\\alpha=1$\")\n",
    "        ax1.plot(tl, ul, \"k--\", alpha=1, label=r\"$\\alpha=1$\")\n",
    "    else:\n",
    "        ax.plot(x, y, \"k-\", alpha=0.1)\n",
    "        ax1.plot(tl, ul, \"k-\", alpha=0.1)\n",
    "ax.set_aspect('equal')\n",
    "ax.legend()\n",
    "ax1.legend()\n",
    "ax.set_xlabel(r\"$x + \\sin\\left(\\theta\\right)$\")\n",
    "ax.set_ylabel(r\"$\\cos\\left(\\theta\\right)$\")\n",
    "ax1.set_xlabel(r'$\\tau$')\n",
    "ax1.set_ylabel(r'$u$')\n",
    "plt.show()\n",
    "fig.savefig(\"phs.pdf\", bbox_inches='tight')\n",
    "fig1.savefig(\"phu.pdf\", bbox_inches='tight')"
   ]
  },
  {
   "cell_type": "markdown",
   "metadata": {},
   "source": [
    "## Random walks\n",
    "\n",
    "```python\n",
    "T = []\n",
    "so = snom\n",
    "zo = znom\n",
    "while len(T) < N:\n",
    "    s = perturb(so, ds)\n",
    "    z = solve(s, zo)\n",
    "    if succesfull(z):\n",
    "        so = s\n",
    "        zo = z\n",
    "        T.append((so, zo))\n",
    "        ds = increase(ds)\n",
    "    else:\n",
    "        ds = decrease(ds)\n",
    "        \n",
    "```"
   ]
  },
  {
   "cell_type": "code",
   "execution_count": null,
   "metadata": {},
   "outputs": [],
   "source": [
    "# arguments\n",
    "so = s0\n",
    "zo = zg\n",
    "zo = sols[0][0]\n",
    "alpha = 0\n",
    "n = 10\n",
    "Tlb = 0\n",
    "Tub = 15\n",
    "lb = 5\n",
    "nw = 4\n",
    "\n",
    "# random walks\n",
    "T = seg.random_walk_par(so, zo, alpha, n, Tlb, Tub, lb, nw, dsm=0.02, verbose=True)\n",
    "#T = np.load('pqdb.npy')"
   ]
  },
  {
   "cell_type": "code",
   "execution_count": null,
   "metadata": {},
   "outputs": [],
   "source": [
    "T"
   ]
  },
  {
   "cell_type": "code",
   "execution_count": null,
   "metadata": {},
   "outputs": [],
   "source": [
    "# plot the random walks\n",
    "fig, ax = plt.subplots(1)\n",
    "fig1, ax1 = plt.subplots(1)\n",
    "\n",
    "# for each random walk\n",
    "first = False\n",
    "for t in T:\n",
    "    \n",
    "    # initial state\n",
    "    s0 = t[0]\n",
    "    \n",
    "    # decision vector\n",
    "    z = t[1]\n",
    "    \n",
    "    # simulate trajectory\n",
    "    tl, sll, ul = seg.propagate(z[0], s0, z[1:], alpha, u=True)\n",
    "    \n",
    "    # endpoints\n",
    "    x = sll[:,0] + np.sin(sll[:,2])\n",
    "    y = np.cos(sll[:,2])\n",
    "    \n",
    "    # plot\n",
    "    if first:\n",
    "        ax.plot(x, y, \"k-\", alpha=1, label=\"Nominal\")\n",
    "        ax1.plot(tl, ul, \"k-\", alpha=1, label=\"Nominal\")\n",
    "        first = False\n",
    "    else:\n",
    "        ax.plot(x, y, \"k-\", alpha=0.1)\n",
    "        ax1.plot(tl, ul, \"k-\", alpha=0.1)\n",
    "ax.set_aspect('equal')\n",
    "#ax.legend()\n",
    "#ax1.legend()\n",
    "ax.set_xlabel(r'$f$')\n",
    "ax.set_xlabel(r\"$x + \\sin\\left(\\theta\\right)$\")\n",
    "ax.set_ylabel(r\"$\\cos\\left(\\theta\\right)$\")\n",
    "ax1.set_xlabel(r'$\\tau$')\n",
    "ax1.set_ylabel(r'$u$')\n",
    "plt.show()\n",
    "#fig.savefig('pqdbs.pdf', bbox_inches='tight')\n",
    "#fig1.savefig('pqdbu.pdf', bbox_inches='tight')"
   ]
  },
  {
   "cell_type": "markdown",
   "metadata": {},
   "source": [
    "## Database homotopy"
   ]
  },
  {
   "cell_type": "code",
   "execution_count": 13,
   "metadata": {},
   "outputs": [],
   "source": [
    "#res = seg.homotopy_db(T, 0, 0, 15, 5, 1, step=0.01)\n",
    "res = np.load('pqhdb.npy')"
   ]
  },
  {
   "cell_type": "code",
   "execution_count": null,
   "metadata": {},
   "outputs": [],
   "source": [
    "#np.save('pqhdb.npy', res)"
   ]
  },
  {
   "cell_type": "code",
   "execution_count": 14,
   "metadata": {},
   "outputs": [
    {
     "data": {
      "image/png": "[encoded data removed]",
      "text/plain": [
       "<Figure size 432x288 with 1 Axes>"
      ]
     },
     "metadata": {
      "needs_background": "light"
     },
     "output_type": "display_data"
    },
    {
     "data": {
      "image/png": "[encoded data removed]",
      "text/plain": [
       "<Figure size 432x288 with 1 Axes>"
      ]
     },
     "metadata": {
      "needs_background": "light"
     },
     "output_type": "display_data"
    }
   ],
   "source": [
    "fig, ax = plt.subplots(1)\n",
    "fig1, ax1 = plt.subplots(1)\n",
    "\n",
    "for r in res:\n",
    "    \n",
    "    # initial state\n",
    "    s0 = r[0]\n",
    "    \n",
    "    # decision vector\n",
    "    z = r[1]\n",
    "    \n",
    "    # homotopy parameter\n",
    "    alpha = r[2]\n",
    "    \n",
    "    # simulate trajectory\n",
    "    tl, sll, ul = seg.propagate(z[0], s0, z[1:], alpha, u=True)\n",
    "    \n",
    "    # endpoints\n",
    "    x = sll[:,0] + np.sin(sll[:,2])\n",
    "    y = np.cos(sll[:,2])\n",
    "    \n",
    "    # plot\n",
    "    if alpha > 1.2:\n",
    "        ax.plot(x, y, \"k--\", alpha=1)\n",
    "        ax1.plot(tl, ul, \"k--\", alpha=1)\n",
    "    else:\n",
    "        ax.plot(x, y, \"k-\", alpha=0.01)\n",
    "        ax1.plot(tl, ul, \"k-\", alpha=0.01)\n",
    "ax.set_aspect('equal')\n",
    "    \n",
    "plt.show()    \n",
    "#fig1.savefig('phdbu.pdf')"
   ]
  },
  {
   "cell_type": "markdown",
   "metadata": {},
   "source": [
    "# Training a neural network"
   ]
  },
  {
   "cell_type": "code",
   "execution_count": 15,
   "metadata": {},
   "outputs": [],
   "source": [
    "from ann import *"
   ]
  },
  {
   "cell_type": "code",
   "execution_count": 16,
   "metadata": {},
   "outputs": [],
   "source": [
    "# generate the databases\n",
    "#data = seg.gen_db(res, cat=True)\n",
    "data = np.load('pqhanndb.npy')"
   ]
  },
  {
   "cell_type": "code",
   "execution_count": null,
   "metadata": {},
   "outputs": [],
   "source": [
    "# save the database\n",
    "#np.save('pqhanndb.npy', data)"
   ]
  },
  {
   "cell_type": "code",
   "execution_count": 43,
   "metadata": {},
   "outputs": [],
   "source": [
    "# format the data for the ann\n",
    "db = Data(data, [0, 1, 2, 3, 4], [5])"
   ]
  },
  {
   "cell_type": "code",
   "execution_count": 72,
   "metadata": {},
   "outputs": [],
   "source": [
    "# instantiate the neural network\n",
    "mlp = Pendulum_Controller([5, 40, 40, 40, 1])"
   ]
  },
  {
   "cell_type": "code",
   "execution_count": 79,
   "metadata": {},
   "outputs": [
    {
     "name": "stdout",
     "output_type": "stream",
     "text": [
      "Episode 0; Testing Loss 0.013202161864400578; Training Loss 0.013416834762793673\n",
      "Episode 1; Testing Loss 0.0125634956718325; Training Loss 0.012786775140802084\n",
      "Episode 2; Testing Loss 0.012412168685181848; Training Loss 0.012637422989900083\n",
      "Episode 3; Testing Loss 0.012565019299826912; Training Loss 0.012786871599403707\n",
      "Episode 4; Testing Loss 0.012688216367170928; Training Loss 0.012907720921700968\n",
      "Episode 5; Testing Loss 0.012662769248288035; Training Loss 0.012882278177794231\n",
      "Episode 6; Testing Loss 0.012553526693262297; Training Loss 0.012773776762161577\n",
      "Episode 7; Testing Loss 0.01245032765656746; Training Loss 0.012670183404081862\n",
      "Episode 8; Testing Loss 0.012408214038114783; Training Loss 0.01262670536495179\n",
      "Episode 9; Testing Loss 0.012432125005745528; Training Loss 0.0126483427352756\n",
      "Episode 10; Testing Loss 0.0124851032605431; Training Loss 0.01269961445152942\n",
      "Episode 11; Testing Loss 0.012519915598712803; Training Loss 0.012734448033206168\n",
      "Episode 12; Testing Loss 0.012514046920926692; Training Loss 0.012729816907555423\n",
      "Episode 13; Testing Loss 0.012475596710095809; Training Loss 0.012693116911266665\n",
      "Episode 14; Testing Loss 0.012429461924500946; Training Loss 0.012649060520082061\n",
      "Episode 15; Testing Loss 0.012400264352704705; Training Loss 0.012620993628180073\n",
      "Episode 16; Testing Loss 0.012399515477295748; Training Loss 0.012620075734796631\n",
      "Episode 17; Testing Loss 0.012418967256906435; Training Loss 0.012638768129775485\n",
      "Episode 18; Testing Loss 0.01244002041415998; Training Loss 0.012659082139572609\n",
      "Episode 19; Testing Loss 0.012446501399010762; Training Loss 0.012665269358691894\n",
      "Episode 20; Testing Loss 0.012434974906483511; Training Loss 0.012653666653915055\n",
      "Episode 21; Testing Loss 0.012413936916301195; Training Loss 0.01263264498308973\n",
      "Episode 22; Testing Loss 0.012396001822249049; Training Loss 0.012614556957213368\n",
      "Episode 23; Testing Loss 0.012390239575825619; Training Loss 0.012608476843824585\n",
      "Episode 24; Testing Loss 0.012396794843747134; Training Loss 0.012614544579464471\n",
      "Episode 25; Testing Loss 0.01240759305061364; Training Loss 0.012624868891701752\n",
      "Episode 26; Testing Loss 0.012413305733456304; Training Loss 0.012630449068166235\n",
      "Episode 27; Testing Loss 0.012409468091553381; Training Loss 0.01262691523209128\n",
      "Episode 28; Testing Loss 0.012398561637117436; Training Loss 0.012616595085193406\n",
      "Episode 29; Testing Loss 0.012387378628597973; Training Loss 0.012606017962413603\n",
      "Episode 30; Testing Loss 0.012381689729239798; Training Loss 0.012600796926615098\n",
      "Episode 31; Testing Loss 0.012382939144044166; Training Loss 0.012602315133852546\n",
      "Episode 32; Testing Loss 0.01238779766947656; Training Loss 0.012607326834353337\n",
      "Episode 33; Testing Loss 0.012390977285947067; Training Loss 0.012610634002998616\n",
      "Episode 34; Testing Loss 0.012389258373217327; Training Loss 0.012609025067334254\n",
      "Episode 35; Testing Loss 0.012383521967721422; Training Loss 0.01260336545088983\n",
      "Episode 36; Testing Loss 0.012377390757455873; Training Loss 0.012597198235108496\n",
      "Episode 37; Testing Loss 0.012374255335233598; Training Loss 0.012593978161622558\n",
      "Episode 38; Testing Loss 0.012374858608759616; Training Loss 0.01259441998533892\n",
      "Episode 39; Testing Loss 0.012377147892207143; Training Loss 0.012596534474817827\n",
      "Episode 40; Testing Loss 0.012378303044292507; Training Loss 0.012597575456397395\n",
      "Episode 41; Testing Loss 0.012376775414626211; Training Loss 0.012596018420024285\n",
      "Episode 42; Testing Loss 0.012373265926772835; Training Loss 0.012592551594964236\n",
      "Episode 43; Testing Loss 0.012369829655994917; Training Loss 0.01258922824648724\n",
      "Episode 44; Testing Loss 0.012368123647352645; Training Loss 0.01258770116606179\n",
      "Episode 45; Testing Loss 0.012368106413125163; Training Loss 0.012587818212087626\n",
      "Episode 46; Testing Loss 0.012368503110633205; Training Loss 0.01258826170466483\n",
      "Episode 47; Testing Loss 0.012367949756040254; Training Loss 0.012587698462076743\n",
      "Episode 48; Testing Loss 0.012366153823891099; Training Loss 0.012585856736836834\n",
      "Episode 49; Testing Loss 0.012363884798866928; Training Loss 0.012583499691418698\n",
      "Episode 50; Testing Loss 0.012362268241797475; Training Loss 0.012581816759711428\n",
      "Episode 51; Testing Loss 0.012361730336926042; Training Loss 0.012581183835340052\n",
      "Episode 52; Testing Loss 0.012361708650999967; Training Loss 0.012581049837650952\n",
      "Episode 53; Testing Loss 0.012361316902123694; Training Loss 0.012580527525940426\n",
      "Episode 54; Testing Loss 0.012360137228441119; Training Loss 0.012579262508872441\n",
      "Episode 55; Testing Loss 0.012358462792286988; Training Loss 0.012577531807179899\n",
      "Episode 56; Testing Loss 0.012356936552933188; Training Loss 0.012575997473807561\n",
      "Episode 57; Testing Loss 0.012355979239130318; Training Loss 0.012575145709394504\n",
      "Episode 58; Testing Loss 0.012355331125788417; Training Loss 0.012574633585299805\n",
      "Episode 59; Testing Loss 0.012354516563368773; Training Loss 0.012573975372540819\n",
      "Episode 60; Testing Loss 0.012353241742416409; Training Loss 0.012572875121940462\n",
      "Episode 61; Testing Loss 0.012351651378992029; Training Loss 0.012571463471029911\n",
      "Episode 62; Testing Loss 0.012350130587956752; Training Loss 0.012570118208282046\n",
      "Episode 63; Testing Loss 0.012348965619619798; Training Loss 0.012569093702532985\n",
      "Episode 64; Testing Loss 0.012348113651721981; Training Loss 0.012568363591572455\n",
      "Episode 65; Testing Loss 0.01234721778212509; Training Loss 0.01256756565988941\n",
      "Episode 66; Testing Loss 0.012346052665564424; Training Loss 0.012566453997059525\n",
      "Episode 67; Testing Loss 0.012344732082565054; Training Loss 0.01256518321111223\n",
      "Episode 68; Testing Loss 0.012343515419135203; Training Loss 0.012564016588948772\n",
      "Episode 69; Testing Loss 0.012342499109946331; Training Loss 0.012563042348069365\n",
      "Episode 70; Testing Loss 0.012341584617888663; Training Loss 0.012562178546032463\n",
      "Episode 71; Testing Loss 0.012340585404676531; Training Loss 0.012561259510157042\n",
      "Episode 72; Testing Loss 0.012339440269071142; Training Loss 0.0125602179488379\n",
      "Episode 73; Testing Loss 0.01233822875176411; Training Loss 0.012559103524895292\n",
      "Episode 74; Testing Loss 0.012337082465600908; Training Loss 0.012558045259135706\n",
      "Episode 75; Testing Loss 0.012336034646575763; Training Loss 0.012557087010921165\n",
      "Episode 76; Testing Loss 0.01233504180626553; Training Loss 0.01255618312929086\n",
      "Episode 77; Testing Loss 0.012334014176826506; Training Loss 0.012555234507784778\n",
      "Episode 78; Testing Loss 0.012332930543528057; Training Loss 0.012554214409548159\n",
      "Episode 79; Testing Loss 0.012331843232998978; Training Loss 0.012553176048951753\n",
      "Episode 80; Testing Loss 0.012330815537531167; Training Loss 0.012552182040217299\n",
      "Episode 81; Testing Loss 0.0123298547054201; Training Loss 0.012551244748925487\n",
      "Episode 82; Testing Loss 0.01232890320288334; Training Loss 0.012550314408257641\n",
      "Episode 83; Testing Loss 0.01232789835248575; Training Loss 0.012549336284941502\n",
      "Episode 84; Testing Loss 0.0123268373630961; Training Loss 0.01254831298356031\n",
      "Episode 85; Testing Loss 0.012325767252781651; Training Loss 0.012547293036335137\n",
      "Episode 86; Testing Loss 0.012324732319902823; Training Loss 0.012546324845342611\n",
      "Episode 87; Testing Loss 0.012323702803703266; Training Loss 0.012545357408717083\n",
      "Episode 88; Testing Loss 0.012322640036027128; Training Loss 0.012544350907255315\n",
      "Episode 89; Testing Loss 0.012321564987454674; Training Loss 0.012543344887285774\n",
      "Episode 90; Testing Loss 0.012320482668884962; Training Loss 0.012542338720360873\n",
      "Episode 91; Testing Loss 0.012319405542106164; Training Loss 0.012541334676794575\n",
      "Episode 92; Testing Loss 0.01231833316376901; Training Loss 0.012540331711195493\n",
      "Episode 93; Testing Loss 0.012317250167599603; Training Loss 0.012539319286232017\n",
      "Episode 94; Testing Loss 0.012316150887012425; Training Loss 0.012538290734731538\n",
      "Episode 95; Testing Loss 0.012315042160797181; Training Loss 0.01253725174853284\n",
      "Episode 96; Testing Loss 0.012313940528064572; Training Loss 0.012536214688901174\n",
      "Episode 97; Testing Loss 0.012312860275942613; Training Loss 0.012535191109698368\n",
      "Episode 98; Testing Loss 0.01231176974527172; Training Loss 0.012534154196374743\n",
      "Episode 99; Testing Loss 0.012310648953260332; Training Loss 0.012533092610402974\n",
      "Episode 100; Testing Loss 0.012309517266598664; Training Loss 0.012532027187568162\n"
     ]
    },
    {
     "name": "stdout",
     "output_type": "stream",
     "text": [
      "Episode 101; Testing Loss 0.012308377939315551; Training Loss 0.012530969135495755\n",
      "Episode 102; Testing Loss 0.012307251971297851; Training Loss 0.012529925637748976\n",
      "Episode 103; Testing Loss 0.0123061014413705; Training Loss 0.01252887592168541\n",
      "Episode 104; Testing Loss 0.01230494492884854; Training Loss 0.01252783319091436\n",
      "Episode 105; Testing Loss 0.012303800591686688; Training Loss 0.01252680241595368\n",
      "Episode 106; Testing Loss 0.012302692691325234; Training Loss 0.012525788606818064\n",
      "Episode 107; Testing Loss 0.012301593887328146; Training Loss 0.012524774220223068\n",
      "Episode 108; Testing Loss 0.012300529085210987; Training Loss 0.012523765786919305\n",
      "Episode 109; Testing Loss 0.012299487900654243; Training Loss 0.012522757951051318\n",
      "Episode 110; Testing Loss 0.012298460499250917; Training Loss 0.012521745822974452\n",
      "Episode 111; Testing Loss 0.01229744277565487; Training Loss 0.012520731876140109\n",
      "Episode 112; Testing Loss 0.01229642670707904; Training Loss 0.01251971677518173\n",
      "Episode 113; Testing Loss 0.012295394165506951; Training Loss 0.012518690103292198\n",
      "Episode 114; Testing Loss 0.012294343135962737; Training Loss 0.012517650230366401\n",
      "Episode 115; Testing Loss 0.012293282987521525; Training Loss 0.01251660280971467\n",
      "Episode 116; Testing Loss 0.012292214248664661; Training Loss 0.012515553829238383\n",
      "Episode 117; Testing Loss 0.012291150076094241; Training Loss 0.012514494571605559\n",
      "Episode 118; Testing Loss 0.012290087010197199; Training Loss 0.01251342810371017\n",
      "Episode 119; Testing Loss 0.012289017807683407; Training Loss 0.012512362590040144\n",
      "Episode 120; Testing Loss 0.012287941379614071; Training Loss 0.012511292647843019\n",
      "Episode 121; Testing Loss 0.01228686263976619; Training Loss 0.01251021922830191\n",
      "Episode 122; Testing Loss 0.012285776546598695; Training Loss 0.012509143340712117\n",
      "Episode 123; Testing Loss 0.012284698150789211; Training Loss 0.01250806976466935\n",
      "Episode 124; Testing Loss 0.012283638182608343; Training Loss 0.012506999931528448\n",
      "Episode 125; Testing Loss 0.012282612385470284; Training Loss 0.012505950012584761\n",
      "Episode 126; Testing Loss 0.012281598912490973; Training Loss 0.012504914860951323\n",
      "Episode 127; Testing Loss 0.01228057575320053; Training Loss 0.012503884582901942\n",
      "Episode 128; Testing Loss 0.012279546187573258; Training Loss 0.012502855009196524\n",
      "Episode 129; Testing Loss 0.01227850582570523; Training Loss 0.01250182535227442\n",
      "Episode 130; Testing Loss 0.012277453025992018; Training Loss 0.012500793962849083\n",
      "Episode 131; Testing Loss 0.012276386588266327; Training Loss 0.012499761054399856\n",
      "Episode 132; Testing Loss 0.012275313585766869; Training Loss 0.012498726673012125\n",
      "Episode 133; Testing Loss 0.012274226213330849; Training Loss 0.012497689979712342\n",
      "Episode 134; Testing Loss 0.012273130109839391; Training Loss 0.012496650097760697\n",
      "Episode 135; Testing Loss 0.012272023681293634; Training Loss 0.012495605253697051\n",
      "Episode 136; Testing Loss 0.012270917814998892; Training Loss 0.012494555162738327\n",
      "Episode 137; Testing Loss 0.01226981518241416; Training Loss 0.012493503199886647\n",
      "Episode 138; Testing Loss 0.012268706215306641; Training Loss 0.01249244705914452\n",
      "Episode 139; Testing Loss 0.012267590861314454; Training Loss 0.012491385573315484\n",
      "Episode 140; Testing Loss 0.012266466292495818; Training Loss 0.012490320485095583\n",
      "Episode 141; Testing Loss 0.01226534003239085; Training Loss 0.01248925517954907\n",
      "Episode 142; Testing Loss 0.012264211763294255; Training Loss 0.012488188128152947\n",
      "Episode 143; Testing Loss 0.012263078227765602; Training Loss 0.012487117498923892\n",
      "Episode 144; Testing Loss 0.012261942233387363; Training Loss 0.012486039736153616\n",
      "Episode 145; Testing Loss 0.012260797953648856; Training Loss 0.012484960912721057\n",
      "Episode 146; Testing Loss 0.01225964507936316; Training Loss 0.012483878591764665\n",
      "Episode 147; Testing Loss 0.012258482283881428; Training Loss 0.012482788927122141\n",
      "Episode 148; Testing Loss 0.012257305428287488; Training Loss 0.012481691555402004\n",
      "Episode 149; Testing Loss 0.012256119962088897; Training Loss 0.012480587226219664\n",
      "Episode 150; Testing Loss 0.012254916383967024; Training Loss 0.012479469561230059\n",
      "Episode 151; Testing Loss 0.01225370546405343; Training Loss 0.012478341333208756\n",
      "Episode 152; Testing Loss 0.012252465221884898; Training Loss 0.012477210756964825\n",
      "Episode 153; Testing Loss 0.01225120846513369; Training Loss 0.012476059397285185\n",
      "Episode 154; Testing Loss 0.012249939225914674; Training Loss 0.012474882809374506\n",
      "Episode 155; Testing Loss 0.012248634614149228; Training Loss 0.01247368596987211\n",
      "Episode 156; Testing Loss 0.012247300793202806; Training Loss 0.012472468925379395\n",
      "Episode 157; Testing Loss 0.012245964506547734; Training Loss 0.012471256687302711\n",
      "Episode 158; Testing Loss 0.012244651190156013; Training Loss 0.01247010446956357\n",
      "Episode 159; Testing Loss 0.01224340446817247; Training Loss 0.012468989459254178\n",
      "Episode 160; Testing Loss 0.012242229333880774; Training Loss 0.012467903798457866\n",
      "Episode 161; Testing Loss 0.012241093532610792; Training Loss 0.012466835486144924\n",
      "Episode 162; Testing Loss 0.01223997240869442; Training Loss 0.012465772293498163\n",
      "Episode 163; Testing Loss 0.0122388397228267; Training Loss 0.012464709554984615\n",
      "Episode 164; Testing Loss 0.012237698941594358; Training Loss 0.012463657710908122\n",
      "Episode 165; Testing Loss 0.012236554212082962; Training Loss 0.012462608273946027\n",
      "Episode 166; Testing Loss 0.01223543723537783; Training Loss 0.012461563860564014\n",
      "Episode 167; Testing Loss 0.01223432494509179; Training Loss 0.012460522221085894\n",
      "Episode 168; Testing Loss 0.012233210830105624; Training Loss 0.012459473325659387\n",
      "Episode 169; Testing Loss 0.012232091915650535; Training Loss 0.012458414303370025\n",
      "Episode 170; Testing Loss 0.01223098217699836; Training Loss 0.012457357294481709\n",
      "Episode 171; Testing Loss 0.012229881802917848; Training Loss 0.012456290310604221\n",
      "Episode 172; Testing Loss 0.012228790696464596; Training Loss 0.012455214699126225\n",
      "Episode 173; Testing Loss 0.012227705713048605; Training Loss 0.01245414501320269\n",
      "Episode 174; Testing Loss 0.012226616957768603; Training Loss 0.0124530712613441\n",
      "Episode 175; Testing Loss 0.012225528116236754; Training Loss 0.012451996612557786\n",
      "Episode 176; Testing Loss 0.012224435718104056; Training Loss 0.012450919369698873\n",
      "Episode 177; Testing Loss 0.01222333928995036; Training Loss 0.012449847000644708\n",
      "Episode 178; Testing Loss 0.012222235895924218; Training Loss 0.012448775081058835\n",
      "Episode 179; Testing Loss 0.012221132159057067; Training Loss 0.012447701880811292\n",
      "Episode 180; Testing Loss 0.01222003479968986; Training Loss 0.012446629656731501\n",
      "Episode 181; Testing Loss 0.01221895304936438; Training Loss 0.01244555858784273\n",
      "Episode 182; Testing Loss 0.012217873552003171; Training Loss 0.012444481471266346\n",
      "Episode 183; Testing Loss 0.012216806898941427; Training Loss 0.012443403314433566\n",
      "Episode 184; Testing Loss 0.012215736764328501; Training Loss 0.012442322693500088\n",
      "Episode 185; Testing Loss 0.012214655758643144; Training Loss 0.012441241132709955\n",
      "Episode 186; Testing Loss 0.012213572773253734; Training Loss 0.012440160500140612\n",
      "Episode 187; Testing Loss 0.012212485749384671; Training Loss 0.012439080509898942\n",
      "Episode 188; Testing Loss 0.012211385706206434; Training Loss 0.012437999290206156\n",
      "Episode 189; Testing Loss 0.01221027033995488; Training Loss 0.012436915761884161\n",
      "Episode 190; Testing Loss 0.012209141119160495; Training Loss 0.012435829724536676\n",
      "Episode 191; Testing Loss 0.01220800229022494; Training Loss 0.012434741637424617\n",
      "Episode 192; Testing Loss 0.012206857459074998; Training Loss 0.012433652733313962\n",
      "Episode 193; Testing Loss 0.012205714974207244; Training Loss 0.012432563805958977\n",
      "Episode 194; Testing Loss 0.012204583204073648; Training Loss 0.012431475426792574\n",
      "Episode 195; Testing Loss 0.012203460841119238; Training Loss 0.012430387237317798\n",
      "Episode 196; Testing Loss 0.012202346618434516; Training Loss 0.012429301492101752\n",
      "Episode 197; Testing Loss 0.012201217562250165; Training Loss 0.012428213518334986\n",
      "Episode 198; Testing Loss 0.012200076029889118; Training Loss 0.012427125651861971\n",
      "Episode 199; Testing Loss 0.012198949765895903; Training Loss 0.0124260304251667\n",
      "Episode 200; Testing Loss 0.012197837824176088; Training Loss 0.012424937435328645\n"
     ]
    },
    {
     "name": "stdout",
     "output_type": "stream",
     "text": [
      "Episode 201; Testing Loss 0.012196735314988848; Training Loss 0.012423890152533942\n",
      "Episode 202; Testing Loss 0.012195541274022325; Training Loss 0.012422808547633736\n",
      "Episode 203; Testing Loss 0.012194293234465317; Training Loss 0.012421711092502128\n",
      "Episode 204; Testing Loss 0.012193071630803087; Training Loss 0.012420664194037527\n",
      "Episode 205; Testing Loss 0.012191917991402134; Training Loss 0.012419600083025348\n",
      "Episode 206; Testing Loss 0.012190814112675141; Training Loss 0.012418505186627456\n",
      "Episode 207; Testing Loss 0.012189760609956624; Training Loss 0.012417436467185128\n",
      "Episode 208; Testing Loss 0.012188662356238536; Training Loss 0.012416372263882413\n",
      "Episode 209; Testing Loss 0.012187496010962917; Training Loss 0.01241528565485981\n",
      "Episode 210; Testing Loss 0.012186301272072292; Training Loss 0.012414199416445958\n",
      "Episode 211; Testing Loss 0.012185131167805745; Training Loss 0.012413153474359541\n",
      "Episode 212; Testing Loss 0.012184004551660004; Training Loss 0.012412063893998907\n",
      "Episode 213; Testing Loss 0.012182925700258305; Training Loss 0.012410964327749654\n",
      "Episode 214; Testing Loss 0.012181821919214615; Training Loss 0.012409901999409922\n",
      "Episode 215; Testing Loss 0.012180641980499085; Training Loss 0.012408822717099453\n",
      "Episode 216; Testing Loss 0.012179423048545059; Training Loss 0.01240773422830049\n",
      "Episode 217; Testing Loss 0.012178273835357007; Training Loss 0.012406664442706163\n",
      "Episode 218; Testing Loss 0.01217717760239189; Training Loss 0.01240558383913548\n",
      "Episode 219; Testing Loss 0.012176115593044214; Training Loss 0.012404516709921392\n",
      "Episode 220; Testing Loss 0.012175003736074521; Training Loss 0.012403445260873776\n",
      "Episode 221; Testing Loss 0.012173828952853053; Training Loss 0.012402365658616013\n",
      "Episode 222; Testing Loss 0.012172670956702514; Training Loss 0.012401289595631393\n",
      "Episode 223; Testing Loss 0.012171525118189964; Training Loss 0.012400220261186803\n",
      "Episode 224; Testing Loss 0.012170362935318077; Training Loss 0.012399148172937004\n",
      "Episode 225; Testing Loss 0.01216919616921454; Training Loss 0.012398077145546018\n",
      "Episode 226; Testing Loss 0.012168077821729911; Training Loss 0.012397004845267887\n",
      "Episode 227; Testing Loss 0.012166981338487773; Training Loss 0.012395925764720702\n",
      "Episode 228; Testing Loss 0.012165827345015498; Training Loss 0.012394847979167997\n",
      "Episode 229; Testing Loss 0.012164641848820847; Training Loss 0.012393771834285132\n",
      "Episode 230; Testing Loss 0.01216350521494738; Training Loss 0.012392703049277861\n",
      "Episode 231; Testing Loss 0.012162364932999263; Training Loss 0.012391618687347145\n",
      "Episode 232; Testing Loss 0.012161265056595533; Training Loss 0.012390548696113364\n",
      "Episode 233; Testing Loss 0.012160117974806926; Training Loss 0.012389472373501544\n",
      "Episode 234; Testing Loss 0.012158942000497473; Training Loss 0.012388400405492444\n",
      "Episode 235; Testing Loss 0.012157796945947768; Training Loss 0.012387320091983043\n",
      "Episode 236; Testing Loss 0.012156699450941177; Training Loss 0.012386248735983365\n",
      "Episode 237; Testing Loss 0.012155566931972426; Training Loss 0.012385174992490307\n",
      "Episode 238; Testing Loss 0.012154392815649683; Training Loss 0.012384094044332522\n",
      "Episode 239; Testing Loss 0.01215321564162154; Training Loss 0.01238303145236629\n",
      "Episode 240; Testing Loss 0.012152093750405633; Training Loss 0.012381946781610333\n",
      "Episode 241; Testing Loss 0.01215102862437392; Training Loss 0.012380882475697961\n",
      "Episode 242; Testing Loss 0.012149919156411601; Training Loss 0.012379809391522804\n",
      "Episode 243; Testing Loss 0.012148744235554057; Training Loss 0.012378722566960789\n",
      "Episode 244; Testing Loss 0.012147552808869798; Training Loss 0.012377652372625007\n",
      "Episode 245; Testing Loss 0.012146412642951585; Training Loss 0.012376574037458137\n",
      "Episode 246; Testing Loss 0.012145327945883962; Training Loss 0.012375498051013852\n",
      "Episode 247; Testing Loss 0.012144204363313328; Training Loss 0.012374427578101815\n",
      "Episode 248; Testing Loss 0.012143025674833333; Training Loss 0.012373347192341996\n",
      "Episode 249; Testing Loss 0.01214182891628733; Training Loss 0.012372269709373433\n",
      "Episode 250; Testing Loss 0.012140699696334798; Training Loss 0.012371190402746242\n",
      "Episode 251; Testing Loss 0.012139634875245098; Training Loss 0.012370126030926666\n",
      "Episode 252; Testing Loss 0.012138542397376603; Training Loss 0.012369045353641271\n",
      "Episode 253; Testing Loss 0.01213739890911537; Training Loss 0.012367964530399123\n",
      "Episode 254; Testing Loss 0.012136234625368046; Training Loss 0.01236690200994841\n",
      "Episode 255; Testing Loss 0.012135090430769959; Training Loss 0.01236581599130518\n",
      "Episode 256; Testing Loss 0.0121339881619826; Training Loss 0.012364752335568099\n",
      "Episode 257; Testing Loss 0.012132857986057061; Training Loss 0.012363676343095402\n",
      "Episode 258; Testing Loss 0.012131688296839908; Training Loss 0.01236259250454134\n",
      "Episode 259; Testing Loss 0.012130503347012598; Training Loss 0.012361518310750212\n",
      "Episode 260; Testing Loss 0.012129378250819289; Training Loss 0.01236044011869125\n",
      "Episode 261; Testing Loss 0.012128303990201185; Training Loss 0.01235936131293088\n",
      "Episode 262; Testing Loss 0.012127201105729409; Training Loss 0.01235829486158674\n",
      "Episode 263; Testing Loss 0.012126051318499946; Training Loss 0.012357207660705548\n",
      "Episode 264; Testing Loss 0.012124873064591528; Training Loss 0.01235614012676042\n",
      "Episode 265; Testing Loss 0.012123724521764192; Training Loss 0.012355057271795214\n",
      "Episode 266; Testing Loss 0.01212262804029347; Training Loss 0.012353984392524171\n",
      "Episode 267; Testing Loss 0.012121509022695407; Training Loss 0.012352918814477566\n",
      "Episode 268; Testing Loss 0.012120363720426715; Training Loss 0.012351834883694117\n",
      "Episode 269; Testing Loss 0.01211918737245537; Training Loss 0.012350753146161757\n",
      "Episode 270; Testing Loss 0.012118024071916983; Training Loss 0.012349696141996843\n",
      "Episode 271; Testing Loss 0.012116899701230473; Training Loss 0.012348602679912037\n",
      "Episode 272; Testing Loss 0.01211584627575048; Training Loss 0.012347541494134265\n",
      "Episode 273; Testing Loss 0.01211474877608367; Training Loss 0.012346470030488495\n",
      "Episode 274; Testing Loss 0.012113598966247103; Training Loss 0.01234538263237795\n",
      "Episode 275; Testing Loss 0.012112398844523647; Training Loss 0.012344304858345315\n",
      "Episode 276; Testing Loss 0.012111239440986965; Training Loss 0.01234322749720832\n",
      "Episode 277; Testing Loss 0.012110117708869167; Training Loss 0.012342148946319164\n",
      "Episode 278; Testing Loss 0.012108988344027254; Training Loss 0.012341084489533393\n",
      "Episode 279; Testing Loss 0.012107849486421724; Training Loss 0.012339995211850802\n",
      "Episode 280; Testing Loss 0.012106697669204022; Training Loss 0.012338919835301264\n",
      "Episode 281; Testing Loss 0.012105583981667643; Training Loss 0.012337841232890836\n",
      "Episode 282; Testing Loss 0.012104491805638117; Training Loss 0.012336767098231024\n",
      "Episode 283; Testing Loss 0.012103363050536739; Training Loss 0.012335700461392884\n",
      "Episode 284; Testing Loss 0.012102207222728112; Training Loss 0.01233461427478641\n",
      "Episode 285; Testing Loss 0.01210104105158515; Training Loss 0.01233354256910146\n",
      "Episode 286; Testing Loss 0.012099921612504864; Training Loss 0.012332460113082977\n",
      "Episode 287; Testing Loss 0.01209878537632529; Training Loss 0.012331384820344456\n",
      "Episode 288; Testing Loss 0.01209764470584092; Training Loss 0.01233030877912534\n",
      "Episode 289; Testing Loss 0.012096545937384516; Training Loss 0.012329233039953261\n",
      "Episode 290; Testing Loss 0.012095411931215397; Training Loss 0.012328157636949286\n",
      "Episode 291; Testing Loss 0.012094265426649627; Training Loss 0.012327083425393485\n",
      "Episode 292; Testing Loss 0.012093144240030435; Training Loss 0.012326007256917657\n",
      "Episode 293; Testing Loss 0.012091995053937486; Training Loss 0.012324932667290992\n",
      "Episode 294; Testing Loss 0.0120908289863003; Training Loss 0.012323856922081877\n",
      "Episode 295; Testing Loss 0.012089678546222756; Training Loss 0.012322786043218166\n",
      "Episode 296; Testing Loss 0.012088569703978676; Training Loss 0.012321704344907132\n",
      "Episode 297; Testing Loss 0.012087448487818592; Training Loss 0.012320628957283536\n",
      "Episode 298; Testing Loss 0.012086305322244199; Training Loss 0.012319556910915288\n",
      "Episode 299; Testing Loss 0.012085161026998022; Training Loss 0.012318485279174488\n",
      "Episode 300; Testing Loss 0.012084059255092887; Training Loss 0.012317406110206222\n"
     ]
    },
    {
     "name": "stdout",
     "output_type": "stream",
     "text": [
      "Episode 301; Testing Loss 0.012082923720643323; Training Loss 0.012316334252531364\n",
      "Episode 302; Testing Loss 0.012081741108708362; Training Loss 0.01231525208227843\n",
      "Episode 303; Testing Loss 0.012080565782804774; Training Loss 0.012314192123124453\n",
      "Episode 304; Testing Loss 0.012079460537695009; Training Loss 0.012313109627208938\n",
      "Episode 305; Testing Loss 0.012078350415737921; Training Loss 0.01231203415009033\n",
      "Episode 306; Testing Loss 0.012077203581095227; Training Loss 0.012310963396609732\n",
      "Episode 307; Testing Loss 0.012076049346347116; Training Loss 0.012309880760733846\n",
      "Episode 308; Testing Loss 0.012074882891287822; Training Loss 0.012308810079997541\n",
      "Episode 309; Testing Loss 0.012073739396680366; Training Loss 0.012307740073231526\n",
      "Episode 310; Testing Loss 0.01207265630936103; Training Loss 0.012306654568995897\n",
      "Episode 311; Testing Loss 0.012071547187291918; Training Loss 0.01230558513485133\n",
      "Episode 312; Testing Loss 0.012070382851426415; Training Loss 0.0123045032372084\n",
      "Episode 313; Testing Loss 0.012069202634510438; Training Loss 0.012303433625063896\n",
      "Episode 314; Testing Loss 0.012068082884446928; Training Loss 0.012302354952923164\n",
      "Episode 315; Testing Loss 0.012066973413861499; Training Loss 0.012301282377138525\n",
      "Episode 316; Testing Loss 0.012065831514105204; Training Loss 0.012300209954979012\n",
      "Episode 317; Testing Loss 0.012064654369976738; Training Loss 0.012299131309166572\n",
      "Episode 318; Testing Loss 0.012063519660878985; Training Loss 0.01229806588509556\n",
      "Episode 319; Testing Loss 0.01206240789166564; Training Loss 0.012296990376361392\n",
      "Episode 320; Testing Loss 0.01206130113848585; Training Loss 0.01229590963959422\n",
      "Episode 321; Testing Loss 0.012060161030023319; Training Loss 0.012294836737480136\n",
      "Episode 322; Testing Loss 0.01205899702499885; Training Loss 0.01229376327446716\n",
      "Episode 323; Testing Loss 0.012057883916035586; Training Loss 0.012292696599776278\n",
      "Episode 324; Testing Loss 0.012056773856832964; Training Loss 0.012291624666946199\n",
      "Episode 325; Testing Loss 0.012055646509135324; Training Loss 0.01229054256517855\n",
      "Episode 326; Testing Loss 0.012054480208311246; Training Loss 0.012289469545135297\n",
      "Episode 327; Testing Loss 0.012053318769809574; Training Loss 0.01228840063472244\n",
      "Episode 328; Testing Loss 0.012052198290808256; Training Loss 0.012287327509131845\n",
      "Episode 329; Testing Loss 0.01205110205963423; Training Loss 0.012286257032211553\n",
      "Episode 330; Testing Loss 0.012049984277574541; Training Loss 0.012285178573063516\n",
      "Episode 331; Testing Loss 0.01204881498733077; Training Loss 0.012284101398380409\n",
      "Episode 332; Testing Loss 0.012047644178479349; Training Loss 0.012283039670838597\n",
      "Episode 333; Testing Loss 0.012046544362918125; Training Loss 0.012281952269206567\n",
      "Episode 334; Testing Loss 0.012045450690541366; Training Loss 0.01228088380300539\n",
      "Episode 335; Testing Loss 0.012044278006869483; Training Loss 0.012279808796081801\n",
      "Episode 336; Testing Loss 0.012043090275063334; Training Loss 0.012278739326420618\n",
      "Episode 337; Testing Loss 0.012041943527936944; Training Loss 0.012277676331015732\n",
      "Episode 338; Testing Loss 0.012040877903980141; Training Loss 0.012276598964008357\n",
      "Episode 339; Testing Loss 0.012039774028061846; Training Loss 0.012275527652581915\n",
      "Episode 340; Testing Loss 0.012038613632419374; Training Loss 0.012274459585122993\n",
      "Episode 341; Testing Loss 0.012037468134595044; Training Loss 0.01227338788873953\n",
      "Episode 342; Testing Loss 0.012036353898488688; Training Loss 0.012272323577505755\n",
      "Episode 343; Testing Loss 0.01203526652100861; Training Loss 0.012271247045273988\n",
      "Episode 344; Testing Loss 0.012034102919914509; Training Loss 0.012270181156196094\n",
      "Episode 345; Testing Loss 0.012032921777074239; Training Loss 0.012269110159131671\n",
      "Episode 346; Testing Loss 0.012031775304143918; Training Loss 0.012268038279732349\n",
      "Episode 347; Testing Loss 0.01203066649246197; Training Loss 0.012266969767082598\n",
      "Episode 348; Testing Loss 0.012029620130330288; Training Loss 0.012265909756158707\n",
      "Episode 349; Testing Loss 0.012028502050372186; Training Loss 0.012264844728129267\n",
      "Episode 350; Testing Loss 0.012027317715542803; Training Loss 0.012263763617821647\n",
      "Episode 351; Testing Loss 0.012026126631043858; Training Loss 0.012262693183282337\n",
      "Episode 352; Testing Loss 0.012024972691030714; Training Loss 0.012261635444253467\n",
      "Episode 353; Testing Loss 0.012023904707130523; Training Loss 0.012260549704164842\n",
      "Episode 354; Testing Loss 0.012022812041067593; Training Loss 0.012259490050420301\n",
      "Episode 355; Testing Loss 0.012021628932157658; Training Loss 0.012258412013008075\n",
      "Episode 356; Testing Loss 0.012020428641296871; Training Loss 0.012257350158179189\n",
      "Episode 357; Testing Loss 0.012019292446265399; Training Loss 0.012256276688603006\n",
      "Episode 358; Testing Loss 0.012018225796862058; Training Loss 0.012255209352843138\n",
      "Episode 359; Testing Loss 0.012017169913955822; Training Loss 0.012254142949386343\n",
      "Episode 360; Testing Loss 0.012015989598940957; Training Loss 0.012253078453055545\n",
      "Episode 361; Testing Loss 0.012014784913845911; Training Loss 0.012252009264510078\n",
      "Episode 362; Testing Loss 0.012013627373689445; Training Loss 0.012250928493688073\n",
      "Episode 363; Testing Loss 0.012012513358139453; Training Loss 0.0122498671283298\n",
      "Episode 364; Testing Loss 0.01201143204072504; Training Loss 0.012248793225210086\n",
      "Episode 365; Testing Loss 0.012010304525105766; Training Loss 0.01224772825599214\n",
      "Episode 366; Testing Loss 0.012009133007043654; Training Loss 0.012246653152369122\n",
      "Episode 367; Testing Loss 0.012007975237013274; Training Loss 0.012245593296275718\n",
      "Episode 368; Testing Loss 0.012006830528208159; Training Loss 0.012244526357371062\n",
      "Episode 369; Testing Loss 0.012005760001148745; Training Loss 0.012243465057966073\n",
      "Episode 370; Testing Loss 0.01200464719896086; Training Loss 0.01224240263121768\n",
      "Episode 371; Testing Loss 0.012003481366417707; Training Loss 0.012241325359970476\n",
      "Episode 372; Testing Loss 0.012002340984033855; Training Loss 0.012240272850981686\n",
      "Episode 373; Testing Loss 0.012001171158037447; Training Loss 0.012239201114117589\n",
      "Episode 374; Testing Loss 0.012000062616470774; Training Loss 0.012238127143266829\n",
      "Episode 375; Testing Loss 0.011998997122228433; Training Loss 0.012237074493440124\n",
      "Episode 376; Testing Loss 0.011997890774110771; Training Loss 0.012235996776157108\n",
      "Episode 377; Testing Loss 0.011996733942049129; Training Loss 0.012234923639740472\n",
      "Episode 378; Testing Loss 0.01199555662234994; Training Loss 0.012233868317996102\n",
      "Episode 379; Testing Loss 0.011994419811550519; Training Loss 0.012232795528402734\n",
      "Episode 380; Testing Loss 0.011993344075009259; Training Loss 0.012231736049468313\n",
      "Episode 381; Testing Loss 0.011992257661418936; Training Loss 0.012230669382054008\n",
      "Episode 382; Testing Loss 0.011991092686090426; Training Loss 0.012229597333377466\n",
      "Episode 383; Testing Loss 0.011989896417999956; Training Loss 0.012228529230228479\n",
      "Episode 384; Testing Loss 0.011988757851547887; Training Loss 0.01222747271933371\n",
      "Episode 385; Testing Loss 0.01198774929725098; Training Loss 0.01222640925863092\n",
      "Episode 386; Testing Loss 0.011986698077427334; Training Loss 0.012225347620773952\n",
      "Episode 387; Testing Loss 0.011985549259924042; Training Loss 0.012224285733775476\n",
      "Episode 388; Testing Loss 0.011984312318438117; Training Loss 0.012223210085379004\n",
      "Episode 389; Testing Loss 0.01198311378681312; Training Loss 0.012222164343926803\n",
      "Episode 390; Testing Loss 0.011982007729447861; Training Loss 0.01222108655465474\n",
      "Episode 391; Testing Loss 0.01198100679757814; Training Loss 0.012220018079138752\n",
      "Episode 392; Testing Loss 0.011979943151958682; Training Loss 0.012218977297932412\n",
      "Episode 393; Testing Loss 0.011978693566378333; Training Loss 0.012217888281100308\n",
      "Episode 394; Testing Loss 0.011977496337124392; Training Loss 0.012216836416243214\n",
      "Episode 395; Testing Loss 0.011976383827225275; Training Loss 0.012215770001879211\n",
      "Episode 396; Testing Loss 0.011975336021733153; Training Loss 0.012214700192298034\n",
      "Episode 397; Testing Loss 0.011974249818197877; Training Loss 0.012213639922648768\n",
      "Episode 398; Testing Loss 0.011973062569380211; Training Loss 0.0122125791428178\n",
      "Episode 399; Testing Loss 0.011971878242622799; Training Loss 0.012211521485626478\n",
      "Episode 400; Testing Loss 0.011970751232182919; Training Loss 0.012210450490851482\n"
     ]
    },
    {
     "name": "stdout",
     "output_type": "stream",
     "text": [
      "Episode 401; Testing Loss 0.011969696287061701; Training Loss 0.012209393051814982\n",
      "Episode 402; Testing Loss 0.011968614657303313; Training Loss 0.012208325649988031\n",
      "Episode 403; Testing Loss 0.011967478641619317; Training Loss 0.012207271158683655\n",
      "Episode 404; Testing Loss 0.011966288484190303; Training Loss 0.012206206060628349\n",
      "Episode 405; Testing Loss 0.011965116279400412; Training Loss 0.01220514095624155\n",
      "Episode 406; Testing Loss 0.011963985729171745; Training Loss 0.012204076988258978\n",
      "Episode 407; Testing Loss 0.011962897573704407; Training Loss 0.01220301426551638\n",
      "Episode 408; Testing Loss 0.011961813558138766; Training Loss 0.012201956796020251\n",
      "Episode 409; Testing Loss 0.01196071753907759; Training Loss 0.012200891946404068\n",
      "Episode 410; Testing Loss 0.011959584989014406; Training Loss 0.012199828173176745\n",
      "Episode 411; Testing Loss 0.011958409077044412; Training Loss 0.01219876820718532\n",
      "Episode 412; Testing Loss 0.011957230894861382; Training Loss 0.01219771141506642\n",
      "Episode 413; Testing Loss 0.011956122079340404; Training Loss 0.012196647481405871\n",
      "Episode 414; Testing Loss 0.011955043310972004; Training Loss 0.01219558580809472\n",
      "Episode 415; Testing Loss 0.011953911101189141; Training Loss 0.012194534381879039\n",
      "Episode 416; Testing Loss 0.011952684993554815; Training Loss 0.012193463151465519\n",
      "Episode 417; Testing Loss 0.011951538409455018; Training Loss 0.012192411027709944\n",
      "Episode 418; Testing Loss 0.011950516111997456; Training Loss 0.012191343599177408\n",
      "Episode 419; Testing Loss 0.011949477072993493; Training Loss 0.012190290800036613\n",
      "Episode 420; Testing Loss 0.01194832764694182; Training Loss 0.012189230689172091\n",
      "Episode 421; Testing Loss 0.011947076565623493; Training Loss 0.012188163993660852\n",
      "Episode 422; Testing Loss 0.011945887804728073; Training Loss 0.012187112155594714\n",
      "Episode 423; Testing Loss 0.011944793945165904; Training Loss 0.012186044813320765\n",
      "Episode 424; Testing Loss 0.011943755308042103; Training Loss 0.01218499721748693\n",
      "Episode 425; Testing Loss 0.011942627450418776; Training Loss 0.012183922562084913\n",
      "Episode 426; Testing Loss 0.011941461216563764; Training Loss 0.012182866312951042\n",
      "Episode 427; Testing Loss 0.011940320127367175; Training Loss 0.012181810887001543\n",
      "Episode 428; Testing Loss 0.011939213776570087; Training Loss 0.012180745663689067\n",
      "Episode 429; Testing Loss 0.011938122943163708; Training Loss 0.012179686058428993\n",
      "Episode 430; Testing Loss 0.011936968896387682; Training Loss 0.012178622108615337\n",
      "Episode 431; Testing Loss 0.01193581322885095; Training Loss 0.012177567960080005\n",
      "Episode 432; Testing Loss 0.011934678430967894; Training Loss 0.01217650418103863\n",
      "Episode 433; Testing Loss 0.011933567742807594; Training Loss 0.012175440571937384\n",
      "Episode 434; Testing Loss 0.0119324558119545; Training Loss 0.012174387284812613\n",
      "Episode 435; Testing Loss 0.011931308491060898; Training Loss 0.012173325983528972\n",
      "Episode 436; Testing Loss 0.011930206759727913; Training Loss 0.012172267768147662\n",
      "Episode 437; Testing Loss 0.011929133016128395; Training Loss 0.01217120364824201\n",
      "Episode 438; Testing Loss 0.01192802905703232; Training Loss 0.012170147308468602\n",
      "Episode 439; Testing Loss 0.011926836911487803; Training Loss 0.0121690831272717\n",
      "Episode 440; Testing Loss 0.011925655163406514; Training Loss 0.012168026695887468\n",
      "Episode 441; Testing Loss 0.011924530266399173; Training Loss 0.012166967220417862\n",
      "Episode 442; Testing Loss 0.011923459495172982; Training Loss 0.012165906918546188\n",
      "Episode 443; Testing Loss 0.011922364635508262; Training Loss 0.012164855659463849\n",
      "Episode 444; Testing Loss 0.011921207906376727; Training Loss 0.012163793689661247\n",
      "Episode 445; Testing Loss 0.011920091185056084; Training Loss 0.012162742540976117\n",
      "Episode 446; Testing Loss 0.011918988043489119; Training Loss 0.012161682660107545\n",
      "Episode 447; Testing Loss 0.011917882216095469; Training Loss 0.01216062288117616\n",
      "Episode 448; Testing Loss 0.011916737765028492; Training Loss 0.012159576063405293\n",
      "Episode 449; Testing Loss 0.011915570567679888; Training Loss 0.012158516196129949\n",
      "Episode 450; Testing Loss 0.011914486832968344; Training Loss 0.012157463920288351\n",
      "Episode 451; Testing Loss 0.011913406873193198; Training Loss 0.01215640778874871\n",
      "Episode 452; Testing Loss 0.01191229955740564; Training Loss 0.012155351333990556\n",
      "Episode 453; Testing Loss 0.011911171082345405; Training Loss 0.012154299801277147\n",
      "Episode 454; Testing Loss 0.011910044707594394; Training Loss 0.012153242907397535\n",
      "Episode 455; Testing Loss 0.011908940961168334; Training Loss 0.01215218775525592\n",
      "Episode 456; Testing Loss 0.011907824744896987; Training Loss 0.01215113838369888\n",
      "Episode 457; Testing Loss 0.011906683764484038; Training Loss 0.012150082165536435\n",
      "Episode 458; Testing Loss 0.01190553778797139; Training Loss 0.012149030350150088\n",
      "Episode 459; Testing Loss 0.011904424847271595; Training Loss 0.012147976015197593\n",
      "Episode 460; Testing Loss 0.011903364249863524; Training Loss 0.012146923157848277\n",
      "Episode 461; Testing Loss 0.011902274628690085; Training Loss 0.012145872034396989\n",
      "Episode 462; Testing Loss 0.01190115734811615; Training Loss 0.012144820083046126\n",
      "Episode 463; Testing Loss 0.011899999149540905; Training Loss 0.012143766315270862\n",
      "Episode 464; Testing Loss 0.01189884653356123; Training Loss 0.012142716518210752\n",
      "Episode 465; Testing Loss 0.011897741113996541; Training Loss 0.012141664041089746\n",
      "Episode 466; Testing Loss 0.011896643695105315; Training Loss 0.012140613768841698\n",
      "Episode 467; Testing Loss 0.011895525674576342; Training Loss 0.012139562722378794\n",
      "Episode 468; Testing Loss 0.011894415620808313; Training Loss 0.012138513011951044\n",
      "Episode 469; Testing Loss 0.011893315338492996; Training Loss 0.012137461730050153\n",
      "Episode 470; Testing Loss 0.011892213906643266; Training Loss 0.012136410856448699\n",
      "Episode 471; Testing Loss 0.011891117278581243; Training Loss 0.012135363074387812\n",
      "Episode 472; Testing Loss 0.011889981641921446; Training Loss 0.012134312106666337\n",
      "Episode 473; Testing Loss 0.011888833261904437; Training Loss 0.01213326311017393\n",
      "Episode 474; Testing Loss 0.011887714995753673; Training Loss 0.012132214958608212\n",
      "Episode 475; Testing Loss 0.011886619546074785; Training Loss 0.012131165959496266\n",
      "Episode 476; Testing Loss 0.011885533611718565; Training Loss 0.012130116265770282\n",
      "Episode 477; Testing Loss 0.011884436849570126; Training Loss 0.012129067577377457\n",
      "Episode 478; Testing Loss 0.011883329048734225; Training Loss 0.012128022111849173\n",
      "Episode 479; Testing Loss 0.011882198014884642; Training Loss 0.012126972926947584\n",
      "Episode 480; Testing Loss 0.011881058860295047; Training Loss 0.012125926363519985\n",
      "Episode 481; Testing Loss 0.011879948595616538; Training Loss 0.01212488060445823\n",
      "Episode 482; Testing Loss 0.011878852234971527; Training Loss 0.012123834141313364\n",
      "Episode 483; Testing Loss 0.011877750512707405; Training Loss 0.01212278724480186\n",
      "Episode 484; Testing Loss 0.011876644082250464; Training Loss 0.012121740528290563\n",
      "Episode 485; Testing Loss 0.011875532075461692; Training Loss 0.012120694923856132\n",
      "Episode 486; Testing Loss 0.011874424825247127; Training Loss 0.012119650114970154\n",
      "Episode 487; Testing Loss 0.011873280035592602; Training Loss 0.012118602060637336\n",
      "Episode 488; Testing Loss 0.01187214286299503; Training Loss 0.012117557069369131\n",
      "Episode 489; Testing Loss 0.011871033496131934; Training Loss 0.012116512338275733\n",
      "Episode 490; Testing Loss 0.011869945784542304; Training Loss 0.012115466601773801\n",
      "Episode 491; Testing Loss 0.011868851204669007; Training Loss 0.012114421164157278\n",
      "Episode 492; Testing Loss 0.011867742716561054; Training Loss 0.012113376469521936\n",
      "Episode 493; Testing Loss 0.011866601524958668; Training Loss 0.012112332570500369\n",
      "Episode 494; Testing Loss 0.011865497097473525; Training Loss 0.012111288041275403\n",
      "Episode 495; Testing Loss 0.011864391847081664; Training Loss 0.012110244645708994\n",
      "Episode 496; Testing Loss 0.011863270274309824; Training Loss 0.012109200336188055\n",
      "Episode 497; Testing Loss 0.01186214931609456; Training Loss 0.012108157762740426\n",
      "Episode 498; Testing Loss 0.01186108196325282; Training Loss 0.01210711850491049\n",
      "Episode 499; Testing Loss 0.011859953759934577; Training Loss 0.01210607969082691\n"
     ]
    }
   ],
   "source": [
    "mlp.train(db.i, db.o, epo=500, lr=1e-4)"
   ]
  },
  {
   "cell_type": "code",
   "execution_count": 81,
   "metadata": {},
   "outputs": [
    {
     "data": {
      "image/png": "[encoded data removed]",
      "text/plain": [
       "<Figure size 432x288 with 1 Axes>"
      ]
     },
     "metadata": {
      "needs_background": "light"
     },
     "output_type": "display_data"
    }
   ],
   "source": [
    "fig, ax = plt.subplots(1)\n",
    "ax.plot(mlp.ltrn, \"k-\")\n",
    "ax.plot(mlp.ltst, \"k--\")\n",
    "ax.set_xscale('log')\n",
    "ax.set_yscale('log')\n",
    "plt.show()"
   ]
  },
  {
   "cell_type": "markdown",
   "metadata": {},
   "source": [
    "## Simulating the neural network controller"
   ]
  },
  {
   "cell_type": "code",
   "execution_count": 84,
   "metadata": {},
   "outputs": [
    {
     "data": {
      "image/png": "[encoded data removed]",
      "text/plain": [
       "<Figure size 432x288 with 1 Axes>"
      ]
     },
     "metadata": {
      "needs_background": "light"
     },
     "output_type": "display_data"
    },
    {
     "data": {
      "image/png": "[encoded data removed]",
      "text/plain": [
       "<Figure size 432x288 with 1 Axes>"
      ]
     },
     "metadata": {
      "needs_background": "light"
     },
     "output_type": "display_data"
    }
   ],
   "source": [
    "fig, ax = plt.subplots(1)\n",
    "fig1, ax1 = plt.subplots(1)\n",
    "s0 = np.array([0, 0, np.pi, 0])\n",
    "n = 10\n",
    "for alpha, alphac in zip(np.linspace(0, 1, n), np.linspace(0.2, 0.8, n)):\n",
    "    T = 6.5\n",
    "    tl, sl, ul = seg.propagate_controller(T, s0, mlp.predict, alpha, atol=1e-13, rtol=1e-13)\n",
    "    x = sl[:,0] + np.sin(sl[:,2])\n",
    "    y = np.cos(sl[:,2])\n",
    "    ax.plot(x, y, \"k-\", alpha=alphac)\n",
    "    ax1.plot(tl, ul, \"k-\", alpha=alphac)\n",
    "ax.set_aspect('equal')\n",
    "ax.set_xlabel(r'$f$')\n",
    "ax.set_xlabel(r\"$x + \\sin\\left(\\theta\\right)$\")\n",
    "ax.set_ylabel(r\"$\\cos\\left(\\theta\\right)$\")\n",
    "ax1.set_xlabel(r'$\\tau$')\n",
    "ax1.set_ylabel(r'$u$')\n",
    "plt.show()"
   ]
  },
  {
   "cell_type": "markdown",
   "metadata": {},
   "source": [
    "## Neural network accuracy"
   ]
  },
  {
   "cell_type": "code",
   "execution_count": 88,
   "metadata": {},
   "outputs": [
    {
     "data": {
      "image/png": "[encoded data removed]",
      "text/plain": [
       "<Figure size 432x288 with 2 Axes>"
      ]
     },
     "metadata": {
      "needs_background": "light"
     },
     "output_type": "display_data"
    }
   ],
   "source": [
    "n = 2\n",
    "\n",
    "fig, ax = plt.subplots(n, sharex=True)\n",
    "s = np.array([0, 0, np.pi, 0])\n",
    "il = np.linspace(0, len(sols)-1, n, dtype=int)\n",
    "for i, j in zip(il, range(n)):\n",
    "    \n",
    "    # simulate\n",
    "    z = sols[i][0]\n",
    "    alpha = sols[i][1]\n",
    "    tl, sl, ul = seg.propagate(z[0], s, z[1:], alpha, u=True)\n",
    "    tst = torch.tensor(np.hstack((sl[:, :seg.sdim], np.full((len(sl), 1), alpha))))\n",
    "    tst = mlp(tst).detach().numpy().flatten()\n",
    "    ax[j].plot(tl, ul, \"k--\")\n",
    "    ax[j].plot(tl, tst, \"k-\", alpha=0.5)\n",
    "    ax[j].set_title(r'$\\alpha = {:.0f}$'.format(alpha))\n",
    "    ax[j].set_ylabel(r'$u$')\n",
    "    \n",
    "ax[-1].set_xlabel(r'$\\tau$')\n",
    "ax[-1].legend(['Ground truth', 'Prediction'])\n",
    "    \n",
    "plt.tight_layout()\n",
    "plt.show()\n",
    "fig.savefig('punn.pdf', bbox_inches='tight')"
   ]
  },
  {
   "cell_type": "code",
   "execution_count": 89,
   "metadata": {},
   "outputs": [],
   "source": [
    "import pykep as pk\n"
   ]
  },
  {
   "cell_type": "code",
   "execution_count": 91,
   "metadata": {},
   "outputs": [
    {
     "data": {
      "image/png": "[encoded data removed]",
      "text/latex": [
       "$$0.0$$"
      ],
      "text/plain": [
       "0.0"
      ]
     },
     "execution_count": 91,
     "metadata": {},
     "output_type": "execute_result"
    }
   ],
   "source": [
    "pk.epoch(0).mjd2000"
   ]
  },
  {
   "cell_type": "code",
   "execution_count": 93,
   "metadata": {},
   "outputs": [
    {
     "data": {
      "text/plain": [
       "array([2.27943822e+11, 9.33940989e-02, 3.22832074e-02, 8.64977200e-01,\n",
       "       5.00031283e+00])"
      ]
     },
     "execution_count": 93,
     "metadata": {},
     "output_type": "execute_result"
    }
   ],
   "source": [
    "np.array(pk.planet.jpl_lp('mars').osculating_elements(pk.epoch(0)))[:5]"
   ]
  },
  {
   "cell_type": "code",
   "execution_count": null,
   "metadata": {},
   "outputs": [],
   "source": []
  }
 ],
 "metadata": {
  "kernelspec": {
   "display_name": "Python 3",
   "language": "python",
   "name": "python3"
  },
  "language_info": {
   "codemirror_mode": {
    "name": "ipython",
    "version": 3
   },
   "file_extension": ".py",
   "mimetype": "text/x-python",
   "name": "python",
   "nbconvert_exporter": "python",
   "pygments_lexer": "ipython3",
   "version": "3.6.7"
  }
 },
 "nbformat": 4,
 "nbformat_minor": 2
}
