{
 "cells": [
  {
   "cell_type": "markdown",
   "metadata": {},
   "source": [
    "# Homotopic optimal control of inverted pendulum\n",
    "\n",
    "## Dynamics"
   ]
  },
  {
   "cell_type": "code",
   "execution_count": null,
   "metadata": {},
   "outputs": [],
   "source": [
    "from sympy import *\n",
    "init_printing()"
   ]
  },
  {
   "cell_type": "code",
   "execution_count": null,
   "metadata": {},
   "outputs": [],
   "source": [
    "# state variables\n",
    "x, v, theta, omega = symbols(\"x v \\\\theta, \\\\omega\", real=True)\n",
    "s = Matrix([x, v, theta, omega])\n",
    "s.T"
   ]
  },
  {
   "cell_type": "code",
   "execution_count": null,
   "metadata": {},
   "outputs": [],
   "source": [
    "# control parameter\n",
    "u = symbols('u', real=True)\n",
    "\n",
    "# state equations of motion\n",
    "ds = Matrix([v, u, omega, sin(theta) - u*cos(theta)])\n",
    "ds"
   ]
  },
  {
   "cell_type": "code",
   "execution_count": null,
   "metadata": {},
   "outputs": [],
   "source": [
    "# homotopy parameters\n",
    "alpha, beta = symbols('\\\\alpha \\\\beta', real=True, nonegative=True)\n",
    "\n",
    "# homotopy between effort and time\n",
    "L = alpha + (1-alpha)*abs(u)\n",
    "\n",
    "# homotopy between energy and effort/time\n",
    "L = beta*L + (1-beta)*u**2\n",
    "L.simplify()\n",
    "\n",
    "L = alpha + (1-alpha)*u**2\n",
    "print(latex(L))"
   ]
  },
  {
   "cell_type": "code",
   "execution_count": null,
   "metadata": {},
   "outputs": [],
   "source": [
    "# costate variables\n",
    "l = Matrix(symbols(['\\\\lambda_{' + str(var) + '}' for var in s]), real=True, nonzero=True)\n",
    "l.T"
   ]
  },
  {
   "cell_type": "code",
   "execution_count": null,
   "metadata": {},
   "outputs": [],
   "source": [
    "# Hamiltonian\n",
    "H = l.dot(ds) + L\n",
    "H"
   ]
  },
  {
   "cell_type": "code",
   "execution_count": null,
   "metadata": {},
   "outputs": [],
   "source": [
    "# costate equations of motion\n",
    "dl = -H.diff(s)\n",
    "dl"
   ]
  },
  {
   "cell_type": "code",
   "execution_count": null,
   "metadata": {},
   "outputs": [],
   "source": [
    "# optimal control; note that alpha dissappears\n",
    "# because effort and time optimality are equivalent in this case\n",
    "us = solve(H.diff(u), u)[0]\n",
    "us.simplify()\n",
    "us"
   ]
  },
  {
   "cell_type": "code",
   "execution_count": null,
   "metadata": {},
   "outputs": [],
   "source": [
    "print(latex(us.subs(alpha, 1).args[1]))"
   ]
  },
  {
   "cell_type": "code",
   "execution_count": null,
   "metadata": {},
   "outputs": [],
   "source": [
    "solve(uss.subs(alpha, 0).args[1])"
   ]
  },
  {
   "cell_type": "markdown",
   "metadata": {},
   "source": [
    "## Base trajectory\n",
    "We first solve for a base trajectory, which will subsequently be used to iniate the forthcoming homotopy sequence approach to reaching the difficultly found bang-bang optimal control."
   ]
  },
  {
   "cell_type": "code",
   "execution_count": 1,
   "metadata": {},
   "outputs": [],
   "source": [
    "import sys, numpy as np, matplotlib.pyplot as plt\n",
    "import matplotlib\n",
    "matplotlib.rcParams['pdf.fonttype'] = 42\n",
    "matplotlib.rcParams['ps.fonttype'] = 42\n",
    "sys.path.append('../src/')\n",
    "from pendulum import Pendulum\n",
    "%matplotlib inline\n",
    "from scipy.integrate import simps"
   ]
  },
  {
   "cell_type": "code",
   "execution_count": 110,
   "metadata": {},
   "outputs": [],
   "source": [
    "# instantiate problem\n",
    "seg = Pendulum(1)\n",
    "\n",
    "# solve arguments\n",
    "s0 = [0,0,np.pi,0]\n",
    "alpha = 0\n",
    "Tlb = 4\n",
    "Tub = 10\n",
    "lb = 100\n",
    "seg.bound = True"
   ]
  },
  {
   "cell_type": "code",
   "execution_count": null,
   "metadata": {},
   "outputs": [],
   "source": [
    "# solve\n",
    "zg = None\n",
    "#zg = [10.21795266,  0.19885557,  0.77306339,  0.99997456,  0.83067696]\n",
    "#zg = [6.96209275,  0.33095384,  0.29435989, -1.11307474, -2.53239123]\n",
    "#zg = [7, 0, 0, 0, 0]\n",
    "#zg = [ 6.91966748,  0.27344678, -0.01878282, -1.28774874, -2.15982032]\n",
    "zg = [ 4.93510843, -1.86727568, -9.93748336, -9.55431702,  4.617935  ]\n",
    "#zg = [ 6.40484939,  0.19315055, -0.85643521, -2.52869206, -1.87188246]\n",
    "while True:\n",
    "    #zg = np.hstack(([6], np.random.random(4)))\n",
    "    z, f, feas = seg.solve(s0, alpha, Tlb, Tub, lb, z=zg)\n",
    "    if feas:\n",
    "        break\n",
    "    else:\n",
    "        print('Retry')"
   ]
  },
  {
   "cell_type": "code",
   "execution_count": null,
   "metadata": {},
   "outputs": [],
   "source": [
    "# simulate the solution's resultant trajectory\n",
    "tl, sl, ul = seg.propagate(z[0], s0, z[1:], alpha, atol=1e-12, rtol=1e-12, u=True)"
   ]
  },
  {
   "cell_type": "code",
   "execution_count": null,
   "metadata": {},
   "outputs": [],
   "source": [
    "# plot states and control\n",
    "fig, ax = seg.plot_states(tl, sl, ul)"
   ]
  },
  {
   "cell_type": "code",
   "execution_count": null,
   "metadata": {},
   "outputs": [],
   "source": [
    "# plot geometric trajectory\n",
    "fig, ax = seg.plot_traj(tl, sl)"
   ]
  },
  {
   "cell_type": "code",
   "execution_count": null,
   "metadata": {},
   "outputs": [],
   "source": [
    "seg.ub = max(abs(ul))\n",
    "#seg.ub = 3\n",
    "seg.bound = True\n",
    "#Tub = tl[-1]\n",
    "lb = abs(sl[0, seg.sdim:])\n",
    "#lb = 1000\n",
    "z"
   ]
  },
  {
   "cell_type": "markdown",
   "metadata": {},
   "source": [
    "## Policy homotopy\n",
    "\n",
    "```python\n",
    "zo = None\n",
    "a = 0\n",
    "while a < 1:\n",
    "    z = solve(zo, a)\n",
    "    if succesfull(z):\n",
    "        zo = z\n",
    "        a = increase(a)\n",
    "    else:\n",
    "        a = decrease(a)\n",
    "```\n",
    "\n",
    "## Forward homotopy $\\alpha: 0 \\rightarrow 1$\n",
    "This brings us to a bang-bang policy with an appropriate magnitude, which is realisable from the original quadratic policy."
   ]
  },
  {
   "cell_type": "code",
   "execution_count": 111,
   "metadata": {},
   "outputs": [],
   "source": [
    "#sols = seg.homotopy(s0, alpha, Tlb, Tub, lb, z, 1, step=0.05)\n",
    "sols = np.load(\"ph.npy\")"
   ]
  },
  {
   "cell_type": "code",
   "execution_count": null,
   "metadata": {},
   "outputs": [],
   "source": [
    "sols2 = seg.homotopy(s0, sols[-1][1], Tlb, Tub, 10, sols[-1][0], 1, step=0.01)"
   ]
  },
  {
   "cell_type": "code",
   "execution_count": null,
   "metadata": {},
   "outputs": [],
   "source": [
    "sols[-1]"
   ]
  },
  {
   "cell_type": "code",
   "execution_count": null,
   "metadata": {},
   "outputs": [],
   "source": [
    "#np.save('ph.npy', np.flip(sols, axis=0))"
   ]
  },
  {
   "cell_type": "code",
   "execution_count": 113,
   "metadata": {},
   "outputs": [
    {
     "data": {
      "image/png": "[encoded data removed]",
      "text/plain": [
       "<Figure size 432x288 with 1 Axes>"
      ]
     },
     "metadata": {
      "needs_background": "light"
     },
     "output_type": "display_data"
    },
    {
     "data": {
      "image/png": "[encoded data removed]",
      "text/plain": [
       "<Figure size 432x288 with 1 Axes>"
      ]
     },
     "metadata": {
      "needs_background": "light"
     },
     "output_type": "display_data"
    }
   ],
   "source": [
    "# plot the forward homotopy \n",
    "fig, ax = plt.subplots(1)\n",
    "fig1, ax1 = plt.subplots(1)\n",
    "for i in range(len(sols)):\n",
    "    z = sols[i][0]\n",
    "    a = sols[i][1]\n",
    "    tl, sl, ul = seg.propagate(z[0], s0, z[1:], a, u=True)\n",
    "    x = sl[:,0] + np.sin(sl[:,2])\n",
    "    y = np.cos(sl[:,2])\n",
    "    if a == 0:\n",
    "        ax.plot(x, y, \"k-\", alpha=1, label=r\"$\\alpha=0$\")\n",
    "        ax1.plot(tl, ul, \"k-\", alpha=1, label=r\"$\\alpha=0$\")\n",
    "    elif a >= 0.999:\n",
    "        ax.plot(x, y, \"k--\", alpha=1, label=r\"$\\alpha=1$\")\n",
    "        ax1.plot(tl, ul, \"k--\", alpha=1, label=r\"$\\alpha=1$\")\n",
    "    else:\n",
    "        ax.plot(x, y, \"k-\", alpha=0.05)\n",
    "        ax1.plot(tl, ul, \"k-\", alpha=0.05)\n",
    "ax.set_aspect('equal')\n",
    "ax.legend()\n",
    "ax1.set_xlim(-0.1, 7.1)\n",
    "ax1.set_ylim(-1.1, 1.1)\n",
    "ax.set_xlim(-0.1, 1.6)\n",
    "ax.set_ylim(-1.1, 1.1)\n",
    "ax1.legend()\n",
    "ax.set_xlabel(r\"$x + \\sin\\left(\\theta\\right)$\")\n",
    "ax.set_ylabel(r\"$\\cos\\left(\\theta\\right)$\")\n",
    "ax1.set_xlabel(r'$t$')\n",
    "ax1.set_ylabel(r'$u$')\n",
    "plt.show()\n",
    "fig.savefig(\"phs.pdf\", bbox_inches='tight')\n",
    "fig1.savefig(\"phu.pdf\", bbox_inches='tight')"
   ]
  },
  {
   "cell_type": "code",
   "execution_count": null,
   "metadata": {},
   "outputs": [],
   "source": [
    "sols"
   ]
  },
  {
   "cell_type": "markdown",
   "metadata": {},
   "source": [
    "## Random walks\n",
    "\n",
    "```python\n",
    "T = []\n",
    "so = snom\n",
    "zo = znom\n",
    "while len(T) < N:\n",
    "    s = perturb(so, ds)\n",
    "    z = solve(s, zo)\n",
    "    if succesfull(z):\n",
    "        so = s\n",
    "        zo = z\n",
    "        T.append((so, zo))\n",
    "        ds = increase(ds)\n",
    "    else:\n",
    "        ds = decrease(ds)\n",
    "        \n",
    "```"
   ]
  },
  {
   "cell_type": "code",
   "execution_count": null,
   "metadata": {},
   "outputs": [],
   "source": [
    "# arguments\n",
    "so = s0\n",
    "#zo = sols[0][0]\n",
    "alpha = 0\n",
    "n = 5\n",
    "Tlb = 0\n",
    "Tub = 15\n",
    "lb = 5\n",
    "nw = 10\n",
    "\n",
    "# random walks\n",
    "#T = seg.random_walk_par(so, zo, alpha, n, Tlb, Tub, lb, nw, dsm=0.02, verbose=True)\n",
    "T = np.load('../src/pendulum_rw.npy')"
   ]
  },
  {
   "cell_type": "code",
   "execution_count": null,
   "metadata": {},
   "outputs": [],
   "source": [
    "#np.save('pqdb.npy', T)"
   ]
  },
  {
   "cell_type": "code",
   "execution_count": null,
   "metadata": {},
   "outputs": [],
   "source": [
    "# plot the random walks\n",
    "fig, ax = plt.subplots(1)\n",
    "fig1, ax1 = plt.subplots(1)\n",
    "\n",
    "# for each random walk\n",
    "first = False\n",
    "for t in T:\n",
    "    \n",
    "    # initial state\n",
    "    s0 = t[0]\n",
    "    \n",
    "    # decision vector\n",
    "    z = t[1]\n",
    "    \n",
    "    # simulate trajectory\n",
    "    tl, sll, ul = seg.propagate(z[0], s0, z[1:], alpha, u=True)\n",
    "    \n",
    "    # endpoints\n",
    "    x = sll[:,0] + np.sin(sll[:,2])\n",
    "    y = np.cos(sll[:,2])\n",
    "    \n",
    "    # plot\n",
    "    if first:\n",
    "        ax.plot(x, y, \"k-\", alpha=1, label=\"Nominal\")\n",
    "        ax1.plot(tl, ul, \"k-\", alpha=1, label=\"Nominal\")\n",
    "        first = False\n",
    "    else:\n",
    "        ax.plot(x, y, \"k-\", alpha=0.1)\n",
    "        ax1.plot(tl, ul, \"k-\", alpha=0.1)\n",
    "ax.set_aspect('equal')\n",
    "#ax.legend()\n",
    "#ax1.legend()\n",
    "ax.set_xlabel(r'$f$')\n",
    "ax.set_xlabel(r\"$x + \\sin\\left(\\theta\\right)$\")\n",
    "ax.set_ylabel(r\"$\\cos\\left(\\theta\\right)$\")\n",
    "ax1.set_xlabel(r'$\\tau$')\n",
    "ax1.set_ylabel(r'$u$')\n",
    "plt.show()\n",
    "#fig.savefig('pqdbs.pdf', bbox_inches='tight')\n",
    "#fig1.savefig('pqdbu.pdf', bbox_inches='tight')"
   ]
  },
  {
   "cell_type": "markdown",
   "metadata": {},
   "source": [
    "## Database homotopy"
   ]
  },
  {
   "cell_type": "code",
   "execution_count": 114,
   "metadata": {},
   "outputs": [
    {
     "data": {
      "text/plain": [
       "array([list([0, 0, 3.141592653589793, 0]),\n",
       "       array([ 6.96209275,  0.33095384,  0.29435989, -1.11307474, -2.53239123]),\n",
       "       0], dtype=object)"
      ]
     },
     "execution_count": 114,
     "metadata": {},
     "output_type": "execute_result"
    }
   ],
   "source": [
    "#res = seg.homotopy_db(T, 0, 0, 15, 5, 1, step=0.01)\n",
    "res = np.load('pqhdb.npy')\n",
    "res[0]"
   ]
  },
  {
   "cell_type": "code",
   "execution_count": 116,
   "metadata": {},
   "outputs": [
    {
     "data": {
      "text/plain": [
       "(945, 3)"
      ]
     },
     "execution_count": 116,
     "metadata": {},
     "output_type": "execute_result"
    }
   ],
   "source": [
    "res.shape"
   ]
  },
  {
   "cell_type": "code",
   "execution_count": 115,
   "metadata": {},
   "outputs": [
    {
     "data": {
      "image/png": "[encoded data removed]",
      "text/plain": [
       "<Figure size 432x288 with 1 Axes>"
      ]
     },
     "metadata": {
      "needs_background": "light"
     },
     "output_type": "display_data"
    },
    {
     "data": {
      "image/png": "[encoded data removed]",
      "text/plain": [
       "<Figure size 432x288 with 1 Axes>"
      ]
     },
     "metadata": {
      "needs_background": "light"
     },
     "output_type": "display_data"
    }
   ],
   "source": [
    "fig, ax = plt.subplots(1)\n",
    "fig1, ax1 = plt.subplots(1)\n",
    "seg.bound = True\n",
    "seg.ub = 1\n",
    "\n",
    "for r in res[:105]:\n",
    "    \n",
    "    # initial state\n",
    "    s0 = r[0]\n",
    "    \n",
    "    # decision vector\n",
    "    z = r[1]\n",
    "    \n",
    "    # homotopy parameter\n",
    "    alpha = r[2]\n",
    "    \n",
    "    # simulate trajectory\n",
    "    tl, sll, ul = seg.propagate(z[0], s0, z[1:], alpha, u=True)\n",
    "    \n",
    "    # endpoints\n",
    "    x = sll[:,0] + np.sin(sll[:,2])\n",
    "    y = np.cos(sll[:,2])\n",
    "    \n",
    "    # plot\n",
    "    if alpha > 1.2:\n",
    "        ax.plot(x, y, \"k--\", alpha=1)\n",
    "        ax1.plot(tl, ul, \"k--\", alpha=1)\n",
    "    else:\n",
    "        ax.plot(x, y, \"k-\", alpha=0.01)\n",
    "        ax1.plot(tl, ul, \"k-\", alpha=0.01)\n",
    "ax.set_aspect('equal')\n",
    "    \n",
    "plt.show()    \n",
    "fig1.savefig('phdbu.pdf')"
   ]
  },
  {
   "cell_type": "code",
   "execution_count": null,
   "metadata": {},
   "outputs": [],
   "source": [
    "res[:105]"
   ]
  },
  {
   "cell_type": "markdown",
   "metadata": {},
   "source": [
    "## Training a neural network"
   ]
  },
  {
   "cell_type": "code",
   "execution_count": 94,
   "metadata": {},
   "outputs": [],
   "source": [
    "from ann import *\n",
    "import cloudpickle as cp\n",
    "from matplotlib.ticker import FormatStrFormatter"
   ]
  },
  {
   "cell_type": "code",
   "execution_count": null,
   "metadata": {},
   "outputs": [],
   "source": [
    "np.save(\"\")"
   ]
  },
  {
   "cell_type": "code",
   "execution_count": 117,
   "metadata": {},
   "outputs": [
    {
     "data": {
      "text/plain": [
       "(577480, 6)"
      ]
     },
     "execution_count": 117,
     "metadata": {},
     "output_type": "execute_result"
    }
   ],
   "source": [
    "# generate the databases\n",
    "#data = seg.gen_db(res[:105], cat=True)\n",
    "data = np.load('pqhanndb.npy')\n",
    "data.shape"
   ]
  },
  {
   "cell_type": "code",
   "execution_count": 98,
   "metadata": {},
   "outputs": [],
   "source": [
    "np.random.shuffle(data)"
   ]
  },
  {
   "cell_type": "code",
   "execution_count": null,
   "metadata": {},
   "outputs": [],
   "source": [
    "np.save(\"../src/data/pdata.npy\", data[:20000, :])"
   ]
  },
  {
   "cell_type": "code",
   "execution_count": null,
   "metadata": {},
   "outputs": [],
   "source": [
    "# save the database\n",
    "np.save('pqhanndb.npy', data)"
   ]
  },
  {
   "cell_type": "code",
   "execution_count": 102,
   "metadata": {},
   "outputs": [],
   "source": [
    "# format the data for the ann\n",
    "db = Data(data, [0, 1, 2, 3, 4], [5])"
   ]
  },
  {
   "cell_type": "code",
   "execution_count": 100,
   "metadata": {},
   "outputs": [],
   "source": [
    "# instantiate the neural network\n",
    "mlp = Pendulum_Controller([5, 100, 100, 100, 100, 1])"
   ]
  },
  {
   "cell_type": "code",
   "execution_count": null,
   "metadata": {},
   "outputs": [],
   "source": [
    "pnets = cp.load(open(\"../src/pendulum_nets.p\", \"rb\"))"
   ]
  },
  {
   "cell_type": "code",
   "execution_count": 104,
   "metadata": {},
   "outputs": [
    {
     "name": "stdout",
     "output_type": "stream",
     "text": [
      "ANN [5, 100, 100, 100, 100, 1]; Episode 0; Testing Loss 0.005506663482258646; Training Loss 0.022065731807553033\n",
      "ANN [5, 100, 100, 100, 100, 1]; Episode 1; Testing Loss 0.037175091175800784; Training Loss 0.16504182252788008\n",
      "ANN [5, 100, 100, 100, 100, 1]; Episode 2; Testing Loss 0.174996328403007; Training Loss 0.14898841550423594\n",
      "ANN [5, 100, 100, 100, 100, 1]; Episode 3; Testing Loss 0.16555218347869796; Training Loss 0.1405634904916544\n",
      "ANN [5, 100, 100, 100, 100, 1]; Episode 4; Testing Loss 0.07583505731984606; Training Loss 0.09339146989600708\n",
      "ANN [5, 100, 100, 100, 100, 1]; Episode 5; Testing Loss 0.02425533120079919; Training Loss 0.07457623207987368\n",
      "ANN [5, 100, 100, 100, 100, 1]; Episode 6; Testing Loss 0.028958498252897463; Training Loss 0.08118448777316238\n",
      "ANN [5, 100, 100, 100, 100, 1]; Episode 7; Testing Loss 0.05286554509931908; Training Loss 0.09711491573704426\n",
      "ANN [5, 100, 100, 100, 100, 1]; Episode 8; Testing Loss 0.05277903010149262; Training Loss 0.09850630910933865\n",
      "ANN [5, 100, 100, 100, 100, 1]; Episode 9; Testing Loss 0.03240436155763231; Training Loss 0.08905301867892233\n",
      "ANN [5, 100, 100, 100, 100, 1]; Episode 10; Testing Loss 0.01769757910421336; Training Loss 0.08249004430061513\n",
      "ANN [5, 100, 100, 100, 100, 1]; Episode 11; Testing Loss 0.015311802246882283; Training Loss 0.0780041532659537\n",
      "ANN [5, 100, 100, 100, 100, 1]; Episode 12; Testing Loss 0.018387561762800465; Training Loss 0.06933331533369369\n",
      "ANN [5, 100, 100, 100, 100, 1]; Episode 13; Testing Loss 0.01884505313930219; Training Loss 0.05615632798378592\n",
      "ANN [5, 100, 100, 100, 100, 1]; Episode 14; Testing Loss 0.015139651359517092; Training Loss 0.052366720585996895\n",
      "ANN [5, 100, 100, 100, 100, 1]; Episode 15; Testing Loss 0.010918797743679307; Training Loss 0.05251011979763758\n",
      "ANN [5, 100, 100, 100, 100, 1]; Episode 16; Testing Loss 0.008327620628253507; Training Loss 0.052723450597501484\n",
      "ANN [5, 100, 100, 100, 100, 1]; Episode 17; Testing Loss 0.009067662932774145; Training Loss 0.05030543016102145\n",
      "ANN [5, 100, 100, 100, 100, 1]; Episode 18; Testing Loss 0.01332531984744446; Training Loss 0.04540229147839889\n",
      "ANN [5, 100, 100, 100, 100, 1]; Episode 19; Testing Loss 0.017977989827908446; Training Loss 0.044114757658532656\n",
      "ANN [5, 100, 100, 100, 100, 1]; Episode 20; Testing Loss 0.015551659959051695; Training Loss 0.044053016247913565\n",
      "ANN [5, 100, 100, 100, 100, 1]; Episode 21; Testing Loss 0.0071600782195636705; Training Loss 0.03871840562151128\n",
      "ANN [5, 100, 100, 100, 100, 1]; Episode 22; Testing Loss 0.005903449767169862; Training Loss 0.03839584198705046\n",
      "ANN [5, 100, 100, 100, 100, 1]; Episode 23; Testing Loss 0.011485471976342367; Training Loss 0.042718219480951475\n",
      "ANN [5, 100, 100, 100, 100, 1]; Episode 24; Testing Loss 0.011123827481459975; Training Loss 0.04015840475087497\n",
      "ANN [5, 100, 100, 100, 100, 1]; Episode 25; Testing Loss 0.009334210655651093; Training Loss 0.03628421771254045\n",
      "ANN [5, 100, 100, 100, 100, 1]; Episode 26; Testing Loss 0.009152061343515408; Training Loss 0.03422724715498874\n",
      "ANN [5, 100, 100, 100, 100, 1]; Episode 27; Testing Loss 0.008893895326375599; Training Loss 0.03017991338249779\n",
      "ANN [5, 100, 100, 100, 100, 1]; Episode 28; Testing Loss 0.00873109503172034; Training Loss 0.03361281645719392\n",
      "ANN [5, 100, 100, 100, 100, 1]; Episode 29; Testing Loss 0.008094150889307726; Training Loss 0.03585801202482916\n",
      "ANN [5, 100, 100, 100, 100, 1]; Episode 30; Testing Loss 0.007482653514991453; Training Loss 0.03382279468460751\n",
      "ANN [5, 100, 100, 100, 100, 1]; Episode 31; Testing Loss 0.007464577905252491; Training Loss 0.031255868335222065\n",
      "ANN [5, 100, 100, 100, 100, 1]; Episode 32; Testing Loss 0.007901758684762495; Training Loss 0.032322462968636015\n",
      "ANN [5, 100, 100, 100, 100, 1]; Episode 33; Testing Loss 0.008642175115388305; Training Loss 0.029973676914375677\n",
      "ANN [5, 100, 100, 100, 100, 1]; Episode 34; Testing Loss 0.009813391910228064; Training Loss 0.03214489777535775\n",
      "ANN [5, 100, 100, 100, 100, 1]; Episode 35; Testing Loss 0.009647803442011995; Training Loss 0.03161471733927244\n",
      "ANN [5, 100, 100, 100, 100, 1]; Episode 36; Testing Loss 0.008818295471626688; Training Loss 0.029344047501844512\n",
      "ANN [5, 100, 100, 100, 100, 1]; Episode 37; Testing Loss 0.008644506263858877; Training Loss 0.03024305135214441\n",
      "ANN [5, 100, 100, 100, 100, 1]; Episode 38; Testing Loss 0.008587440224525917; Training Loss 0.02894509028517796\n",
      "ANN [5, 100, 100, 100, 100, 1]; Episode 39; Testing Loss 0.009509608014450666; Training Loss 0.02984564793324924\n",
      "ANN [5, 100, 100, 100, 100, 1]; Episode 40; Testing Loss 0.010437921844112049; Training Loss 0.03037618352397024\n",
      "ANN [5, 100, 100, 100, 100, 1]; Episode 41; Testing Loss 0.010789886811871218; Training Loss 0.02877508913599525\n",
      "ANN [5, 100, 100, 100, 100, 1]; Episode 42; Testing Loss 0.011566363788866451; Training Loss 0.029586420053795297\n",
      "ANN [5, 100, 100, 100, 100, 1]; Episode 43; Testing Loss 0.013116220763277012; Training Loss 0.02780841136104617\n",
      "ANN [5, 100, 100, 100, 100, 1]; Episode 44; Testing Loss 0.015546049643221028; Training Loss 0.028655448961399856\n",
      "ANN [5, 100, 100, 100, 100, 1]; Episode 45; Testing Loss 0.016214722788838707; Training Loss 0.027738916464959937\n",
      "ANN [5, 100, 100, 100, 100, 1]; Episode 46; Testing Loss 0.015508824900762792; Training Loss 0.02892153248401582\n",
      "ANN [5, 100, 100, 100, 100, 1]; Episode 47; Testing Loss 0.015056048051809873; Training Loss 0.027817278338835325\n",
      "ANN [5, 100, 100, 100, 100, 1]; Episode 48; Testing Loss 0.01378169822002855; Training Loss 0.027874692663892597\n",
      "ANN [5, 100, 100, 100, 100, 1]; Episode 49; Testing Loss 0.012264427765373013; Training Loss 0.027502101610263143\n",
      "ANN [5, 100, 100, 100, 100, 1]; Episode 50; Testing Loss 0.011522428509603829; Training Loss 0.026690562354601675\n",
      "ANN [5, 100, 100, 100, 100, 1]; Episode 51; Testing Loss 0.01064977403728895; Training Loss 0.026636869557107017\n",
      "ANN [5, 100, 100, 100, 100, 1]; Episode 52; Testing Loss 0.009600484193697145; Training Loss 0.02667678734650099\n",
      "ANN [5, 100, 100, 100, 100, 1]; Episode 53; Testing Loss 0.009141391997687839; Training Loss 0.02631148901499216\n",
      "ANN [5, 100, 100, 100, 100, 1]; Episode 54; Testing Loss 0.008988852787999931; Training Loss 0.026186649759284142\n",
      "ANN [5, 100, 100, 100, 100, 1]; Episode 55; Testing Loss 0.00881548476690336; Training Loss 0.025890744845240794\n",
      "ANN [5, 100, 100, 100, 100, 1]; Episode 56; Testing Loss 0.008642903452359027; Training Loss 0.02552177102160118\n",
      "ANN [5, 100, 100, 100, 100, 1]; Episode 57; Testing Loss 0.00829359928701863; Training Loss 0.025534010151330385\n",
      "ANN [5, 100, 100, 100, 100, 1]; Episode 58; Testing Loss 0.007989382884404404; Training Loss 0.025721386501962745\n",
      "ANN [5, 100, 100, 100, 100, 1]; Episode 59; Testing Loss 0.008075008021214674; Training Loss 0.026561754508306442\n",
      "ANN [5, 100, 100, 100, 100, 1]; Episode 60; Testing Loss 0.007586308557660968; Training Loss 0.028423546289098472\n",
      "ANN [5, 100, 100, 100, 100, 1]; Episode 61; Testing Loss 0.007749745181350437; Training Loss 0.030452464275632408\n",
      "ANN [5, 100, 100, 100, 100, 1]; Episode 62; Testing Loss 0.006782757534912103; Training Loss 0.025524782955992007\n",
      "ANN [5, 100, 100, 100, 100, 1]; Episode 63; Testing Loss 0.0072596066367409725; Training Loss 0.03086054390612884\n",
      "ANN [5, 100, 100, 100, 100, 1]; Episode 64; Testing Loss 0.0071165027615164925; Training Loss 0.02823124771938534\n",
      "ANN [5, 100, 100, 100, 100, 1]; Episode 65; Testing Loss 0.0069715295734531614; Training Loss 0.02784640081199575\n",
      "ANN [5, 100, 100, 100, 100, 1]; Episode 66; Testing Loss 0.0073403195806513236; Training Loss 0.02804283244553367\n",
      "ANN [5, 100, 100, 100, 100, 1]; Episode 67; Testing Loss 0.0071246612673311425; Training Loss 0.02781994658706261\n",
      "ANN [5, 100, 100, 100, 100, 1]; Episode 68; Testing Loss 0.006309951457824514; Training Loss 0.027229612545349686\n",
      "ANN [5, 100, 100, 100, 100, 1]; Episode 69; Testing Loss 0.006088621478913374; Training Loss 0.027178265189432994\n",
      "ANN [5, 100, 100, 100, 100, 1]; Episode 70; Testing Loss 0.006324863755988666; Training Loss 0.0265845459300319\n",
      "ANN [5, 100, 100, 100, 100, 1]; Episode 71; Testing Loss 0.006217623682245012; Training Loss 0.025568640165436564\n",
      "ANN [5, 100, 100, 100, 100, 1]; Episode 72; Testing Loss 0.00631517346535238; Training Loss 0.027691030654974687\n",
      "ANN [5, 100, 100, 100, 100, 1]; Episode 73; Testing Loss 0.00671432618703941; Training Loss 0.025253395623058575\n",
      "ANN [5, 100, 100, 100, 100, 1]; Episode 74; Testing Loss 0.007538127717678614; Training Loss 0.024895917458997777\n"
     ]
    },
    {
     "name": "stdout",
     "output_type": "stream",
     "text": [
      "ANN [5, 100, 100, 100, 100, 1]; Episode 75; Testing Loss 0.00826810812106924; Training Loss 0.026127170961100718\n",
      "ANN [5, 100, 100, 100, 100, 1]; Episode 76; Testing Loss 0.007731755998779795; Training Loss 0.025812827776235964\n",
      "ANN [5, 100, 100, 100, 100, 1]; Episode 77; Testing Loss 0.007730019842635341; Training Loss 0.024831351676941168\n",
      "ANN [5, 100, 100, 100, 100, 1]; Episode 78; Testing Loss 0.007608203423467119; Training Loss 0.024702305933481487\n",
      "ANN [5, 100, 100, 100, 100, 1]; Episode 79; Testing Loss 0.007275638340269152; Training Loss 0.02546145942517061\n",
      "ANN [5, 100, 100, 100, 100, 1]; Episode 80; Testing Loss 0.00691421932772601; Training Loss 0.025736806858902162\n",
      "ANN [5, 100, 100, 100, 100, 1]; Episode 81; Testing Loss 0.006318143313474347; Training Loss 0.02458330526737425\n",
      "ANN [5, 100, 100, 100, 100, 1]; Episode 82; Testing Loss 0.006221087920888615; Training Loss 0.024642039566069102\n",
      "ANN [5, 100, 100, 100, 100, 1]; Episode 83; Testing Loss 0.006450654173813663; Training Loss 0.02616492890757199\n",
      "ANN [5, 100, 100, 100, 100, 1]; Episode 84; Testing Loss 0.006794347261650747; Training Loss 0.026350961879180013\n",
      "ANN [5, 100, 100, 100, 100, 1]; Episode 85; Testing Loss 0.006364390353568233; Training Loss 0.025907247770613238\n",
      "ANN [5, 100, 100, 100, 100, 1]; Episode 86; Testing Loss 0.00642686366556351; Training Loss 0.024494783866985944\n",
      "ANN [5, 100, 100, 100, 100, 1]; Episode 87; Testing Loss 0.007024042949829212; Training Loss 0.025453738055883364\n",
      "ANN [5, 100, 100, 100, 100, 1]; Episode 88; Testing Loss 0.0072850941334809734; Training Loss 0.026466105429748102\n",
      "ANN [5, 100, 100, 100, 100, 1]; Episode 89; Testing Loss 0.006991867203429156; Training Loss 0.02423933705149613\n",
      "ANN [5, 100, 100, 100, 100, 1]; Episode 90; Testing Loss 0.006549073500846099; Training Loss 0.024292698798965506\n",
      "ANN [5, 100, 100, 100, 100, 1]; Episode 91; Testing Loss 0.006434533594977363; Training Loss 0.026300497129469212\n",
      "ANN [5, 100, 100, 100, 100, 1]; Episode 92; Testing Loss 0.006310462059914801; Training Loss 0.027075202475186765\n",
      "ANN [5, 100, 100, 100, 100, 1]; Episode 93; Testing Loss 0.006325041833537402; Training Loss 0.02718443377382006\n",
      "ANN [5, 100, 100, 100, 100, 1]; Episode 94; Testing Loss 0.005887313003227331; Training Loss 0.0242821324703777\n",
      "ANN [5, 100, 100, 100, 100, 1]; Episode 95; Testing Loss 0.006398737658343656; Training Loss 0.025551038196245452\n",
      "ANN [5, 100, 100, 100, 100, 1]; Episode 96; Testing Loss 0.006724316227117388; Training Loss 0.026539050815736393\n",
      "ANN [5, 100, 100, 100, 100, 1]; Episode 97; Testing Loss 0.006554249739824674; Training Loss 0.024113438009038583\n",
      "ANN [5, 100, 100, 100, 100, 1]; Episode 98; Testing Loss 0.006325279272151374; Training Loss 0.02564855466211075\n",
      "ANN [5, 100, 100, 100, 100, 1]; Episode 99; Testing Loss 0.006197824119041932; Training Loss 0.02472356469637082\n",
      "ANN [5, 100, 100, 100, 100, 1]; Episode 100; Testing Loss 0.006354151619938571; Training Loss 0.023817175751942764\n",
      "ANN [5, 100, 100, 100, 100, 1]; Episode 101; Testing Loss 0.006522648831017945; Training Loss 0.02579889959460742\n",
      "ANN [5, 100, 100, 100, 100, 1]; Episode 102; Testing Loss 0.006565514883891654; Training Loss 0.02838264165296423\n",
      "ANN [5, 100, 100, 100, 100, 1]; Episode 103; Testing Loss 0.006306171943716694; Training Loss 0.02423597364529769\n",
      "ANN [5, 100, 100, 100, 100, 1]; Episode 104; Testing Loss 0.0064601650117760935; Training Loss 0.026989454745717855\n",
      "ANN [5, 100, 100, 100, 100, 1]; Episode 105; Testing Loss 0.006898334176428812; Training Loss 0.026597559923698225\n",
      "ANN [5, 100, 100, 100, 100, 1]; Episode 106; Testing Loss 0.006556668986273448; Training Loss 0.024947003322978334\n",
      "ANN [5, 100, 100, 100, 100, 1]; Episode 107; Testing Loss 0.006778196883203598; Training Loss 0.027449127722635032\n",
      "ANN [5, 100, 100, 100, 100, 1]; Episode 108; Testing Loss 0.006305872882870227; Training Loss 0.024467096557579997\n",
      "ANN [5, 100, 100, 100, 100, 1]; Episode 109; Testing Loss 0.006172134299990306; Training Loss 0.027374574549373882\n",
      "ANN [5, 100, 100, 100, 100, 1]; Episode 110; Testing Loss 0.006031118456929859; Training Loss 0.024761615397962476\n",
      "ANN [5, 100, 100, 100, 100, 1]; Episode 111; Testing Loss 0.005996026185541087; Training Loss 0.025159446343531205\n",
      "ANN [5, 100, 100, 100, 100, 1]; Episode 112; Testing Loss 0.006175922334253977; Training Loss 0.025494717626091037\n",
      "ANN [5, 100, 100, 100, 100, 1]; Episode 113; Testing Loss 0.006517451400911945; Training Loss 0.023971491114822004\n",
      "ANN [5, 100, 100, 100, 100, 1]; Episode 114; Testing Loss 0.007439016821348411; Training Loss 0.025972430904180877\n",
      "ANN [5, 100, 100, 100, 100, 1]; Episode 115; Testing Loss 0.007119719562194289; Training Loss 0.02523551202941667\n",
      "ANN [5, 100, 100, 100, 100, 1]; Episode 116; Testing Loss 0.006644848513257468; Training Loss 0.023776530610388313\n",
      "ANN [5, 100, 100, 100, 100, 1]; Episode 117; Testing Loss 0.006224889067284559; Training Loss 0.025332336223152875\n",
      "ANN [5, 100, 100, 100, 100, 1]; Episode 118; Testing Loss 0.00608765056390357; Training Loss 0.024366001385040664\n",
      "ANN [5, 100, 100, 100, 100, 1]; Episode 119; Testing Loss 0.006161618521260837; Training Loss 0.023337682144283292\n",
      "ANN [5, 100, 100, 100, 100, 1]; Episode 120; Testing Loss 0.006624813655274101; Training Loss 0.025449590867160664\n",
      "ANN [5, 100, 100, 100, 100, 1]; Episode 121; Testing Loss 0.006014643090024184; Training Loss 0.0281977295248128\n",
      "ANN [5, 100, 100, 100, 100, 1]; Episode 122; Testing Loss 0.005527814979242838; Training Loss 0.024436116673479173\n",
      "ANN [5, 100, 100, 100, 100, 1]; Episode 123; Testing Loss 0.0058823837226580815; Training Loss 0.026564108623991594\n",
      "ANN [5, 100, 100, 100, 100, 1]; Episode 124; Testing Loss 0.0064203919934446105; Training Loss 0.024753045477080078\n",
      "ANN [5, 100, 100, 100, 100, 1]; Episode 125; Testing Loss 0.0068466269049824585; Training Loss 0.024993990603172034\n",
      "ANN [5, 100, 100, 100, 100, 1]; Episode 126; Testing Loss 0.007078707038069644; Training Loss 0.0261695889394747\n",
      "ANN [5, 100, 100, 100, 100, 1]; Episode 127; Testing Loss 0.0058134879744703395; Training Loss 0.024999177896611467\n",
      "ANN [5, 100, 100, 100, 100, 1]; Episode 128; Testing Loss 0.005771513967576144; Training Loss 0.023963487345322713\n",
      "ANN [5, 100, 100, 100, 100, 1]; Episode 129; Testing Loss 0.006230566976841762; Training Loss 0.02682294032886423\n",
      "ANN [5, 100, 100, 100, 100, 1]; Episode 130; Testing Loss 0.006184155752835209; Training Loss 0.024487772575634018\n",
      "ANN [5, 100, 100, 100, 100, 1]; Episode 131; Testing Loss 0.005983782775174942; Training Loss 0.024024493175072915\n",
      "ANN [5, 100, 100, 100, 100, 1]; Episode 132; Testing Loss 0.006713734395692041; Training Loss 0.0253717064290938\n",
      "ANN [5, 100, 100, 100, 100, 1]; Episode 133; Testing Loss 0.006721341647990852; Training Loss 0.02367685485611583\n",
      "ANN [5, 100, 100, 100, 100, 1]; Episode 134; Testing Loss 0.006192191339110314; Training Loss 0.023689039166510693\n",
      "ANN [5, 100, 100, 100, 100, 1]; Episode 135; Testing Loss 0.005934692398836245; Training Loss 0.02369406795184427\n",
      "ANN [5, 100, 100, 100, 100, 1]; Episode 136; Testing Loss 0.005805828731140333; Training Loss 0.024632656819135016\n",
      "ANN [5, 100, 100, 100, 100, 1]; Episode 137; Testing Loss 0.005778606568110453; Training Loss 0.024775232499836094\n",
      "ANN [5, 100, 100, 100, 100, 1]; Episode 138; Testing Loss 0.0062359394104021275; Training Loss 0.02576368668688964\n",
      "ANN [5, 100, 100, 100, 100, 1]; Episode 139; Testing Loss 0.006300869950028131; Training Loss 0.025091615795029148\n",
      "ANN [5, 100, 100, 100, 100, 1]; Episode 140; Testing Loss 0.0059181251971264755; Training Loss 0.024320372238005563\n",
      "ANN [5, 100, 100, 100, 100, 1]; Episode 141; Testing Loss 0.0059429024677664; Training Loss 0.02419722696202281\n",
      "ANN [5, 100, 100, 100, 100, 1]; Episode 142; Testing Loss 0.00734584434979838; Training Loss 0.024246641243279434\n",
      "ANN [5, 100, 100, 100, 100, 1]; Episode 143; Testing Loss 0.0074230479204798906; Training Loss 0.024069512320415674\n",
      "ANN [5, 100, 100, 100, 100, 1]; Episode 144; Testing Loss 0.006047239563055052; Training Loss 0.024930796723865705\n",
      "ANN [5, 100, 100, 100, 100, 1]; Episode 145; Testing Loss 0.005931066730104491; Training Loss 0.028283764932673996\n",
      "ANN [5, 100, 100, 100, 100, 1]; Episode 146; Testing Loss 0.005493946018849961; Training Loss 0.025031218664676176\n"
     ]
    },
    {
     "name": "stdout",
     "output_type": "stream",
     "text": [
      "ANN [5, 100, 100, 100, 100, 1]; Episode 147; Testing Loss 0.0060036185149571755; Training Loss 0.02484980929712443\n",
      "ANN [5, 100, 100, 100, 100, 1]; Episode 148; Testing Loss 0.0072892958868456936; Training Loss 0.031237701088534523\n",
      "ANN [5, 100, 100, 100, 100, 1]; Episode 149; Testing Loss 0.006590231551001783; Training Loss 0.023504274403774908\n",
      "ANN [5, 100, 100, 100, 100, 1]; Episode 150; Testing Loss 0.005654958945313267; Training Loss 0.028186827061779707\n",
      "ANN [5, 100, 100, 100, 100, 1]; Episode 151; Testing Loss 0.005279973514257947; Training Loss 0.025372406970494137\n",
      "ANN [5, 100, 100, 100, 100, 1]; Episode 152; Testing Loss 0.0056836622323592125; Training Loss 0.02695449739731807\n",
      "ANN [5, 100, 100, 100, 100, 1]; Episode 153; Testing Loss 0.007377999304468005; Training Loss 0.02384531883050003\n",
      "ANN [5, 100, 100, 100, 100, 1]; Episode 154; Testing Loss 0.00804157264265611; Training Loss 0.02789196814560546\n",
      "ANN [5, 100, 100, 100, 100, 1]; Episode 155; Testing Loss 0.005460021711987222; Training Loss 0.028879233091505592\n",
      "ANN [5, 100, 100, 100, 100, 1]; Episode 156; Testing Loss 0.006221317071758884; Training Loss 0.028656019265940493\n",
      "ANN [5, 100, 100, 100, 100, 1]; Episode 157; Testing Loss 0.006527059432113122; Training Loss 0.02605030223572437\n",
      "ANN [5, 100, 100, 100, 100, 1]; Episode 158; Testing Loss 0.007069218144201465; Training Loss 0.026790010429573415\n",
      "ANN [5, 100, 100, 100, 100, 1]; Episode 159; Testing Loss 0.007558480263523733; Training Loss 0.02670006717105754\n",
      "ANN [5, 100, 100, 100, 100, 1]; Episode 160; Testing Loss 0.007366213683394736; Training Loss 0.025918198620908967\n",
      "ANN [5, 100, 100, 100, 100, 1]; Episode 161; Testing Loss 0.007261396103666683; Training Loss 0.026978740757114733\n",
      "ANN [5, 100, 100, 100, 100, 1]; Episode 162; Testing Loss 0.006776080144668043; Training Loss 0.025548044184036365\n",
      "ANN [5, 100, 100, 100, 100, 1]; Episode 163; Testing Loss 0.006190957251372533; Training Loss 0.024361456646891592\n",
      "ANN [5, 100, 100, 100, 100, 1]; Episode 164; Testing Loss 0.00662535667950887; Training Loss 0.026022427584348033\n",
      "ANN [5, 100, 100, 100, 100, 1]; Episode 165; Testing Loss 0.007286384414696145; Training Loss 0.025082232223239836\n",
      "ANN [5, 100, 100, 100, 100, 1]; Episode 166; Testing Loss 0.006747183585702754; Training Loss 0.025260047832314378\n",
      "ANN [5, 100, 100, 100, 100, 1]; Episode 167; Testing Loss 0.0064089553809859425; Training Loss 0.02487098938260129\n",
      "ANN [5, 100, 100, 100, 100, 1]; Episode 168; Testing Loss 0.007002261991863576; Training Loss 0.024165992970846054\n",
      "ANN [5, 100, 100, 100, 100, 1]; Episode 169; Testing Loss 0.0073245118402341354; Training Loss 0.02543182836196106\n",
      "ANN [5, 100, 100, 100, 100, 1]; Episode 170; Testing Loss 0.006779750045456559; Training Loss 0.024447438531329586\n",
      "ANN [5, 100, 100, 100, 100, 1]; Episode 171; Testing Loss 0.005692115068432013; Training Loss 0.02526652718092656\n",
      "ANN [5, 100, 100, 100, 100, 1]; Episode 172; Testing Loss 0.0054104190499313035; Training Loss 0.02369571939252905\n",
      "ANN [5, 100, 100, 100, 100, 1]; Episode 173; Testing Loss 0.005866224366779774; Training Loss 0.02465644010902902\n",
      "ANN [5, 100, 100, 100, 100, 1]; Episode 174; Testing Loss 0.005851098589175427; Training Loss 0.026585285229031558\n",
      "ANN [5, 100, 100, 100, 100, 1]; Episode 175; Testing Loss 0.005205130123825426; Training Loss 0.024295320733989666\n",
      "ANN [5, 100, 100, 100, 100, 1]; Episode 176; Testing Loss 0.005336646659374509; Training Loss 0.02360854111512889\n",
      "ANN [5, 100, 100, 100, 100, 1]; Episode 177; Testing Loss 0.006432561302579613; Training Loss 0.024886275604156946\n",
      "ANN [5, 100, 100, 100, 100, 1]; Episode 178; Testing Loss 0.006973615819932862; Training Loss 0.025270814092474322\n",
      "ANN [5, 100, 100, 100, 100, 1]; Episode 179; Testing Loss 0.00647641919621821; Training Loss 0.02342651307288193\n",
      "ANN [5, 100, 100, 100, 100, 1]; Episode 180; Testing Loss 0.0057565663329907325; Training Loss 0.023554451235348675\n",
      "ANN [5, 100, 100, 100, 100, 1]; Episode 181; Testing Loss 0.005393003684140715; Training Loss 0.02429006972136405\n",
      "ANN [5, 100, 100, 100, 100, 1]; Episode 182; Testing Loss 0.005430415762881889; Training Loss 0.02421322596341101\n",
      "ANN [5, 100, 100, 100, 100, 1]; Episode 183; Testing Loss 0.00502565987696198; Training Loss 0.024440526619520977\n",
      "ANN [5, 100, 100, 100, 100, 1]; Episode 184; Testing Loss 0.004882320646033384; Training Loss 0.02389098347205778\n",
      "ANN [5, 100, 100, 100, 100, 1]; Episode 185; Testing Loss 0.004729064340182579; Training Loss 0.023509262703454797\n",
      "ANN [5, 100, 100, 100, 100, 1]; Episode 186; Testing Loss 0.0053111967654744865; Training Loss 0.02294371400745627\n",
      "ANN [5, 100, 100, 100, 100, 1]; Episode 187; Testing Loss 0.005934417873847693; Training Loss 0.02273108688002938\n",
      "ANN [5, 100, 100, 100, 100, 1]; Episode 188; Testing Loss 0.005964580718288566; Training Loss 0.02268879518043579\n",
      "ANN [5, 100, 100, 100, 100, 1]; Episode 189; Testing Loss 0.005578280132535454; Training Loss 0.022761011178761413\n",
      "ANN [5, 100, 100, 100, 100, 1]; Episode 190; Testing Loss 0.005415571279273797; Training Loss 0.024131193861884732\n",
      "ANN [5, 100, 100, 100, 100, 1]; Episode 191; Testing Loss 0.005220565365733605; Training Loss 0.028591322687410353\n",
      "ANN [5, 100, 100, 100, 100, 1]; Episode 192; Testing Loss 0.005026567498760572; Training Loss 0.026119329148244268\n",
      "ANN [5, 100, 100, 100, 100, 1]; Episode 193; Testing Loss 0.005252083928634037; Training Loss 0.02356015092768435\n",
      "ANN [5, 100, 100, 100, 100, 1]; Episode 194; Testing Loss 0.008498153335207087; Training Loss 0.02577757162606097\n",
      "ANN [5, 100, 100, 100, 100, 1]; Episode 195; Testing Loss 0.007456691178948614; Training Loss 0.0259097163411204\n",
      "ANN [5, 100, 100, 100, 100, 1]; Episode 196; Testing Loss 0.005028058620653203; Training Loss 0.02358282318002451\n",
      "ANN [5, 100, 100, 100, 100, 1]; Episode 197; Testing Loss 0.004894507204158803; Training Loss 0.024343149770726893\n",
      "ANN [5, 100, 100, 100, 100, 1]; Episode 198; Testing Loss 0.005524047954216763; Training Loss 0.024419837745152086\n",
      "ANN [5, 100, 100, 100, 100, 1]; Episode 199; Testing Loss 0.006074591469138123; Training Loss 0.025831889804635428\n",
      "ANN [5, 100, 100, 100, 100, 1]; Episode 200; Testing Loss 0.005945161840348709; Training Loss 0.027144748386961605\n",
      "ANN [5, 100, 100, 100, 100, 1]; Episode 201; Testing Loss 0.005507910105936138; Training Loss 0.024708880416616123\n",
      "ANN [5, 100, 100, 100, 100, 1]; Episode 202; Testing Loss 0.005512408372619622; Training Loss 0.02412706641301362\n",
      "ANN [5, 100, 100, 100, 100, 1]; Episode 203; Testing Loss 0.006252949357558349; Training Loss 0.02543019445773629\n",
      "ANN [5, 100, 100, 100, 100, 1]; Episode 204; Testing Loss 0.006616101393626511; Training Loss 0.023325511125361638\n",
      "ANN [5, 100, 100, 100, 100, 1]; Episode 205; Testing Loss 0.00557375901546685; Training Loss 0.023886424487826866\n",
      "ANN [5, 100, 100, 100, 100, 1]; Episode 206; Testing Loss 0.005029741976003456; Training Loss 0.025362812008495286\n",
      "ANN [5, 100, 100, 100, 100, 1]; Episode 207; Testing Loss 0.005610244903833977; Training Loss 0.024623850537732674\n",
      "ANN [5, 100, 100, 100, 100, 1]; Episode 208; Testing Loss 0.005856527841875988; Training Loss 0.02349200785026018\n",
      "ANN [5, 100, 100, 100, 100, 1]; Episode 209; Testing Loss 0.00636922652993443; Training Loss 0.022924843235247176\n",
      "ANN [5, 100, 100, 100, 100, 1]; Episode 210; Testing Loss 0.007055621948028168; Training Loss 0.02548489620700025\n",
      "ANN [5, 100, 100, 100, 100, 1]; Episode 211; Testing Loss 0.005863903034901753; Training Loss 0.026370991839260827\n",
      "ANN [5, 100, 100, 100, 100, 1]; Episode 212; Testing Loss 0.0055338315050190556; Training Loss 0.02392057272046396\n",
      "ANN [5, 100, 100, 100, 100, 1]; Episode 213; Testing Loss 0.005829839697422896; Training Loss 0.025485157938528638\n",
      "ANN [5, 100, 100, 100, 100, 1]; Episode 214; Testing Loss 0.005878492958807572; Training Loss 0.024134732539246296\n",
      "ANN [5, 100, 100, 100, 100, 1]; Episode 215; Testing Loss 0.00597995918820219; Training Loss 0.023484523077146973\n",
      "ANN [5, 100, 100, 100, 100, 1]; Episode 216; Testing Loss 0.0059683257532866605; Training Loss 0.026066702954452858\n",
      "ANN [5, 100, 100, 100, 100, 1]; Episode 217; Testing Loss 0.004715745692507336; Training Loss 0.02468414749059715\n",
      "ANN [5, 100, 100, 100, 100, 1]; Episode 218; Testing Loss 0.0052637652138092135; Training Loss 0.02323425775661315\n"
     ]
    },
    {
     "name": "stdout",
     "output_type": "stream",
     "text": [
      "ANN [5, 100, 100, 100, 100, 1]; Episode 219; Testing Loss 0.006061557570323358; Training Loss 0.02534082925337903\n",
      "ANN [5, 100, 100, 100, 100, 1]; Episode 220; Testing Loss 0.005828710407299903; Training Loss 0.024603802620952638\n",
      "ANN [5, 100, 100, 100, 100, 1]; Episode 221; Testing Loss 0.005385410357131271; Training Loss 0.024673882757981613\n",
      "ANN [5, 100, 100, 100, 100, 1]; Episode 222; Testing Loss 0.005791551273775205; Training Loss 0.023451407875738736\n",
      "ANN [5, 100, 100, 100, 100, 1]; Episode 223; Testing Loss 0.006349416547454997; Training Loss 0.02535274791115741\n",
      "ANN [5, 100, 100, 100, 100, 1]; Episode 224; Testing Loss 0.005773535103148733; Training Loss 0.024901696368132425\n",
      "ANN [5, 100, 100, 100, 100, 1]; Episode 225; Testing Loss 0.004937664170866638; Training Loss 0.02346322899843067\n",
      "ANN [5, 100, 100, 100, 100, 1]; Episode 226; Testing Loss 0.004748482560103903; Training Loss 0.02407590936324699\n",
      "ANN [5, 100, 100, 100, 100, 1]; Episode 227; Testing Loss 0.005622092494515843; Training Loss 0.023984934161395577\n",
      "ANN [5, 100, 100, 100, 100, 1]; Episode 228; Testing Loss 0.0061382173369309056; Training Loss 0.025520313773975904\n",
      "ANN [5, 100, 100, 100, 100, 1]; Episode 229; Testing Loss 0.005537117280369212; Training Loss 0.023620951502130137\n",
      "ANN [5, 100, 100, 100, 100, 1]; Episode 230; Testing Loss 0.005030575571919815; Training Loss 0.023845925721548405\n",
      "ANN [5, 100, 100, 100, 100, 1]; Episode 231; Testing Loss 0.005406592490803058; Training Loss 0.024615482058182397\n",
      "ANN [5, 100, 100, 100, 100, 1]; Episode 232; Testing Loss 0.005963858594553698; Training Loss 0.023295938599918995\n",
      "ANN [5, 100, 100, 100, 100, 1]; Episode 233; Testing Loss 0.005722728479675299; Training Loss 0.022648677586908247\n",
      "ANN [5, 100, 100, 100, 100, 1]; Episode 234; Testing Loss 0.005171188004290778; Training Loss 0.02302193704215623\n",
      "ANN [5, 100, 100, 100, 100, 1]; Episode 235; Testing Loss 0.00494387386991252; Training Loss 0.025345608581110447\n",
      "ANN [5, 100, 100, 100, 100, 1]; Episode 236; Testing Loss 0.004881198468249734; Training Loss 0.026287192617551424\n",
      "ANN [5, 100, 100, 100, 100, 1]; Episode 237; Testing Loss 0.005102013891946027; Training Loss 0.022986253184277182\n",
      "ANN [5, 100, 100, 100, 100, 1]; Episode 238; Testing Loss 0.006585010482838394; Training Loss 0.02424008981769182\n",
      "ANN [5, 100, 100, 100, 100, 1]; Episode 239; Testing Loss 0.006192484408013357; Training Loss 0.025403137451300014\n",
      "ANN [5, 100, 100, 100, 100, 1]; Episode 240; Testing Loss 0.00526377763993743; Training Loss 0.023483385303693857\n",
      "ANN [5, 100, 100, 100, 100, 1]; Episode 241; Testing Loss 0.0052551979691590305; Training Loss 0.02321443515430693\n",
      "ANN [5, 100, 100, 100, 100, 1]; Episode 242; Testing Loss 0.005672080196848645; Training Loss 0.025797002197606674\n",
      "ANN [5, 100, 100, 100, 100, 1]; Episode 243; Testing Loss 0.005549392260333528; Training Loss 0.027890186207953388\n",
      "ANN [5, 100, 100, 100, 100, 1]; Episode 244; Testing Loss 0.005350246734439375; Training Loss 0.023855324413285247\n",
      "ANN [5, 100, 100, 100, 100, 1]; Episode 245; Testing Loss 0.0050913557113829375; Training Loss 0.023080472908501428\n",
      "ANN [5, 100, 100, 100, 100, 1]; Episode 246; Testing Loss 0.006979986732109017; Training Loss 0.025441744028210336\n",
      "ANN [5, 100, 100, 100, 100, 1]; Episode 247; Testing Loss 0.006522638489358049; Training Loss 0.025178070863374848\n",
      "ANN [5, 100, 100, 100, 100, 1]; Episode 248; Testing Loss 0.005193925422941499; Training Loss 0.02328176733568206\n",
      "ANN [5, 100, 100, 100, 100, 1]; Episode 249; Testing Loss 0.004979652061616227; Training Loss 0.024362014813467506\n",
      "ANN [5, 100, 100, 100, 100, 1]; Episode 250; Testing Loss 0.0053840694389659886; Training Loss 0.02309372605194783\n",
      "ANN [5, 100, 100, 100, 100, 1]; Episode 251; Testing Loss 0.005780347622817284; Training Loss 0.02267743947410029\n",
      "ANN [5, 100, 100, 100, 100, 1]; Episode 252; Testing Loss 0.00549593229119325; Training Loss 0.02345070679891264\n",
      "ANN [5, 100, 100, 100, 100, 1]; Episode 253; Testing Loss 0.005378511542681109; Training Loss 0.02600085119318036\n",
      "ANN [5, 100, 100, 100, 100, 1]; Episode 254; Testing Loss 0.005363163510571677; Training Loss 0.02427813920369803\n",
      "ANN [5, 100, 100, 100, 100, 1]; Episode 255; Testing Loss 0.005503630033112719; Training Loss 0.022659360021122097\n",
      "ANN [5, 100, 100, 100, 100, 1]; Episode 256; Testing Loss 0.006397773767306869; Training Loss 0.024219343477508256\n",
      "ANN [5, 100, 100, 100, 100, 1]; Episode 257; Testing Loss 0.006440329066666042; Training Loss 0.025734725689330055\n",
      "ANN [5, 100, 100, 100, 100, 1]; Episode 258; Testing Loss 0.004889067690451015; Training Loss 0.023721773183100134\n",
      "ANN [5, 100, 100, 100, 100, 1]; Episode 259; Testing Loss 0.004863657747971006; Training Loss 0.023550458373487796\n",
      "ANN [5, 100, 100, 100, 100, 1]; Episode 260; Testing Loss 0.006112946682033503; Training Loss 0.025720027319721214\n",
      "ANN [5, 100, 100, 100, 100, 1]; Episode 261; Testing Loss 0.005546830090837708; Training Loss 0.02473294868404635\n",
      "ANN [5, 100, 100, 100, 100, 1]; Episode 262; Testing Loss 0.00498951903638076; Training Loss 0.02304011815966359\n",
      "ANN [5, 100, 100, 100, 100, 1]; Episode 263; Testing Loss 0.005279463780220415; Training Loss 0.02289540610926072\n",
      "ANN [5, 100, 100, 100, 100, 1]; Episode 264; Testing Loss 0.005983347683942607; Training Loss 0.02449751440807982\n",
      "ANN [5, 100, 100, 100, 100, 1]; Episode 265; Testing Loss 0.005891244169836553; Training Loss 0.025365493390917766\n",
      "ANN [5, 100, 100, 100, 100, 1]; Episode 266; Testing Loss 0.0051555984707070904; Training Loss 0.023572201409838994\n",
      "ANN [5, 100, 100, 100, 100, 1]; Episode 267; Testing Loss 0.00495446308112178; Training Loss 0.023006882611745313\n",
      "ANN [5, 100, 100, 100, 100, 1]; Episode 268; Testing Loss 0.005808779343003598; Training Loss 0.024368810311169904\n",
      "ANN [5, 100, 100, 100, 100, 1]; Episode 269; Testing Loss 0.005671666002835645; Training Loss 0.024601843696377294\n",
      "ANN [5, 100, 100, 100, 100, 1]; Episode 270; Testing Loss 0.004803437373040767; Training Loss 0.023426924183013897\n",
      "ANN [5, 100, 100, 100, 100, 1]; Episode 271; Testing Loss 0.004803349200609897; Training Loss 0.022847950159972874\n",
      "ANN [5, 100, 100, 100, 100, 1]; Episode 272; Testing Loss 0.005510909524506594; Training Loss 0.0238975922764448\n",
      "ANN [5, 100, 100, 100, 100, 1]; Episode 273; Testing Loss 0.00604084348799038; Training Loss 0.02594211283093282\n",
      "ANN [5, 100, 100, 100, 100, 1]; Episode 274; Testing Loss 0.0052979359669263985; Training Loss 0.024033163498042374\n",
      "ANN [5, 100, 100, 100, 100, 1]; Episode 275; Testing Loss 0.005051762375350924; Training Loss 0.023120413304294464\n",
      "ANN [5, 100, 100, 100, 100, 1]; Episode 276; Testing Loss 0.005803242226945121; Training Loss 0.023652229112455632\n",
      "ANN [5, 100, 100, 100, 100, 1]; Episode 277; Testing Loss 0.006366044949702704; Training Loss 0.0242860823322407\n",
      "ANN [5, 100, 100, 100, 100, 1]; Episode 278; Testing Loss 0.005221808811153568; Training Loss 0.023633740273614732\n",
      "ANN [5, 100, 100, 100, 100, 1]; Episode 279; Testing Loss 0.004812950861119353; Training Loss 0.023167217280467237\n",
      "ANN [5, 100, 100, 100, 100, 1]; Episode 280; Testing Loss 0.004943048107623497; Training Loss 0.022409056515299876\n",
      "ANN [5, 100, 100, 100, 100, 1]; Episode 281; Testing Loss 0.006154085446931835; Training Loss 0.024288466691500903\n",
      "ANN [5, 100, 100, 100, 100, 1]; Episode 282; Testing Loss 0.005822621629775588; Training Loss 0.027606591221334863\n",
      "ANN [5, 100, 100, 100, 100, 1]; Episode 283; Testing Loss 0.0050202977691285846; Training Loss 0.0244155292256199\n",
      "ANN [5, 100, 100, 100, 100, 1]; Episode 284; Testing Loss 0.005093382335327258; Training Loss 0.023750756288129813\n",
      "ANN [5, 100, 100, 100, 100, 1]; Episode 285; Testing Loss 0.006049476318422306; Training Loss 0.025957994290442547\n",
      "ANN [5, 100, 100, 100, 100, 1]; Episode 286; Testing Loss 0.006728408345431679; Training Loss 0.024716169598617457\n",
      "ANN [5, 100, 100, 100, 100, 1]; Episode 287; Testing Loss 0.004836535481292578; Training Loss 0.022827713333139783\n",
      "ANN [5, 100, 100, 100, 100, 1]; Episode 288; Testing Loss 0.0045685413117410815; Training Loss 0.02384600517805446\n",
      "ANN [5, 100, 100, 100, 100, 1]; Episode 289; Testing Loss 0.00541055301304854; Training Loss 0.023414923736414812\n",
      "ANN [5, 100, 100, 100, 100, 1]; Episode 290; Testing Loss 0.005885615839339983; Training Loss 0.022877863100311518\n"
     ]
    },
    {
     "name": "stdout",
     "output_type": "stream",
     "text": [
      "ANN [5, 100, 100, 100, 100, 1]; Episode 291; Testing Loss 0.00540647251655549; Training Loss 0.02234415885686793\n",
      "ANN [5, 100, 100, 100, 100, 1]; Episode 292; Testing Loss 0.004937832294514175; Training Loss 0.023977489871343616\n",
      "ANN [5, 100, 100, 100, 100, 1]; Episode 293; Testing Loss 0.00507871575299159; Training Loss 0.02496422396453968\n",
      "ANN [5, 100, 100, 100, 100, 1]; Episode 294; Testing Loss 0.005067380805154025; Training Loss 0.023525294818491905\n",
      "ANN [5, 100, 100, 100, 100, 1]; Episode 295; Testing Loss 0.005214060202560775; Training Loss 0.022439531966529362\n",
      "ANN [5, 100, 100, 100, 100, 1]; Episode 296; Testing Loss 0.005593741904703469; Training Loss 0.022667522856960606\n",
      "ANN [5, 100, 100, 100, 100, 1]; Episode 297; Testing Loss 0.005564740646632182; Training Loss 0.02369420583957233\n",
      "ANN [5, 100, 100, 100, 100, 1]; Episode 298; Testing Loss 0.004971732884908202; Training Loss 0.023752986745075474\n",
      "ANN [5, 100, 100, 100, 100, 1]; Episode 299; Testing Loss 0.004964584585189452; Training Loss 0.02333219214076682\n",
      "ANN [5, 100, 100, 100, 100, 1]; Episode 300; Testing Loss 0.00504248073172717; Training Loss 0.022187767596541286\n",
      "ANN [5, 100, 100, 100, 100, 1]; Episode 301; Testing Loss 0.0056370961510451055; Training Loss 0.022197430460500413\n",
      "ANN [5, 100, 100, 100, 100, 1]; Episode 302; Testing Loss 0.005786709696469046; Training Loss 0.023742360629893395\n",
      "ANN [5, 100, 100, 100, 100, 1]; Episode 303; Testing Loss 0.0051593143731617965; Training Loss 0.02880114461636221\n",
      "ANN [5, 100, 100, 100, 100, 1]; Episode 304; Testing Loss 0.0046774924560189345; Training Loss 0.024151907447200114\n",
      "ANN [5, 100, 100, 100, 100, 1]; Episode 305; Testing Loss 0.005387892955313509; Training Loss 0.024452515616057255\n",
      "ANN [5, 100, 100, 100, 100, 1]; Episode 306; Testing Loss 0.0059830867567917095; Training Loss 0.028389767181673953\n",
      "ANN [5, 100, 100, 100, 100, 1]; Episode 307; Testing Loss 0.00519440143917462; Training Loss 0.02326693584001832\n",
      "ANN [5, 100, 100, 100, 100, 1]; Episode 308; Testing Loss 0.004649257811421931; Training Loss 0.026662033721532162\n",
      "ANN [5, 100, 100, 100, 100, 1]; Episode 309; Testing Loss 0.004418664230202265; Training Loss 0.023268963137769993\n",
      "ANN [5, 100, 100, 100, 100, 1]; Episode 310; Testing Loss 0.005839255301403618; Training Loss 0.027073369612108152\n",
      "ANN [5, 100, 100, 100, 100, 1]; Episode 311; Testing Loss 0.005994258361276985; Training Loss 0.026996384842778942\n",
      "ANN [5, 100, 100, 100, 100, 1]; Episode 312; Testing Loss 0.005013300407423994; Training Loss 0.023944223719391228\n",
      "ANN [5, 100, 100, 100, 100, 1]; Episode 313; Testing Loss 0.0052603817149301565; Training Loss 0.02571815281074272\n",
      "ANN [5, 100, 100, 100, 100, 1]; Episode 314; Testing Loss 0.0067074406957811725; Training Loss 0.023261793960818095\n",
      "ANN [5, 100, 100, 100, 100, 1]; Episode 315; Testing Loss 0.007544906378954006; Training Loss 0.025694381807112362\n",
      "ANN [5, 100, 100, 100, 100, 1]; Episode 316; Testing Loss 0.005630003743391632; Training Loss 0.02423292209946871\n",
      "ANN [5, 100, 100, 100, 100, 1]; Episode 317; Testing Loss 0.006559481076924892; Training Loss 0.023896074752794948\n",
      "ANN [5, 100, 100, 100, 100, 1]; Episode 318; Testing Loss 0.005406694485319069; Training Loss 0.024316504953857676\n",
      "ANN [5, 100, 100, 100, 100, 1]; Episode 319; Testing Loss 0.005788409337379473; Training Loss 0.024786641065311282\n",
      "ANN [5, 100, 100, 100, 100, 1]; Episode 320; Testing Loss 0.005709889035200068; Training Loss 0.022641432694002636\n",
      "ANN [5, 100, 100, 100, 100, 1]; Episode 321; Testing Loss 0.005537036734788802; Training Loss 0.02294770592578126\n",
      "ANN [5, 100, 100, 100, 100, 1]; Episode 322; Testing Loss 0.005647559915390101; Training Loss 0.023208591491353264\n",
      "ANN [5, 100, 100, 100, 100, 1]; Episode 323; Testing Loss 0.0056285763698416084; Training Loss 0.022386577979863796\n",
      "ANN [5, 100, 100, 100, 100, 1]; Episode 324; Testing Loss 0.006190076187832289; Training Loss 0.022763843190512355\n",
      "ANN [5, 100, 100, 100, 100, 1]; Episode 325; Testing Loss 0.005636427915185789; Training Loss 0.022903448707949685\n",
      "ANN [5, 100, 100, 100, 100, 1]; Episode 326; Testing Loss 0.005420290424176947; Training Loss 0.02461967541495583\n",
      "ANN [5, 100, 100, 100, 100, 1]; Episode 327; Testing Loss 0.00526073961497381; Training Loss 0.02496551317630614\n",
      "ANN [5, 100, 100, 100, 100, 1]; Episode 328; Testing Loss 0.005719853801282447; Training Loss 0.023014648910344927\n",
      "ANN [5, 100, 100, 100, 100, 1]; Episode 329; Testing Loss 0.008042951966946542; Training Loss 0.023006636720285602\n",
      "ANN [5, 100, 100, 100, 100, 1]; Episode 330; Testing Loss 0.006251928021259556; Training Loss 0.024191591998714766\n",
      "ANN [5, 100, 100, 100, 100, 1]; Episode 331; Testing Loss 0.00461050224155315; Training Loss 0.025711976370610963\n",
      "ANN [5, 100, 100, 100, 100, 1]; Episode 332; Testing Loss 0.004828608615605188; Training Loss 0.024573415838369705\n",
      "ANN [5, 100, 100, 100, 100, 1]; Episode 333; Testing Loss 0.006286900019303232; Training Loss 0.02453939692122219\n",
      "ANN [5, 100, 100, 100, 100, 1]; Episode 334; Testing Loss 0.009441497917629563; Training Loss 0.03171342970950099\n",
      "ANN [5, 100, 100, 100, 100, 1]; Episode 335; Testing Loss 0.00530384316799794; Training Loss 0.023934488600291334\n",
      "ANN [5, 100, 100, 100, 100, 1]; Episode 336; Testing Loss 0.005295327967948993; Training Loss 0.024068117390274254\n",
      "ANN [5, 100, 100, 100, 100, 1]; Episode 337; Testing Loss 0.004894993847793567; Training Loss 0.023990415160596218\n",
      "ANN [5, 100, 100, 100, 100, 1]; Episode 338; Testing Loss 0.006178930252203019; Training Loss 0.025495163619593645\n",
      "ANN [5, 100, 100, 100, 100, 1]; Episode 339; Testing Loss 0.005720189730304373; Training Loss 0.023797010332930465\n",
      "ANN [5, 100, 100, 100, 100, 1]; Episode 340; Testing Loss 0.004559156876140104; Training Loss 0.022837262099103535\n",
      "ANN [5, 100, 100, 100, 100, 1]; Episode 341; Testing Loss 0.004525355962886957; Training Loss 0.023348287017512244\n",
      "ANN [5, 100, 100, 100, 100, 1]; Episode 342; Testing Loss 0.005426540984545809; Training Loss 0.023419947033498326\n",
      "ANN [5, 100, 100, 100, 100, 1]; Episode 343; Testing Loss 0.005576817572215677; Training Loss 0.02309847974582256\n",
      "ANN [5, 100, 100, 100, 100, 1]; Episode 344; Testing Loss 0.004982592596006244; Training Loss 0.02273907322890967\n",
      "ANN [5, 100, 100, 100, 100, 1]; Episode 345; Testing Loss 0.005125916035594434; Training Loss 0.022662735641724937\n",
      "ANN [5, 100, 100, 100, 100, 1]; Episode 346; Testing Loss 0.005058103667319414; Training Loss 0.022034216681503613\n",
      "ANN [5, 100, 100, 100, 100, 1]; Episode 347; Testing Loss 0.005992256856833573; Training Loss 0.022305432580605924\n",
      "ANN [5, 100, 100, 100, 100, 1]; Episode 348; Testing Loss 0.005577084519355724; Training Loss 0.022456034079464067\n",
      "ANN [5, 100, 100, 100, 100, 1]; Episode 349; Testing Loss 0.004838945528545299; Training Loss 0.02367440971217025\n",
      "ANN [5, 100, 100, 100, 100, 1]; Episode 350; Testing Loss 0.004842131939482223; Training Loss 0.024357819739670074\n",
      "ANN [5, 100, 100, 100, 100, 1]; Episode 351; Testing Loss 0.005369915299376294; Training Loss 0.022529953682352277\n",
      "ANN [5, 100, 100, 100, 100, 1]; Episode 352; Testing Loss 0.007041617690451212; Training Loss 0.02247713122640181\n",
      "ANN [5, 100, 100, 100, 100, 1]; Episode 353; Testing Loss 0.005904906949168852; Training Loss 0.021928108652123263\n",
      "ANN [5, 100, 100, 100, 100, 1]; Episode 354; Testing Loss 0.004986340810457097; Training Loss 0.022163399965328918\n",
      "ANN [5, 100, 100, 100, 100, 1]; Episode 355; Testing Loss 0.005220559135620169; Training Loss 0.022435942303396458\n",
      "ANN [5, 100, 100, 100, 100, 1]; Episode 356; Testing Loss 0.005469772150370424; Training Loss 0.02522580488648836\n",
      "ANN [5, 100, 100, 100, 100, 1]; Episode 357; Testing Loss 0.005498092071265829; Training Loss 0.030241902283776257\n",
      "ANN [5, 100, 100, 100, 100, 1]; Episode 358; Testing Loss 0.004807519002111455; Training Loss 0.023674204173621753\n",
      "ANN [5, 100, 100, 100, 100, 1]; Episode 359; Testing Loss 0.004600026323719854; Training Loss 0.022457595191123145\n",
      "ANN [5, 100, 100, 100, 100, 1]; Episode 360; Testing Loss 0.006835922181735385; Training Loss 0.02547880072712636\n",
      "ANN [5, 100, 100, 100, 100, 1]; Episode 361; Testing Loss 0.0055104957265933365; Training Loss 0.027291212325931614\n",
      "ANN [5, 100, 100, 100, 100, 1]; Episode 362; Testing Loss 0.00412739018157537; Training Loss 0.024461290286244178\n"
     ]
    },
    {
     "name": "stdout",
     "output_type": "stream",
     "text": [
      "ANN [5, 100, 100, 100, 100, 1]; Episode 363; Testing Loss 0.004740638242185814; Training Loss 0.02485832437718131\n",
      "ANN [5, 100, 100, 100, 100, 1]; Episode 364; Testing Loss 0.0063191760842944995; Training Loss 0.024373555680141445\n",
      "ANN [5, 100, 100, 100, 100, 1]; Episode 365; Testing Loss 0.0064317308193410135; Training Loss 0.024122475735889888\n",
      "ANN [5, 100, 100, 100, 100, 1]; Episode 366; Testing Loss 0.004665996823704393; Training Loss 0.027710290255212856\n",
      "ANN [5, 100, 100, 100, 100, 1]; Episode 367; Testing Loss 0.005112748049154189; Training Loss 0.02570971045425782\n",
      "ANN [5, 100, 100, 100, 100, 1]; Episode 368; Testing Loss 0.0049361849968515125; Training Loss 0.026601775682335037\n",
      "ANN [5, 100, 100, 100, 100, 1]; Episode 369; Testing Loss 0.006061699257951336; Training Loss 0.024147031624452836\n",
      "ANN [5, 100, 100, 100, 100, 1]; Episode 370; Testing Loss 0.006246286875134065; Training Loss 0.024238133159068184\n",
      "ANN [5, 100, 100, 100, 100, 1]; Episode 371; Testing Loss 0.004939758371974781; Training Loss 0.023802798830691554\n",
      "ANN [5, 100, 100, 100, 100, 1]; Episode 372; Testing Loss 0.004918895308515152; Training Loss 0.02458936560882582\n",
      "ANN [5, 100, 100, 100, 100, 1]; Episode 373; Testing Loss 0.005690715363750406; Training Loss 0.02342067579434113\n",
      "ANN [5, 100, 100, 100, 100, 1]; Episode 374; Testing Loss 0.006504288436530349; Training Loss 0.02322490916544863\n",
      "ANN [5, 100, 100, 100, 100, 1]; Episode 375; Testing Loss 0.006267857456448432; Training Loss 0.023424762651186586\n",
      "ANN [5, 100, 100, 100, 100, 1]; Episode 376; Testing Loss 0.005960193029941272; Training Loss 0.022913378700877778\n",
      "ANN [5, 100, 100, 100, 100, 1]; Episode 377; Testing Loss 0.005632440424931939; Training Loss 0.02342200828184866\n",
      "ANN [5, 100, 100, 100, 100, 1]; Episode 378; Testing Loss 0.005522731609370916; Training Loss 0.022367078098886353\n",
      "ANN [5, 100, 100, 100, 100, 1]; Episode 379; Testing Loss 0.005683626791078531; Training Loss 0.02339350336468988\n",
      "ANN [5, 100, 100, 100, 100, 1]; Episode 380; Testing Loss 0.0050392906001628926; Training Loss 0.02312920388037111\n",
      "ANN [5, 100, 100, 100, 100, 1]; Episode 381; Testing Loss 0.0046093053095778835; Training Loss 0.02310983080626149\n",
      "ANN [5, 100, 100, 100, 100, 1]; Episode 382; Testing Loss 0.005103638782799442; Training Loss 0.022304896550324353\n",
      "ANN [5, 100, 100, 100, 100, 1]; Episode 383; Testing Loss 0.006259770071589195; Training Loss 0.023990139945209092\n",
      "ANN [5, 100, 100, 100, 100, 1]; Episode 384; Testing Loss 0.005222258676028174; Training Loss 0.025188677252188468\n",
      "ANN [5, 100, 100, 100, 100, 1]; Episode 385; Testing Loss 0.004433870899764568; Training Loss 0.024730428642371478\n",
      "ANN [5, 100, 100, 100, 100, 1]; Episode 386; Testing Loss 0.004365732265629004; Training Loss 0.022938253318959753\n",
      "ANN [5, 100, 100, 100, 100, 1]; Episode 387; Testing Loss 0.006209923795957329; Training Loss 0.0260388444376342\n",
      "ANN [5, 100, 100, 100, 100, 1]; Episode 388; Testing Loss 0.0068704787784085565; Training Loss 0.027861526068118144\n",
      "ANN [5, 100, 100, 100, 100, 1]; Episode 389; Testing Loss 0.00442038997973469; Training Loss 0.02346495784645197\n",
      "ANN [5, 100, 100, 100, 100, 1]; Episode 390; Testing Loss 0.004312321238328934; Training Loss 0.024623168822667206\n",
      "ANN [5, 100, 100, 100, 100, 1]; Episode 391; Testing Loss 0.006422125218446033; Training Loss 0.02394750178604449\n",
      "ANN [5, 100, 100, 100, 100, 1]; Episode 392; Testing Loss 0.006526685559514798; Training Loss 0.02255978531159543\n",
      "ANN [5, 100, 100, 100, 100, 1]; Episode 393; Testing Loss 0.004893140491050719; Training Loss 0.02392811713510647\n",
      "ANN [5, 100, 100, 100, 100, 1]; Episode 394; Testing Loss 0.005502232526158649; Training Loss 0.02605700580667285\n",
      "ANN [5, 100, 100, 100, 100, 1]; Episode 395; Testing Loss 0.004977739946792305; Training Loss 0.022878058192669592\n",
      "ANN [5, 100, 100, 100, 100, 1]; Episode 396; Testing Loss 0.005743158518428367; Training Loss 0.024682912775880854\n",
      "ANN [5, 100, 100, 100, 100, 1]; Episode 397; Testing Loss 0.006845174775669147; Training Loss 0.025931707232290532\n",
      "ANN [5, 100, 100, 100, 100, 1]; Episode 398; Testing Loss 0.00503207250876986; Training Loss 0.02454186853003511\n",
      "ANN [5, 100, 100, 100, 100, 1]; Episode 399; Testing Loss 0.004425924343860152; Training Loss 0.024598781885339083\n",
      "ANN [5, 100, 100, 100, 100, 1]; Episode 400; Testing Loss 0.00518139602897742; Training Loss 0.023610268570801625\n",
      "ANN [5, 100, 100, 100, 100, 1]; Episode 401; Testing Loss 0.006272526997325107; Training Loss 0.02423931060142653\n",
      "ANN [5, 100, 100, 100, 100, 1]; Episode 402; Testing Loss 0.005390523571140652; Training Loss 0.023923591433300202\n",
      "ANN [5, 100, 100, 100, 100, 1]; Episode 403; Testing Loss 0.006727370001741569; Training Loss 0.025528920665566474\n",
      "ANN [5, 100, 100, 100, 100, 1]; Episode 404; Testing Loss 0.005883838448985014; Training Loss 0.02411814062231411\n",
      "ANN [5, 100, 100, 100, 100, 1]; Episode 405; Testing Loss 0.005344168767829461; Training Loss 0.023536936802502337\n",
      "ANN [5, 100, 100, 100, 100, 1]; Episode 406; Testing Loss 0.006071580190170287; Training Loss 0.022527908019454763\n",
      "ANN [5, 100, 100, 100, 100, 1]; Episode 407; Testing Loss 0.005906911156577668; Training Loss 0.023513784874633667\n",
      "ANN [5, 100, 100, 100, 100, 1]; Episode 408; Testing Loss 0.0049733702968476675; Training Loss 0.023041241729305478\n",
      "ANN [5, 100, 100, 100, 100, 1]; Episode 409; Testing Loss 0.004615165519452101; Training Loss 0.022456771298191097\n",
      "ANN [5, 100, 100, 100, 100, 1]; Episode 410; Testing Loss 0.005358402103489963; Training Loss 0.02236802959609471\n",
      "ANN [5, 100, 100, 100, 100, 1]; Episode 411; Testing Loss 0.005525464088058712; Training Loss 0.022659654395565658\n",
      "ANN [5, 100, 100, 100, 100, 1]; Episode 412; Testing Loss 0.005686135548134739; Training Loss 0.025384582005777583\n",
      "ANN [5, 100, 100, 100, 100, 1]; Episode 413; Testing Loss 0.005557631299468023; Training Loss 0.027896299534507916\n",
      "ANN [5, 100, 100, 100, 100, 1]; Episode 414; Testing Loss 0.005267172588709417; Training Loss 0.0234412236705879\n",
      "ANN [5, 100, 100, 100, 100, 1]; Episode 415; Testing Loss 0.00610330857428575; Training Loss 0.023597516903163397\n",
      "ANN [5, 100, 100, 100, 100, 1]; Episode 416; Testing Loss 0.008581294560654373; Training Loss 0.02664725173039114\n",
      "ANN [5, 100, 100, 100, 100, 1]; Episode 417; Testing Loss 0.005071474710412608; Training Loss 0.02383709543924467\n",
      "ANN [5, 100, 100, 100, 100, 1]; Episode 418; Testing Loss 0.0038851498185798667; Training Loss 0.02425957357813165\n",
      "ANN [5, 100, 100, 100, 100, 1]; Episode 419; Testing Loss 0.005056514086929527; Training Loss 0.02313404988529356\n",
      "ANN [5, 100, 100, 100, 100, 1]; Episode 420; Testing Loss 0.005929969518246573; Training Loss 0.023447912085914954\n",
      "ANN [5, 100, 100, 100, 100, 1]; Episode 421; Testing Loss 0.005632049933312721; Training Loss 0.023706063243061997\n",
      "ANN [5, 100, 100, 100, 100, 1]; Episode 422; Testing Loss 0.007269963611247812; Training Loss 0.02651434936899133\n",
      "ANN [5, 100, 100, 100, 100, 1]; Episode 423; Testing Loss 0.00658710390121513; Training Loss 0.024224576828236866\n",
      "ANN [5, 100, 100, 100, 100, 1]; Episode 424; Testing Loss 0.0052940663188948255; Training Loss 0.023466605674366793\n",
      "ANN [5, 100, 100, 100, 100, 1]; Episode 425; Testing Loss 0.006321054301580068; Training Loss 0.02270452539752411\n",
      "ANN [5, 100, 100, 100, 100, 1]; Episode 426; Testing Loss 0.005586452951827339; Training Loss 0.02363059911492481\n",
      "ANN [5, 100, 100, 100, 100, 1]; Episode 427; Testing Loss 0.004117094491816129; Training Loss 0.022860621773246177\n",
      "ANN [5, 100, 100, 100, 100, 1]; Episode 428; Testing Loss 0.003860304708500141; Training Loss 0.02218246062549727\n",
      "ANN [5, 100, 100, 100, 100, 1]; Episode 429; Testing Loss 0.00466550965804684; Training Loss 0.022442061914072133\n",
      "ANN [5, 100, 100, 100, 100, 1]; Episode 430; Testing Loss 0.005204160812202366; Training Loss 0.02567121795541476\n",
      "ANN [5, 100, 100, 100, 100, 1]; Episode 431; Testing Loss 0.005056610994408547; Training Loss 0.027204554420551835\n",
      "ANN [5, 100, 100, 100, 100, 1]; Episode 432; Testing Loss 0.004722104687412179; Training Loss 0.02377363208175907\n",
      "ANN [5, 100, 100, 100, 100, 1]; Episode 433; Testing Loss 0.004862704581219723; Training Loss 0.02223340374315506\n",
      "ANN [5, 100, 100, 100, 100, 1]; Episode 434; Testing Loss 0.0058794722840842095; Training Loss 0.025394979979687236\n",
      "ANN [5, 100, 100, 100, 100, 1]; Episode 435; Testing Loss 0.005960969409287168; Training Loss 0.026247262400402357\n",
      "ANN [5, 100, 100, 100, 100, 1]; Episode 436; Testing Loss 0.003684389606836963; Training Loss 0.024088252101032347\n",
      "ANN [5, 100, 100, 100, 100, 1]; Episode 437; Testing Loss 0.004187873131723583; Training Loss 0.024462020089448266\n"
     ]
    },
    {
     "name": "stdout",
     "output_type": "stream",
     "text": [
      "ANN [5, 100, 100, 100, 100, 1]; Episode 438; Testing Loss 0.007994168342953608; Training Loss 0.02304916070245394\n",
      "ANN [5, 100, 100, 100, 100, 1]; Episode 439; Testing Loss 0.0072423080323810365; Training Loss 0.023178409410447343\n",
      "ANN [5, 100, 100, 100, 100, 1]; Episode 440; Testing Loss 0.004911723884758186; Training Loss 0.025637757114940176\n",
      "ANN [5, 100, 100, 100, 100, 1]; Episode 441; Testing Loss 0.006095720838424489; Training Loss 0.026398394004086206\n",
      "ANN [5, 100, 100, 100, 100, 1]; Episode 442; Testing Loss 0.005117739262089231; Training Loss 0.022665592857498775\n",
      "ANN [5, 100, 100, 100, 100, 1]; Episode 443; Testing Loss 0.006551083223710126; Training Loss 0.027937328275202008\n",
      "ANN [5, 100, 100, 100, 100, 1]; Episode 444; Testing Loss 0.006673864063400844; Training Loss 0.024140043195196234\n",
      "ANN [5, 100, 100, 100, 100, 1]; Episode 445; Testing Loss 0.00433197802932643; Training Loss 0.023167188527328495\n",
      "ANN [5, 100, 100, 100, 100, 1]; Episode 446; Testing Loss 0.004026618443020868; Training Loss 0.0243046515961295\n",
      "ANN [5, 100, 100, 100, 100, 1]; Episode 447; Testing Loss 0.004740840526474997; Training Loss 0.02222093329796799\n",
      "ANN [5, 100, 100, 100, 100, 1]; Episode 448; Testing Loss 0.005872750807908894; Training Loss 0.024170580062728673\n",
      "ANN [5, 100, 100, 100, 100, 1]; Episode 449; Testing Loss 0.00492232806652187; Training Loss 0.024584939883569752\n",
      "ANN [5, 100, 100, 100, 100, 1]; Episode 450; Testing Loss 0.006017366512656546; Training Loss 0.023845392477628985\n",
      "ANN [5, 100, 100, 100, 100, 1]; Episode 451; Testing Loss 0.00587283482832396; Training Loss 0.022245418121407963\n",
      "ANN [5, 100, 100, 100, 100, 1]; Episode 452; Testing Loss 0.005923851150547117; Training Loss 0.02309018736848224\n",
      "ANN [5, 100, 100, 100, 100, 1]; Episode 453; Testing Loss 0.006599222063974408; Training Loss 0.024387500708211836\n",
      "ANN [5, 100, 100, 100, 100, 1]; Episode 454; Testing Loss 0.005151609679457726; Training Loss 0.023453543368270994\n",
      "ANN [5, 100, 100, 100, 100, 1]; Episode 455; Testing Loss 0.004347138172174666; Training Loss 0.022589520049897987\n",
      "ANN [5, 100, 100, 100, 100, 1]; Episode 456; Testing Loss 0.004771224622552893; Training Loss 0.02364180619662447\n",
      "ANN [5, 100, 100, 100, 100, 1]; Episode 457; Testing Loss 0.004950958322486749; Training Loss 0.02421616916666785\n",
      "ANN [5, 100, 100, 100, 100, 1]; Episode 458; Testing Loss 0.0047757323987978415; Training Loss 0.022384193703691397\n",
      "ANN [5, 100, 100, 100, 100, 1]; Episode 459; Testing Loss 0.005157226725911543; Training Loss 0.021985106900875795\n",
      "ANN [5, 100, 100, 100, 100, 1]; Episode 460; Testing Loss 0.005256743314820707; Training Loss 0.021874425838272298\n",
      "ANN [5, 100, 100, 100, 100, 1]; Episode 461; Testing Loss 0.005728580288624328; Training Loss 0.02244413191877134\n",
      "ANN [5, 100, 100, 100, 100, 1]; Episode 462; Testing Loss 0.005581335969704081; Training Loss 0.023571887734727095\n",
      "ANN [5, 100, 100, 100, 100, 1]; Episode 463; Testing Loss 0.004645864075845005; Training Loss 0.023894569951798367\n",
      "ANN [5, 100, 100, 100, 100, 1]; Episode 464; Testing Loss 0.0039801944061615205; Training Loss 0.02284518821146621\n",
      "ANN [5, 100, 100, 100, 100, 1]; Episode 465; Testing Loss 0.004862250872163395; Training Loss 0.022262333241470308\n",
      "ANN [5, 100, 100, 100, 100, 1]; Episode 466; Testing Loss 0.0067697666212207085; Training Loss 0.025473636530798146\n",
      "ANN [5, 100, 100, 100, 100, 1]; Episode 467; Testing Loss 0.004474441497306785; Training Loss 0.02705274394279128\n",
      "ANN [5, 100, 100, 100, 100, 1]; Episode 468; Testing Loss 0.004419280341028082; Training Loss 0.023342432546357927\n",
      "ANN [5, 100, 100, 100, 100, 1]; Episode 469; Testing Loss 0.0048197900800002035; Training Loss 0.024274426838842032\n",
      "ANN [5, 100, 100, 100, 100, 1]; Episode 470; Testing Loss 0.005866994616632955; Training Loss 0.02687765106045263\n",
      "ANN [5, 100, 100, 100, 100, 1]; Episode 471; Testing Loss 0.0055246886748465986; Training Loss 0.02255962369815431\n",
      "ANN [5, 100, 100, 100, 100, 1]; Episode 472; Testing Loss 0.004564107089218264; Training Loss 0.023669739599356247\n",
      "ANN [5, 100, 100, 100, 100, 1]; Episode 473; Testing Loss 0.004242889201034407; Training Loss 0.023913017432797043\n",
      "ANN [5, 100, 100, 100, 100, 1]; Episode 474; Testing Loss 0.004314247470043484; Training Loss 0.02178996441799705\n",
      "ANN [5, 100, 100, 100, 100, 1]; Episode 475; Testing Loss 0.004666484671201166; Training Loss 0.022997080435947732\n",
      "ANN [5, 100, 100, 100, 100, 1]; Episode 476; Testing Loss 0.004386391456225706; Training Loss 0.026015497021290006\n",
      "ANN [5, 100, 100, 100, 100, 1]; Episode 477; Testing Loss 0.004464195501393306; Training Loss 0.022939998254460327\n",
      "ANN [5, 100, 100, 100, 100, 1]; Episode 478; Testing Loss 0.004794373267043292; Training Loss 0.022010158424760486\n",
      "ANN [5, 100, 100, 100, 100, 1]; Episode 479; Testing Loss 0.005575998882418491; Training Loss 0.024602826633726912\n",
      "ANN [5, 100, 100, 100, 100, 1]; Episode 480; Testing Loss 0.0056244660446074235; Training Loss 0.024502842512596306\n",
      "ANN [5, 100, 100, 100, 100, 1]; Episode 481; Testing Loss 0.004630772343269562; Training Loss 0.02242492714842585\n",
      "ANN [5, 100, 100, 100, 100, 1]; Episode 482; Testing Loss 0.004574908622117611; Training Loss 0.023315506056521173\n",
      "ANN [5, 100, 100, 100, 100, 1]; Episode 483; Testing Loss 0.005383629641952155; Training Loss 0.02397751823311992\n",
      "ANN [5, 100, 100, 100, 100, 1]; Episode 484; Testing Loss 0.004631847006624882; Training Loss 0.02217784250048084\n",
      "ANN [5, 100, 100, 100, 100, 1]; Episode 485; Testing Loss 0.004461174374119338; Training Loss 0.021842304184703308\n",
      "ANN [5, 100, 100, 100, 100, 1]; Episode 486; Testing Loss 0.004679118837504921; Training Loss 0.022545319077449503\n",
      "ANN [5, 100, 100, 100, 100, 1]; Episode 487; Testing Loss 0.004903043175888795; Training Loss 0.02376940580952731\n",
      "ANN [5, 100, 100, 100, 100, 1]; Episode 488; Testing Loss 0.0049039681355936195; Training Loss 0.023233072611190717\n",
      "ANN [5, 100, 100, 100, 100, 1]; Episode 489; Testing Loss 0.004975303347218428; Training Loss 0.021973445970507738\n",
      "ANN [5, 100, 100, 100, 100, 1]; Episode 490; Testing Loss 0.0048341366993553524; Training Loss 0.02165624582770923\n",
      "ANN [5, 100, 100, 100, 100, 1]; Episode 491; Testing Loss 0.004675742296642098; Training Loss 0.022728351530265343\n",
      "ANN [5, 100, 100, 100, 100, 1]; Episode 492; Testing Loss 0.004249029085614047; Training Loss 0.024268129689318987\n",
      "ANN [5, 100, 100, 100, 100, 1]; Episode 493; Testing Loss 0.004256790237952729; Training Loss 0.022868690521781476\n",
      "ANN [5, 100, 100, 100, 100, 1]; Episode 494; Testing Loss 0.0044738715386404854; Training Loss 0.02174714429114057\n",
      "ANN [5, 100, 100, 100, 100, 1]; Episode 495; Testing Loss 0.0052627754416352075; Training Loss 0.021927739295694068\n",
      "ANN [5, 100, 100, 100, 100, 1]; Episode 496; Testing Loss 0.005725714170083426; Training Loss 0.024032813575813758\n",
      "ANN [5, 100, 100, 100, 100, 1]; Episode 497; Testing Loss 0.004693459699095023; Training Loss 0.025405743579405726\n",
      "ANN [5, 100, 100, 100, 100, 1]; Episode 498; Testing Loss 0.004290157878986457; Training Loss 0.022975966611918468\n",
      "ANN [5, 100, 100, 100, 100, 1]; Episode 499; Testing Loss 0.004605780659429649; Training Loss 0.022667596237071038\n",
      "ANN [5, 100, 100, 100, 100, 1]; Episode 500; Testing Loss 0.005068572042079502; Training Loss 0.026562022266963563\n",
      "ANN [5, 100, 100, 100, 100, 1]; Episode 501; Testing Loss 0.004253705995478402; Training Loss 0.02380289193237805\n",
      "ANN [5, 100, 100, 100, 100, 1]; Episode 502; Testing Loss 0.003733890123936456; Training Loss 0.02261372977587788\n",
      "ANN [5, 100, 100, 100, 100, 1]; Episode 503; Testing Loss 0.00467077316521239; Training Loss 0.025048846254647587\n",
      "ANN [5, 100, 100, 100, 100, 1]; Episode 504; Testing Loss 0.005441375153050929; Training Loss 0.024320170457720995\n",
      "ANN [5, 100, 100, 100, 100, 1]; Episode 505; Testing Loss 0.004440891982117311; Training Loss 0.021882301645878635\n",
      "ANN [5, 100, 100, 100, 100, 1]; Episode 506; Testing Loss 0.00448870145452613; Training Loss 0.022671173491561905\n",
      "ANN [5, 100, 100, 100, 100, 1]; Episode 507; Testing Loss 0.004950826605514341; Training Loss 0.023553985870554704\n",
      "ANN [5, 100, 100, 100, 100, 1]; Episode 508; Testing Loss 0.004873653173002227; Training Loss 0.02256159948381727\n",
      "ANN [5, 100, 100, 100, 100, 1]; Episode 509; Testing Loss 0.004380211809531182; Training Loss 0.02142618527980331\n",
      "ANN [5, 100, 100, 100, 100, 1]; Episode 510; Testing Loss 0.004206625000612888; Training Loss 0.02233527019735651\n",
      "ANN [5, 100, 100, 100, 100, 1]; Episode 511; Testing Loss 0.004458341919606101; Training Loss 0.02335483102382673\n"
     ]
    },
    {
     "name": "stdout",
     "output_type": "stream",
     "text": [
      "ANN [5, 100, 100, 100, 100, 1]; Episode 512; Testing Loss 0.004619072052004772; Training Loss 0.024314245444830466\n",
      "ANN [5, 100, 100, 100, 100, 1]; Episode 513; Testing Loss 0.004741819058544321; Training Loss 0.022733808662237454\n",
      "ANN [5, 100, 100, 100, 100, 1]; Episode 514; Testing Loss 0.004921166561354192; Training Loss 0.02208132133211208\n",
      "ANN [5, 100, 100, 100, 100, 1]; Episode 515; Testing Loss 0.006373831062526274; Training Loss 0.023025773983246157\n",
      "ANN [5, 100, 100, 100, 100, 1]; Episode 516; Testing Loss 0.005499268297336393; Training Loss 0.023646454250022313\n",
      "ANN [5, 100, 100, 100, 100, 1]; Episode 517; Testing Loss 0.004646664868619188; Training Loss 0.023258525145840016\n",
      "ANN [5, 100, 100, 100, 100, 1]; Episode 518; Testing Loss 0.004457881291818698; Training Loss 0.022197079714098292\n",
      "ANN [5, 100, 100, 100, 100, 1]; Episode 519; Testing Loss 0.00503192618034918; Training Loss 0.023229564822628078\n",
      "ANN [5, 100, 100, 100, 100, 1]; Episode 520; Testing Loss 0.006076198985214226; Training Loss 0.02711468688052468\n",
      "ANN [5, 100, 100, 100, 100, 1]; Episode 521; Testing Loss 0.004558001919832819; Training Loss 0.025377439038227513\n",
      "ANN [5, 100, 100, 100, 100, 1]; Episode 522; Testing Loss 0.004227156641227467; Training Loss 0.022930404365906636\n",
      "ANN [5, 100, 100, 100, 100, 1]; Episode 523; Testing Loss 0.005427709351914215; Training Loss 0.026554541569124138\n",
      "ANN [5, 100, 100, 100, 100, 1]; Episode 524; Testing Loss 0.005249120010088023; Training Loss 0.023692907841740468\n",
      "ANN [5, 100, 100, 100, 100, 1]; Episode 525; Testing Loss 0.004239603749846171; Training Loss 0.0227009291363675\n",
      "ANN [5, 100, 100, 100, 100, 1]; Episode 526; Testing Loss 0.0043032056040187994; Training Loss 0.024402354849125837\n",
      "ANN [5, 100, 100, 100, 100, 1]; Episode 527; Testing Loss 0.004378979207658238; Training Loss 0.021659835096653972\n",
      "ANN [5, 100, 100, 100, 100, 1]; Episode 528; Testing Loss 0.005466850447974543; Training Loss 0.024538934875223357\n",
      "ANN [5, 100, 100, 100, 100, 1]; Episode 529; Testing Loss 0.0049276962800710086; Training Loss 0.02402438829153636\n",
      "ANN [5, 100, 100, 100, 100, 1]; Episode 530; Testing Loss 0.004860856544666553; Training Loss 0.02277108016961251\n",
      "ANN [5, 100, 100, 100, 100, 1]; Episode 531; Testing Loss 0.004689209003692763; Training Loss 0.02268896498932456\n",
      "ANN [5, 100, 100, 100, 100, 1]; Episode 532; Testing Loss 0.0045623720214619315; Training Loss 0.02239230893673474\n",
      "ANN [5, 100, 100, 100, 100, 1]; Episode 533; Testing Loss 0.004413539343201984; Training Loss 0.02271455390383284\n",
      "ANN [5, 100, 100, 100, 100, 1]; Episode 534; Testing Loss 0.004689921640710742; Training Loss 0.02254502476519481\n",
      "ANN [5, 100, 100, 100, 100, 1]; Episode 535; Testing Loss 0.004808096132627732; Training Loss 0.022821151891368477\n",
      "ANN [5, 100, 100, 100, 100, 1]; Episode 536; Testing Loss 0.004583856767568227; Training Loss 0.023057435682989614\n",
      "ANN [5, 100, 100, 100, 100, 1]; Episode 537; Testing Loss 0.0050891921196460944; Training Loss 0.023175531387574375\n",
      "ANN [5, 100, 100, 100, 100, 1]; Episode 538; Testing Loss 0.00528837229238094; Training Loss 0.021990972600937964\n",
      "ANN [5, 100, 100, 100, 100, 1]; Episode 539; Testing Loss 0.005249686076893505; Training Loss 0.022588472663258693\n",
      "ANN [5, 100, 100, 100, 100, 1]; Episode 540; Testing Loss 0.00436462383900031; Training Loss 0.021755104649071495\n",
      "ANN [5, 100, 100, 100, 100, 1]; Episode 541; Testing Loss 0.004208883737324256; Training Loss 0.021855495720391468\n",
      "ANN [5, 100, 100, 100, 100, 1]; Episode 542; Testing Loss 0.004452397929395665; Training Loss 0.021644511597829996\n",
      "ANN [5, 100, 100, 100, 100, 1]; Episode 543; Testing Loss 0.004642456980704412; Training Loss 0.023706710316532712\n",
      "ANN [5, 100, 100, 100, 100, 1]; Episode 544; Testing Loss 0.004522818107442284; Training Loss 0.027981635261767987\n",
      "ANN [5, 100, 100, 100, 100, 1]; Episode 545; Testing Loss 0.004626933667179159; Training Loss 0.023649678259150566\n",
      "ANN [5, 100, 100, 100, 100, 1]; Episode 546; Testing Loss 0.004835239674006059; Training Loss 0.021809013164930433\n",
      "ANN [5, 100, 100, 100, 100, 1]; Episode 547; Testing Loss 0.007546828778264491; Training Loss 0.023504237718676907\n",
      "ANN [5, 100, 100, 100, 100, 1]; Episode 548; Testing Loss 0.00506682294700755; Training Loss 0.025519898401225424\n",
      "ANN [5, 100, 100, 100, 100, 1]; Episode 549; Testing Loss 0.003607716385410269; Training Loss 0.02417287119692207\n",
      "ANN [5, 100, 100, 100, 100, 1]; Episode 550; Testing Loss 0.0037296203740469756; Training Loss 0.024121738711550298\n",
      "ANN [5, 100, 100, 100, 100, 1]; Episode 551; Testing Loss 0.00496625853252166; Training Loss 0.024511797870886427\n",
      "ANN [5, 100, 100, 100, 100, 1]; Episode 552; Testing Loss 0.005496073029320102; Training Loss 0.02234132159864839\n",
      "ANN [5, 100, 100, 100, 100, 1]; Episode 553; Testing Loss 0.004507780643190995; Training Loss 0.021800438761421344\n",
      "ANN [5, 100, 100, 100, 100, 1]; Episode 554; Testing Loss 0.004408801107504655; Training Loss 0.022986822353748323\n",
      "ANN [5, 100, 100, 100, 100, 1]; Episode 555; Testing Loss 0.00443881404464644; Training Loss 0.023373591632189647\n",
      "ANN [5, 100, 100, 100, 100, 1]; Episode 556; Testing Loss 0.004302154664844516; Training Loss 0.021866620566634246\n",
      "ANN [5, 100, 100, 100, 100, 1]; Episode 557; Testing Loss 0.004217562850796615; Training Loss 0.021321228966179353\n",
      "ANN [5, 100, 100, 100, 100, 1]; Episode 558; Testing Loss 0.0043411595624018775; Training Loss 0.022358982468735397\n",
      "ANN [5, 100, 100, 100, 100, 1]; Episode 559; Testing Loss 0.004070127492688915; Training Loss 0.02465399150463441\n",
      "ANN [5, 100, 100, 100, 100, 1]; Episode 560; Testing Loss 0.00392137212171525; Training Loss 0.02415940396339232\n",
      "ANN [5, 100, 100, 100, 100, 1]; Episode 561; Testing Loss 0.004165460277661867; Training Loss 0.022512069627186992\n",
      "ANN [5, 100, 100, 100, 100, 1]; Episode 562; Testing Loss 0.005609105728661919; Training Loss 0.024209925462041353\n",
      "ANN [5, 100, 100, 100, 100, 1]; Episode 563; Testing Loss 0.006319471468372567; Training Loss 0.023952233432892427\n",
      "ANN [5, 100, 100, 100, 100, 1]; Episode 564; Testing Loss 0.00453309668891398; Training Loss 0.02199007469086332\n",
      "ANN [5, 100, 100, 100, 100, 1]; Episode 565; Testing Loss 0.004716617488846953; Training Loss 0.021651306491151788\n",
      "ANN [5, 100, 100, 100, 100, 1]; Episode 566; Testing Loss 0.004882789030285601; Training Loss 0.022075334671295358\n",
      "ANN [5, 100, 100, 100, 100, 1]; Episode 567; Testing Loss 0.004797454245698567; Training Loss 0.02605532433024198\n",
      "ANN [5, 100, 100, 100, 100, 1]; Episode 568; Testing Loss 0.0043539484386426975; Training Loss 0.024259824461023715\n",
      "ANN [5, 100, 100, 100, 100, 1]; Episode 569; Testing Loss 0.004549764776848546; Training Loss 0.02185079227604995\n",
      "ANN [5, 100, 100, 100, 100, 1]; Episode 570; Testing Loss 0.004735293160578187; Training Loss 0.022343693447966075\n",
      "ANN [5, 100, 100, 100, 100, 1]; Episode 571; Testing Loss 0.005074810232081899; Training Loss 0.021448875268574003\n",
      "ANN [5, 100, 100, 100, 100, 1]; Episode 572; Testing Loss 0.004801064342321875; Training Loss 0.022962045123944345\n",
      "ANN [5, 100, 100, 100, 100, 1]; Episode 573; Testing Loss 0.00453334479615568; Training Loss 0.02214922344024193\n",
      "ANN [5, 100, 100, 100, 100, 1]; Episode 574; Testing Loss 0.004877803535513261; Training Loss 0.022780715118789527\n",
      "ANN [5, 100, 100, 100, 100, 1]; Episode 575; Testing Loss 0.004890229956759943; Training Loss 0.021049591558491718\n",
      "ANN [5, 100, 100, 100, 100, 1]; Episode 576; Testing Loss 0.004709548217510365; Training Loss 0.02249523204196915\n",
      "ANN [5, 100, 100, 100, 100, 1]; Episode 577; Testing Loss 0.0042118383709189786; Training Loss 0.021663460459937858\n",
      "ANN [5, 100, 100, 100, 100, 1]; Episode 578; Testing Loss 0.004193657206686456; Training Loss 0.024598700476860802\n",
      "ANN [5, 100, 100, 100, 100, 1]; Episode 579; Testing Loss 0.003785066181085947; Training Loss 0.023535926782106316\n",
      "ANN [5, 100, 100, 100, 100, 1]; Episode 580; Testing Loss 0.005050284517460095; Training Loss 0.023603687942634698\n",
      "ANN [5, 100, 100, 100, 100, 1]; Episode 581; Testing Loss 0.007120272296374797; Training Loss 0.02196736232336518\n",
      "ANN [5, 100, 100, 100, 100, 1]; Episode 582; Testing Loss 0.005030293422949796; Training Loss 0.02289753833532811\n",
      "ANN [5, 100, 100, 100, 100, 1]; Episode 583; Testing Loss 0.0041832367789858115; Training Loss 0.02377499789407583\n",
      "ANN [5, 100, 100, 100, 100, 1]; Episode 584; Testing Loss 0.0047078097176836845; Training Loss 0.0244236105385789\n",
      "ANN [5, 100, 100, 100, 100, 1]; Episode 585; Testing Loss 0.00503857811573767; Training Loss 0.02164299916488832\n"
     ]
    },
    {
     "name": "stdout",
     "output_type": "stream",
     "text": [
      "ANN [5, 100, 100, 100, 100, 1]; Episode 586; Testing Loss 0.006959092048209913; Training Loss 0.022591337061690288\n",
      "ANN [5, 100, 100, 100, 100, 1]; Episode 587; Testing Loss 0.005081821374788813; Training Loss 0.021413017533120447\n",
      "ANN [5, 100, 100, 100, 100, 1]; Episode 588; Testing Loss 0.004138963043287438; Training Loss 0.02246119033197248\n",
      "ANN [5, 100, 100, 100, 100, 1]; Episode 589; Testing Loss 0.004299738922690739; Training Loss 0.021833630132231694\n",
      "ANN [5, 100, 100, 100, 100, 1]; Episode 590; Testing Loss 0.004670051765509339; Training Loss 0.025238377307187438\n",
      "ANN [5, 100, 100, 100, 100, 1]; Episode 591; Testing Loss 0.004293127514330404; Training Loss 0.026550288037862378\n",
      "ANN [5, 100, 100, 100, 100, 1]; Episode 592; Testing Loss 0.003705999963577916; Training Loss 0.02442269095328707\n",
      "ANN [5, 100, 100, 100, 100, 1]; Episode 593; Testing Loss 0.0037954271543916332; Training Loss 0.022226725827005273\n",
      "ANN [5, 100, 100, 100, 100, 1]; Episode 594; Testing Loss 0.005563692787669763; Training Loss 0.02520606909408677\n",
      "ANN [5, 100, 100, 100, 100, 1]; Episode 595; Testing Loss 0.006411459658876223; Training Loss 0.028158062516166166\n",
      "ANN [5, 100, 100, 100, 100, 1]; Episode 596; Testing Loss 0.004353925446372965; Training Loss 0.02496104738949791\n",
      "ANN [5, 100, 100, 100, 100, 1]; Episode 597; Testing Loss 0.004536559334874268; Training Loss 0.024596772944273423\n",
      "ANN [5, 100, 100, 100, 100, 1]; Episode 598; Testing Loss 0.010288030799214557; Training Loss 0.02451538982553808\n",
      "ANN [5, 100, 100, 100, 100, 1]; Episode 599; Testing Loss 0.009379186472647533; Training Loss 0.02347156733236867\n",
      "ANN [5, 100, 100, 100, 100, 1]; Episode 600; Testing Loss 0.004751178809246248; Training Loss 0.02261494012055613\n",
      "ANN [5, 100, 100, 100, 100, 1]; Episode 601; Testing Loss 0.007478279426735815; Training Loss 0.023803175285292407\n",
      "ANN [5, 100, 100, 100, 100, 1]; Episode 602; Testing Loss 0.004879351445068311; Training Loss 0.023173136911182994\n",
      "ANN [5, 100, 100, 100, 100, 1]; Episode 603; Testing Loss 0.005614121158904814; Training Loss 0.02320505493198303\n",
      "ANN [5, 100, 100, 100, 100, 1]; Episode 604; Testing Loss 0.005349035470933889; Training Loss 0.025086861909554503\n",
      "ANN [5, 100, 100, 100, 100, 1]; Episode 605; Testing Loss 0.005556092423038785; Training Loss 0.02477753748765942\n",
      "ANN [5, 100, 100, 100, 100, 1]; Episode 606; Testing Loss 0.005369819636212534; Training Loss 0.02583489912550244\n",
      "ANN [5, 100, 100, 100, 100, 1]; Episode 607; Testing Loss 0.006843261987572134; Training Loss 0.023914869671933056\n",
      "ANN [5, 100, 100, 100, 100, 1]; Episode 608; Testing Loss 0.012600111215097515; Training Loss 0.024679362830590766\n",
      "ANN [5, 100, 100, 100, 100, 1]; Episode 609; Testing Loss 0.007471866304165667; Training Loss 0.023360532966376576\n",
      "ANN [5, 100, 100, 100, 100, 1]; Episode 610; Testing Loss 0.005203156772869375; Training Loss 0.02521329528212968\n",
      "ANN [5, 100, 100, 100, 100, 1]; Episode 611; Testing Loss 0.005382427555189591; Training Loss 0.022162992095723054\n",
      "ANN [5, 100, 100, 100, 100, 1]; Episode 612; Testing Loss 0.006033568333827078; Training Loss 0.024021859937978604\n",
      "ANN [5, 100, 100, 100, 100, 1]; Episode 613; Testing Loss 0.005959731700415005; Training Loss 0.027364583579670854\n",
      "ANN [5, 100, 100, 100, 100, 1]; Episode 614; Testing Loss 0.005144486170312242; Training Loss 0.022487371783559144\n",
      "ANN [5, 100, 100, 100, 100, 1]; Episode 615; Testing Loss 0.007400704844584391; Training Loss 0.023169428627981378\n",
      "ANN [5, 100, 100, 100, 100, 1]; Episode 616; Testing Loss 0.004394506849131353; Training Loss 0.021613673482239602\n",
      "ANN [5, 100, 100, 100, 100, 1]; Episode 617; Testing Loss 0.005651131830548337; Training Loss 0.022953901615002076\n",
      "ANN [5, 100, 100, 100, 100, 1]; Episode 618; Testing Loss 0.0058087715397357005; Training Loss 0.023913769786544845\n",
      "ANN [5, 100, 100, 100, 100, 1]; Episode 619; Testing Loss 0.0040807251545835034; Training Loss 0.024269540921701357\n",
      "ANN [5, 100, 100, 100, 100, 1]; Episode 620; Testing Loss 0.004425060643177065; Training Loss 0.02194163430336927\n",
      "ANN [5, 100, 100, 100, 100, 1]; Episode 621; Testing Loss 0.006900662546683133; Training Loss 0.02457403125095477\n",
      "ANN [5, 100, 100, 100, 100, 1]; Episode 622; Testing Loss 0.005456153110848733; Training Loss 0.02913132651073083\n",
      "ANN [5, 100, 100, 100, 100, 1]; Episode 623; Testing Loss 0.0046320484982818365; Training Loss 0.025317223554649253\n",
      "ANN [5, 100, 100, 100, 100, 1]; Episode 624; Testing Loss 0.005467799180939368; Training Loss 0.03278524674817264\n",
      "ANN [5, 100, 100, 100, 100, 1]; Episode 625; Testing Loss 0.005718720696388055; Training Loss 0.027128577418055726\n",
      "ANN [5, 100, 100, 100, 100, 1]; Episode 626; Testing Loss 0.004113890146116869; Training Loss 0.02778378932708111\n",
      "ANN [5, 100, 100, 100, 100, 1]; Episode 627; Testing Loss 0.008996213317734477; Training Loss 0.025985831719279272\n",
      "ANN [5, 100, 100, 100, 100, 1]; Episode 628; Testing Loss 0.011726492981983621; Training Loss 0.027821786257448616\n",
      "ANN [5, 100, 100, 100, 100, 1]; Episode 629; Testing Loss 0.0057793957266077025; Training Loss 0.023036264848013122\n",
      "ANN [5, 100, 100, 100, 100, 1]; Episode 630; Testing Loss 0.004393102575702539; Training Loss 0.024495941730788565\n",
      "ANN [5, 100, 100, 100, 100, 1]; Episode 631; Testing Loss 0.005692909387293318; Training Loss 0.023927284390096285\n",
      "ANN [5, 100, 100, 100, 100, 1]; Episode 632; Testing Loss 0.00548668585758263; Training Loss 0.024786659241730336\n",
      "ANN [5, 100, 100, 100, 100, 1]; Episode 633; Testing Loss 0.005791409255894501; Training Loss 0.02484416104696247\n",
      "ANN [5, 100, 100, 100, 100, 1]; Episode 634; Testing Loss 0.006242778148234956; Training Loss 0.02310837882688323\n",
      "ANN [5, 100, 100, 100, 100, 1]; Episode 635; Testing Loss 0.007332210689520122; Training Loss 0.02482308297091263\n",
      "ANN [5, 100, 100, 100, 100, 1]; Episode 636; Testing Loss 0.005476625938679213; Training Loss 0.02273095270155515\n",
      "ANN [5, 100, 100, 100, 100, 1]; Episode 637; Testing Loss 0.004548675677793104; Training Loss 0.02409766556362115\n",
      "ANN [5, 100, 100, 100, 100, 1]; Episode 638; Testing Loss 0.005832937350656561; Training Loss 0.023965644166807236\n",
      "ANN [5, 100, 100, 100, 100, 1]; Episode 639; Testing Loss 0.004404498103477596; Training Loss 0.02211763398308715\n",
      "ANN [5, 100, 100, 100, 100, 1]; Episode 640; Testing Loss 0.003944873872196347; Training Loss 0.023376991656748978\n",
      "ANN [5, 100, 100, 100, 100, 1]; Episode 641; Testing Loss 0.004370343241633208; Training Loss 0.022569334041574084\n",
      "ANN [5, 100, 100, 100, 100, 1]; Episode 642; Testing Loss 0.005343732529063977; Training Loss 0.022689179774720476\n",
      "ANN [5, 100, 100, 100, 100, 1]; Episode 643; Testing Loss 0.00626625022014689; Training Loss 0.02337782586138264\n",
      "ANN [5, 100, 100, 100, 100, 1]; Episode 644; Testing Loss 0.005126973902085925; Training Loss 0.021749929108686842\n",
      "ANN [5, 100, 100, 100, 100, 1]; Episode 645; Testing Loss 0.004356263378349442; Training Loss 0.02206332850259749\n",
      "ANN [5, 100, 100, 100, 100, 1]; Episode 646; Testing Loss 0.0037284197313436846; Training Loss 0.022118758456993425\n",
      "ANN [5, 100, 100, 100, 100, 1]; Episode 647; Testing Loss 0.003770571878847155; Training Loss 0.022215840480567198\n",
      "ANN [5, 100, 100, 100, 100, 1]; Episode 648; Testing Loss 0.0048737552170697975; Training Loss 0.021958585712252874\n",
      "ANN [5, 100, 100, 100, 100, 1]; Episode 649; Testing Loss 0.004370940752714478; Training Loss 0.02149253156925044\n",
      "ANN [5, 100, 100, 100, 100, 1]; Episode 650; Testing Loss 0.00415936401111828; Training Loss 0.02142961140032901\n",
      "ANN [5, 100, 100, 100, 100, 1]; Episode 651; Testing Loss 0.004356933229387718; Training Loss 0.02113483383236558\n",
      "ANN [5, 100, 100, 100, 100, 1]; Episode 652; Testing Loss 0.004720617921691971; Training Loss 0.021132714035637514\n",
      "ANN [5, 100, 100, 100, 100, 1]; Episode 653; Testing Loss 0.00478693171576451; Training Loss 0.02186034937554559\n",
      "ANN [5, 100, 100, 100, 100, 1]; Episode 654; Testing Loss 0.004122838398269597; Training Loss 0.025051660250947894\n",
      "ANN [5, 100, 100, 100, 100, 1]; Episode 655; Testing Loss 0.003631156380250844; Training Loss 0.02645309608479035\n",
      "ANN [5, 100, 100, 100, 100, 1]; Episode 656; Testing Loss 0.003354971359033011; Training Loss 0.023173480039585893\n",
      "ANN [5, 100, 100, 100, 100, 1]; Episode 657; Testing Loss 0.0054121474527534675; Training Loss 0.026864393265898685\n"
     ]
    },
    {
     "name": "stdout",
     "output_type": "stream",
     "text": [
      "ANN [5, 100, 100, 100, 100, 1]; Episode 658; Testing Loss 0.007812272619619304; Training Loss 0.02613423012706681\n",
      "ANN [5, 100, 100, 100, 100, 1]; Episode 659; Testing Loss 0.004589306122712055; Training Loss 0.02369224815641782\n",
      "ANN [5, 100, 100, 100, 100, 1]; Episode 660; Testing Loss 0.003957521324034974; Training Loss 0.02518296713503478\n",
      "ANN [5, 100, 100, 100, 100, 1]; Episode 661; Testing Loss 0.004463295241537954; Training Loss 0.02208973322235922\n",
      "ANN [5, 100, 100, 100, 100, 1]; Episode 662; Testing Loss 0.00613818045629016; Training Loss 0.02375987453413502\n",
      "ANN [5, 100, 100, 100, 100, 1]; Episode 663; Testing Loss 0.005320917099136023; Training Loss 0.024581258066624798\n",
      "ANN [5, 100, 100, 100, 100, 1]; Episode 664; Testing Loss 0.007407595068418639; Training Loss 0.026755707900151048\n",
      "ANN [5, 100, 100, 100, 100, 1]; Episode 665; Testing Loss 0.008053905831736877; Training Loss 0.025304800468597365\n",
      "ANN [5, 100, 100, 100, 100, 1]; Episode 666; Testing Loss 0.004749517271966671; Training Loss 0.02212763137685041\n",
      "ANN [5, 100, 100, 100, 100, 1]; Episode 667; Testing Loss 0.005662297567395764; Training Loss 0.02256140628203825\n",
      "ANN [5, 100, 100, 100, 100, 1]; Episode 668; Testing Loss 0.006133254707784785; Training Loss 0.023568893376357748\n",
      "ANN [5, 100, 100, 100, 100, 1]; Episode 669; Testing Loss 0.004479064071040576; Training Loss 0.023390614650756647\n",
      "ANN [5, 100, 100, 100, 100, 1]; Episode 670; Testing Loss 0.003938351057174929; Training Loss 0.02268593134903206\n",
      "ANN [5, 100, 100, 100, 100, 1]; Episode 671; Testing Loss 0.004636192554083065; Training Loss 0.021639777817694585\n",
      "ANN [5, 100, 100, 100, 100, 1]; Episode 672; Testing Loss 0.005562422563465522; Training Loss 0.022129084440957382\n",
      "ANN [5, 100, 100, 100, 100, 1]; Episode 673; Testing Loss 0.005462590283832586; Training Loss 0.022144874110475134\n",
      "ANN [5, 100, 100, 100, 100, 1]; Episode 674; Testing Loss 0.006146025621838384; Training Loss 0.022709434613193087\n",
      "ANN [5, 100, 100, 100, 100, 1]; Episode 675; Testing Loss 0.00531082529669948; Training Loss 0.025409293547802258\n",
      "ANN [5, 100, 100, 100, 100, 1]; Episode 676; Testing Loss 0.004277207514883611; Training Loss 0.026680393527160246\n",
      "ANN [5, 100, 100, 100, 100, 1]; Episode 677; Testing Loss 0.004580561253386023; Training Loss 0.02167087384116436\n",
      "ANN [5, 100, 100, 100, 100, 1]; Episode 678; Testing Loss 0.006047279992166618; Training Loss 0.024427394238371435\n",
      "ANN [5, 100, 100, 100, 100, 1]; Episode 679; Testing Loss 0.004498513500218904; Training Loss 0.02556202482609508\n",
      "ANN [5, 100, 100, 100, 100, 1]; Episode 680; Testing Loss 0.003979187437030942; Training Loss 0.022960436944751927\n",
      "ANN [5, 100, 100, 100, 100, 1]; Episode 681; Testing Loss 0.005149150739753265; Training Loss 0.023511659829280496\n",
      "ANN [5, 100, 100, 100, 100, 1]; Episode 682; Testing Loss 0.004629412241383893; Training Loss 0.0246850478710841\n",
      "ANN [5, 100, 100, 100, 100, 1]; Episode 683; Testing Loss 0.004915618418121968; Training Loss 0.022978469503553596\n",
      "ANN [5, 100, 100, 100, 100, 1]; Episode 684; Testing Loss 0.006720937029951088; Training Loss 0.024403477517099783\n",
      "ANN [5, 100, 100, 100, 100, 1]; Episode 685; Testing Loss 0.005920736874446346; Training Loss 0.023942302629032245\n",
      "ANN [5, 100, 100, 100, 100, 1]; Episode 686; Testing Loss 0.005199533474710039; Training Loss 0.02273338652507418\n",
      "ANN [5, 100, 100, 100, 100, 1]; Episode 687; Testing Loss 0.004703832751316687; Training Loss 0.02359837199091771\n",
      "ANN [5, 100, 100, 100, 100, 1]; Episode 688; Testing Loss 0.004220042763804668; Training Loss 0.02226135408069565\n",
      "ANN [5, 100, 100, 100, 100, 1]; Episode 689; Testing Loss 0.003966962307590449; Training Loss 0.022766410752048886\n",
      "ANN [5, 100, 100, 100, 100, 1]; Episode 690; Testing Loss 0.004117781278720436; Training Loss 0.022326962842065354\n",
      "ANN [5, 100, 100, 100, 100, 1]; Episode 691; Testing Loss 0.0035213715552088313; Training Loss 0.0233546872953877\n",
      "ANN [5, 100, 100, 100, 100, 1]; Episode 692; Testing Loss 0.0035632829391289292; Training Loss 0.02233339885223459\n"
     ]
    },
    {
     "ename": "KeyboardInterrupt",
     "evalue": "",
     "output_type": "error",
     "traceback": [
      "\u001b[0;31m---------------------------------------------------------------------------\u001b[0m",
      "\u001b[0;31mKeyboardInterrupt\u001b[0m                         Traceback (most recent call last)",
      "\u001b[0;32m<ipython-input-104-06f0afddab72>\u001b[0m in \u001b[0;36m<module>\u001b[0;34m\u001b[0m\n\u001b[0;32m----> 1\u001b[0;31m \u001b[0mmlp\u001b[0m\u001b[0;34m.\u001b[0m\u001b[0mtrain\u001b[0m\u001b[0;34m(\u001b[0m\u001b[0mdb\u001b[0m\u001b[0;34m.\u001b[0m\u001b[0mi\u001b[0m\u001b[0;34m[\u001b[0m\u001b[0;34m:\u001b[0m\u001b[0;36m10000\u001b[0m\u001b[0;34m]\u001b[0m\u001b[0;34m,\u001b[0m \u001b[0mdb\u001b[0m\u001b[0;34m.\u001b[0m\u001b[0mo\u001b[0m\u001b[0;34m[\u001b[0m\u001b[0;34m:\u001b[0m\u001b[0;36m10000\u001b[0m\u001b[0;34m]\u001b[0m\u001b[0;34m,\u001b[0m \u001b[0mepo\u001b[0m\u001b[0;34m=\u001b[0m\u001b[0;36m5000\u001b[0m\u001b[0;34m,\u001b[0m \u001b[0mlr\u001b[0m\u001b[0;34m=\u001b[0m\u001b[0;36m1e-3\u001b[0m\u001b[0;34m,\u001b[0m \u001b[0mgpu\u001b[0m\u001b[0;34m=\u001b[0m\u001b[0;32mTrue\u001b[0m\u001b[0;34m,\u001b[0m \u001b[0mptst\u001b[0m\u001b[0;34m=\u001b[0m\u001b[0;36m0.001\u001b[0m\u001b[0;34m)\u001b[0m\u001b[0;34m\u001b[0m\u001b[0;34m\u001b[0m\u001b[0m\n\u001b[0m",
      "\u001b[0;32m~/dev/iros2019/src/ann.py\u001b[0m in \u001b[0;36mtrain\u001b[0;34m(self, idat, odat, epo, lr, ptst, gpu)\u001b[0m\n\u001b[1;32m     92\u001b[0m \u001b[0;34m\u001b[0m\u001b[0m\n\u001b[1;32m     93\u001b[0m             \u001b[0;31m# training loss\u001b[0m\u001b[0;34m\u001b[0m\u001b[0;34m\u001b[0m\u001b[0;34m\u001b[0m\u001b[0m\n\u001b[0;32m---> 94\u001b[0;31m             \u001b[0mltrn\u001b[0m \u001b[0;34m=\u001b[0m \u001b[0mlf\u001b[0m\u001b[0;34m(\u001b[0m\u001b[0mself\u001b[0m\u001b[0;34m(\u001b[0m\u001b[0mitrn\u001b[0m\u001b[0;34m)\u001b[0m\u001b[0;34m,\u001b[0m \u001b[0motrn\u001b[0m\u001b[0;34m)\u001b[0m\u001b[0;34m\u001b[0m\u001b[0;34m\u001b[0m\u001b[0m\n\u001b[0m\u001b[1;32m     95\u001b[0m \u001b[0;34m\u001b[0m\u001b[0m\n\u001b[1;32m     96\u001b[0m             \u001b[0;31m# record losses\u001b[0m\u001b[0;34m\u001b[0m\u001b[0;34m\u001b[0m\u001b[0;34m\u001b[0m\u001b[0m\n",
      "\u001b[0;32m/usr/local/lib/python3.6/dist-packages/torch/nn/modules/module.py\u001b[0m in \u001b[0;36m__call__\u001b[0;34m(self, *input, **kwargs)\u001b[0m\n\u001b[1;32m    487\u001b[0m             \u001b[0mresult\u001b[0m \u001b[0;34m=\u001b[0m \u001b[0mself\u001b[0m\u001b[0;34m.\u001b[0m\u001b[0m_slow_forward\u001b[0m\u001b[0;34m(\u001b[0m\u001b[0;34m*\u001b[0m\u001b[0minput\u001b[0m\u001b[0;34m,\u001b[0m \u001b[0;34m**\u001b[0m\u001b[0mkwargs\u001b[0m\u001b[0;34m)\u001b[0m\u001b[0;34m\u001b[0m\u001b[0;34m\u001b[0m\u001b[0m\n\u001b[1;32m    488\u001b[0m         \u001b[0;32melse\u001b[0m\u001b[0;34m:\u001b[0m\u001b[0;34m\u001b[0m\u001b[0;34m\u001b[0m\u001b[0m\n\u001b[0;32m--> 489\u001b[0;31m             \u001b[0mresult\u001b[0m \u001b[0;34m=\u001b[0m \u001b[0mself\u001b[0m\u001b[0;34m.\u001b[0m\u001b[0mforward\u001b[0m\u001b[0;34m(\u001b[0m\u001b[0;34m*\u001b[0m\u001b[0minput\u001b[0m\u001b[0;34m,\u001b[0m \u001b[0;34m**\u001b[0m\u001b[0mkwargs\u001b[0m\u001b[0;34m)\u001b[0m\u001b[0;34m\u001b[0m\u001b[0;34m\u001b[0m\u001b[0m\n\u001b[0m\u001b[1;32m    490\u001b[0m         \u001b[0;32mfor\u001b[0m \u001b[0mhook\u001b[0m \u001b[0;32min\u001b[0m \u001b[0mself\u001b[0m\u001b[0;34m.\u001b[0m\u001b[0m_forward_hooks\u001b[0m\u001b[0;34m.\u001b[0m\u001b[0mvalues\u001b[0m\u001b[0;34m(\u001b[0m\u001b[0;34m)\u001b[0m\u001b[0;34m:\u001b[0m\u001b[0;34m\u001b[0m\u001b[0;34m\u001b[0m\u001b[0m\n\u001b[1;32m    491\u001b[0m             \u001b[0mhook_result\u001b[0m \u001b[0;34m=\u001b[0m \u001b[0mhook\u001b[0m\u001b[0;34m(\u001b[0m\u001b[0mself\u001b[0m\u001b[0;34m,\u001b[0m \u001b[0minput\u001b[0m\u001b[0;34m,\u001b[0m \u001b[0mresult\u001b[0m\u001b[0;34m)\u001b[0m\u001b[0;34m\u001b[0m\u001b[0;34m\u001b[0m\u001b[0m\n",
      "\u001b[0;32m/usr/local/lib/python3.6/dist-packages/torch/nn/modules/loss.py\u001b[0m in \u001b[0;36mforward\u001b[0;34m(self, input, target)\u001b[0m\n\u001b[1;32m    433\u001b[0m     \u001b[0;34m@\u001b[0m\u001b[0mweak_script_method\u001b[0m\u001b[0;34m\u001b[0m\u001b[0;34m\u001b[0m\u001b[0m\n\u001b[1;32m    434\u001b[0m     \u001b[0;32mdef\u001b[0m \u001b[0mforward\u001b[0m\u001b[0;34m(\u001b[0m\u001b[0mself\u001b[0m\u001b[0;34m,\u001b[0m \u001b[0minput\u001b[0m\u001b[0;34m,\u001b[0m \u001b[0mtarget\u001b[0m\u001b[0;34m)\u001b[0m\u001b[0;34m:\u001b[0m\u001b[0;34m\u001b[0m\u001b[0;34m\u001b[0m\u001b[0m\n\u001b[0;32m--> 435\u001b[0;31m         \u001b[0;32mreturn\u001b[0m \u001b[0mF\u001b[0m\u001b[0;34m.\u001b[0m\u001b[0mmse_loss\u001b[0m\u001b[0;34m(\u001b[0m\u001b[0minput\u001b[0m\u001b[0;34m,\u001b[0m \u001b[0mtarget\u001b[0m\u001b[0;34m,\u001b[0m \u001b[0mreduction\u001b[0m\u001b[0;34m=\u001b[0m\u001b[0mself\u001b[0m\u001b[0;34m.\u001b[0m\u001b[0mreduction\u001b[0m\u001b[0;34m)\u001b[0m\u001b[0;34m\u001b[0m\u001b[0;34m\u001b[0m\u001b[0m\n\u001b[0m\u001b[1;32m    436\u001b[0m \u001b[0;34m\u001b[0m\u001b[0m\n\u001b[1;32m    437\u001b[0m \u001b[0;34m\u001b[0m\u001b[0m\n",
      "\u001b[0;32m/usr/local/lib/python3.6/dist-packages/torch/nn/functional.py\u001b[0m in \u001b[0;36mmse_loss\u001b[0;34m(input, target, size_average, reduce, reduction)\u001b[0m\n\u001b[1;32m   2154\u001b[0m     \u001b[0;32melse\u001b[0m\u001b[0;34m:\u001b[0m\u001b[0;34m\u001b[0m\u001b[0;34m\u001b[0m\u001b[0m\n\u001b[1;32m   2155\u001b[0m         \u001b[0mexpanded_input\u001b[0m\u001b[0;34m,\u001b[0m \u001b[0mexpanded_target\u001b[0m \u001b[0;34m=\u001b[0m \u001b[0mtorch\u001b[0m\u001b[0;34m.\u001b[0m\u001b[0mbroadcast_tensors\u001b[0m\u001b[0;34m(\u001b[0m\u001b[0minput\u001b[0m\u001b[0;34m,\u001b[0m \u001b[0mtarget\u001b[0m\u001b[0;34m)\u001b[0m\u001b[0;34m\u001b[0m\u001b[0;34m\u001b[0m\u001b[0m\n\u001b[0;32m-> 2156\u001b[0;31m         \u001b[0mret\u001b[0m \u001b[0;34m=\u001b[0m \u001b[0mtorch\u001b[0m\u001b[0;34m.\u001b[0m\u001b[0m_C\u001b[0m\u001b[0;34m.\u001b[0m\u001b[0m_nn\u001b[0m\u001b[0;34m.\u001b[0m\u001b[0mmse_loss\u001b[0m\u001b[0;34m(\u001b[0m\u001b[0mexpanded_input\u001b[0m\u001b[0;34m,\u001b[0m \u001b[0mexpanded_target\u001b[0m\u001b[0;34m,\u001b[0m \u001b[0m_Reduction\u001b[0m\u001b[0;34m.\u001b[0m\u001b[0mget_enum\u001b[0m\u001b[0;34m(\u001b[0m\u001b[0mreduction\u001b[0m\u001b[0;34m)\u001b[0m\u001b[0;34m)\u001b[0m\u001b[0;34m\u001b[0m\u001b[0;34m\u001b[0m\u001b[0m\n\u001b[0m\u001b[1;32m   2157\u001b[0m     \u001b[0;32mreturn\u001b[0m \u001b[0mret\u001b[0m\u001b[0;34m\u001b[0m\u001b[0;34m\u001b[0m\u001b[0m\n\u001b[1;32m   2158\u001b[0m \u001b[0;34m\u001b[0m\u001b[0m\n",
      "\u001b[0;31mKeyboardInterrupt\u001b[0m: "
     ]
    }
   ],
   "source": [
    "mlp.train(db.i[:10000], db.o[:10000], epo=5000, lr=1e-3, gpu=True, ptst=0.001)"
   ]
  },
  {
   "cell_type": "code",
   "execution_count": null,
   "metadata": {},
   "outputs": [],
   "source": [
    "%matplotlib\n",
    "fig, ax = plt.subplots(1, sharex=True, sharey=False)\n",
    "\n",
    "# line colours\n",
    "colors = np.linspace(0.8, 0, 4)\n",
    "\n",
    "# pendulum nets\n",
    "\n",
    "for i, net in enumerate(pnets):\n",
    "    ax.plot(net.ltrn, color=str(colors[i]), linestyle=\"-\", label=r'${} \\times {}$'.format(net.shape[1], net.nl-2))\n",
    "    ax.plot(net.ltst, color=str(colors[i]), linestyle=\"--\")\n",
    "\n",
    "#ax.plot(mlp.ltrn, color=\"k\", linestyle=\"-\")\n",
    "#ax.plot(mlp.ltst, color=\"k\", linestyle=\"--\")\n",
    "\n",
    "ax.set_xscale('log')\n",
    "#ax.set_yscale('log')\n",
    "ax.set_ylabel(r'$MSE$')\n",
    "ax.yaxis.set_major_formatter(FormatStrFormatter('%.2f'))\n",
    "fig.tight_layout()\n",
    "ax.legend(loc='best')\n",
    "plt.show()"
   ]
  },
  {
   "cell_type": "code",
   "execution_count": null,
   "metadata": {},
   "outputs": [],
   "source": [
    "[min(net.ltrn) for net in pnets]"
   ]
  },
  {
   "cell_type": "code",
   "execution_count": null,
   "metadata": {},
   "outputs": [],
   "source": [
    "[min(net.ltst) for net in pnets]"
   ]
  },
  {
   "cell_type": "code",
   "execution_count": 105,
   "metadata": {},
   "outputs": [
    {
     "name": "stdout",
     "output_type": "stream",
     "text": [
      "[5, 100, 100, 100, 100, 1]\n"
     ]
    }
   ],
   "source": [
    "#mlp = pnets[np.argmin([net.ltrn[-1] for net in pnets])]\n",
    "mlp.cpu()\n",
    "print(mlp.shape)"
   ]
  },
  {
   "cell_type": "markdown",
   "metadata": {},
   "source": [
    "## Simulating the neural network controller"
   ]
  },
  {
   "cell_type": "code",
   "execution_count": 106,
   "metadata": {},
   "outputs": [],
   "source": [
    "res = np.load('pqhdb.npy')"
   ]
  },
  {
   "cell_type": "code",
   "execution_count": 108,
   "metadata": {},
   "outputs": [
    {
     "data": {
      "image/png": "[encoded data removed]",
      "text/plain": [
       "<Figure size 432x288 with 1 Axes>"
      ]
     },
     "metadata": {
      "needs_background": "light"
     },
     "output_type": "display_data"
    },
    {
     "data": {
      "image/png": "[encoded data removed]",
      "text/plain": [
       "<Figure size 432x288 with 1 Axes>"
      ]
     },
     "metadata": {
      "needs_background": "light"
     },
     "output_type": "display_data"
    },
    {
     "name": "stdout",
     "output_type": "stream",
     "text": [
      "[0. 2. 4. 6.] [0.  0.5 1. ]\n"
     ]
    }
   ],
   "source": [
    "# times at which to switch\n",
    "tfs = np.linspace(0, 6, 4)\n",
    "\n",
    "# new alpha parameters\n",
    "alphas = np.linspace(0, 1, len(tfs)-1)\n",
    "\n",
    "# starting position\n",
    "s0 = [0, 0, 3.141592653589793, 0]\n",
    "\n",
    "# records\n",
    "TL = np.empty(0)\n",
    "SL = np.empty((0, seg.sdim))\n",
    "UL = np.empty(0)\n",
    "\n",
    "for i in range(len(tfs) - 1):\n",
    "    \n",
    "    # propagate\n",
    "    tl, sl, ul = seg.propagate_controller(tfs[i+1] - tfs[i], s0, mlp.predict, alphas[i], atol=1e-13, rtol=1e-13)\n",
    "    \n",
    "    # new initial state\n",
    "    s0 = sl[-1]\n",
    "    \n",
    "    # records\n",
    "    TL = np.hstack((TL, tl + tfs[i]))\n",
    "    SL = np.vstack((SL, sl))\n",
    "    UL = np.hstack((UL, ul))\n",
    "    \n",
    "# plot controls\n",
    "fig, ax = plt.subplots(1)\n",
    "ax.plot(TL, UL, \"k-\")\n",
    "ax.set_xlabel(r\"$t$\")\n",
    "ax.set_ylabel(r\"$u$\")\n",
    "ax.set_xlim(-0.1, 7.1)\n",
    "ax.set_ylim(-1.1, 1.1)\n",
    "fig.tight_layout()\n",
    "fig.savefig(\"pendulum_switching_control.pdf\", bbox_inches=\"tight\")\n",
    "plt.show()\n",
    "\n",
    "# plot trajectory\n",
    "fig, ax = plt.subplots(1)\n",
    "x = SL[:,0] + np.sin(SL[:,2])\n",
    "y = np.cos(SL[:,2])\n",
    "ax.plot(x, y, \"k-\")\n",
    "ax.set_aspect(\"equal\")\n",
    "ax.set_xlabel(r\"$x + \\sin(\\theta)$\")\n",
    "ax.set_ylabel(r\"$\\cos(\\theta)$\")\n",
    "ax.set_xlim(-0.1, 1.6)\n",
    "ax.set_ylim(-1.1, 1.1)\n",
    "fig.tight_layout()\n",
    "fig.savefig(\"pendulum_switching_traj.pdf\", bbox_inches=\"tight\")\n",
    "plt.show()\n",
    "print(tfs, alphas)"
   ]
  },
  {
   "cell_type": "code",
   "execution_count": null,
   "metadata": {},
   "outputs": [],
   "source": [
    "# switching the objective times\n",
    "tfs = [2, 4, 5]\n",
    "alphas = [0, 0.5, 1]\n",
    "\n",
    "# starting condition\n",
    "s0 = res[0][0]\n",
    "\n",
    "# propagate to some time\n",
    "tl, sl, ul = seg.propagate_controller(ts[0], s0, mlp.predict, alphas[0], atol=1e-13, rtol=1e-13)\n",
    "\n",
    "# initiate lists\n",
    "TL = np.copy(tl)\n",
    "SL = np.copy(sl)\n",
    "UL = np.copy(ul)\n",
    "\n",
    "# new starting state\n",
    "s0 = sl[-1]\n",
    "tl, sl, ul = seg.propagate_controller(tfs[1] - tl[-1], s0, mlp.predict, alphas[1], atol=1e-13, rtol=1e-13)\n",
    "TL = np.hstack((TL, tl + tfs[1]))\n",
    "SL = np.vstack((SL, sl))\n",
    "UL = np.hstack((UL, ul))\n",
    "SL"
   ]
  },
  {
   "cell_type": "code",
   "execution_count": null,
   "metadata": {},
   "outputs": [],
   "source": [
    "s0"
   ]
  },
  {
   "cell_type": "code",
   "execution_count": null,
   "metadata": {},
   "outputs": [],
   "source": [
    "fig, ax = plt.subplots(1)\n",
    "fig1, ax1 = plt.subplots(1)\n",
    "na = 11\n",
    "sa = np.linspace(0, 1, na)\n",
    "\n",
    "for i, a in enumerate(sa):\n",
    "    \n",
    "    # get decision vector and homotopy parameter\n",
    "    s0, z, alpha = res[np.argmin(abs(res[:105, 2] - a))]\n",
    "    tf = z[0]\n",
    "    \n",
    "    # compute trajectory with policy \n",
    "    tl, sl, ul = seg.propagate_controller(tf, s0, mlp.predict, alpha, atol=1e-13, rtol=1e-13)\n",
    "    \n",
    "    # compute pendulum endpoints\n",
    "    x = sl[:,0] + np.sin(sl[:,2])\n",
    "    y = np.cos(sl[:,2])\n",
    "    \n",
    "    # plot traj and controls\n",
    "    ax.plot(x, y, \"k-\", alpha=0.4)\n",
    "    ax1.plot(tl, ul, \"k-\", alpha=0.4)\n",
    "    \n",
    "ax.set_aspect('equal')\n",
    "ax.set_xlabel(r'$f$')\n",
    "ax.set_xlabel(r\"$x + \\sin\\left(\\theta\\right)$\")\n",
    "ax.set_ylabel(r\"$\\cos\\left(\\theta\\right)$\")\n",
    "ax1.set_xlabel(r'$t$')\n",
    "ax1.set_ylabel(r'$u$')\n",
    "plt.show()\n",
    "fig.savefig(\"pann_control.pdf\", bbox_inches='tight')\n",
    "fig1.savefig(\"pann_traj.pdf\", bbox_inches='tight')"
   ]
  },
  {
   "cell_type": "markdown",
   "metadata": {},
   "source": [
    "## Neural network accuracy"
   ]
  },
  {
   "cell_type": "code",
   "execution_count": null,
   "metadata": {},
   "outputs": [],
   "source": [
    "n = 2\n",
    "\n",
    "fig, ax = plt.subplots(n, sharex=True)\n",
    "s = np.array([0, 0, np.pi, 0])\n",
    "il = np.linspace(0, len(sols)-1, n, dtype=int)\n",
    "for i, j in zip(il, range(n)):\n",
    "    \n",
    "    # simulate\n",
    "    z = sols[i][0]\n",
    "    alpha = sols[i][1]\n",
    "    tl, sl, ul = seg.propagate(z[0], s, z[1:], alpha, u=True)\n",
    "    tst = torch.tensor(np.hstack((sl[:, :seg.sdim], np.full((len(sl), 1), alpha))))\n",
    "    tst = mlp(tst).detach().numpy().flatten()\n",
    "    ax[j].plot(tl, ul, \"k--\")\n",
    "    ax[j].plot(tl, tst, \"k-\", alpha=0.5)\n",
    "    ax[j].set_title(r'$\\alpha = {:.0f}$'.format(alpha))\n",
    "    ax[j].set_ylabel(r'$u$')\n",
    "    \n",
    "ax[-1].set_xlabel(r'$\\tau$')\n",
    "ax[-1].legend(['Ground truth', 'Prediction'])\n",
    "    \n",
    "plt.tight_layout()\n",
    "plt.show()\n",
    "fig.savefig('punn.pdf', bbox_inches='tight')\n",
    "fig1.savefig('punn_trajs.pdf', bbox_inches='tight')"
   ]
  },
  {
   "cell_type": "code",
   "execution_count": null,
   "metadata": {},
   "outputs": [],
   "source": [
    "%matplotlib\n",
    "# solutions\n",
    "sols = np.load(\"ph.npy\")\n",
    "\n",
    "# number of homotopy parameters to sample\n",
    "na = 2\n",
    "\n",
    "# sample homotopy parameters\n",
    "sa = np.linspace(0, 1, na)\n",
    "\n",
    "# plot everything\n",
    "fig, ax = plt.subplots(1)\n",
    "for a in sa:\n",
    "    \n",
    "    # get homotopy solution instance\n",
    "    z, alpha = sols[np.argmin(abs(sols[:,1] - a))]\n",
    "    T = z[0]\n",
    "    l0 = z[1:]\n",
    "    \n",
    "    # propagate trajectory with Pontryagin\n",
    "    tl, sl, ul = seg.propagate(T, s0, l0, alpha, u=True)\n",
    "    ax.plot(tl, ul, \"k--\")\n",
    "    \n",
    "    # predict controls with neural network\n",
    "    tst = torch.tensor(np.hstack((sl[:, :seg.sdim], np.full((len(sl), 1), alpha))))\n",
    "    tst = mlp(tst).detach().numpy().flatten()\n",
    "    ax.plot(tl, tst, \"k-\", alpha=0.5)\n",
    "    \n",
    "    # propagate trajectory with neural network\n",
    "    #tl, sl, ul = seg.propagate_controller(T, s0, mlp.predict, alpha, atol=1e-13, rtol=1e-13)\n",
    "    #ax.plot(tl, ul, \"k-\", alpha=0.5)\n",
    "    \n",
    "plt.show()"
   ]
  },
  {
   "cell_type": "markdown",
   "metadata": {},
   "source": [
    "## Policy trajectory optimality\n",
    "Algorithm 1 Policy trajectory optimality\n",
    "1: Given initial state xo and final time tf of trajectory from test set\n",
    "2: Compute trajectory arising from policy with initial state xo and integration time tf\n",
    "3: Extract final state xf from policy trajectory\n",
    "4: Solve for optimal trajectory with initial state xo and final state xf\n",
    "5: Evaluate objective function on policy trajectory and optimal trajectory: j\n",
    "π\n",
    ", j\n",
    "∗\n",
    "6: Compute relative error: (j\n",
    "π − j\n",
    "∗\n",
    ")/j∗"
   ]
  },
  {
   "cell_type": "code",
   "execution_count": null,
   "metadata": {},
   "outputs": [],
   "source": [
    "# given an initial state x0\n",
    "# got it!\n",
    "\n",
    "fig, ax = plt.subplots(1)\n",
    "fig1, ax1 = plt.subplots(1)\n",
    "seg.sf = np.zeros(seg.sdim)\n",
    "\n",
    "# and final time tf\n",
    "i = 0\n",
    "z = sols[i][0]\n",
    "tf = z[0]\n",
    "alpha = sols[i][1]\n",
    "beta = 1\n",
    "\n",
    "# compute trajectory with policy with x0 and tf\n",
    "tl, sl, ul = seg.propagate_controller(tf, s0, mlp.predict, alpha, atol=1e-12, rtol=1e-12)\n",
    "x = sl[:,0] + np.sin(sl[:,2])\n",
    "y = np.cos(sl[:,2])\n",
    "ax.plot(x, y, \"k-\")\n",
    "ax1.plot(tl, ul, \"k-\")\n",
    "jp = seg.lagrangian(ul, alpha, beta)\n",
    "jp = simps(jp, tl)\n",
    "\n",
    "# extract final state from policy trajectory\n",
    "# solve the trajectory from initial state to policy trajectory final state\n",
    "seg.sf = sl[-1, :seg.sdim]\n",
    "z, f, feas = seg.solve(s0, alpha, Tlb, Tub, lb=100, z=z)\n",
    "tl, sl, ul = seg.propagate(z[0], s0, z[1:], alpha, atol=1e-12, rtol=1e-12, u=True)\n",
    "x = sl[:,0] + np.sin(sl[:,2])\n",
    "y = np.cos(sl[:,2])\n",
    "ax.plot(x, y, \"k--\")\n",
    "ax1.plot(tl, ul, \"k--\")\n",
    "ax.set_aspect('equal')\n",
    "jo = seg.lagrangian(ul, alpha, beta)\n",
    "jo = simps(jo, tl)\n",
    "plt.show()\n",
    "alpha"
   ]
  },
  {
   "cell_type": "code",
   "execution_count": null,
   "metadata": {},
   "outputs": [],
   "source": [
    "# number of homotopy parameters to sample\n",
    "na = 11\n",
    "beta = 0\n",
    "\n",
    "# sample homotopy parameters\n",
    "sa = np.linspace(0, 1, na)\n",
    "\n",
    "# results\n",
    "opt_array = np.zeros((na, len(pnets)))\n",
    "\n",
    "# for each pendulum net\n",
    "for i, net in enumerate(pnets):\n",
    "    net.cpu()\n",
    "    \n",
    "    # for each homotopy parameter\n",
    "    for j, a in enumerate(sa):\n",
    "\n",
    "        # get decision vector and homotopy parameter\n",
    "        seg.sf = np.zeros(seg.sdim)\n",
    "        z, alpha = sols[np.argmin(abs(sols[:,1] - a))]\n",
    "        tf = z[0]\n",
    "\n",
    "        # compute trajectory with policy with x0 and tf\n",
    "        tl, sl, ul = seg.propagate_controller(tf, s0, net.predict, alpha, atol=1e-12, rtol=1e-12)\n",
    "\n",
    "        # compute cost of policy trajectory\n",
    "        jp = seg.lagrangian(ul, alpha, beta)\n",
    "        jp = simps(jp, tl)\n",
    "\n",
    "        # compute optimal trajectory to xf from policy trajectory\n",
    "        seg.sf = sl[-1, :seg.sdim]\n",
    "        z, f, feas = seg.solve(s0, alpha, Tlb, Tub, lb=100, z=z)\n",
    "        tl, sl, ul = seg.propagate(z[0], s0, z[1:], alpha, atol=1e-12, rtol=1e-12, u=True)\n",
    "\n",
    "        # compute cost of optimal trajectory\n",
    "        jo = seg.lagrangian(ul, alpha, beta)\n",
    "        jo = simps(jo, tl)\n",
    "        \n",
    "        # compute relative optimality\n",
    "        e = abs(jp - jo)/jo\n",
    "        \n",
    "        # message\n",
    "        print(\"The optimality of net {} at alpha = {:.4f} is {:6f}\".format(net.shape, alpha, e*100))\n",
    "        \n",
    "        # record\n",
    "        opt_array[j, i] = e "
   ]
  },
  {
   "cell_type": "code",
   "execution_count": null,
   "metadata": {
    "scrolled": true
   },
   "outputs": [],
   "source": [
    "import pandas as pd"
   ]
  },
  {
   "cell_type": "code",
   "execution_count": null,
   "metadata": {},
   "outputs": [],
   "source": [
    "cols = [r'${} \\times {}$'.format(net.shape[1], net.nl) for net in pnets]\n",
    "rows = ['{:.1f}'.format(a) for a in sa]\n",
    "df = pd.DataFrame(opt_array*100, columns=cols, index=rows)\n",
    "print(df.to_latex(header=\"Architecture\"))"
   ]
  },
  {
   "cell_type": "code",
   "execution_count": null,
   "metadata": {},
   "outputs": [],
   "source": [
    "df.mean(axis=0)"
   ]
  },
  {
   "cell_type": "code",
   "execution_count": null,
   "metadata": {},
   "outputs": [],
   "source": []
  }
 ],
 "metadata": {
  "kernelspec": {
   "display_name": "Python 3",
   "language": "python",
   "name": "python3"
  },
  "language_info": {
   "codemirror_mode": {
    "name": "ipython",
    "version": 3
   },
   "file_extension": ".py",
   "mimetype": "text/x-python",
   "name": "python",
   "nbconvert_exporter": "python",
   "pygments_lexer": "ipython3",
   "version": "3.6.7"
  }
 },
 "nbformat": 4,
 "nbformat_minor": 2
}
