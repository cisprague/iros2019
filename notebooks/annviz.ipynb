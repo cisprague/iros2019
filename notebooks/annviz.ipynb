{
 "cells": [
  {
   "cell_type": "code",
   "execution_count": 1,
   "metadata": {},
   "outputs": [],
   "source": [
    "import matplotlib.pyplot as plt\n",
    "from matplotlib.offsetbox import TextArea, DrawingArea, OffsetImage, AnnotationBbox\n",
    "import pandas as pd\n",
    "import cloudpickle as cp\n",
    "import sys; sys.path.append(\"../src\")\n",
    "from ann import *"
   ]
  },
  {
   "cell_type": "code",
   "execution_count": null,
   "metadata": {},
   "outputs": [],
   "source": [
    "# make figure\n",
    "fig = plt.figure(figsize=(12, 12))\n",
    "ax = fig.gca()\n",
    "ax.axis('off')\n",
    "#draw_neural_net(ax,[ 6, 3, 3, 1])\n",
    "#plt.show()\n",
    "\n",
    "# shape\n",
    "shape = [6, 1, 3, 1, 3]\n",
    "\n",
    "# number of layers \n",
    "nl = len(shape)\n",
    "\n",
    "# figure bounds\n",
    "top = 0.9\n",
    "bottom = 0.1\n",
    "left = 0.1\n",
    "right = 0.9\n",
    "\n",
    "# vertical and horizontal spacing\n",
    "vs = (top - bottom)/float(max(shape))\n",
    "hs = (right - left)/float(len(shape) - 1)\n",
    "\n",
    "# for each layers\n",
    "for i, nn in enumerate(shape):\n",
    "    \n",
    "    # position of top node\n",
    "    lt = vs*(nn - 1)/2. + (top - bottom)/2.\n",
    "    \n",
    "    # for each node\n",
    "    for n in range(nn):\n",
    "        \n",
    "        # position\n",
    "        xy = (i*hs + left, lt - n*vs)\n",
    "        \n",
    "        # vertical continuation nodes\n",
    "        if (i == 0 and n == 1) or (i == 0 and n == 4) or (i == 2 and n == 1) or (i == 4 and n == 1):\n",
    "            ax.text(*xy, r'$\\vdots$', horizontalalignment='right', verticalalignment='center', fontsize=40)\n",
    "        # horizontal continuation nodes\n",
    "        elif (i == 1 and n == 0) or (i == 3 and n == 0):\n",
    "            ax.text(*xy, r'$\\dots$', horizontalalignment='right', verticalalignment='center', fontsize=40)\n",
    "        # regular nodes\n",
    "        else:\n",
    "            circ = plt.Circle(xy, vs/4., color='w', ec='k', zorder=4)\n",
    "            ax.add_artist(circ)\n",
    "        \n",
    "plt.show()"
   ]
  },
  {
   "cell_type": "code",
   "execution_count": null,
   "metadata": {},
   "outputs": [],
   "source": [
    "def plot_ann()"
   ]
  },
  {
   "cell_type": "code",
   "execution_count": null,
   "metadata": {},
   "outputs": [],
   "source": [
    "import matplotlib.pyplot as plt\n",
    "\n",
    "def draw_neural_net(ax, layer_sizes, left=0.1, right=0.9, bottom=0.1, top=0.9):\n",
    "    '''\n",
    "    Draw a neural network cartoon using matplotilb.\n",
    "    \n",
    "    :usage:\n",
    "        >>> fig = plt.figure(figsize=(12, 12))\n",
    "        >>> draw_neural_net(fig.gca(), .1, .9, .1, .9, [4, 7, 2])\n",
    "    \n",
    "    :parameters:\n",
    "        - ax : matplotlib.axes.AxesSubplot\n",
    "            The axes on which to plot the cartoon (get e.g. by plt.gca())\n",
    "        - left : float\n",
    "            The center of the leftmost node(s) will be placed here\n",
    "        - right : float\n",
    "            The center of the rightmost node(s) will be placed here\n",
    "        - bottom : float\n",
    "            The center of the bottommost node(s) will be placed here\n",
    "        - top : float\n",
    "            The center of the topmost node(s) will be placed here\n",
    "        - layer_sizes : list of int\n",
    "            List of layer sizes, including input and output dimensionality\n",
    "    '''\n",
    "    n_layers = len(layer_sizes)\n",
    "    v_spacing = (top - bottom)/float(max(layer_sizes))\n",
    "    h_spacing = (right - left)/float(len(layer_sizes) - 1)\n",
    "    # Nodes\n",
    "    for n, layer_size in enumerate(layer_sizes):\n",
    "        layer_top = v_spacing*(layer_size - 1)/2. + (top + bottom)/2.\n",
    "        for m in range(layer_size):\n",
    "            circle = plt.Circle((n*h_spacing + left, layer_top - m*v_spacing), v_spacing/4.,\n",
    "                                color='w', ec='k', zorder=4)\n",
    "            ax.add_artist(circle)\n",
    "    # Edges\n",
    "    for n, (layer_size_a, layer_size_b) in enumerate(zip(layer_sizes[:-1], layer_sizes[1:])):\n",
    "        layer_top_a = v_spacing*(layer_size_a - 1)/2. + (top + bottom)/2.\n",
    "        layer_top_b = v_spacing*(layer_size_b - 1)/2. + (top + bottom)/2.\n",
    "        for m in range(layer_size_a):\n",
    "            for o in range(layer_size_b):\n",
    "                line = plt.Line2D([n*h_spacing + left, (n + 1)*h_spacing + left],\n",
    "                                  [layer_top_a - m*v_spacing, layer_top_b - o*v_spacing], c='k')\n",
    "                ax.add_artist(line)"
   ]
  },
  {
   "cell_type": "code",
   "execution_count": null,
   "metadata": {},
   "outputs": [],
   "source": [
    "fig = plt.figure(figsize=(12, 12))\n",
    "ax = fig.gca()\n",
    "ax.axis('off')\n",
    "draw_neural_net(ax,[ 6, 3, 3, 1])\n",
    "plt.show()"
   ]
  },
  {
   "cell_type": "code",
   "execution_count": 2,
   "metadata": {},
   "outputs": [],
   "source": [
    "pnets = cp.load(open('../src/pendulum_nets.p', \"rb\"))\n",
    "snets = cp.load(open('../src/spacecraft_nets.p', \"rb\"))"
   ]
  },
  {
   "cell_type": "code",
   "execution_count": 3,
   "metadata": {},
   "outputs": [
    {
     "name": "stdout",
     "output_type": "stream",
     "text": [
      "Using matplotlib backend: TkAgg\n"
     ]
    },
    {
     "name": "stderr",
     "output_type": "stream",
     "text": [
      "/usr/local/lib/python3.6/dist-packages/matplotlib/legend.py:508: UserWarning: Automatic legend placement (loc=\"best\") not implemented for figure legend. Falling back on \"upper right\".\n",
      "  warnings.warn('Automatic legend placement (loc=\"best\") not '\n"
     ]
    }
   ],
   "source": [
    "from matplotlib.ticker import FormatStrFormatter\n",
    "\n",
    "\n",
    "%matplotlib\n",
    "fig, ax = plt.subplots(2, sharex=True, sharey=False)\n",
    "\n",
    "# neural networks architectures\n",
    "shapes = [\n",
    "    r'$20 \\times 2$',\n",
    "    r'$20 \\times 3$',\n",
    "    r'$50 \\times 2$',\n",
    "    r'$20 \\times 3$'\n",
    "]\n",
    "\n",
    "# line colours\n",
    "colors = np.linspace(0.8, 0, 4)\n",
    "\n",
    "# pendulum nets\n",
    "for i, net in enumerate(pnets):\n",
    "    ax[0].plot(net.ltrn, color=str(colors[i]), linestyle=\"-\", label=r'${} \\times {}$'.format(net.shape[1], net.nl-2))\n",
    "    ax[0].plot(net.ltst, color=str(colors[i]), linestyle=\"--\")\n",
    "ax[0].set_xscale('log')\n",
    "#ax[0].set_yscale('log')\n",
    "ax[0].set_ylabel(r'$MSE$')\n",
    "ax[0].yaxis.set_major_formatter(FormatStrFormatter('%.2f'))\n",
    "\n",
    "# spacecraft nets\n",
    "for i, net in enumerate(snets):\n",
    "    ax[1].plot(net.ltrn, color=str(colors[i]), linestyle=\"-\")\n",
    "    ax[1].plot(net.ltst, color=str(colors[i]), linestyle=\"--\")\n",
    "ax[1].set_xscale('log')\n",
    "#ax[1].set_yscale('log')\n",
    "ax[1].set_ylabel(r'$MSE$')\n",
    "ax[1].set_xlabel(r'Epoch')\n",
    "ax[1].yaxis.set_major_formatter(FormatStrFormatter('%.2f'))\n",
    "\n",
    "fig.tight_layout()\n",
    "fig.legend(loc='best')\n",
    "fig.savefig('training_plot.pdf', bbox_inches='tight')\n",
    "\n",
    "plt.show()"
   ]
  },
  {
   "cell_type": "code",
   "execution_count": null,
   "metadata": {},
   "outputs": [],
   "source": [
    "%matplotlib\n",
    "fig, ax = plt.subplots(1, sharex=True, sharey=False)\n",
    "\n",
    "# line colours\n",
    "colors = np.linspace(0.8, 0, 4)\n",
    "\n",
    "# pendulum nets\n",
    "for i, net in enumerate(pnets):\n",
    "    ax.plot(net.ltrn, color=str(colors[i]), linestyle=\"-\", label=r'${} \\times {}$'.format(net.shape[1], net.nl-2))\n",
    "    ax.plot(net.ltst, color=str(colors[i]), linestyle=\"--\")\n",
    "ax.set_xscale('log')\n",
    "#ax[0].set_yscale('log')\n",
    "ax.set_ylabel(r'$MSE$')\n",
    "ax.yaxis.set_major_formatter(FormatStrFormatter('%.2f'))\n",
    "\n",
    "fig.tight_layout()\n",
    "fig.legend(loc='best')\n",
    "fig.savefig('pendulum_training_plot.pdf', bbox_inches='tight')\n",
    "\n",
    "plt.show()"
   ]
  },
  {
   "cell_type": "code",
   "execution_count": null,
   "metadata": {},
   "outputs": [],
   "source": [
    "%matplotlib\n",
    "fig, ax = plt.subplots(1, sharex=True, sharey=False)\n",
    "\n",
    "# line colours\n",
    "colors = np.linspace(0.8, 0, 4)\n",
    "\n",
    "# pendulum nets\n",
    "for i, net in enumerate(snets):\n",
    "    ax.plot(net.ltrn, color=str(colors[i]), linestyle=\"-\", label=r'${} \\times {}$'.format(net.shape[1], net.nl-2))\n",
    "    ax.plot(net.ltst, color=str(colors[i]), linestyle=\"--\")\n",
    "ax.set_xscale('log')\n",
    "#ax[0].set_yscale('log')\n",
    "ax.set_ylabel(r'$MSE$')\n",
    "ax.yaxis.set_major_formatter(FormatStrFormatter('%.2f'))\n",
    "\n",
    "fig.tight_layout()\n",
    "fig.legend(loc='best')\n",
    "fig.savefig('spacecraft_training_plot.pdf', bbox_inches='tight')\n",
    "\n",
    "plt.show()"
   ]
  },
  {
   "cell_type": "code",
   "execution_count": null,
   "metadata": {},
   "outputs": [],
   "source": [
    "snets[0]"
   ]
  },
  {
   "cell_type": "markdown",
   "metadata": {},
   "source": [
    "```\n",
    "LayerNorm(torch.Size([8]), eps=1e-05, elementwise_affine=True)\n",
    "Linear(in_features=8, out_features=20, bias=True)\n",
    "Softplus(beta=1, threshold=20)\n",
    "...\n",
    "Linear(in_features=20, out_features=20, bias=True)\n",
    "Softplus(beta=1, threshold=20)\n",
    "Linear(in_features=20, out_features=1, bias=True)\n",
    "Tanh()\n",
    "```"
   ]
  },
  {
   "cell_type": "code",
   "execution_count": null,
   "metadata": {},
   "outputs": [],
   "source": [
    "for net in pnets:\n",
    "    print(net.shape)\n",
    "    print(\"train {}\".format(net.ltrn[-1]))\n",
    "    print(\"test {}\".format(net.ltst[-1]))"
   ]
  },
  {
   "cell_type": "code",
   "execution_count": null,
   "metadata": {},
   "outputs": [],
   "source": [
    "import pandas as pd"
   ]
  },
  {
   "cell_type": "code",
   "execution_count": null,
   "metadata": {},
   "outputs": [],
   "source": [
    "pdb = {'arch': [], 'ltrn': [], 'ltst': [], 'epo': []}\n",
    "for net in pnets:\n",
    "    pdb['ltrn'].append(net.ltrn[-1])\n",
    "    pdb['ltst'].append(net.ltst[-1])\n",
    "    pdb['epo'].append(len(net.ltrn))\n",
    "    pdb['arch'].append(r'${} times {}$'.format(net.shape[1], net.nl-2))\n",
    "df = pd.DataFrame(pdb)"
   ]
  },
  {
   "cell_type": "code",
   "execution_count": null,
   "metadata": {},
   "outputs": [],
   "source": [
    "print(df.to_latex())"
   ]
  },
  {
   "cell_type": "code",
   "execution_count": null,
   "metadata": {},
   "outputs": [],
   "source": []
  }
 ],
 "metadata": {
  "kernelspec": {
   "display_name": "Python 3",
   "language": "python",
   "name": "python3"
  },
  "language_info": {
   "codemirror_mode": {
    "name": "ipython",
    "version": 3
   },
   "file_extension": ".py",
   "mimetype": "text/x-python",
   "name": "python",
   "nbconvert_exporter": "python",
   "pygments_lexer": "ipython3",
   "version": "3.6.7"
  }
 },
 "nbformat": 4,
 "nbformat_minor": 2
}
