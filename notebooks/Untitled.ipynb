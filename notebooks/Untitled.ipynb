{
 "cells": [
  {
   "cell_type": "code",
   "execution_count": 22,
   "metadata": {},
   "outputs": [],
   "source": [
    "from sympy import *\n",
    "init_printing()"
   ]
  },
  {
   "cell_type": "code",
   "execution_count": 23,
   "metadata": {},
   "outputs": [],
   "source": [
    "y = Matrix(symbols('y_0 y_1 y_2'))\n",
    "x = Matrix(symbols('x_0 x_1 x_2'))"
   ]
  },
  {
   "cell_type": "code",
   "execution_count": 25,
   "metadata": {},
   "outputs": [
    {
     "data": {
      "text/latex": [
       "$$\\left[\\begin{matrix}\\frac{- x_{0} + y_{0}}{\\sqrt{\\left(- x_{0} + y_{0}\\right)^{2} + \\left(- x_{1} + y_{1}\\right)^{2} + \\left(- x_{2} + y_{2}\\right)^{2}}}\\\\\\frac{- x_{1} + y_{1}}{\\sqrt{\\left(- x_{0} + y_{0}\\right)^{2} + \\left(- x_{1} + y_{1}\\right)^{2} + \\left(- x_{2} + y_{2}\\right)^{2}}}\\\\\\frac{- x_{2} + y_{2}}{\\sqrt{\\left(- x_{0} + y_{0}\\right)^{2} + \\left(- x_{1} + y_{1}\\right)^{2} + \\left(- x_{2} + y_{2}\\right)^{2}}}\\end{matrix}\\right]$$"
      ],
      "text/plain": [
       "⎡                  -x₀ + y₀                  ⎤\n",
       "⎢────────────────────────────────────────────⎥\n",
       "⎢   _________________________________________⎥\n",
       "⎢  ╱           2             2             2 ⎥\n",
       "⎢╲╱  (-x₀ + y₀)  + (-x₁ + y₁)  + (-x₂ + y₂)  ⎥\n",
       "⎢                                            ⎥\n",
       "⎢                  -x₁ + y₁                  ⎥\n",
       "⎢────────────────────────────────────────────⎥\n",
       "⎢   _________________________________________⎥\n",
       "⎢  ╱           2             2             2 ⎥\n",
       "⎢╲╱  (-x₀ + y₀)  + (-x₁ + y₁)  + (-x₂ + y₂)  ⎥\n",
       "⎢                                            ⎥\n",
       "⎢                  -x₂ + y₂                  ⎥\n",
       "⎢────────────────────────────────────────────⎥\n",
       "⎢   _________________________________________⎥\n",
       "⎢  ╱           2             2             2 ⎥\n",
       "⎣╲╱  (-x₀ + y₀)  + (-x₁ + y₁)  + (-x₂ + y₂)  ⎦"
      ]
     },
     "execution_count": 25,
     "metadata": {},
     "output_type": "execute_result"
    }
   ],
   "source": [
    "sqrt(sum([var**2 for var in y-x])).diff(y)"
   ]
  },
  {
   "cell_type": "code",
   "execution_count": null,
   "metadata": {},
   "outputs": [],
   "source": []
  }
 ],
 "metadata": {
  "kernelspec": {
   "display_name": "Python 3",
   "language": "python",
   "name": "python3"
  },
  "language_info": {
   "codemirror_mode": {
    "name": "ipython",
    "version": 3
   },
   "file_extension": ".py",
   "mimetype": "text/x-python",
   "name": "python",
   "nbconvert_exporter": "python",
   "pygments_lexer": "ipython3",
   "version": "3.6.7"
  }
 },
 "nbformat": 4,
 "nbformat_minor": 2
}
